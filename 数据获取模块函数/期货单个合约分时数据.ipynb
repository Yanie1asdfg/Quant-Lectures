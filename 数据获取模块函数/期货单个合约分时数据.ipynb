{
 "cells": [
  {
   "cell_type": "code",
   "execution_count": 5,
   "id": "familiar-occasions",
   "metadata": {},
   "outputs": [
    {
     "name": "stdout",
     "output_type": "stream",
     "text": [
      "                     date      open      high       low     close volume  \\\n",
      "0     2021-03-02 10:45:00  4650.000  4654.000  4646.000  4648.000  26528   \n",
      "1     2021-03-02 10:50:00  4647.000  4656.000  4641.000  4655.000  22512   \n",
      "2     2021-03-02 10:55:00  4655.000  4655.000  4646.000  4647.000  18794   \n",
      "3     2021-03-02 11:00:00  4645.000  4646.000  4642.000  4646.000  21271   \n",
      "4     2021-03-02 11:05:00  4650.000  4653.000  4648.000  4652.000  16562   \n",
      "...                   ...       ...       ...       ...       ...    ...   \n",
      "1018  2021-03-23 09:10:00  4718.000  4734.000  4718.000  4731.000  44183   \n",
      "1019  2021-03-23 09:15:00  4731.000  4735.000  4726.000  4732.000  26769   \n",
      "1020  2021-03-23 09:20:00  4731.000  4739.000  4729.000  4738.000  26055   \n",
      "1021  2021-03-23 09:25:00  4739.000  4743.000  4736.000  4741.000  27661   \n",
      "1022  2021-03-23 09:30:00  4740.000  4743.000  4738.000  4740.000  14009   \n",
      "\n",
      "         hold  \n",
      "0     1222142  \n",
      "1     1221598  \n",
      "2     1221403  \n",
      "3     1221363  \n",
      "4     1220599  \n",
      "...       ...  \n",
      "1018   982147  \n",
      "1019   984350  \n",
      "1020   982982  \n",
      "1021   981220  \n",
      "1022   979235  \n",
      "\n",
      "[1023 rows x 7 columns]\n"
     ]
    }
   ],
   "source": [
    "import akshare as ak\n",
    "futures_zh_minute_sina_df = ak.futures_zh_minute_sina(symbol=\"rb2105\", period=\"5\")  #period=\"1\"; choice of {\"1\": \"1分钟\", \"5\": \"5分钟\", \"15\": \"15分钟\", \"30\": \"30分钟\", \"60\": \"60分钟\"}\n",
    "print(futures_zh_minute_sina_df)"
   ]
  },
  {
   "cell_type": "code",
   "execution_count": null,
   "id": "horizontal-progress",
   "metadata": {},
   "outputs": [],
   "source": []
  }
 ],
 "metadata": {
  "kernelspec": {
   "display_name": "Python 3",
   "language": "python",
   "name": "python3"
  },
  "language_info": {
   "codemirror_mode": {
    "name": "ipython",
    "version": 3
   },
   "file_extension": ".py",
   "mimetype": "text/x-python",
   "name": "python",
   "nbconvert_exporter": "python",
   "pygments_lexer": "ipython3",
   "version": "3.7.6"
  }
 },
 "nbformat": 4,
 "nbformat_minor": 5
}
