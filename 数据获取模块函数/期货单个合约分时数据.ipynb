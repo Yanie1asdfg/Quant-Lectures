{
 "cells": [
  {
   "cell_type": "code",
   "execution_count": 3,
   "id": "specialized-immune",
   "metadata": {},
   "outputs": [
    {
     "name": "stdout",
     "output_type": "stream",
     "text": [
      "                     date      open      high       low     close volume  \\\n",
      "0     2021-07-06 10:58:00  6286.000  6287.000  6281.000  6282.000   1066   \n",
      "1     2021-07-06 10:59:00  6283.000  6285.000  6276.000  6276.000    862   \n",
      "2     2021-07-06 11:00:00  6277.000  6278.000  6271.000  6278.000    903   \n",
      "3     2021-07-06 11:01:00  6278.000  6285.000  6277.000  6285.000    874   \n",
      "4     2021-07-06 11:02:00  6284.000  6284.000  6281.000  6283.000    464   \n",
      "...                   ...       ...       ...       ...       ...    ...   \n",
      "1018  2021-07-12 14:56:00  6070.000  6070.000  6064.000  6066.000   1214   \n",
      "1019  2021-07-12 14:57:00  6068.000  6068.000  6061.000  6063.000   1329   \n",
      "1020  2021-07-12 14:58:00  6062.000  6062.000  6048.000  6051.000   4302   \n",
      "1021  2021-07-12 14:59:00  6051.000  6051.000  6045.000  6047.000   3308   \n",
      "1022  2021-07-12 15:00:00  6047.000  6048.000  6044.000  6047.000   3935   \n",
      "\n",
      "        hold  \n",
      "0     278251  \n",
      "1     278548  \n",
      "2     278284  \n",
      "3     278526  \n",
      "4     278621  \n",
      "...      ...  \n",
      "1018  332007  \n",
      "1019  331887  \n",
      "1020  331520  \n",
      "1021  331388  \n",
      "1022  331232  \n",
      "\n",
      "[1023 rows x 7 columns]\n"
     ]
    }
   ],
   "source": [
    "import akshare as ak\n",
    "futures_zh_minute_sina_df = ak.futures_zh_minute_sina(symbol=\"AP2110\", period=\"1\")  #period=\"1\"; choice of {\"1\": \"1分钟\", \"5\": \"5分钟\", \"15\": \"15分钟\", \"30\": \"30分钟\", \"60\": \"60分钟\"}\n",
    "print(futures_zh_minute_sina_df)"
   ]
  },
  {
   "cell_type": "code",
   "execution_count": null,
   "id": "abandoned-december",
   "metadata": {},
   "outputs": [],
   "source": []
  }
 ],
 "metadata": {
  "kernelspec": {
   "display_name": "Python 3",
   "language": "python",
   "name": "python3"
  },
  "language_info": {
   "codemirror_mode": {
    "name": "ipython",
    "version": 3
   },
   "file_extension": ".py",
   "mimetype": "text/x-python",
   "name": "python",
   "nbconvert_exporter": "python",
   "pygments_lexer": "ipython3",
   "version": "3.7.6"
  }
 },
 "nbformat": 4,
 "nbformat_minor": 5
}
