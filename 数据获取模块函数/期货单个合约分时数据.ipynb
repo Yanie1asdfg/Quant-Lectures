{
 "cells": [
  {
   "cell_type": "code",
   "execution_count": 4,
   "id": "metropolitan-building",
   "metadata": {},
   "outputs": [
    {
     "name": "stdout",
     "output_type": "stream",
     "text": [
      "                     date      open      high       low     close volume  \\\n",
      "0     2021-06-01 11:06:00  6195.000  6204.000  6195.000  6202.000   2632   \n",
      "1     2021-06-01 11:07:00  6203.000  6203.000  6193.000  6194.000   1236   \n",
      "2     2021-06-01 11:08:00  6193.000  6195.000  6188.000  6188.000   1278   \n",
      "3     2021-06-01 11:09:00  6188.000  6190.000  6185.000  6189.000    448   \n",
      "4     2021-06-01 11:10:00  6188.000  6190.000  6184.000  6184.000    618   \n",
      "...                   ...       ...       ...       ...       ...    ...   \n",
      "1018  2021-06-08 09:04:00  6209.000  6224.000  6206.000  6206.000   8783   \n",
      "1019  2021-06-08 09:05:00  6208.000  6208.000  6182.000  6182.000  14304   \n",
      "1020  2021-06-08 09:06:00  6178.000  6195.000  6178.000  6186.000  10643   \n",
      "1021  2021-06-08 09:07:00  6185.000  6197.000  6182.000  6184.000   6197   \n",
      "1022  2021-06-08 09:08:00  6185.000  6192.000  6180.000  6188.000   2528   \n",
      "\n",
      "        hold  \n",
      "0     347185  \n",
      "1     347467  \n",
      "2     347647  \n",
      "3     347803  \n",
      "4     347905  \n",
      "...      ...  \n",
      "1018  330937  \n",
      "1019  328436  \n",
      "1020  327760  \n",
      "1021  328357  \n",
      "1022  328559  \n",
      "\n",
      "[1023 rows x 7 columns]\n"
     ]
    }
   ],
   "source": [
    "import akshare as ak\n",
    "futures_zh_minute_sina_df = ak.futures_zh_minute_sina(symbol=\"ap2110\", period=\"1\")  #period=\"1\"; choice of {\"1\": \"1分钟\", \"5\": \"5分钟\", \"15\": \"15分钟\", \"30\": \"30分钟\", \"60\": \"60分钟\"}\n",
    "print(futures_zh_minute_sina_df)"
   ]
  },
  {
   "cell_type": "code",
   "execution_count": null,
   "id": "legal-adjustment",
   "metadata": {},
   "outputs": [],
   "source": []
  }
 ],
 "metadata": {
  "kernelspec": {
   "display_name": "Python 3",
   "language": "python",
   "name": "python3"
  },
  "language_info": {
   "codemirror_mode": {
    "name": "ipython",
    "version": 3
   },
   "file_extension": ".py",
   "mimetype": "text/x-python",
   "name": "python",
   "nbconvert_exporter": "python",
   "pygments_lexer": "ipython3",
   "version": "3.7.6"
  }
 },
 "nbformat": 4,
 "nbformat_minor": 5
}
