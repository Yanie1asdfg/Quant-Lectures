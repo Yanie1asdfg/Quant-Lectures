{
 "cells": [
  {
   "cell_type": "code",
   "execution_count": 3,
   "id": "federal-delay",
   "metadata": {},
   "outputs": [],
   "source": [
    "import time\n",
    "import akshare as ak\n"
   ]
  },
  {
   "cell_type": "code",
   "execution_count": 2,
   "id": "contrary-wichita",
   "metadata": {},
   "outputs": [
    {
     "data": {
      "text/html": [
       "<div>\n",
       "<style scoped>\n",
       "    .dataframe tbody tr th:only-of-type {\n",
       "        vertical-align: middle;\n",
       "    }\n",
       "\n",
       "    .dataframe tbody tr th {\n",
       "        vertical-align: top;\n",
       "    }\n",
       "\n",
       "    .dataframe thead th {\n",
       "        text-align: right;\n",
       "    }\n",
       "</style>\n",
       "<table border=\"1\" class=\"dataframe\">\n",
       "  <thead>\n",
       "    <tr style=\"text-align: right;\">\n",
       "      <th></th>\n",
       "      <th>symbol</th>\n",
       "      <th>time</th>\n",
       "      <th>open</th>\n",
       "      <th>high</th>\n",
       "      <th>low</th>\n",
       "      <th>current_price</th>\n",
       "      <th>bid_price</th>\n",
       "      <th>ask_price</th>\n",
       "      <th>buy_vol</th>\n",
       "      <th>sell_vol</th>\n",
       "      <th>hold</th>\n",
       "      <th>volume</th>\n",
       "      <th>avg_price</th>\n",
       "      <th>last_close</th>\n",
       "      <th>last_settle_price</th>\n",
       "    </tr>\n",
       "  </thead>\n",
       "  <tbody>\n",
       "    <tr>\n",
       "      <th>0</th>\n",
       "      <td>鸡蛋2105</td>\n",
       "      <td>094911</td>\n",
       "      <td>4311.00</td>\n",
       "      <td>4339.00</td>\n",
       "      <td>4282.00</td>\n",
       "      <td>4303.00</td>\n",
       "      <td>4303.00</td>\n",
       "      <td>4304.00</td>\n",
       "      <td>57</td>\n",
       "      <td>21</td>\n",
       "      <td>156701</td>\n",
       "      <td>80147</td>\n",
       "      <td>4310.00</td>\n",
       "      <td>4294.00</td>\n",
       "      <td>4305.00</td>\n",
       "    </tr>\n",
       "  </tbody>\n",
       "</table>\n",
       "</div>"
      ],
      "text/plain": [
       "   symbol    time     open     high      low current_price bid_price  \\\n",
       "0  鸡蛋2105  094911  4311.00  4339.00  4282.00       4303.00   4303.00   \n",
       "\n",
       "  ask_price buy_vol sell_vol    hold volume avg_price last_close  \\\n",
       "0   4304.00      57       21  156701  80147   4310.00    4294.00   \n",
       "\n",
       "  last_settle_price  \n",
       "0           4305.00  "
      ]
     },
     "execution_count": 2,
     "metadata": {},
     "output_type": "execute_result"
    }
   ],
   "source": [
    "data = ak.futures_zh_spot(\n",
    "        subscribe_list=\"JD2105\",\n",
    "        market=\"CF\",   # market=\"CF\"; market=\"CF\": 商品期货, market=\"FF\": 金融期货\n",
    "        adjust=False)  #adjust=False; adjust=True: 返回合约、交易所和最小变动单位的实时数据, 返回数据会变慢\n",
    "data"
   ]
  },
  {
   "cell_type": "code",
   "execution_count": null,
   "id": "toxic-rochester",
   "metadata": {},
   "outputs": [],
   "source": []
  }
 ],
 "metadata": {
  "kernelspec": {
   "display_name": "Python 3",
   "language": "python",
   "name": "python3"
  },
  "language_info": {
   "codemirror_mode": {
    "name": "ipython",
    "version": 3
   },
   "file_extension": ".py",
   "mimetype": "text/x-python",
   "name": "python",
   "nbconvert_exporter": "python",
   "pygments_lexer": "ipython3",
   "version": "3.7.6"
  }
 },
 "nbformat": 4,
 "nbformat_minor": 5
}
