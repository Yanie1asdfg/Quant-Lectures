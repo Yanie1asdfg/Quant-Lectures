{
 "cells": [
  {
   "cell_type": "code",
   "execution_count": 3,
   "id": "higher-lucas",
   "metadata": {},
   "outputs": [
    {
     "name": "stdout",
     "output_type": "stream",
     "text": [
      "                       day  open  high   low  close  volume\n",
      "0      2020-11-13 14:25:00  3.35  3.36  3.35   3.36   29700\n",
      "1      2020-11-13 14:26:00  3.36  3.36  3.35   3.36   15100\n",
      "2      2020-11-13 14:27:00  3.36  3.36  3.35   3.36   47000\n",
      "3      2020-11-13 14:28:00  3.36  3.36  3.36   3.36    2700\n",
      "4      2020-11-13 14:29:00  3.36  3.36  3.36   3.36    8100\n",
      "...                    ...   ...   ...   ...    ...     ...\n",
      "19992  2021-03-19 14:54:00  2.22  2.23  2.22   2.23   11400\n",
      "19993  2021-03-19 14:55:00  2.23  2.23  2.22   2.22   53300\n",
      "19994  2021-03-19 14:56:00  2.22  2.23  2.22   2.23   94800\n",
      "19995  2021-03-19 14:57:00  2.22  2.23  2.22   2.22   74100\n",
      "19996  2021-03-19 15:00:00  2.23  2.23  2.23   2.23  122000\n",
      "\n",
      "[19997 rows x 6 columns]\n"
     ]
    }
   ],
   "source": [
    "import akshare as ak\n",
    "# period='1'; 获取 1, 5, 15, 30, 60 分钟的数据频率    adjust=\"\"; 默认为空: 返回不复权的数据; qfq: 返回前复权后的数据; hfq: 返回后复权后的数据;\n",
    "stock_zh_a_minute_df = ak.stock_zh_a_minute(symbol='sh600751', period='1', adjust=\"qfq\")  \n",
    "print(stock_zh_a_minute_df)"
   ]
  },
  {
   "cell_type": "code",
   "execution_count": null,
   "id": "suited-valve",
   "metadata": {},
   "outputs": [],
   "source": []
  },
  {
   "cell_type": "code",
   "execution_count": null,
   "id": "further-auction",
   "metadata": {},
   "outputs": [],
   "source": []
  }
 ],
 "metadata": {
  "kernelspec": {
   "display_name": "Python 3",
   "language": "python",
   "name": "python3"
  },
  "language_info": {
   "codemirror_mode": {
    "name": "ipython",
    "version": 3
   },
   "file_extension": ".py",
   "mimetype": "text/x-python",
   "name": "python",
   "nbconvert_exporter": "python",
   "pygments_lexer": "ipython3",
   "version": "3.7.6"
  }
 },
 "nbformat": 4,
 "nbformat_minor": 5
}
