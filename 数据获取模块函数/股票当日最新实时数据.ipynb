{
 "cells": [
  {
   "cell_type": "code",
   "execution_count": 1,
   "id": "american-package",
   "metadata": {},
   "outputs": [
    {
     "data": {
      "text/plain": [
       "{'000333': {'name': '美的集团',\n",
       "  'open': 84.99,\n",
       "  'close': 85.31,\n",
       "  'now': 84.72,\n",
       "  'high': 85.12,\n",
       "  'low': 84.39,\n",
       "  'buy': 84.61,\n",
       "  'sell': 84.72,\n",
       "  'turnover': 1165700,\n",
       "  'volume': 98713477.5,\n",
       "  'bid1_volume': 1300,\n",
       "  'bid1': 84.61,\n",
       "  'bid2_volume': 100,\n",
       "  'bid2': 84.6,\n",
       "  'bid3_volume': 600,\n",
       "  'bid3': 84.51,\n",
       "  'bid4_volume': 9000,\n",
       "  'bid4': 84.5,\n",
       "  'bid5_volume': 4800,\n",
       "  'bid5': 84.49,\n",
       "  'ask1_volume': 8700,\n",
       "  'ask1': 84.72,\n",
       "  'ask2_volume': 1800,\n",
       "  'ask2': 84.83,\n",
       "  'ask3_volume': 1300,\n",
       "  'ask3': 84.85,\n",
       "  'ask4_volume': 200,\n",
       "  'ask4': 84.87,\n",
       "  'ask5_volume': 3100,\n",
       "  'ask5': 84.88,\n",
       "  'date': '2021-03-22',\n",
       "  'time': '09:35:27'}}"
      ]
     },
     "execution_count": 1,
     "metadata": {},
     "output_type": "execute_result"
    }
   ],
   "source": [
    "import easyquotation\n",
    "quotation = easyquotation.use('sina')\n",
    "quotation.real('000333')"
   ]
  },
  {
   "cell_type": "code",
   "execution_count": null,
   "id": "blond-house",
   "metadata": {},
   "outputs": [],
   "source": []
  }
 ],
 "metadata": {
  "kernelspec": {
   "display_name": "Python 3",
   "language": "python",
   "name": "python3"
  },
  "language_info": {
   "codemirror_mode": {
    "name": "ipython",
    "version": 3
   },
   "file_extension": ".py",
   "mimetype": "text/x-python",
   "name": "python",
   "nbconvert_exporter": "python",
   "pygments_lexer": "ipython3",
   "version": "3.7.6"
  }
 },
 "nbformat": 4,
 "nbformat_minor": 5
}
