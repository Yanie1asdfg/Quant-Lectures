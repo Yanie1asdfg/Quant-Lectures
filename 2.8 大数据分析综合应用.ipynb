{
 "cells": [
  {
   "cell_type": "markdown",
   "metadata": {},
   "source": [
    "股票赚钱只有一个原理：低买高卖"
   ]
  },
  {
   "cell_type": "markdown",
   "metadata": {},
   "source": [
    "在这个市场混迹的所有人都有他们理解的低买高卖的方式"
   ]
  },
  {
   "cell_type": "markdown",
   "metadata": {},
   "source": [
    "为了探究低买高卖如何选择的问题，特别设置一个探究性题目，如下："
   ]
  },
  {
   "cell_type": "markdown",
   "metadata": {},
   "source": [
    "1. 每日收盘后选择全A股中当天收盘价位60日最低的股票  \n",
    "2. 求出这些股票后60个交易日收盘价的最大值和最小值\n",
    "3. 放入 ROE,ROA,PE,PS,PB等基本面因子\n",
    "4. 统计不同市场情况，这些60日最低的股票的盈利和风险情况"
   ]
  },
  {
   "cell_type": "code",
   "execution_count": null,
   "metadata": {},
   "outputs": [],
   "source": []
  }
 ],
 "metadata": {
  "kernelspec": {
   "display_name": "Python 3",
   "language": "python",
   "name": "python3"
  },
  "language_info": {
   "codemirror_mode": {
    "name": "ipython",
    "version": 3
   },
   "file_extension": ".py",
   "mimetype": "text/x-python",
   "name": "python",
   "nbconvert_exporter": "python",
   "pygments_lexer": "ipython3",
   "version": "3.7.1"
  }
 },
 "nbformat": 4,
 "nbformat_minor": 4
}
