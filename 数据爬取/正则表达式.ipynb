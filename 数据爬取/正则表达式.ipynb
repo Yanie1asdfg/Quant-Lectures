{
 "cells": [
  {
   "cell_type": "code",
   "execution_count": 1,
   "id": "alternate-holiday",
   "metadata": {},
   "outputs": [],
   "source": [
    "import re"
   ]
  },
  {
   "cell_type": "code",
   "execution_count": 2,
   "id": "different-cooking",
   "metadata": {},
   "outputs": [
    {
     "data": {
      "text/plain": [
       "<re.Match object; span=(0, 2), match='AA'>"
      ]
     },
     "execution_count": 2,
     "metadata": {},
     "output_type": "execute_result"
    }
   ],
   "source": [
    "pat = re.compile('AA')\n",
    "m = pat.search(\"AAJFNJDAADKSAA\")\n",
    "m"
   ]
  },
  {
   "cell_type": "code",
   "execution_count": 3,
   "id": "alleged-invite",
   "metadata": {},
   "outputs": [
    {
     "data": {
      "text/plain": [
       "<re.Match object; span=(0, 2), match='AA'>"
      ]
     },
     "execution_count": 3,
     "metadata": {},
     "output_type": "execute_result"
    }
   ],
   "source": [
    "m = re.search(\"AA\",\"AAJFNJDAADKSAA\")  # 前面是规则，后面是校验的内容\n",
    "m"
   ]
  },
  {
   "cell_type": "code",
   "execution_count": 5,
   "id": "similar-denial",
   "metadata": {},
   "outputs": [
    {
     "data": {
      "text/plain": [
       "['a', 'a', 'a', 'a', 'a', 'a']"
      ]
     },
     "execution_count": 5,
     "metadata": {},
     "output_type": "execute_result"
    }
   ],
   "source": [
    "re.findall(\"a\",\"admbasafbhaabdha\")  # 前面是规则，后面是被校验的内容"
   ]
  },
  {
   "cell_type": "code",
   "execution_count": 6,
   "id": "obvious-bennett",
   "metadata": {},
   "outputs": [
    {
     "data": {
      "text/plain": [
       "['A', 'G', 'E']"
      ]
     },
     "execution_count": 6,
     "metadata": {},
     "output_type": "execute_result"
    }
   ],
   "source": [
    "re.findall(\"[A-Z]\",\"admbAasaGFfbhaabEHdha\")"
   ]
  },
  {
   "cell_type": "code",
   "execution_count": 7,
   "id": "original-governor",
   "metadata": {},
   "outputs": [
    {
     "data": {
      "text/plain": [
       "['A', 'GF', 'EH']"
      ]
     },
     "execution_count": 7,
     "metadata": {},
     "output_type": "execute_result"
    }
   ],
   "source": [
    "re.findall(\"[A-Z]+\",\"admbAasaGFfbhaabEHdha\")"
   ]
  },
  {
   "cell_type": "code",
   "execution_count": 8,
   "id": "precious-factor",
   "metadata": {},
   "outputs": [
    {
     "data": {
      "text/plain": [
       "'AAsfAfsAsfAfsAfdAdfAsfA'"
      ]
     },
     "execution_count": 8,
     "metadata": {},
     "output_type": "execute_result"
    }
   ],
   "source": [
    "re.sub('a','A','aasfafsasfafsafdadfasfa')   # 找到a 用A来替换"
   ]
  },
  {
   "cell_type": "code",
   "execution_count": null,
   "id": "grave-generation",
   "metadata": {},
   "outputs": [],
   "source": []
  }
 ],
 "metadata": {
  "kernelspec": {
   "display_name": "Python 3",
   "language": "python",
   "name": "python3"
  },
  "language_info": {
   "codemirror_mode": {
    "name": "ipython",
    "version": 3
   },
   "file_extension": ".py",
   "mimetype": "text/x-python",
   "name": "python",
   "nbconvert_exporter": "python",
   "pygments_lexer": "ipython3",
   "version": "3.7.6"
  }
 },
 "nbformat": 4,
 "nbformat_minor": 5
}
