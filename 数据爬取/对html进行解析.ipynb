{
 "cells": [
  {
   "cell_type": "code",
   "execution_count": 39,
   "id": "saved-union",
   "metadata": {},
   "outputs": [],
   "source": [
    "from bs4 import BeautifulSoup\n",
    "import urllib.parse\n",
    "import pandas as pd\n",
    "import re\n",
    "import pandas as pd"
   ]
  },
  {
   "cell_type": "code",
   "execution_count": 2,
   "id": "peripheral-medicaid",
   "metadata": {},
   "outputs": [],
   "source": [
    "def askURL(url):\n",
    "    head = {\"User-Agent\": \"Mozilla/5.0 (Windows NT 10.0; Win64; x64) AppleWebKit/537.36 (KHTML, like Gecko) Chrome/89.0.4389.90 Safari/537.36 Edg/89.0.774.63\"}\n",
    "    req = urllib.request.Request(url = url,headers=head)\n",
    "    html = \"\"\n",
    "    try:\n",
    "        response = urllib.request.urlopen(req)\n",
    "        html = response.read().decode('gbk')\n",
    "        return html\n",
    "    except urllib.error.URLError as e:\n",
    "        if hasattr(e,'code'):\n",
    "            print(e.code)\n",
    "        if hasattr(e,'reason'):\n",
    "            print(e.reason)\n",
    "            \n",
    "    \n",
    "\n",
    "url = 'http://vip.stock.finance.sina.com.cn/q/view/vFutures_Positions_cjcc.php?t_breed=J2109&t_date=2021-03-24'\n",
    "html = askURL(url)"
   ]
  },
  {
   "cell_type": "code",
   "execution_count": 3,
   "id": "irish-disability",
   "metadata": {
    "tags": []
   },
   "outputs": [],
   "source": [
    "bs = BeautifulSoup(html,\"html.parser\")\n"
   ]
  },
  {
   "cell_type": "code",
   "execution_count": 4,
   "id": "devoted-literature",
   "metadata": {
    "collapsed": true,
    "jupyter": {
     "outputs_hidden": true
    },
    "tags": []
   },
   "outputs": [
    {
     "name": "stdout",
     "output_type": "stream",
     "text": [
      "vFutures_Positions_hyjgd.php?t_shortname=%B6%AB%D6%A4%C6%DA%BB%F5\n",
      "vFutures_Positions_hyjgd.php?t_shortname=%B7%BD%D5%FD%D6%D0%C6%DA\n",
      "vFutures_Positions_hyjgd.php?t_shortname=%B9%E2%B4%F3%C6%DA%BB%F5\n",
      "vFutures_Positions_hyjgd.php?t_shortname=%D2%BB%B5%C2%C6%DA%BB%F5\n",
      "vFutures_Positions_hyjgd.php?t_shortname=%B9%FA%D0%C5%C6%DA%BB%F5\n",
      "vFutures_Positions_hyjgd.php?t_shortname=%BA%A3%CD%A8%C6%DA%BB%F5\n",
      "vFutures_Positions_hyjgd.php?t_shortname=%BB%AA%CC%A9%C6%DA%BB%F5\n",
      "vFutures_Positions_hyjgd.php?t_shortname=%C9%EA%D2%F8%CD%F2%B9%FA\n",
      "vFutures_Positions_hyjgd.php?t_shortname=%BB%AA%CE%C5%C6%DA%BB%F5\n",
      "vFutures_Positions_hyjgd.php?t_shortname=%D6%D0%D0%C5%C6%DA%BB%F5\n",
      "vFutures_Positions_hyjgd.php?t_shortname=%D2%F8%BA%D3%C6%DA%BB%F5\n",
      "vFutures_Positions_hyjgd.php?t_shortname=%B9%E3%B7%A2%C6%DA%BB%F5\n",
      "vFutures_Positions_hyjgd.php?t_shortname=%B9%FA%B8%BB%C6%DA%BB%F5\n",
      "vFutures_Positions_hyjgd.php?t_shortname=%D3%C0%B0%B2%C6%DA%BB%F5\n",
      "vFutures_Positions_hyjgd.php?t_shortname=%B9%FA%CC%A9%BE%FD%B0%B2\n",
      "vFutures_Positions_hyjgd.php?t_shortname=%B0%B2%C1%B8%C6%DA%BB%F5\n",
      "vFutures_Positions_hyjgd.php?t_shortname=%D6%D0%BB%D4%C6%DA%BB%F5\n",
      "vFutures_Positions_hyjgd.php?t_shortname=%BD%F5%CC%A9%C6%DA%BB%F5\n",
      "vFutures_Positions_hyjgd.php?t_shortname=%BB%D5%C9%CC%C6%DA%BB%F5\n",
      "vFutures_Positions_hyjgd.php?t_shortname=%C2%B3%D6%A4%C6%DA%BB%F5\n",
      "vFutures_Positions_hyjgd.php?t_shortname=%B6%AB%BA%A3%C6%DA%BB%F5\n",
      "vFutures_Positions_hyjgd.php?t_shortname=%B6%AB%D6%A4%C6%DA%BB%F5\n",
      "vFutures_Positions_hyjgd.php?t_shortname=%D2%F8%BA%D3%C6%DA%BB%F5\n",
      "vFutures_Positions_hyjgd.php?t_shortname=%D2%BB%B5%C2%C6%DA%BB%F5\n",
      "vFutures_Positions_hyjgd.php?t_shortname=%B9%FA%D0%C5%C6%DA%BB%F5\n",
      "vFutures_Positions_hyjgd.php?t_shortname=%D6%D0%B2%C6%C6%DA%BB%F5\n",
      "vFutures_Positions_hyjgd.php?t_shortname=%D3%C0%B0%B2%C6%DA%BB%F5\n",
      "vFutures_Positions_hyjgd.php?t_shortname=%BB%AA%CE%C5%C6%DA%BB%F5\n",
      "vFutures_Positions_hyjgd.php?t_shortname=%B7%BD%D5%FD%D6%D0%C6%DA\n",
      "vFutures_Positions_hyjgd.php?t_shortname=%B9%E3%B7%A2%C6%DA%BB%F5\n",
      "vFutures_Positions_hyjgd.php?t_shortname=%B9%FA%CC%A9%BE%FD%B0%B2\n",
      "vFutures_Positions_hyjgd.php?t_shortname=%BB%AA%CC%A9%C6%DA%BB%F5\n",
      "vFutures_Positions_hyjgd.php?t_shortname=%D6%D0%BB%D4%C6%DA%BB%F5\n",
      "vFutures_Positions_hyjgd.php?t_shortname=%CE%F7%C4%CF%C6%DA%BB%F5\n",
      "vFutures_Positions_hyjgd.php?t_shortname=%D6%D0%D0%C5%C6%DA%BB%F5\n",
      "vFutures_Positions_hyjgd.php?t_shortname=%C9%EA%D2%F8%CD%F2%B9%FA\n",
      "vFutures_Positions_hyjgd.php?t_shortname=%C6%BD%B0%B2%C6%DA%BB%F5\n",
      "vFutures_Positions_hyjgd.php?t_shortname=%D6%D0%D0%C5%BD%A8%CD%B6\n",
      "vFutures_Positions_hyjgd.php?t_shortname=%B9%DA%CD%A8%C6%DA%BB%F5\n",
      "vFutures_Positions_hyjgd.php?t_shortname=%B8%F1%C1%D6%B4%F3%BB%AA\n",
      "vFutures_Positions_hyjgd.php?t_shortname=%B6%AB%D6%A4%C6%DA%BB%F5\n",
      "vFutures_Positions_hyjgd.php?t_shortname=%D2%F8%BA%D3%C6%DA%BB%F5\n",
      "vFutures_Positions_hyjgd.php?t_shortname=%D3%C0%B0%B2%C6%DA%BB%F5\n",
      "vFutures_Positions_hyjgd.php?t_shortname=%D6%D0%D0%C5%C6%DA%BB%F5\n",
      "vFutures_Positions_hyjgd.php?t_shortname=%CE%E5%BF%F3%BE%AD%D2%D7\n",
      "vFutures_Positions_hyjgd.php?t_shortname=%BA%EB%D2%B5%C6%DA%BB%F5\n",
      "vFutures_Positions_hyjgd.php?t_shortname=%BA%A3%CD%A8%C6%DA%BB%F5\n",
      "vFutures_Positions_hyjgd.php?t_shortname=%B7%BD%D5%FD%D6%D0%C6%DA\n",
      "vFutures_Positions_hyjgd.php?t_shortname=%C9%EA%D2%F8%CD%F2%B9%FA\n",
      "vFutures_Positions_hyjgd.php?t_shortname=%B9%FA%CC%A9%BE%FD%B0%B2\n",
      "vFutures_Positions_hyjgd.php?t_shortname=%D2%BB%B5%C2%C6%DA%BB%F5\n",
      "vFutures_Positions_hyjgd.php?t_shortname=%C3%C0%B6%FB%D1%C5%C6%DA%BB%F5\n",
      "vFutures_Positions_hyjgd.php?t_shortname=%B9%FA%D0%C5%C6%DA%BB%F5\n",
      "vFutures_Positions_hyjgd.php?t_shortname=%D5%E3%C9%CC%C6%DA%BB%F5\n",
      "vFutures_Positions_hyjgd.php?t_shortname=%B6%AB%BA%BD%C6%DA%BB%F5\n",
      "vFutures_Positions_hyjgd.php?t_shortname=%B9%E3%B7%A2%C6%DA%BB%F5\n",
      "vFutures_Positions_hyjgd.php?t_shortname=%D6%D0%C1%B8%C6%DA%BB%F5\n",
      "vFutures_Positions_hyjgd.php?t_shortname=%BB%AA%CC%A9%C6%DA%BB%F5\n",
      "vFutures_Positions_hyjgd.php?t_shortname=%B2%B3%BA%A3%C6%DA%BB%F5\n",
      "vFutures_Positions_hyjgd.php?t_shortname=%BB%D5%C9%CC%C6%DA%BB%F5\n"
     ]
    }
   ],
   "source": [
    "# 获取链接\n",
    "findlink = re.compile(r'<a href=\"(.*?)\" target')    \n",
    "for item in bs.find_all('table',class_=\"listT\"):\n",
    "#     print(item,'\\n')\n",
    "    item = str(item)\n",
    "    link = re.findall(findlink,item)\n",
    "    for i in link:\n",
    "        print(i)"
   ]
  },
  {
   "cell_type": "code",
   "execution_count": 44,
   "id": "hispanic-sheep",
   "metadata": {
    "tags": []
   },
   "outputs": [
    {
     "name": "stdout",
     "output_type": "stream",
     "text": [
      "    名次  会员简称   成交量 比上交易增减\n",
      "0    1  东证期货  8789    711\n",
      "1    2  方正中期  2186    721\n",
      "2    3  光大期货  2135   -392\n",
      "3    4  一德期货  1988    953\n",
      "4    5  国信期货  1970    157\n",
      "5    6  海通期货  1862    728\n",
      "6    7  华泰期货  1746    301\n",
      "7    8  申银万国  1698    368\n",
      "8    9  华闻期货  1515    311\n",
      "9   10  中信期货  1507    358\n",
      "10  11  银河期货  1448     -9\n",
      "11  12  广发期货  1335   1035\n",
      "12  13  国富期货  1249     88\n",
      "13  14  永安期货  1243   -518\n",
      "14  15  国泰君安  1181    275\n",
      "15  16  安粮期货  1105   -402\n",
      "16  17  中辉期货   948    285\n",
      "17  18  锦泰期货   937    149\n",
      "18  19  徽商期货   913    146\n",
      "19  20  鲁证期货   888    521\n"
     ]
    }
   ],
   "source": [
    "for item in bs.find_all('table',class_=\"listT\"):\n",
    "#     print(item,'\\n')\n",
    "#     print(item.tr)\n",
    "    t_list = item.tr.find_all('th')\n",
    "    col_name = []\n",
    "    array = []\n",
    "    for i in t_list:\n",
    "        col_name.append(i.string)\n",
    "#     print(col_name)\n",
    "    u_list = item.find_all('tr')\n",
    "    for u in u_list[1:]:\n",
    "        meta_data = []\n",
    "        for p in u:\n",
    "            if p.string=='\\n':\n",
    "                continue\n",
    "            meta_data.append(p.string)\n",
    "#         print(meta_data)\n",
    "        if '合计' in meta_data:\n",
    "            break\n",
    "        array.append(meta_data)\n",
    "#     print(array)\n",
    "    data = pd.DataFrame(np.array(array), columns = col_name)\n",
    "    print(data)\n",
    "    break"
   ]
  },
  {
   "cell_type": "code",
   "execution_count": 37,
   "id": "designing-inside",
   "metadata": {},
   "outputs": [
    {
     "data": {
      "text/plain": [
       "array([[0.20422907, 0.43773068, 0.84319436],\n",
       "       [0.43381847, 0.04692723, 0.29271612],\n",
       "       [0.83205265, 0.38665554, 0.81904099]])"
      ]
     },
     "execution_count": 37,
     "metadata": {},
     "output_type": "execute_result"
    }
   ],
   "source": [
    "import numpy as np\n",
    "np.random.rand(9).reshape(3,3)"
   ]
  },
  {
   "cell_type": "code",
   "execution_count": null,
   "id": "vocational-congo",
   "metadata": {
    "tags": []
   },
   "outputs": [],
   "source": []
  },
  {
   "cell_type": "code",
   "execution_count": null,
   "id": "spare-tattoo",
   "metadata": {},
   "outputs": [],
   "source": []
  },
  {
   "cell_type": "code",
   "execution_count": null,
   "id": "convinced-series",
   "metadata": {},
   "outputs": [],
   "source": []
  }
 ],
 "metadata": {
  "kernelspec": {
   "display_name": "Python 3",
   "language": "python",
   "name": "python3"
  },
  "language_info": {
   "codemirror_mode": {
    "name": "ipython",
    "version": 3
   },
   "file_extension": ".py",
   "mimetype": "text/x-python",
   "name": "python",
   "nbconvert_exporter": "python",
   "pygments_lexer": "ipython3",
   "version": "3.7.6"
  }
 },
 "nbformat": 4,
 "nbformat_minor": 5
}
