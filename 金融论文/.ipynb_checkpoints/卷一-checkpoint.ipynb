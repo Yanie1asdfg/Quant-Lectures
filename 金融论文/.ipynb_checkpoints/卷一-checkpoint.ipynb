{
 "cells": [
  {
   "cell_type": "markdown",
   "metadata": {},
   "source": [
    "金融科技视角下的计算实验金融建模"
   ]
  },
  {
   "cell_type": "markdown",
   "metadata": {},
   "source": [
    "经济金融领域有多种模型用来建模市场，主要分为两类：  \n",
    "* 统计实证模型，模型使用大量历史数据来预测未来，当市场未遭受巨大冲击时，模型预测相对准确。但当市场遭遇黑天鹅时，模型就束手无策。\n",
    "* 动态随机一般均衡模型(DSGE)，模型构造一个均衡的封闭系统，形成一个看似完美的经济世界，然而却没有任何一个DSGE模型预测到2008年的金融危机。金融危机动摇了人们对主流模型的认识。"
   ]
  },
  {
   "cell_type": "markdown",
   "metadata": {},
   "source": [
    "> 思考：股市是自然主义科学还是社会主义科学，因为股市有人的参与，应当归属于社会主义科学，那么不能将自然主义科学的规律和学科直接用在股市中。"
   ]
  },
  {
   "cell_type": "code",
   "execution_count": null,
   "metadata": {},
   "outputs": [],
   "source": []
  }
 ],
 "metadata": {
  "kernelspec": {
   "display_name": "Python 3",
   "language": "python",
   "name": "python3"
  },
  "language_info": {
   "codemirror_mode": {
    "name": "ipython",
    "version": 3
   },
   "file_extension": ".py",
   "mimetype": "text/x-python",
   "name": "python",
   "nbconvert_exporter": "python",
   "pygments_lexer": "ipython3",
   "version": "3.7.1"
  }
 },
 "nbformat": 4,
 "nbformat_minor": 4
}
