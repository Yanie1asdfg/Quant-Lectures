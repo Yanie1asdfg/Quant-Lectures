{
 "cells": [
  {
   "cell_type": "code",
   "execution_count": 182,
   "metadata": {},
   "outputs": [],
   "source": [
    "import pandas as pd\n",
    "from jqdatasdk import *\n",
    "from datetime import datetime,timedelta\n",
    "import matplotlib.pyplot as plt\n",
    "import tushare as ts\n",
    "import mplfinance as mpf\n",
    "import numpy as np"
   ]
  },
  {
   "cell_type": "code",
   "execution_count": 183,
   "metadata": {},
   "outputs": [
    {
     "name": "stdout",
     "output_type": "stream",
     "text": [
      "            date      time              stock style volumns   price  total_b  \\\n",
      "0     2018-01-02  14:40:00  中远海特(600428.XSHG)     买  17400股    5.75   100050   \n",
      "1     2018-01-02  14:40:00   南玻A(000012.XSHE)     买  11500股    8.65    99475   \n",
      "2     2018-01-02  14:40:00  招商证券(600999.XSHG)     买   5600股   17.61    98616   \n",
      "3     2018-01-02  14:40:00  国信证券(002736.XSHE)     买   9100股   10.92    99372   \n",
      "4     2018-01-03  14:40:00  国电南瑞(600406.XSHG)     买   5300股   18.61    98633   \n",
      "...          ...       ...                ...   ...     ...     ...      ...   \n",
      "5173  2020-11-26  09:30:00  广汽集团(601238.XSHG)     卖  -6600股   14.28  (94248)   \n",
      "5174  2020-11-26  09:54:00  中航机电(002013.XSHE)     卖  -9300股   10.15  (94395)   \n",
      "5175  2020-11-26  10:24:00  长春高新(000661.XSHE)     卖   -200股  338.49  (67698)   \n",
      "5176  2020-11-26  14:40:00  信维通信(300136.XSHE)     买   2100股   46.32    97272   \n",
      "5177  2020-11-26  14:40:00  通富微电(002156.XSHE)     买   3700股   27.05   100085   \n",
      "\n",
      "       sell_date sell_time  \n",
      "0     2018-02-01  10:23:00  \n",
      "1     2018-01-31  14:14:00  \n",
      "2     2018-01-16  09:48:00  \n",
      "3     2018-01-30  10:58:00  \n",
      "4     2018-01-12  11:23:00  \n",
      "...          ...       ...  \n",
      "5173         NaN       NaN  \n",
      "5174         NaN       NaN  \n",
      "5175         NaN       NaN  \n",
      "5176         NaN       NaN  \n",
      "5177         NaN       NaN  \n",
      "\n",
      "[5178 rows x 9 columns]\n"
     ]
    }
   ],
   "source": [
    "data = pd.read_csv('transaction.csv',encoding = 'gb2312')\n",
    "#df = pd.read_csv('catering_sale.csv', encoding = 'gb2312')\n",
    "data = data[['日期','委托时间','标的','交易类型','成交数量','成交价','成交额']]\n",
    "data.columns = ['date','time','stock','style','volumns','price','total_b']\n",
    "for i in data.index:\n",
    "    style = data.loc[i,'style']\n",
    "    volumns = data.loc[i,'volumns']\n",
    "    c1 = data.stock==data.loc[i,'stock']\n",
    "    c2 = data['volumns']=='-'+volumns\n",
    "    c3 = data.index>i\n",
    "    stock_d = data[c1 & c2 & c3]\n",
    "    if stock_d.empty==False:\n",
    "        data.loc[i,'sell_date']=stock_d.date.values[0]\n",
    "        data.loc[i,'sell_time']=stock_d.time.values[0]\n",
    "        #print(stock_d.index.values[0],stock_d.stock.values[0])\n",
    "        \n",
    "    #print(stock_d)\n",
    "print(data)\n",
    "data.to_csv('a1.csv')"
   ]
  },
  {
   "cell_type": "code",
   "execution_count": null,
   "metadata": {},
   "outputs": [],
   "source": [
    "data = pd.read_csv('a1.csv')\n",
    "data = data.dropna()\n",
    "data"
   ]
  },
  {
   "cell_type": "code",
   "execution_count": null,
   "metadata": {},
   "outputs": [],
   "source": [
    "stocklist = data.stock.tolist()\n",
    "stocklist = [x[-12:-1] for x in stocklist]\n",
    "# print(stocklist)\n",
    "buylist = data.date.tolist()\n",
    "selllist = data.sell_date.tolist()\n"
   ]
  },
  {
   "cell_type": "code",
   "execution_count": null,
   "metadata": {},
   "outputs": [],
   "source": [
    "# date1 = '2020-08-30'\n",
    "# date2 = '2020-09-30'\n",
    "# predays = 90\n",
    "# afterdays =40"
   ]
  },
  {
   "cell_type": "code",
   "execution_count": null,
   "metadata": {},
   "outputs": [],
   "source": [
    "if len(stocklist)!=0:\n",
    "    d = {'code':stocklist, 'buydate': buylist,'selldate':selllist}\n",
    "    edf = pd.DataFrame(d)\n",
    "#     date1 = datetime.strptime(date1, \"%Y-%m-%d\")\n",
    "#     edf[\"buy\"]=date1\n",
    "#     date2 = datetime.strptime(date2, \"%Y-%m-%d\")\n",
    "#     edf[\"sell\"]=date2\n",
    "edf"
   ]
  },
  {
   "cell_type": "code",
   "execution_count": null,
   "metadata": {},
   "outputs": [],
   "source": [
    "def show_current(time,dfclose):\n",
    "    import numpy as np\n",
    "    signal   = []\n",
    "    previous = -1.0\n",
    "    for date,value in dfclose.iteritems():\n",
    "        if time == date:\n",
    "            signal.append(dfclose[date]*0.95)\n",
    "        else:\n",
    "            signal.append(np.nan)\n",
    "    return signal\n",
    "\n",
    "def drawing(code,start,buy,sell,end):\n",
    "    # 获取数据\n",
    "    df = ts.get_k_data(code,start,end)\n",
    "    # 以 date 为索引\n",
    "    df.set_index('date',inplace=True)\n",
    "    # 转换为 DatetimeIndex索引\n",
    "    df.index = pd.DatetimeIndex(df.index)\n",
    "    # 提取出'open','high','low','close','volume'\n",
    "    df = df[['open','high','low','close','volume']]\n",
    "    # 转换表名\n",
    "    df.columns = ['Open','High','Low','Close','Volume']\n",
    "    if len(df)< (predays+afterdays)*0.6:\n",
    "        return\n",
    "    # 取出当天的close\n",
    "#     close = df.loc[time,'Close']\n",
    "    # 设置画图的参数\n",
    "    '''\n",
    "    type='candle' 画K线图\n",
    "    mav=(5,10,20) 画出 5，10，20日均线\n",
    "    '''\n",
    "    \n",
    "    kwargs = dict(type='candle',mav=(5,10,20),volume=False,figratio=(19,8),figscale=0.85)\n",
    "    mc = mpf.make_marketcolors(up = 'r',down = 'g')#00ff00\n",
    "    my_style = mpf.make_mpf_style(marketcolors=mc)\n",
    "#     signal = [time,close]\n",
    "#     signal =  [20]*len(df)\n",
    "    # signal是一串列表\n",
    "    #signal = show_current(time,df.Close)\n",
    "    #if np.array(signal).all()==np.nan:\n",
    "        #return\n",
    "    #apd = mpf.make_addplot(signal,type='scatter',markersize=200,marker='^')\n",
    "    dates_df     = pd.DataFrame(df.index)\n",
    "    buy_date     = pd.Timestamp(buy)\n",
    "    sell_date    = pd.Timestamp(sell)\n",
    "    where_values = pd.notnull(dates_df[ (dates_df>=buy_date) & (dates_df <= sell_date) ])['date'].values\n",
    "    y1value = df['Close'].max()\n",
    "    y2value  = df['Close'].min()\n",
    "    \n",
    "    fill1 = dict(y1=y1value,y2=y2value,where=where_values,alpha=0.5,color='g')\n",
    "    \n",
    "    mpf.plot(df,**kwargs,style=my_style,title='Candle:'+str(buy)+' | '+str(sell)+' | '+code, ylabel='price', ylabel_lower='date',fill_between=fill1)#, savefig='my_image.png'\n",
    "    plt.show() \n",
    "    #fill_between=dict(y1=y1values,y2=y2value,where=where_values,alpha=0.5,color='g')\n"
   ]
  },
  {
   "cell_type": "code",
   "execution_count": null,
   "metadata": {},
   "outputs": [],
   "source": [
    "for i in edf.index:\n",
    "    code = edf.loc[i,'code'][:-5]\n",
    "#     buy = edf.loc[i,'buy'].date()\n",
    "#     sell = edf.loc[i,'sell'].date()\n",
    "    buy = datetime.strptime(edf.loc[i,'buydate'], \"%Y-%m-%d\").date()\n",
    "    sell = datetime.strptime(edf.loc[i,'selldate'], \"%Y-%m-%d\").date()\n",
    "    # 获取 K线图的起始时间\n",
    "    start = buy-timedelta(days=predays)\n",
    "    # 将起始时间转为字符串\n",
    "    start = datetime.strftime(start, \"%Y-%m-%d\")\n",
    "    # 获取 K线图的终点时间\n",
    "    end = sell+timedelta(days=afterdays)\n",
    "    # 将终点时间转为字符串\n",
    "    end = datetime.strftime(end, \"%Y-%m-%d\")\n",
    "#     name = get_security_info(code).display_name\n",
    "    print(code,start,buy,sell,end)\n",
    "    drawing(code,start,buy,sell,end)"
   ]
  },
  {
   "cell_type": "code",
   "execution_count": null,
   "metadata": {},
   "outputs": [],
   "source": []
  }
 ],
 "metadata": {
  "kernelspec": {
   "display_name": "Python 3",
   "language": "python",
   "name": "python3"
  },
  "language_info": {
   "codemirror_mode": {
    "name": "ipython",
    "version": 3
   },
   "file_extension": ".py",
   "mimetype": "text/x-python",
   "name": "python",
   "nbconvert_exporter": "python",
   "pygments_lexer": "ipython3",
   "version": "3.7.1"
  }
 },
 "nbformat": 4,
 "nbformat_minor": 4
}
