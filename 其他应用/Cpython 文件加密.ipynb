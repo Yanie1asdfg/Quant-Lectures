{
 "cells": [
  {
   "cell_type": "markdown",
   "id": "pacific-fitness",
   "metadata": {},
   "source": [
    "编译过程：\n",
    "https://blog.csdn.net/weixin_34293141/article/details/92170301   \n",
    "\n",
    "https://blog.csdn.net/kalulioo/article/details/52401202?utm_medium=distribute.pc_relevant.none-task-blog-2%7Edefault%7EBlogCommendFromMachineLearnPai2%7Edefault-3.control&dist_request_id=&depth_1-utm_source=distribute.pc_relevant.none-task-blog-2%7Edefault%7EBlogCommendFromMachineLearnPai2%7Edefault-3.control"
   ]
  },
  {
   "cell_type": "markdown",
   "id": "expired-argument",
   "metadata": {},
   "source": [
    "Microsoft Visual C++ 14.0 is required解决方法   \n",
    "https://zhuanlan.zhihu.com/p/126669852   \n",
    "\n",
    "需要连上vpn"
   ]
  },
  {
   "cell_type": "code",
   "execution_count": null,
   "id": "alert-roads",
   "metadata": {},
   "outputs": [],
   "source": []
  }
 ],
 "metadata": {
  "kernelspec": {
   "display_name": "Python 3",
   "language": "python",
   "name": "python3"
  },
  "language_info": {
   "codemirror_mode": {
    "name": "ipython",
    "version": 3
   },
   "file_extension": ".py",
   "mimetype": "text/x-python",
   "name": "python",
   "nbconvert_exporter": "python",
   "pygments_lexer": "ipython3",
   "version": "3.7.6"
  }
 },
 "nbformat": 4,
 "nbformat_minor": 5
}
