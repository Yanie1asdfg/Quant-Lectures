{
 "cells": [
  {
   "cell_type": "markdown",
   "id": "pharmaceutical-emergency",
   "metadata": {},
   "source": [
    "statsmodels是一个Python模块，提供了大量统计模型的类和函数。主要功能有：\n",
    "* regression: Generalized least squares (including weighted least squares and least squares with autoregressive errors), ordinary least squares.  \n",
    "广义最小二乘法（包括加权最小二乘法和带自回归误差的最小二乘法）、普通最小二乘法。   \n",
    "* glm: Generalized linear models with support for all of the one-parameter exponential family distributions.discrete choice models: Poisson, probit, logit, multinomial logit   \n",
    "支持所有单参数指数族分布的广义线性模型。离散选择模型：Poisson，probit，logit，多项式logit  \n",
    "* rlm: Robust linear models with support for several M-estimators.   \n",
    "支持多个M估计的鲁棒线性模型。\n",
    "* tsa: Time series analysis models, including ARMA, AR, VAR    \n",
    "时间序列分析模型，包括ARMA，AR，VAR  \n",
    "* nonparametric : (Univariate) kernel density estimators   \n",
    "（单变量）核密度估计    \n",
    "* datasets: Datasets to be distributed and used for examples and in testing.    \n",
    "数据集：分发的数据集，用于示例和测试。    \n",
    "* PyDTA: Tools for reading Stata .dta files into numpy arrays.   \n",
    "PyDTA：将Stata.dta文件读入numpy数组的工具。   \n",
    "* stats: a wide range of statistical tests    \n",
    "统计：广泛的统计测试"
   ]
  },
  {
   "cell_type": "code",
   "execution_count": null,
   "id": "conscious-cannon",
   "metadata": {},
   "outputs": [],
   "source": []
  }
 ],
 "metadata": {
  "kernelspec": {
   "display_name": "Python 3",
   "language": "python",
   "name": "python3"
  },
  "language_info": {
   "codemirror_mode": {
    "name": "ipython",
    "version": 3
   },
   "file_extension": ".py",
   "mimetype": "text/x-python",
   "name": "python",
   "nbconvert_exporter": "python",
   "pygments_lexer": "ipython3",
   "version": "3.7.6"
  }
 },
 "nbformat": 4,
 "nbformat_minor": 5
}
