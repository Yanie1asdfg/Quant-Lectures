{
 "cells": [
  {
   "cell_type": "markdown",
   "metadata": {},
   "source": [
    "运用量价为fetures的训练数据中，在求label时有几点需要注意的情况：  \n",
    "对于A股来说，如果需要用到当日收盘价，那么label中的计算应该有第二天的开盘价和后面数据的比较，这样才能买到"
   ]
  },
  {
   "cell_type": "markdown",
   "metadata": {},
   "source": []
  }
 ],
 "metadata": {
  "kernelspec": {
   "display_name": "Python 3",
   "language": "python",
   "name": "python3"
  },
  "language_info": {
   "codemirror_mode": {
    "name": "ipython",
    "version": 3
   },
   "file_extension": ".py",
   "mimetype": "text/x-python",
   "name": "python",
   "nbconvert_exporter": "python",
   "pygments_lexer": "ipython3",
   "version": "3.7.1"
  }
 },
 "nbformat": 4,
 "nbformat_minor": 4
}
