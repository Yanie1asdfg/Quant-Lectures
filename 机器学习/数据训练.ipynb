{
 "cells": [
  {
   "cell_type": "markdown",
   "metadata": {},
   "source": [
    "运用量价为fetures的训练数据中，在求label时有几点需要注意的情况：  \n",
    "对于A股来说，如果需要用到当日收盘价，那么label中的计算应该有第二天的开盘价和后面数据的比较，这样才能买到"
   ]
  },
  {
   "cell_type": "markdown",
   "metadata": {},
   "source": [
    "### 机器学习中怎样把训练好的模型进行再次训练？"
   ]
  },
  {
   "cell_type": "markdown",
   "metadata": {},
   "source": [
    "这种技术叫做finetuning，通常的做法是设置一个非常小的学习率，把新到的数据混合到原始的训练里，然后再训练一定的epoch，  \n",
    "这样能保证模型把新数据吃进去了，同时不会遗忘之前的数据。如果只在新数据上训练，是会遗忘之前的数据的。"
   ]
  },
  {
   "cell_type": "code",
   "execution_count": null,
   "metadata": {},
   "outputs": [],
   "source": []
  }
 ],
 "metadata": {
  "kernelspec": {
   "display_name": "Python 3",
   "language": "python",
   "name": "python3"
  },
  "language_info": {
   "codemirror_mode": {
    "name": "ipython",
    "version": 3
   },
   "file_extension": ".py",
   "mimetype": "text/x-python",
   "name": "python",
   "nbconvert_exporter": "python",
   "pygments_lexer": "ipython3",
   "version": "3.7.6"
  }
 },
 "nbformat": 4,
 "nbformat_minor": 4
}
