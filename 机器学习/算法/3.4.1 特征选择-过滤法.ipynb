{
 "cells": [
  {
   "cell_type": "markdown",
   "id": "whole-jacket",
   "metadata": {},
   "source": [
    "# **特征选择 feature_selection**"
   ]
  },
  {
   "cell_type": "markdown",
   "id": "national-softball",
   "metadata": {},
   "source": [
    "* 特征提取 feature extraction   \n",
    "    从文字，图像，声音等其他非结构化数据中提取新信息作为特征。比如说，从淘宝宝贝的名称中提取出产品类别，产品颜色，是否是网红产品等等。\n",
    "* 特征创造 feature creation   \n",
    "    把现有特征进行组合，或互相计算，得到新的特征。比如说，我们有一列特征是速度，一列特征是距离，我们就可以通过让两列相除，创造新的特征：通过距离所花的时间。\n",
    "* 特征选择 (feature selection)   \n",
    "    **从所有的特征中，选择出有意义，对模型有帮助的特征，以避免必须将所有特征都导入模型去训练的情况。**  \n",
    "\n",
    "以上即是特征工程   \n",
    "> 在做特征选择之前,有一件非常重要的事: **跟数据提供者开会**   \n",
    "> 一定要与理解业务和数据含义的人交流,技术能让模型起飞,前提是你和业务人员一样的理解数据,所以特征选择的第一步,是根据常识来选择特征"
   ]
  },
  {
   "cell_type": "markdown",
   "id": "tutorial-barrel",
   "metadata": {},
   "source": [
    "**特征工程的第一步:理解业务**  \n",
    "\n",
    "当然,在真正的数据应用领域,比如金融,医疗,电商,数据不可能像泰坦尼克号数据特征这样少,这样明显,如果遇见极端情况,无法依赖对业务的理解来选择特征,有4种方法可以用来选择特征:过滤法,嵌入发,包装法,降维算法"
   ]
  },
  {
   "cell_type": "code",
   "execution_count": 3,
   "id": "buried-committee",
   "metadata": {},
   "outputs": [
    {
     "data": {
      "text/html": [
       "<div>\n",
       "<style scoped>\n",
       "    .dataframe tbody tr th:only-of-type {\n",
       "        vertical-align: middle;\n",
       "    }\n",
       "\n",
       "    .dataframe tbody tr th {\n",
       "        vertical-align: top;\n",
       "    }\n",
       "\n",
       "    .dataframe thead th {\n",
       "        text-align: right;\n",
       "    }\n",
       "</style>\n",
       "<table border=\"1\" class=\"dataframe\">\n",
       "  <thead>\n",
       "    <tr style=\"text-align: right;\">\n",
       "      <th></th>\n",
       "      <th>label</th>\n",
       "      <th>pixel0</th>\n",
       "      <th>pixel1</th>\n",
       "      <th>pixel2</th>\n",
       "      <th>pixel3</th>\n",
       "      <th>pixel4</th>\n",
       "      <th>pixel5</th>\n",
       "      <th>pixel6</th>\n",
       "      <th>pixel7</th>\n",
       "      <th>pixel8</th>\n",
       "      <th>...</th>\n",
       "      <th>pixel774</th>\n",
       "      <th>pixel775</th>\n",
       "      <th>pixel776</th>\n",
       "      <th>pixel777</th>\n",
       "      <th>pixel778</th>\n",
       "      <th>pixel779</th>\n",
       "      <th>pixel780</th>\n",
       "      <th>pixel781</th>\n",
       "      <th>pixel782</th>\n",
       "      <th>pixel783</th>\n",
       "    </tr>\n",
       "  </thead>\n",
       "  <tbody>\n",
       "    <tr>\n",
       "      <th>0</th>\n",
       "      <td>1</td>\n",
       "      <td>0</td>\n",
       "      <td>0</td>\n",
       "      <td>0</td>\n",
       "      <td>0</td>\n",
       "      <td>0</td>\n",
       "      <td>0</td>\n",
       "      <td>0</td>\n",
       "      <td>0</td>\n",
       "      <td>0</td>\n",
       "      <td>...</td>\n",
       "      <td>0</td>\n",
       "      <td>0</td>\n",
       "      <td>0</td>\n",
       "      <td>0</td>\n",
       "      <td>0</td>\n",
       "      <td>0</td>\n",
       "      <td>0</td>\n",
       "      <td>0</td>\n",
       "      <td>0</td>\n",
       "      <td>0</td>\n",
       "    </tr>\n",
       "    <tr>\n",
       "      <th>1</th>\n",
       "      <td>0</td>\n",
       "      <td>0</td>\n",
       "      <td>0</td>\n",
       "      <td>0</td>\n",
       "      <td>0</td>\n",
       "      <td>0</td>\n",
       "      <td>0</td>\n",
       "      <td>0</td>\n",
       "      <td>0</td>\n",
       "      <td>0</td>\n",
       "      <td>...</td>\n",
       "      <td>0</td>\n",
       "      <td>0</td>\n",
       "      <td>0</td>\n",
       "      <td>0</td>\n",
       "      <td>0</td>\n",
       "      <td>0</td>\n",
       "      <td>0</td>\n",
       "      <td>0</td>\n",
       "      <td>0</td>\n",
       "      <td>0</td>\n",
       "    </tr>\n",
       "    <tr>\n",
       "      <th>2</th>\n",
       "      <td>1</td>\n",
       "      <td>0</td>\n",
       "      <td>0</td>\n",
       "      <td>0</td>\n",
       "      <td>0</td>\n",
       "      <td>0</td>\n",
       "      <td>0</td>\n",
       "      <td>0</td>\n",
       "      <td>0</td>\n",
       "      <td>0</td>\n",
       "      <td>...</td>\n",
       "      <td>0</td>\n",
       "      <td>0</td>\n",
       "      <td>0</td>\n",
       "      <td>0</td>\n",
       "      <td>0</td>\n",
       "      <td>0</td>\n",
       "      <td>0</td>\n",
       "      <td>0</td>\n",
       "      <td>0</td>\n",
       "      <td>0</td>\n",
       "    </tr>\n",
       "    <tr>\n",
       "      <th>3</th>\n",
       "      <td>4</td>\n",
       "      <td>0</td>\n",
       "      <td>0</td>\n",
       "      <td>0</td>\n",
       "      <td>0</td>\n",
       "      <td>0</td>\n",
       "      <td>0</td>\n",
       "      <td>0</td>\n",
       "      <td>0</td>\n",
       "      <td>0</td>\n",
       "      <td>...</td>\n",
       "      <td>0</td>\n",
       "      <td>0</td>\n",
       "      <td>0</td>\n",
       "      <td>0</td>\n",
       "      <td>0</td>\n",
       "      <td>0</td>\n",
       "      <td>0</td>\n",
       "      <td>0</td>\n",
       "      <td>0</td>\n",
       "      <td>0</td>\n",
       "    </tr>\n",
       "    <tr>\n",
       "      <th>4</th>\n",
       "      <td>0</td>\n",
       "      <td>0</td>\n",
       "      <td>0</td>\n",
       "      <td>0</td>\n",
       "      <td>0</td>\n",
       "      <td>0</td>\n",
       "      <td>0</td>\n",
       "      <td>0</td>\n",
       "      <td>0</td>\n",
       "      <td>0</td>\n",
       "      <td>...</td>\n",
       "      <td>0</td>\n",
       "      <td>0</td>\n",
       "      <td>0</td>\n",
       "      <td>0</td>\n",
       "      <td>0</td>\n",
       "      <td>0</td>\n",
       "      <td>0</td>\n",
       "      <td>0</td>\n",
       "      <td>0</td>\n",
       "      <td>0</td>\n",
       "    </tr>\n",
       "  </tbody>\n",
       "</table>\n",
       "<p>5 rows × 785 columns</p>\n",
       "</div>"
      ],
      "text/plain": [
       "   label  pixel0  pixel1  pixel2  pixel3  pixel4  pixel5  pixel6  pixel7  \\\n",
       "0      1       0       0       0       0       0       0       0       0   \n",
       "1      0       0       0       0       0       0       0       0       0   \n",
       "2      1       0       0       0       0       0       0       0       0   \n",
       "3      4       0       0       0       0       0       0       0       0   \n",
       "4      0       0       0       0       0       0       0       0       0   \n",
       "\n",
       "   pixel8  ...  pixel774  pixel775  pixel776  pixel777  pixel778  pixel779  \\\n",
       "0       0  ...         0         0         0         0         0         0   \n",
       "1       0  ...         0         0         0         0         0         0   \n",
       "2       0  ...         0         0         0         0         0         0   \n",
       "3       0  ...         0         0         0         0         0         0   \n",
       "4       0  ...         0         0         0         0         0         0   \n",
       "\n",
       "   pixel780  pixel781  pixel782  pixel783  \n",
       "0         0         0         0         0  \n",
       "1         0         0         0         0  \n",
       "2         0         0         0         0  \n",
       "3         0         0         0         0  \n",
       "4         0         0         0         0  \n",
       "\n",
       "[5 rows x 785 columns]"
      ]
     },
     "execution_count": 3,
     "metadata": {},
     "output_type": "execute_result"
    }
   ],
   "source": [
    "import pandas as pd\n",
    "\n",
    "data = pd.read_csv(r\"C:\\workspace\\Data\\digit recognizor.csv\")\n",
    "data.head()"
   ]
  },
  {
   "cell_type": "code",
   "execution_count": 4,
   "id": "above-hanging",
   "metadata": {},
   "outputs": [],
   "source": [
    "x = data.iloc[:,1:]\n",
    "y = data.iloc[:,0]"
   ]
  },
  {
   "cell_type": "code",
   "execution_count": 5,
   "id": "chemical-bonus",
   "metadata": {},
   "outputs": [
    {
     "data": {
      "text/plain": [
       "(42000, 784)"
      ]
     },
     "execution_count": 5,
     "metadata": {},
     "output_type": "execute_result"
    }
   ],
   "source": [
    "x.shape"
   ]
  },
  {
   "cell_type": "code",
   "execution_count": null,
   "id": "prescription-sucking",
   "metadata": {},
   "outputs": [],
   "source": [
    "\"\"\"\n",
    "此数据量相当夸张,如果使用支持向量机和神经网络,很可能会直接跑不出来,使用KNN跑一次大概需要半小时\n",
    "用这个数据,更能够体现特征工程的重要性\n",
    "\"\"\""
   ]
  },
  {
   "cell_type": "markdown",
   "id": "direct-reviewer",
   "metadata": {},
   "source": [
    "## **Filter过滤法**"
   ]
  },
  {
   "cell_type": "markdown",
   "id": "wound-delhi",
   "metadata": {},
   "source": [
    "过滤方法通常用作预处理步骤，特征选择完全独立于任何机器学习算法。它是**根据各种统计检验中的分数以及相关性的各项指标**来选择特征。"
   ]
  },
  {
   "attachments": {
    "36648b23-b86c-4f17-ae48-0464fe117d63.png": {
     "image/png": "[encoded data removed]"
    }
   },
   "cell_type": "markdown",
   "id": "dedicated-fighter",
   "metadata": {},
   "source": [
    "![image.png](attachment:36648b23-b86c-4f17-ae48-0464fe117d63.png)"
   ]
  },
  {
   "cell_type": "markdown",
   "id": "severe-lease",
   "metadata": {},
   "source": [
    "### 1.方差过滤 VarianceThreshold   \n",
    "\n",
    "这是通过特征本身的方差来筛选特征的类。比如一个特征本身的方差很小，就表示样本在这个特征上基本没有差异，可能特征中的大多数值都一样，甚至整个特征的取值都相同，那这个特征对于样本区分没有什么作用。**所以无论接下来的特征工程要做什么，都要优先消除方差为0的特征。** VarianceThreshold有重要参数threshold，表示方差的阈值，表示舍弃所有方差小于threshold的特征，不填默认为0，即删除所有的记录都相同的特征。（方差越小越稳定）\n"
   ]
  },
  {
   "cell_type": "code",
   "execution_count": 6,
   "id": "known-legislature",
   "metadata": {},
   "outputs": [
    {
     "data": {
      "text/plain": [
       "(42000, 708)"
      ]
     },
     "execution_count": 6,
     "metadata": {},
     "output_type": "execute_result"
    }
   ],
   "source": [
    "from sklearn.feature_selection import VarianceThreshold\n",
    "selector = VarianceThreshold()  # 实例化一个对象，也就是默认删除方差是0的特征\n",
    "x_var0=selector.fit_transform(x)# 获取删除不合格特征后的新特征矩阵\n",
    "x_var0.shape# 目前只剩下708个特征,通过本次筛选，已经把方差为0的特征列全部去掉"
   ]
  },
  {
   "cell_type": "code",
   "execution_count": 7,
   "id": "waiting-poison",
   "metadata": {},
   "outputs": [
    {
     "data": {
      "text/html": [
       "<div>\n",
       "<style scoped>\n",
       "    .dataframe tbody tr th:only-of-type {\n",
       "        vertical-align: middle;\n",
       "    }\n",
       "\n",
       "    .dataframe tbody tr th {\n",
       "        vertical-align: top;\n",
       "    }\n",
       "\n",
       "    .dataframe thead th {\n",
       "        text-align: right;\n",
       "    }\n",
       "</style>\n",
       "<table border=\"1\" class=\"dataframe\">\n",
       "  <thead>\n",
       "    <tr style=\"text-align: right;\">\n",
       "      <th></th>\n",
       "      <th>0</th>\n",
       "      <th>1</th>\n",
       "      <th>2</th>\n",
       "      <th>3</th>\n",
       "      <th>4</th>\n",
       "      <th>5</th>\n",
       "      <th>6</th>\n",
       "      <th>7</th>\n",
       "      <th>8</th>\n",
       "      <th>9</th>\n",
       "      <th>...</th>\n",
       "      <th>698</th>\n",
       "      <th>699</th>\n",
       "      <th>700</th>\n",
       "      <th>701</th>\n",
       "      <th>702</th>\n",
       "      <th>703</th>\n",
       "      <th>704</th>\n",
       "      <th>705</th>\n",
       "      <th>706</th>\n",
       "      <th>707</th>\n",
       "    </tr>\n",
       "  </thead>\n",
       "  <tbody>\n",
       "    <tr>\n",
       "      <th>0</th>\n",
       "      <td>0</td>\n",
       "      <td>0</td>\n",
       "      <td>0</td>\n",
       "      <td>0</td>\n",
       "      <td>0</td>\n",
       "      <td>0</td>\n",
       "      <td>0</td>\n",
       "      <td>0</td>\n",
       "      <td>0</td>\n",
       "      <td>0</td>\n",
       "      <td>...</td>\n",
       "      <td>0</td>\n",
       "      <td>0</td>\n",
       "      <td>0</td>\n",
       "      <td>0</td>\n",
       "      <td>0</td>\n",
       "      <td>0</td>\n",
       "      <td>0</td>\n",
       "      <td>0</td>\n",
       "      <td>0</td>\n",
       "      <td>0</td>\n",
       "    </tr>\n",
       "    <tr>\n",
       "      <th>1</th>\n",
       "      <td>0</td>\n",
       "      <td>0</td>\n",
       "      <td>0</td>\n",
       "      <td>0</td>\n",
       "      <td>0</td>\n",
       "      <td>0</td>\n",
       "      <td>0</td>\n",
       "      <td>0</td>\n",
       "      <td>0</td>\n",
       "      <td>0</td>\n",
       "      <td>...</td>\n",
       "      <td>0</td>\n",
       "      <td>0</td>\n",
       "      <td>0</td>\n",
       "      <td>0</td>\n",
       "      <td>0</td>\n",
       "      <td>0</td>\n",
       "      <td>0</td>\n",
       "      <td>0</td>\n",
       "      <td>0</td>\n",
       "      <td>0</td>\n",
       "    </tr>\n",
       "    <tr>\n",
       "      <th>2</th>\n",
       "      <td>0</td>\n",
       "      <td>0</td>\n",
       "      <td>0</td>\n",
       "      <td>0</td>\n",
       "      <td>0</td>\n",
       "      <td>0</td>\n",
       "      <td>0</td>\n",
       "      <td>0</td>\n",
       "      <td>0</td>\n",
       "      <td>0</td>\n",
       "      <td>...</td>\n",
       "      <td>0</td>\n",
       "      <td>0</td>\n",
       "      <td>0</td>\n",
       "      <td>0</td>\n",
       "      <td>0</td>\n",
       "      <td>0</td>\n",
       "      <td>0</td>\n",
       "      <td>0</td>\n",
       "      <td>0</td>\n",
       "      <td>0</td>\n",
       "    </tr>\n",
       "    <tr>\n",
       "      <th>3</th>\n",
       "      <td>0</td>\n",
       "      <td>0</td>\n",
       "      <td>0</td>\n",
       "      <td>0</td>\n",
       "      <td>0</td>\n",
       "      <td>0</td>\n",
       "      <td>0</td>\n",
       "      <td>0</td>\n",
       "      <td>0</td>\n",
       "      <td>0</td>\n",
       "      <td>...</td>\n",
       "      <td>0</td>\n",
       "      <td>0</td>\n",
       "      <td>0</td>\n",
       "      <td>0</td>\n",
       "      <td>0</td>\n",
       "      <td>0</td>\n",
       "      <td>0</td>\n",
       "      <td>0</td>\n",
       "      <td>0</td>\n",
       "      <td>0</td>\n",
       "    </tr>\n",
       "    <tr>\n",
       "      <th>4</th>\n",
       "      <td>0</td>\n",
       "      <td>0</td>\n",
       "      <td>0</td>\n",
       "      <td>0</td>\n",
       "      <td>0</td>\n",
       "      <td>0</td>\n",
       "      <td>0</td>\n",
       "      <td>0</td>\n",
       "      <td>0</td>\n",
       "      <td>0</td>\n",
       "      <td>...</td>\n",
       "      <td>0</td>\n",
       "      <td>0</td>\n",
       "      <td>0</td>\n",
       "      <td>0</td>\n",
       "      <td>0</td>\n",
       "      <td>0</td>\n",
       "      <td>0</td>\n",
       "      <td>0</td>\n",
       "      <td>0</td>\n",
       "      <td>0</td>\n",
       "    </tr>\n",
       "  </tbody>\n",
       "</table>\n",
       "<p>5 rows × 708 columns</p>\n",
       "</div>"
      ],
      "text/plain": [
       "   0    1    2    3    4    5    6    7    8    9    ...  698  699  700  701  \\\n",
       "0    0    0    0    0    0    0    0    0    0    0  ...    0    0    0    0   \n",
       "1    0    0    0    0    0    0    0    0    0    0  ...    0    0    0    0   \n",
       "2    0    0    0    0    0    0    0    0    0    0  ...    0    0    0    0   \n",
       "3    0    0    0    0    0    0    0    0    0    0  ...    0    0    0    0   \n",
       "4    0    0    0    0    0    0    0    0    0    0  ...    0    0    0    0   \n",
       "\n",
       "   702  703  704  705  706  707  \n",
       "0    0    0    0    0    0    0  \n",
       "1    0    0    0    0    0    0  \n",
       "2    0    0    0    0    0    0  \n",
       "3    0    0    0    0    0    0  \n",
       "4    0    0    0    0    0    0  \n",
       "\n",
       "[5 rows x 708 columns]"
      ]
     },
     "execution_count": 7,
     "metadata": {},
     "output_type": "execute_result"
    }
   ],
   "source": [
    "pd.DataFrame(x_var0).head()"
   ]
  },
  {
   "cell_type": "markdown",
   "id": "medical-fairy",
   "metadata": {},
   "source": [
    "可以看见，我们已经删除了方差为0的特征，但是依然剩下了708多个特征，明显还需要进一步的特征选择。然而，如果我们知道我们需要多少个特征，方差也可以帮助我们将特征选择一步到位。比如说，我们希望留下一半的特征，那可以设定一个让特征总数减半的方阈值，只要找到特征方差的中位数，再将这个中位数作为参数threshold的值输入就好了：\n"
   ]
  },
  {
   "cell_type": "code",
   "execution_count": 11,
   "id": "resident-missouri",
   "metadata": {},
   "outputs": [
    {
     "data": {
      "text/plain": [
       "array([0.00000000e+00, 0.00000000e+00, 0.00000000e+00, 0.00000000e+00,\n",
       "       0.00000000e+00, 0.00000000e+00, 0.00000000e+00, 0.00000000e+00,\n",
       "       0.00000000e+00, 0.00000000e+00, 0.00000000e+00, 0.00000000e+00,\n",
       "       3.22760590e-01, 2.64689018e+00, 1.11085714e+00, 1.92857143e-03,\n",
       "       0.00000000e+00, 0.00000000e+00, 0.00000000e+00, 0.00000000e+00,\n",
       "       0.00000000e+00, 0.00000000e+00, 0.00000000e+00, 0.00000000e+00,\n",
       "       0.00000000e+00, 0.00000000e+00, 0.00000000e+00, 0.00000000e+00,\n",
       "       0.00000000e+00, 0.00000000e+00, 0.00000000e+00, 0.00000000e+00,\n",
       "       6.09523810e-03, 5.41186213e-02, 1.28065733e+00, 5.33793150e+00,\n",
       "       9.74592647e+00, 1.06219147e+01, 2.49289953e+01, 3.37671294e+01,\n",
       "       3.59425660e+01, 3.49309575e+01, 3.62943342e+01, 3.27911079e+01,\n",
       "       3.04237672e+01, 2.95547817e+01, 2.00568398e+01, 1.19545659e+01,\n",
       "       8.60419724e+00, 2.55465685e+00])"
      ]
     },
     "execution_count": 11,
     "metadata": {},
     "output_type": "execute_result"
    }
   ],
   "source": [
    "import numpy as np\n",
    "\n",
    "x.var().values[:50]  # 读取每一列的方差"
   ]
  },
  {
   "cell_type": "code",
   "execution_count": 12,
   "id": "varied-square",
   "metadata": {},
   "outputs": [
    {
     "data": {
      "text/plain": [
       "1352.2867031797243"
      ]
     },
     "execution_count": 12,
     "metadata": {},
     "output_type": "execute_result"
    }
   ],
   "source": [
    "np.median(x.var().values)  # 方差中位数"
   ]
  },
  {
   "cell_type": "code",
   "execution_count": 13,
   "id": "expanded-strain",
   "metadata": {},
   "outputs": [
    {
     "data": {
      "text/plain": [
       "(42000, 392)"
      ]
     },
     "execution_count": 13,
     "metadata": {},
     "output_type": "execute_result"
    }
   ],
   "source": [
    "x_fsvar=VarianceThreshold(np.median(x.var().values)).fit_transform(x)  #把中位数作为参数，算法会把特征的方差小于我们设定的阈值的特征全部删除\n",
    "x_fsvar.shape"
   ]
  },
  {
   "attachments": {
    "b66ab215-4990-4f47-82da-6c4a3411d36b.png": {
     "image/png": "[encoded data removed]"
    }
   },
   "cell_type": "markdown",
   "id": "presidential-northeast",
   "metadata": {},
   "source": [
    "当特征是二分类时，特征的取值就是伯努利随机变量，这些变量的方差可以计算为：   \n",
    "![image.png](attachment:b66ab215-4990-4f47-82da-6c4a3411d36b.png)  \n",
    "其中X是特征矩阵，p是二分类特征中的一类在这个特征中所占的概率。"
   ]
  },
  {
   "cell_type": "code",
   "execution_count": 14,
   "id": "lightweight-science",
   "metadata": {},
   "outputs": [
    {
     "data": {
      "text/plain": [
       "(42000, 685)"
      ]
     },
     "execution_count": 14,
     "metadata": {},
     "output_type": "execute_result"
    }
   ],
   "source": [
    "\n",
    "#若特征是伯努利随机变量，假设p=0.8，即二分类特征中某种分类占到80%以上的时候删除特征\n",
    "X_bvar = VarianceThreshold(.8 * (1 - .8)).fit_transform(x)\n",
    "X_bvar.shape\n",
    "# 也就是计算每个特征中，如果某一个分类占比达到80%以上，就删除这一个特征\n"
   ]
  },
  {
   "cell_type": "markdown",
   "id": "brazilian-incident",
   "metadata": {},
   "source": [
    "### 1.1 方差过滤对模型的影响"
   ]
  },
  {
   "cell_type": "markdown",
   "id": "unnecessary-retailer",
   "metadata": {},
   "source": [
    "我们这样做了以后，对模型效果会有怎样的影响呢？了KNN和随机森林分别在方差过滤前和方差过滤后运行的效果和运行时间的对比。KNN是K近邻算法中的分类算法，其原理非常简单，是利用每个样本到其他样本点的距离来判断每个样本点的相似度，然后对样本进行分类。KNN必须遍历每个特征和每个样本，因而特征越多，KNN的计算也就会越缓慢\n"
   ]
  },
  {
   "cell_type": "code",
   "execution_count": 15,
   "id": "electrical-hobby",
   "metadata": {},
   "outputs": [
    {
     "data": {
      "text/plain": [
       "(42000, 392)"
      ]
     },
     "execution_count": 15,
     "metadata": {},
     "output_type": "execute_result"
    }
   ],
   "source": [
    "#KNN vs 随机森林在不同方差过滤效果下的对比\n",
    "from sklearn.ensemble import RandomForestClassifier as RFC\n",
    "from sklearn.neighbors import KNeighborsClassifier as KNN\n",
    "from sklearn.model_selection import cross_val_score\n",
    "import numpy as np\n",
    " \n",
    "# 获取数据，方差过滤前的数据进行训练\n",
    "x=data.iloc[:,1:]\n",
    "x.shape\n",
    "# 一共42000行数据，784个特征\n",
    " \n",
    "# 获取标签\n",
    "# y是标签\n",
    "y=data.iloc[:,0]\n",
    "y.shape\n",
    "# 进行特征选择，以数据集方差的中位数作为阈值\n",
    "x_fsvar=VarianceThreshold(np.median(x.var().values)).fit_transform(x)\n",
    "x_fsvar.shape\n",
    "# 作为方差过滤后的数据进行训练计算\n",
    "# 经过中位数阈值的特征选择之后，剩下392个可选的特征\n"
   ]
  },
  {
   "cell_type": "markdown",
   "id": "transsexual-seeking",
   "metadata": {},
   "source": [
    "我们从模块neighbors导入KNeighborsClassfier缩写为KNN，导入随机森林缩写为RFC，然后导入交叉验证模块和numpy。其中未过滤的数据是X和y，使用中位数过滤后的数据是X_fsvar。"
   ]
  },
  {
   "cell_type": "code",
   "execution_count": null,
   "id": "automatic-fundamental",
   "metadata": {},
   "outputs": [],
   "source": [
    "#======【TIME WARNING：35mins】======#\n",
    "cross_val_score(KNN(),X,y,cv=5).mean()  \n",
    "\n",
    "#======【TIME WARNING：4 hours】======#\n",
    "\n",
    "# python中的魔法命令，会返回这一个单元所有代码运行完毕使用的时间\n",
    "#为了计算所需的时间，需要将这个cell中的代码运行很多次（通常是7次）后求平均值，因此运行%%timeit的时间会\n",
    "#远远超过cell中的代码单独运行的时间\n",
    "%%timeit\n",
    "cross_val_score(KNN(),X,y,cv=5).mean()  "
   ]
  },
  {
   "cell_type": "code",
   "execution_count": null,
   "id": "correct-stereo",
   "metadata": {},
   "outputs": [],
   "source": [
    "cross_val_score(KNN(),X,y,cv=5).mean()  \n",
    ">>> 0.9658569........"
   ]
  },
  {
   "cell_type": "code",
   "execution_count": null,
   "id": "rocky-pharmacology",
   "metadata": {},
   "outputs": [],
   "source": [
    "%%timeit\n",
    "cross_val_score(KNN(),X,y,cv=5).mean()  \n",
    ">>> 33min 58s ......."
   ]
  },
  {
   "cell_type": "markdown",
   "id": "baking-document",
   "metadata": {},
   "source": [
    "### 1.2 KNN方差过滤后"
   ]
  },
  {
   "cell_type": "code",
   "execution_count": null,
   "id": "powerful-innocent",
   "metadata": {},
   "outputs": [],
   "source": [
    "cross_val_score(KNN(),x_fsvar,y,cv=5).mean()\n",
    ">>> 0.965999...."
   ]
  },
  {
   "cell_type": "code",
   "execution_count": null,
   "id": "twelve-shirt",
   "metadata": {},
   "outputs": [],
   "source": [
    "可以看出,对于KNN,过滤后的效果10分明显:准确率稍有提升,但平均运行时间减少了10分钟,特征选择后算法效率上升了1/3,那随机森林又如何?"
   ]
  },
  {
   "cell_type": "markdown",
   "id": "certain-brake",
   "metadata": {},
   "source": [
    "### 1.3 随机森林方差过滤前"
   ]
  },
  {
   "cell_type": "code",
   "execution_count": null,
   "id": "respiratory-search",
   "metadata": {},
   "outputs": [],
   "source": [
    "cross_val_score(RFC(n_estimators=10,random_state=0),x,y,cv=10).mean()\n",
    ">>>0.938000386....."
   ]
  },
  {
   "cell_type": "code",
   "execution_count": null,
   "id": "emerging-benjamin",
   "metadata": {},
   "outputs": [],
   "source": [
    "%%timeit\n",
    "cross_val_score(RFC(n_estimators=10,random_state=0),x,y,cv=10).mean()\n",
    ">>> 11.5s ...."
   ]
  },
  {
   "cell_type": "markdown",
   "id": "detected-pharmacology",
   "metadata": {},
   "source": [
    "### 1.4 随机森林方差过滤后"
   ]
  },
  {
   "cell_type": "code",
   "execution_count": null,
   "id": "matched-worth",
   "metadata": {},
   "outputs": [],
   "source": [
    "cross_val_score(RFC(n_estimators=10,random_state=0),x_fsvar,y,cv=10).mean()\n",
    ">>> 0.93880...."
   ]
  },
  {
   "cell_type": "code",
   "execution_count": null,
   "id": "front-index",
   "metadata": {},
   "outputs": [],
   "source": [
    "%%timeit\n",
    "cross_val_score(RFC(n_estimators=10,random_state=0),x,y,cv=10).mean()\n",
    ">>> 11.1s ...."
   ]
  },
  {
   "cell_type": "markdown",
   "id": "significant-period",
   "metadata": {},
   "source": [
    "首先可以观察到的是，随机森林的准确率略逊于KNN，但运行时间却连KNN的1%都不到，只需要十几秒钟。其次，方差过滤后，随机森林的准确率也微弱上升，但运行时间却几乎是没什么变化，依然是11秒钟。"
   ]
  },
  {
   "cell_type": "markdown",
   "id": "chicken-terrorist",
   "metadata": {},
   "source": [
    "**为什么随机森林运行如此之快？为什么方差过滤对随机森林没很大的有影响？**  \n",
    "这是由于两种算法的原理中涉及到的计算量不同。最近邻算法KNN，单棵决策树，支持向量机SVM，神经网络，回归算法，都需要遍历特征或升维来进行运算，所以他们本身的运算量就很大，需要的时间就很长，因此方差过滤这样的特征选择对他们来说就尤为重要。**但对于不需要遍历特征的算法，比如随机森林，它随机选取特征进行分枝，本身运算就非常快速，因此特征选择对它来说效果平平。** 这其实很容易理解，**无论过滤法如何降低特征的数量，随机森林也只会选取固定数量的特征来建模；** 而最近邻算法就不同了，特征越少，距离计算的维度就越少，模型明显会随着特征的减少变得轻量。因此，**过滤法的主要对象**是：**需要遍历特征或升维的算法们**，而**过滤法的主要目的是：在维持算法表现的前提下，帮助算法们降低计算成本。**\n"
   ]
  },
  {
   "cell_type": "markdown",
   "id": "gorgeous-metropolitan",
   "metadata": {},
   "source": [
    "---\n",
    "**思考:过滤法对随机森林无效，却对树模型有效？**\n",
    "\n",
    "从算法原理上来说，传统决策树需要遍历所有特征，计算不纯度后进行分枝，而随机森林却是随机选择特征进行计算和分枝，因此随机森林的运算更快，过滤法对随机森林无用，对决策树却有用,\n",
    "\n",
    "在sklearn中，决策树和随机森林都是随机选择特征进行分枝（不记得的小伙伴可以去复习第一章：决策树，参数random_state），但决策树在建模过程中随机抽取的特征数目却远远超过随机森林当中每棵树随机抽取的特征数目（比如说对于这个780维的数据，随机森林每棵树只会抽取10~20个特征，而决策树可能会抽取300~400个特征），因此，过滤法对随机森林无用，却对决策树有用\n",
    "\n",
    "也因此，在sklearn中，随机森林中的每棵树都比单独的一棵决策树简单得多，高维数据下的随机森林的计算比决策树快很多。\n",
    "\n",
    "---"
   ]
  },
  {
   "attachments": {
    "97a4e8d8-287e-44e1-8baf-9e37cef2c559.png": {
     "image/png": "[encoded data removed]"
    }
   },
   "cell_type": "markdown",
   "id": "liked-ozone",
   "metadata": {},
   "source": [
    "对受影响的算法来说，我们可以将方差过滤的影响总结如下：   \n",
    "\n",
    "![image.png](attachment:97a4e8d8-287e-44e1-8baf-9e37cef2c559.png)"
   ]
  },
  {
   "cell_type": "markdown",
   "id": "ranking-burton",
   "metadata": {},
   "source": [
    "在我们的对比当中，我们使用的方差阈值是特征方差的中位数，因此属于阈值比较大，过滤掉的特征比较多的情况。我们可以观察到，无论是KNN还是随机森林，在过滤掉一半特征之后，模型的精确度都上升了。这说明被我们过滤掉的特征在当前随机模式(random_state = 0)下大部分是噪音。那我们就可以保留这个去掉了一半特征的数据，来为之后的特征选择做准备。当然，如果过滤之后模型的效果反而变差了，我们就可以认为，被我们过滤掉的特征中有很多都有有效特征，那我们就放弃过滤，使用其他手段来进行特征选择。\n"
   ]
  },
  {
   "cell_type": "markdown",
   "id": "acute-bidder",
   "metadata": {},
   "source": [
    "---\n",
    "\n",
    "思考: 虽然随机森林算的快,但KNN的效果比随机森林更好?    \n",
    "    调整一下n_estimator试试看,随机森林很强大"
   ]
  },
  {
   "cell_type": "markdown",
   "id": "supposed-score",
   "metadata": {},
   "source": [
    "### **选取超参数threshold**  "
   ]
  },
  {
   "cell_type": "markdown",
   "id": "personalized-action",
   "metadata": {},
   "source": [
    "**我们怎样知道，方差过滤掉的到底时噪音还是有效特征呢？过滤后模型到底会变好还是会变坏呢？**  \n",
    "答案是：每个数据集不一样，只能自己去尝试。这里的方差阈值，其实相当于是一个超参数，要选定最优的超参数，我们可以画学习曲线，找模型效果最好的点。**但现实中，我们往往不会这样去做，因为这样会耗费大量的时间。我们只会使用阈值为0或者阈值很小的方差过滤，来为我们优先消除一些明显用不到的特征，然后我们会选择更优的特征选择方法继续削减特征数量。**\n"
   ]
  },
  {
   "cell_type": "markdown",
   "id": "useful-merchandise",
   "metadata": {},
   "source": [
    "### 2.相关性过滤"
   ]
  },
  {
   "cell_type": "markdown",
   "id": "wanted-virginia",
   "metadata": {},
   "source": [
    "方差挑选完毕之后，我们就要考虑下一个问题：相关性了。我们希望选出与标签相关且有意义的特征，因为这样的特征能够为我们提供大量信息。如果特征与标签无关，那只会白白浪费我们的计算内存，可能还会给模型带来噪音。在sklearn当中，我们有三种常用的方法来评判特征与标签之间的相关性：卡方，F检验，互信息。\n"
   ]
  },
  {
   "cell_type": "markdown",
   "id": "vocational-cable",
   "metadata": {},
   "source": [
    "### 2.1 卡方过滤"
   ]
  },
  {
   "cell_type": "markdown",
   "id": "smooth-string",
   "metadata": {},
   "source": [
    "卡方过滤是专门针对离散型标签（即分类问题）的相关性过滤。卡方检验类feature_selection.chi2计算每个非负特征和标签之间的卡方统计量，并依照卡方统计量由高到低为特征排名。再结合feature_selection.SelectKBest这个可以输入”评分标准“来选出前K个分数最高的特征的类，我们可以借此除去最可能独立于标签，与我们分类目的无关的特征\n",
    "\n",
    "另外，如果卡方检验检测到某个特征中所有的值都相同，会提示我们使用方差先进行方差过滤。并且，刚才我们已经验证过，当我们使用方差过滤筛选掉一半的特征后，模型的表现时提升的。因此在这里，我们使用threshold=中位数时完成的方差过滤的数据来做卡方检验（如果方差过滤后模型的表现反而降低了，那我们就不会使用方差过滤后的数据，而是使用原数据）：\n"
   ]
  },
  {
   "cell_type": "code",
   "execution_count": 21,
   "id": "catholic-distribution",
   "metadata": {},
   "outputs": [
    {
     "data": {
      "text/plain": [
       "(42000, 785)"
      ]
     },
     "execution_count": 21,
     "metadata": {},
     "output_type": "execute_result"
    }
   ],
   "source": [
    "# 使用手写数字数据集\n",
    "from sklearn.ensemble import RandomForestClassifier as RFC\n",
    "from sklearn.model_selection  import cross_val_score\n",
    "from sklearn.feature_selection import SelectKBest # 选取分数最高的特征的\n",
    "from sklearn.feature_selection import chi2 # 卡方检验的类\n",
    "from sklearn.feature_selection import VarianceThreshold\n",
    " \n",
    "# 卡方过滤\n",
    "# 特征选择\n",
    "import pandas as pd\n",
    "data=pd.read_csv(r\"C:\\workspace\\Data\\digit recognizor.csv\")\n",
    "data.shape"
   ]
  },
  {
   "cell_type": "code",
   "execution_count": 22,
   "id": "blocked-narrow",
   "metadata": {},
   "outputs": [
    {
     "data": {
      "text/plain": [
       "(42000, 392)"
      ]
     },
     "execution_count": 22,
     "metadata": {},
     "output_type": "execute_result"
    }
   ],
   "source": [
    "import numpy as np\n",
    "x=data.iloc[:,1:]\n",
    "y=data.iloc[:,0]\n",
    "# 进行特征选择，以数据集方差的中位数作为阈值\n",
    "x_fsvar=VarianceThreshold(np.median(x.var().values)).fit_transform(x)\n",
    "x_fsvar.shape"
   ]
  },
  {
   "cell_type": "code",
   "execution_count": 6,
   "id": "thousand-italian",
   "metadata": {},
   "outputs": [
    {
     "data": {
      "text/plain": [
       "(42000, 300)"
      ]
     },
     "execution_count": 6,
     "metadata": {},
     "output_type": "execute_result"
    }
   ],
   "source": [
    "# 第一个参数表示用什么分布检验，比如卡方分布，F检验，第二个参数标示选取前多少个复合条件的特征\n",
    "# k标示选取前k个卡方分布最好的特征\n",
    "# 第二个参数也就是k的取值，也就是选取多少个最优的特征\n",
    "x_fschi=SelectKBest(chi2,k=300).fit_transform(x_fsvar,y)\n",
    "x_fschi.shape"
   ]
  },
  {
   "cell_type": "code",
   "execution_count": 7,
   "id": "aggregate-roulette",
   "metadata": {},
   "outputs": [
    {
     "data": {
      "text/plain": [
       "0.9365"
      ]
     },
     "execution_count": 7,
     "metadata": {},
     "output_type": "execute_result"
    }
   ],
   "source": [
    "cross_val_score(RFC(n_estimators=10,random_state=0),x_fschi,y,cv=10).mean()"
   ]
  },
  {
   "cell_type": "markdown",
   "id": "wireless-herald",
   "metadata": {},
   "source": [
    "可以看出，模型的效果降低了，这说明我们在设定k=300的时候删除了与模型相关且有效的特征，我们的K值设置得太小，要么我们需要调整K值，要么我们必须放弃相关性过滤。当然，如果模型的表现提升，则说明我们的相关性过滤是有效的，是过滤掉了模型的噪音的，这时候我们就保留相关性过滤的结果。"
   ]
  },
  {
   "cell_type": "markdown",
   "id": "every-horizontal",
   "metadata": {},
   "source": [
    "**选取超参数K**   \n",
    "那如何设置一个最佳的K值呢？在现实数据中，数据量很大，模型很复杂的时候，我们也许不能先去跑一遍模型看看效果，而是希望最开始就能够选择一个最优的超参数k。那第一个方法，就是我们之前提过的学习曲线："
   ]
  },
  {
   "cell_type": "code",
   "execution_count": 10,
   "id": "romantic-jumping",
   "metadata": {},
   "outputs": [
    {
     "data": {
      "image/png": "[encoded data removed]",
      "text/plain": [
       "<Figure size 432x288 with 1 Axes>"
      ]
     },
     "metadata": {
      "needs_background": "light"
     },
     "output_type": "display_data"
    }
   ],
   "source": [
    "# 对于k值的选取，哦们使用学习曲线进行选取\n",
    "import matplotlib.pyplot as plt\n",
    "scores=[]\n",
    "for i in range(390,300,-10):\n",
    "    x_fschi=SelectKBest(chi2,k=i).fit_transform(x_fsvar,y)\n",
    "    score=cross_val_score(RFC(n_estimators=10,random_state=0),x_fschi,y,cv=10).mean()\n",
    "    scores.append(score)\n",
    "plt.plot(range(390,300,-10),scores)\n",
    "plt.show()\n"
   ]
  },
  {
   "cell_type": "markdown",
   "id": "southeast-arizona",
   "metadata": {},
   "source": [
    "通过这条曲线，我们可以观察到，随着K值的不断增加，模型的表现不断上升，这说明，K越大越好，数据中所有的特征都是与标签相关的。但是运行这条曲线的时间同样也是非常地长，接下来我们就来介绍一种更好的选择k的方法：看p值选择k。"
   ]
  },
  {
   "cell_type": "markdown",
   "id": "immune-conditioning",
   "metadata": {},
   "source": [
    "卡方检验的本质是推测两组数据之间的差异，其检验的原假设是”两组数据是相互独立的”。卡方检验返回卡方值和P值两个统计量，其中卡方值很难界定有效的范围，而p值，我们一般使用0.01或0.05作为显著性水平，即p值判断的边界，具体我们可以这样来看："
   ]
  },
  {
   "attachments": {
    "b2ac083e-335c-4b3d-9f8b-2da2d5ba8fc9.png": {
     "image/png": "[encoded data removed]"
    }
   },
   "cell_type": "markdown",
   "id": "individual-subcommittee",
   "metadata": {},
   "source": [
    "![image.png](attachment:b2ac083e-335c-4b3d-9f8b-2da2d5ba8fc9.png)"
   ]
  },
  {
   "cell_type": "markdown",
   "id": "early-cameroon",
   "metadata": {},
   "source": [
    "**从特征工程的角度，我们希望选取卡方值很大，p值小于0.05的特征，即和标签是相关联的特征。** 而调用SelectKBest之前，我们可以直接从chi2实例化后的模型中获得各个特征所对应的卡方值和P值。"
   ]
  },
  {
   "cell_type": "code",
   "execution_count": 18,
   "id": "illegal-poster",
   "metadata": {
    "tags": []
   },
   "outputs": [
    {
     "data": {
      "text/plain": [
       "array([0., 0., 0., 0., 0., 0., 0., 0., 0., 0., 0., 0., 0., 0., 0., 0., 0.,\n",
       "       0., 0., 0., 0., 0., 0., 0., 0., 0., 0., 0., 0., 0., 0., 0., 0., 0.,\n",
       "       0., 0., 0., 0., 0., 0., 0., 0., 0., 0., 0., 0., 0., 0., 0., 0., 0.,\n",
       "       0., 0., 0., 0., 0., 0., 0., 0., 0., 0., 0., 0., 0., 0., 0., 0., 0.,\n",
       "       0., 0., 0., 0., 0., 0., 0., 0., 0., 0., 0., 0., 0., 0., 0., 0., 0.,\n",
       "       0., 0., 0., 0., 0., 0., 0., 0., 0., 0., 0., 0., 0., 0., 0., 0., 0.,\n",
       "       0., 0., 0., 0., 0., 0., 0., 0., 0., 0., 0., 0., 0., 0., 0., 0., 0.,\n",
       "       0., 0., 0., 0., 0., 0., 0., 0., 0., 0., 0., 0., 0., 0., 0., 0., 0.,\n",
       "       0., 0., 0., 0., 0., 0., 0., 0., 0., 0., 0., 0., 0., 0., 0., 0., 0.,\n",
       "       0., 0., 0., 0., 0., 0., 0., 0., 0., 0., 0., 0., 0., 0., 0., 0., 0.,\n",
       "       0., 0., 0., 0., 0., 0., 0., 0., 0., 0., 0., 0., 0., 0., 0., 0., 0.,\n",
       "       0., 0., 0., 0., 0., 0., 0., 0., 0., 0., 0., 0., 0., 0., 0., 0., 0.,\n",
       "       0., 0., 0., 0., 0., 0., 0., 0., 0., 0., 0., 0., 0., 0., 0., 0., 0.,\n",
       "       0., 0., 0., 0., 0., 0., 0., 0., 0., 0., 0., 0., 0., 0., 0., 0., 0.,\n",
       "       0., 0., 0., 0., 0., 0., 0., 0., 0., 0., 0., 0., 0., 0., 0., 0., 0.,\n",
       "       0., 0., 0., 0., 0., 0., 0., 0., 0., 0., 0., 0., 0., 0., 0., 0., 0.,\n",
       "       0., 0., 0., 0., 0., 0., 0., 0., 0., 0., 0., 0., 0., 0., 0., 0., 0.,\n",
       "       0., 0., 0., 0., 0., 0., 0., 0., 0., 0., 0., 0., 0., 0., 0., 0., 0.,\n",
       "       0., 0., 0., 0., 0., 0., 0., 0., 0., 0., 0., 0., 0., 0., 0., 0., 0.,\n",
       "       0., 0., 0., 0., 0., 0., 0., 0., 0., 0., 0., 0., 0., 0., 0., 0., 0.,\n",
       "       0., 0., 0., 0., 0., 0., 0., 0., 0., 0., 0., 0., 0., 0., 0., 0., 0.,\n",
       "       0., 0., 0., 0., 0., 0., 0., 0., 0., 0., 0., 0., 0., 0., 0., 0., 0.,\n",
       "       0., 0., 0., 0., 0., 0., 0., 0., 0., 0., 0., 0., 0., 0., 0., 0., 0.,\n",
       "       0.])"
      ]
     },
     "execution_count": 18,
     "metadata": {},
     "output_type": "execute_result"
    }
   ],
   "source": [
    "# 第二种方法选择k\n",
    "# 看p值选择k值\n",
    "# 返回第一个值是卡方值，第二个值是p值\n",
    "chivalue,pvalues_chi=chi2(x_fsvar,y)\n",
    "pvalues_chi"
   ]
  },
  {
   "cell_type": "code",
   "execution_count": 19,
   "id": "defensive-climate",
   "metadata": {},
   "outputs": [
    {
     "data": {
      "text/plain": [
       "0"
      ]
     },
     "execution_count": 19,
     "metadata": {},
     "output_type": "execute_result"
    }
   ],
   "source": [
    "# 我们发现所有特征的p值都小于0.05，所以所有的特征都是和标签相关的\n",
    "# 所以我们拒绝原假设，接受备择假设\n",
    "# 既然这些特征都是和标签相关，那么我们砍掉的特征越多，模型预测也就越不准确\n",
    "# 也就是说这些特征对标签有贡献，对模型有影响\n",
    "# 所以说我们拒绝原假设，也就是消除p值大于0.05的那些特征\n",
    " # 使用bool索引查看我们想要删除的特征的个数\n",
    "(pvalues_chi>0.05).sum()\n",
    "# 结果是0，因为所有的特征对应的p值都是小于0.05的"
   ]
  },
  {
   "cell_type": "code",
   "execution_count": 20,
   "id": "developmental-capability",
   "metadata": {},
   "outputs": [
    {
     "data": {
      "text/plain": [
       "392"
      ]
     },
     "execution_count": 20,
     "metadata": {},
     "output_type": "execute_result"
    }
   ],
   "source": [
    " \n",
    "# 在用所有特征的总数-要删除的特征的数量，就是k值，也就是需要的特征个数\n",
    "k=chivalue.shape[0]-(pvalues_chi>0.05).sum()\n",
    "k"
   ]
  },
  {
   "cell_type": "code",
   "execution_count": null,
   "id": "english-seller",
   "metadata": {},
   "outputs": [],
   "source": []
  },
  {
   "cell_type": "markdown",
   "id": "adopted-pioneer",
   "metadata": {},
   "source": [
    "可以观察到，所有特征的p值都是0，这说明对于digit recognizor这个数据集来说，方差验证已经把所有和标签无关的特征都剔除了，或这个数据集本身就不含与标签无关的特征。在这种情况下，舍弃任何一个特征，都会舍弃对模型有用的信息，而使模型表现下降，因此在我们对计算速度感到满意时，我们不需要使用相关性过滤来过滤我们的数据。如果我们认为运算速度太缓慢，那我们可以酌情删除一些特征，但前提是，我们必须牺牲模型的表现。接下来，我们试试看用其他的相关性过滤方法验证一下我们在这个数据集上的结论。\n"
   ]
  },
  {
   "cell_type": "markdown",
   "id": "unavailable-gibson",
   "metadata": {},
   "source": [
    "### 2.2 F检验"
   ]
  },
  {
   "cell_type": "markdown",
   "id": "alien-regular",
   "metadata": {},
   "source": [
    "F检验，又称ANOVA，方差齐性检验，是用来捕捉每个特征与标签之间的线性关系的过滤方法。它即可以做回归也可以做分类，因此包含feature_selection.f_classif（F检验分类）和feature_selection.f_regression（F检验回归）两个类。其中F检验分类用于标签是离散型变量的数据，而F检验回归用于标签是连续型变量的数据。\n",
    "\n",
    "和卡方检验一样，这两个类需要和类SelectKBest连用，并且我们也可以直接通过输出的统计量来判断我们到底要设置一个什么样的K。需要注意的是，F检验在数据服从正态分布时效果会非常稳定，因此如果使用F检验过滤，我们会先将数据转换成服从正态分布的方式。\n",
    "\n",
    "F检验的本质是寻找两组数据之间的线性关系，其原假设是”数据不存在显著的线性关系“。它返回F值和p值两个统计量。和卡方过滤一样，**我们希望选取p值小于0.05或0.01的特征，这些特征与标签时显著线性相关的**，而p值大于0.05或0.01的特征则被我们认为是和标签没有显著线性关系的特征，应该被删除。以F检验的分类为例，我们继续在数字数据集上来进行特征选择：\n"
   ]
  },
  {
   "cell_type": "code",
   "execution_count": 23,
   "id": "exotic-telephone",
   "metadata": {
    "collapsed": true,
    "jupyter": {
     "outputs_hidden": true
    },
    "tags": []
   },
   "outputs": [
    {
     "data": {
      "text/plain": [
       "array([0.00000000e+000, 0.00000000e+000, 0.00000000e+000, 0.00000000e+000,\n",
       "       0.00000000e+000, 0.00000000e+000, 0.00000000e+000, 0.00000000e+000,\n",
       "       0.00000000e+000, 0.00000000e+000, 0.00000000e+000, 0.00000000e+000,\n",
       "       0.00000000e+000, 0.00000000e+000, 0.00000000e+000, 0.00000000e+000,\n",
       "       0.00000000e+000, 0.00000000e+000, 0.00000000e+000, 4.71193533e-220,\n",
       "       0.00000000e+000, 0.00000000e+000, 0.00000000e+000, 0.00000000e+000,\n",
       "       0.00000000e+000, 0.00000000e+000, 0.00000000e+000, 0.00000000e+000,\n",
       "       0.00000000e+000, 0.00000000e+000, 0.00000000e+000, 0.00000000e+000,\n",
       "       0.00000000e+000, 0.00000000e+000, 0.00000000e+000, 0.00000000e+000,\n",
       "       0.00000000e+000, 0.00000000e+000, 0.00000000e+000, 0.00000000e+000,\n",
       "       0.00000000e+000, 0.00000000e+000, 0.00000000e+000, 0.00000000e+000,\n",
       "       0.00000000e+000, 0.00000000e+000, 0.00000000e+000, 0.00000000e+000,\n",
       "       0.00000000e+000, 0.00000000e+000, 0.00000000e+000, 0.00000000e+000,\n",
       "       0.00000000e+000, 0.00000000e+000, 0.00000000e+000, 0.00000000e+000,\n",
       "       0.00000000e+000, 0.00000000e+000, 0.00000000e+000, 0.00000000e+000,\n",
       "       0.00000000e+000, 0.00000000e+000, 0.00000000e+000, 0.00000000e+000,\n",
       "       0.00000000e+000, 0.00000000e+000, 0.00000000e+000, 0.00000000e+000,\n",
       "       0.00000000e+000, 0.00000000e+000, 0.00000000e+000, 0.00000000e+000,\n",
       "       0.00000000e+000, 0.00000000e+000, 0.00000000e+000, 0.00000000e+000,\n",
       "       0.00000000e+000, 0.00000000e+000, 0.00000000e+000, 0.00000000e+000,\n",
       "       0.00000000e+000, 0.00000000e+000, 0.00000000e+000, 0.00000000e+000,\n",
       "       0.00000000e+000, 0.00000000e+000, 0.00000000e+000, 0.00000000e+000,\n",
       "       0.00000000e+000, 0.00000000e+000, 0.00000000e+000, 0.00000000e+000,\n",
       "       0.00000000e+000, 0.00000000e+000, 0.00000000e+000, 0.00000000e+000,\n",
       "       0.00000000e+000, 0.00000000e+000, 0.00000000e+000, 0.00000000e+000,\n",
       "       0.00000000e+000, 0.00000000e+000, 0.00000000e+000, 0.00000000e+000,\n",
       "       0.00000000e+000, 0.00000000e+000, 0.00000000e+000, 0.00000000e+000,\n",
       "       0.00000000e+000, 0.00000000e+000, 0.00000000e+000, 0.00000000e+000,\n",
       "       0.00000000e+000, 0.00000000e+000, 0.00000000e+000, 0.00000000e+000,\n",
       "       0.00000000e+000, 0.00000000e+000, 0.00000000e+000, 0.00000000e+000,\n",
       "       0.00000000e+000, 0.00000000e+000, 0.00000000e+000, 0.00000000e+000,\n",
       "       0.00000000e+000, 0.00000000e+000, 0.00000000e+000, 0.00000000e+000,\n",
       "       0.00000000e+000, 0.00000000e+000, 0.00000000e+000, 0.00000000e+000,\n",
       "       0.00000000e+000, 0.00000000e+000, 0.00000000e+000, 0.00000000e+000,\n",
       "       0.00000000e+000, 0.00000000e+000, 0.00000000e+000, 0.00000000e+000,\n",
       "       0.00000000e+000, 0.00000000e+000, 0.00000000e+000, 0.00000000e+000,\n",
       "       0.00000000e+000, 0.00000000e+000, 0.00000000e+000, 0.00000000e+000,\n",
       "       0.00000000e+000, 0.00000000e+000, 0.00000000e+000, 0.00000000e+000,\n",
       "       0.00000000e+000, 0.00000000e+000, 0.00000000e+000, 0.00000000e+000,\n",
       "       0.00000000e+000, 0.00000000e+000, 0.00000000e+000, 0.00000000e+000,\n",
       "       0.00000000e+000, 0.00000000e+000, 0.00000000e+000, 0.00000000e+000,\n",
       "       0.00000000e+000, 0.00000000e+000, 0.00000000e+000, 0.00000000e+000,\n",
       "       0.00000000e+000, 0.00000000e+000, 0.00000000e+000, 0.00000000e+000,\n",
       "       0.00000000e+000, 0.00000000e+000, 0.00000000e+000, 0.00000000e+000,\n",
       "       0.00000000e+000, 0.00000000e+000, 0.00000000e+000, 0.00000000e+000,\n",
       "       0.00000000e+000, 0.00000000e+000, 0.00000000e+000, 0.00000000e+000,\n",
       "       0.00000000e+000, 0.00000000e+000, 0.00000000e+000, 0.00000000e+000,\n",
       "       0.00000000e+000, 0.00000000e+000, 0.00000000e+000, 0.00000000e+000,\n",
       "       0.00000000e+000, 0.00000000e+000, 0.00000000e+000, 0.00000000e+000,\n",
       "       0.00000000e+000, 0.00000000e+000, 0.00000000e+000, 0.00000000e+000,\n",
       "       0.00000000e+000, 0.00000000e+000, 0.00000000e+000, 0.00000000e+000,\n",
       "       0.00000000e+000, 0.00000000e+000, 0.00000000e+000, 0.00000000e+000,\n",
       "       0.00000000e+000, 0.00000000e+000, 0.00000000e+000, 0.00000000e+000,\n",
       "       0.00000000e+000, 0.00000000e+000, 0.00000000e+000, 0.00000000e+000,\n",
       "       0.00000000e+000, 0.00000000e+000, 0.00000000e+000, 0.00000000e+000,\n",
       "       0.00000000e+000, 0.00000000e+000, 0.00000000e+000, 0.00000000e+000,\n",
       "       0.00000000e+000, 0.00000000e+000, 0.00000000e+000, 0.00000000e+000,\n",
       "       0.00000000e+000, 0.00000000e+000, 0.00000000e+000, 0.00000000e+000,\n",
       "       0.00000000e+000, 0.00000000e+000, 0.00000000e+000, 0.00000000e+000,\n",
       "       0.00000000e+000, 0.00000000e+000, 0.00000000e+000, 0.00000000e+000,\n",
       "       0.00000000e+000, 0.00000000e+000, 0.00000000e+000, 0.00000000e+000,\n",
       "       0.00000000e+000, 0.00000000e+000, 0.00000000e+000, 0.00000000e+000,\n",
       "       0.00000000e+000, 0.00000000e+000, 0.00000000e+000, 0.00000000e+000,\n",
       "       0.00000000e+000, 0.00000000e+000, 0.00000000e+000, 0.00000000e+000,\n",
       "       0.00000000e+000, 0.00000000e+000, 0.00000000e+000, 0.00000000e+000,\n",
       "       0.00000000e+000, 0.00000000e+000, 0.00000000e+000, 0.00000000e+000,\n",
       "       0.00000000e+000, 0.00000000e+000, 0.00000000e+000, 0.00000000e+000,\n",
       "       0.00000000e+000, 0.00000000e+000, 0.00000000e+000, 0.00000000e+000,\n",
       "       0.00000000e+000, 0.00000000e+000, 0.00000000e+000, 0.00000000e+000,\n",
       "       0.00000000e+000, 0.00000000e+000, 0.00000000e+000, 0.00000000e+000,\n",
       "       0.00000000e+000, 0.00000000e+000, 0.00000000e+000, 0.00000000e+000,\n",
       "       0.00000000e+000, 0.00000000e+000, 0.00000000e+000, 0.00000000e+000,\n",
       "       0.00000000e+000, 0.00000000e+000, 0.00000000e+000, 0.00000000e+000,\n",
       "       0.00000000e+000, 0.00000000e+000, 0.00000000e+000, 0.00000000e+000,\n",
       "       0.00000000e+000, 0.00000000e+000, 0.00000000e+000, 0.00000000e+000,\n",
       "       0.00000000e+000, 0.00000000e+000, 0.00000000e+000, 0.00000000e+000,\n",
       "       0.00000000e+000, 0.00000000e+000, 0.00000000e+000, 0.00000000e+000,\n",
       "       0.00000000e+000, 0.00000000e+000, 0.00000000e+000, 0.00000000e+000,\n",
       "       0.00000000e+000, 0.00000000e+000, 0.00000000e+000, 0.00000000e+000,\n",
       "       0.00000000e+000, 0.00000000e+000, 0.00000000e+000, 0.00000000e+000,\n",
       "       0.00000000e+000, 0.00000000e+000, 0.00000000e+000, 0.00000000e+000,\n",
       "       0.00000000e+000, 0.00000000e+000, 0.00000000e+000, 0.00000000e+000,\n",
       "       0.00000000e+000, 0.00000000e+000, 0.00000000e+000, 0.00000000e+000,\n",
       "       0.00000000e+000, 0.00000000e+000, 0.00000000e+000, 0.00000000e+000,\n",
       "       0.00000000e+000, 0.00000000e+000, 0.00000000e+000, 0.00000000e+000,\n",
       "       0.00000000e+000, 0.00000000e+000, 0.00000000e+000, 0.00000000e+000,\n",
       "       0.00000000e+000, 0.00000000e+000, 0.00000000e+000, 0.00000000e+000,\n",
       "       0.00000000e+000, 0.00000000e+000, 0.00000000e+000, 0.00000000e+000,\n",
       "       0.00000000e+000, 0.00000000e+000, 0.00000000e+000, 0.00000000e+000,\n",
       "       0.00000000e+000, 0.00000000e+000, 0.00000000e+000, 0.00000000e+000,\n",
       "       0.00000000e+000, 0.00000000e+000, 0.00000000e+000, 0.00000000e+000,\n",
       "       0.00000000e+000, 0.00000000e+000, 0.00000000e+000, 0.00000000e+000,\n",
       "       3.26083326e-322, 5.24336441e-231, 4.04009647e-300, 0.00000000e+000,\n",
       "       0.00000000e+000, 0.00000000e+000, 0.00000000e+000, 0.00000000e+000,\n",
       "       0.00000000e+000, 0.00000000e+000, 0.00000000e+000, 0.00000000e+000,\n",
       "       0.00000000e+000, 0.00000000e+000, 0.00000000e+000, 0.00000000e+000,\n",
       "       0.00000000e+000, 0.00000000e+000, 0.00000000e+000, 0.00000000e+000,\n",
       "       0.00000000e+000, 0.00000000e+000, 0.00000000e+000, 0.00000000e+000])"
      ]
     },
     "execution_count": 23,
     "metadata": {},
     "output_type": "execute_result"
    }
   ],
   "source": [
    "# 现在使用F检验进行过滤\n",
    "from sklearn.feature_selection import f_classif\n",
    "# 返回F值和p值两个统计量\n",
    "F,p_value=f_classif(x_fsvar,y)\n",
    "p_value"
   ]
  },
  {
   "cell_type": "code",
   "execution_count": 24,
   "id": "alien-assignment",
   "metadata": {},
   "outputs": [
    {
     "data": {
      "text/plain": [
       "392"
      ]
     },
     "execution_count": 24,
     "metadata": {},
     "output_type": "execute_result"
    }
   ],
   "source": [
    "# 求k值\n",
    "k=F.shape[0]-(p_value>0.05).sum()\n",
    "k"
   ]
  },
  {
   "cell_type": "code",
   "execution_count": null,
   "id": "human-indication",
   "metadata": {},
   "outputs": [],
   "source": [
    "#X_fsF = SelectKBest(f_classif, k=填写具体的k).fit_transform(X_fsvar, y)\n",
    "#cross_val_score(RFC(n_estimators=10,random_state=0),X_fsF,y,cv=5).mean()"
   ]
  },
  {
   "cell_type": "markdown",
   "id": "possible-enough",
   "metadata": {},
   "source": [
    "得到的结论和我们用卡方过滤得到的结论一模一样：没有任何特征的p值大于0.01，所有的特征都是和标签相关的，因此我们不需要相关性过滤。"
   ]
  },
  {
   "cell_type": "markdown",
   "id": "successful-watts",
   "metadata": {},
   "source": [
    "### 2.3互信息法"
   ]
  },
  {
   "cell_type": "markdown",
   "id": "athletic-darkness",
   "metadata": {},
   "source": [
    "互信息法是用来捕捉每个特征与标签之间的任意关系（包括线性和非线性关系）的过滤方法。和F检验相似，它既可以做回归也可以做分类，并且包含两个类feature_selection.mutual_info_classif（互信息分类）和feature_selection.mutual_info_regression（互信息回归）。这两个类的用法和参数都和F检验一模一样，不过互信息法比F检验更加强大，F检验只能够找出线性关系，而互信息法可以找出任意关系。\n",
    "\n",
    "互信息法不返回p值或F值类似的统计量，它返回“每个特征与目标之间的互信息量的估计”，这个估计量在[0,1]之间取值，为0则表示两个变量独立，为1则表示两个变量完全相关。以互信息分类为例的代码如下：\n"
   ]
  },
  {
   "cell_type": "code",
   "execution_count": 26,
   "id": "fundamental-footwear",
   "metadata": {
    "collapsed": true,
    "jupyter": {
     "outputs_hidden": true
    },
    "tags": []
   },
   "outputs": [
    {
     "data": {
      "text/plain": [
       "array([0.06576654, 0.08864472, 0.09898476, 0.12098034, 0.11750337,\n",
       "       0.11036748, 0.08701953, 0.05136248, 0.07166478, 0.0898152 ,\n",
       "       0.1171905 , 0.14324797, 0.15675255, 0.16837974, 0.15717899,\n",
       "       0.12572025, 0.09364078, 0.06380713, 0.04412869, 0.02107945,\n",
       "       0.06630943, 0.09824551, 0.12857334, 0.14808569, 0.1759405 ,\n",
       "       0.20533822, 0.22931375, 0.22653974, 0.21918644, 0.18633171,\n",
       "       0.14003932, 0.09755263, 0.07736035, 0.05502264, 0.04371544,\n",
       "       0.03656433, 0.05910801, 0.07606754, 0.1121291 , 0.12125299,\n",
       "       0.13215719, 0.15349053, 0.16335813, 0.18383126, 0.18230759,\n",
       "       0.17243478, 0.15479704, 0.13107037, 0.10952538, 0.09572819,\n",
       "       0.08556987, 0.06490203, 0.06984431, 0.04943456, 0.06415981,\n",
       "       0.07728194, 0.0899184 , 0.09384653, 0.10773031, 0.11048432,\n",
       "       0.10729434, 0.11215599, 0.11886293, 0.12139425, 0.10668753,\n",
       "       0.10907822, 0.11622109, 0.11002742, 0.09643662, 0.08032686,\n",
       "       0.07045743, 0.04441063, 0.05725265, 0.06488894, 0.0761211 ,\n",
       "       0.09348669, 0.12152951, 0.15072438, 0.1380225 , 0.12308647,\n",
       "       0.10583363, 0.11556752, 0.11185689, 0.11392493, 0.12898536,\n",
       "       0.13635688, 0.12526627, 0.09905688, 0.08387105, 0.07188871,\n",
       "       0.04361861, 0.06085112, 0.06919717, 0.09774278, 0.14190438,\n",
       "       0.18755767, 0.20112444, 0.1571332 , 0.10843335, 0.09566807,\n",
       "       0.12592343, 0.12454031, 0.13058614, 0.14714043, 0.15410142,\n",
       "       0.14151136, 0.12304518, 0.09075695, 0.05923897, 0.04047892,\n",
       "       0.05549999, 0.07568245, 0.12148381, 0.1797961 , 0.2109322 ,\n",
       "       0.19274023, 0.12196329, 0.07163237, 0.11297615, 0.15056395,\n",
       "       0.11900956, 0.14163569, 0.15528216, 0.15453866, 0.14850799,\n",
       "       0.13076109, 0.11106421, 0.0717666 , 0.03000683, 0.05644767,\n",
       "       0.09550743, 0.16418344, 0.20938575, 0.21357485, 0.18115133,\n",
       "       0.12023938, 0.11322042, 0.1829331 , 0.1889271 , 0.1274772 ,\n",
       "       0.14672166, 0.18280831, 0.15215672, 0.13696642, 0.1381054 ,\n",
       "       0.12362158, 0.08388601, 0.03139969, 0.07128958, 0.1206093 ,\n",
       "       0.19059377, 0.2209802 , 0.22027472, 0.19500201, 0.16534295,\n",
       "       0.19603824, 0.25229986, 0.22158213, 0.13862839, 0.17845881,\n",
       "       0.18393855, 0.1354544 , 0.13072113, 0.14866632, 0.14001636,\n",
       "       0.10075449, 0.04490425, 0.09833872, 0.15226191, 0.2113324 ,\n",
       "       0.2230123 , 0.21705309, 0.20174472, 0.19787429, 0.25043883,\n",
       "       0.28799622, 0.21139811, 0.17609491, 0.22358182, 0.17484017,\n",
       "       0.1167438 , 0.11697345, 0.15467399, 0.14245356, 0.09996618,\n",
       "       0.06249112, 0.11639294, 0.1807485 , 0.21899214, 0.22035302,\n",
       "       0.19149984, 0.17622638, 0.182902  , 0.24388353, 0.28157133,\n",
       "       0.20058988, 0.21508254, 0.25568907, 0.18436791, 0.11790388,\n",
       "       0.13635281, 0.1563145 , 0.14513075, 0.09896279, 0.07138044,\n",
       "       0.1301107 , 0.19875506, 0.22671415, 0.22035301, 0.19226416,\n",
       "       0.16954777, 0.1918921 , 0.24930649, 0.26848928, 0.19909717,\n",
       "       0.22792892, 0.23444521, 0.16543989, 0.13395492, 0.15118594,\n",
       "       0.16210469, 0.1302758 , 0.08444022, 0.08103018, 0.1386486 ,\n",
       "       0.18918891, 0.21067686, 0.19473973, 0.18257595, 0.18127763,\n",
       "       0.21702048, 0.26800385, 0.25218451, 0.18579623, 0.21191731,\n",
       "       0.18460661, 0.1322022 , 0.15154089, 0.17420736, 0.1480352 ,\n",
       "       0.11220895, 0.07420102, 0.09129368, 0.13690687, 0.18241049,\n",
       "       0.1914536 , 0.18811538, 0.19208477, 0.19362358, 0.21440073,\n",
       "       0.2510937 , 0.20435914, 0.15831171, 0.15471405, 0.12940709,\n",
       "       0.12542119, 0.16842992, 0.1778608 , 0.1402957 , 0.09901631,\n",
       "       0.05772869, 0.04196302, 0.0988733 , 0.15293707, 0.18669361,\n",
       "       0.18706323, 0.19462006, 0.20775901, 0.21266086, 0.19549731,\n",
       "       0.19583528, 0.13863241, 0.10394621, 0.10098452, 0.10805692,\n",
       "       0.15515392, 0.19755189, 0.17352277, 0.13259076, 0.0873264 ,\n",
       "       0.05479211, 0.04817137, 0.10385835, 0.15570201, 0.20132888,\n",
       "       0.21498914, 0.22214778, 0.21913541, 0.20282891, 0.17592877,\n",
       "       0.14583631, 0.09369799, 0.07853165, 0.09038767, 0.14151619,\n",
       "       0.18045688, 0.18745494, 0.1487261 , 0.10866518, 0.08428706,\n",
       "       0.05823866, 0.05301294, 0.09958375, 0.16415805, 0.2163654 ,\n",
       "       0.23775696, 0.23564186, 0.21497466, 0.17852734, 0.14315829,\n",
       "       0.10344804, 0.06742333, 0.06451427, 0.10180396, 0.14692179,\n",
       "       0.16041405, 0.14313894, 0.11168341, 0.08626698, 0.06128964,\n",
       "       0.09025433, 0.14739575, 0.20238297, 0.23171533, 0.23152873,\n",
       "       0.1942013 , 0.13504498, 0.09298997, 0.07823841, 0.07144061,\n",
       "       0.08450759, 0.10641834, 0.12020391, 0.11554872, 0.0967221 ,\n",
       "       0.08300015, 0.0598667 , 0.04057545, 0.05957758, 0.10945688,\n",
       "       0.14787143, 0.18593711, 0.19320428, 0.18886474, 0.16166583,\n",
       "       0.13700621, 0.1246133 , 0.11085066, 0.10681609, 0.09842307,\n",
       "       0.08325212, 0.07156508, 0.05641616, 0.04010614, 0.03608247,\n",
       "       0.05783334, 0.07975682, 0.10493385, 0.12934845, 0.1551319 ,\n",
       "       0.1809066 , 0.18392143, 0.18516856, 0.15493592, 0.12101936,\n",
       "       0.09482405, 0.07577009, 0.04984824, 0.03889777, 0.01952329,\n",
       "       0.02701925, 0.04280564, 0.0639415 , 0.083948  , 0.10508353,\n",
       "       0.12007824, 0.12635758, 0.1042593 , 0.09251524, 0.08113497,\n",
       "       0.0560945 , 0.0428712 , 0.02644695, 0.05903401, 0.09217696,\n",
       "       0.10800518, 0.11345461, 0.11079528, 0.10510175, 0.08453129,\n",
       "       0.06951405, 0.06049668])"
      ]
     },
     "execution_count": 26,
     "metadata": {},
     "output_type": "execute_result"
    }
   ],
   "source": [
    "# 使用互信息法进行过滤\n",
    "from sklearn.feature_selection import mutual_info_classif as MIC\n",
    "# 返回的结果是两列数据互信息量的估计，也就是两列信息相关性的估计\n",
    "result=MIC(x_fsvar,y)\n",
    "result\n",
    "# 一共有350个数据，也就是说明把每一个特征和标签y之间的互信息都计算出来，判断\n",
    "# 每一个特征和标签之间的相关性\n",
    " "
   ]
  },
  {
   "cell_type": "code",
   "execution_count": 27,
   "id": "patent-creek",
   "metadata": {},
   "outputs": [
    {
     "data": {
      "text/plain": [
       "392"
      ]
     },
     "execution_count": 27,
     "metadata": {},
     "output_type": "execute_result"
    }
   ],
   "source": [
    "k=result.shape[0]-(result <= 0).sum()\n",
    "k"
   ]
  },
  {
   "cell_type": "markdown",
   "id": "interior-boulder",
   "metadata": {},
   "source": [
    "所有特征的互信息量估计都大于0，因此所有特征都与标签相关。\n",
    "\n",
    "当然了，无论是F检验还是互信息法，大家也都可以使用学习曲线，只是使用统计量的方法会更加高效。当统计量判断已经没有特征可以删除时，无论用学习曲线如何跑，删除特征都只会降低模型的表现。当然了，如果数据量太庞大，模型太复杂，我们还是可以牺牲模型表现来提升模型速度，一切都看大家的具体需求。\n"
   ]
  },
  {
   "cell_type": "markdown",
   "id": "satellite-affair",
   "metadata": {},
   "source": [
    "### **过滤法总结**"
   ]
  },
  {
   "cell_type": "markdown",
   "id": "heavy-switch",
   "metadata": {},
   "source": [
    "到这里我们学习了常用的基于过滤法的特征选择，包括方差过滤，基于卡方，F检验和互信息的相关性过滤，讲解了各个过滤的原理和面临的问题，以及怎样调这些过滤类的超参数。通常来说，我会建议，**先使用方差过滤，然后使用互信息法来捕捉相关性**，不过了解各种各样的过滤方式也是必要的。"
   ]
  },
  {
   "attachments": {
    "b9b3d6a3-f5b4-4250-9a12-b56ee1747d47.png": {
     "image/png": "[encoded data removed]"
    }
   },
   "cell_type": "markdown",
   "id": "coordinated-concord",
   "metadata": {},
   "source": [
    "![image.png](attachment:b9b3d6a3-f5b4-4250-9a12-b56ee1747d47.png)"
   ]
  },
  {
   "cell_type": "code",
   "execution_count": null,
   "id": "cooked-account",
   "metadata": {},
   "outputs": [],
   "source": []
  }
 ],
 "metadata": {
  "kernelspec": {
   "display_name": "Python 3",
   "language": "python",
   "name": "python3"
  },
  "language_info": {
   "codemirror_mode": {
    "name": "ipython",
    "version": 3
   },
   "file_extension": ".py",
   "mimetype": "text/x-python",
   "name": "python",
   "nbconvert_exporter": "python",
   "pygments_lexer": "ipython3",
   "version": "3.7.6"
  }
 },
 "nbformat": 4,
 "nbformat_minor": 5
}
