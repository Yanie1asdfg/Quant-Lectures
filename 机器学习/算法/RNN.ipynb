{
 "cells": [
  {
   "cell_type": "markdown",
   "metadata": {},
   "source": [
    "# **RNN-循环神经网络**"
   ]
  },
  {
   "cell_type": "markdown",
   "metadata": {},
   "source": [
    "序列模型的有效使用例子："
   ]
  },
  {
   "cell_type": "markdown",
   "metadata": {},
   "source": [
    "* 语音识别：给定一个输入语音片段X，要求输出片段对应文字记录Y，X，Y都是序列数据\n",
    "* DNA序列分析：\n",
    "* 视频实体识别：给定一系列视频帧要求识别其中的物体\n",
    "\n",
    "对于股票，输入：各类信号参数，输出：对应好收益的参数值？"
   ]
  },
  {
   "cell_type": "markdown",
   "metadata": {},
   "source": []
  }
 ],
 "metadata": {
  "kernelspec": {
   "display_name": "Python 3",
   "language": "python",
   "name": "python3"
  },
  "language_info": {
   "codemirror_mode": {
    "name": "ipython",
    "version": 3
   },
   "file_extension": ".py",
   "mimetype": "text/x-python",
   "name": "python",
   "nbconvert_exporter": "python",
   "pygments_lexer": "ipython3",
   "version": "3.7.6"
  }
 },
 "nbformat": 4,
 "nbformat_minor": 4
}
