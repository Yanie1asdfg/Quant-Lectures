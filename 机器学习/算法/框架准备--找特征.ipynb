{
 "cells": [
  {
   "cell_type": "markdown",
   "id": "atomic-candidate",
   "metadata": {},
   "source": [
    "1.乖离率  \n",
    "G60   (close-60均线)/60均线    \n",
    "G40   (close-40均线)/40均线   \n",
    "G90   (close-90均线)/90均线   \n",
    "G105  (close-105均线)/105均线   "
   ]
  },
  {
   "cell_type": "code",
   "execution_count": null,
   "id": "amateur-junior",
   "metadata": {},
   "outputs": [],
   "source": [
    "2.macd\n"
   ]
  }
 ],
 "metadata": {
  "kernelspec": {
   "display_name": "Python 3",
   "language": "python",
   "name": "python3"
  },
  "language_info": {
   "codemirror_mode": {
    "name": "ipython",
    "version": 3
   },
   "file_extension": ".py",
   "mimetype": "text/x-python",
   "name": "python",
   "nbconvert_exporter": "python",
   "pygments_lexer": "ipython3",
   "version": "3.7.6"
  }
 },
 "nbformat": 4,
 "nbformat_minor": 5
}
