{
 "cells": [
  {
   "cell_type": "markdown",
   "id": "preliminary-material",
   "metadata": {},
   "source": [
    "层数不建议选太多，一开始尝试的时候可以选一些很少的层数。  \n",
    "或者读经典论文时，有一些很经典的网络，把经典的网络直接拿过来用，  \n",
    "看别人训练出来的网络有几层，每一层有几个神经元，自己按照这种经验来训练  \n",
    "**到现在为止，没有一个成熟的理论告诉我们应该如何选取多少层数和每一层多少个神经元，  \n",
    "可以自己去尝试，尝试一个自己做的问题来说，相对满意的模型   \n",
    "但是也不建议把Loss弄的太小，有时候保留一点Loss是好的，防止过拟合**   \n",
    "因为有些是噪音产生的数据，没必要把其全部拟合进去，粗糙一点，效果会更好"
   ]
  },
  {
   "cell_type": "code",
   "execution_count": null,
   "id": "acknowledged-plasma",
   "metadata": {},
   "outputs": [],
   "source": []
  }
 ],
 "metadata": {
  "kernelspec": {
   "display_name": "Python 3",
   "language": "python",
   "name": "python3"
  },
  "language_info": {
   "codemirror_mode": {
    "name": "ipython",
    "version": 3
   },
   "file_extension": ".py",
   "mimetype": "text/x-python",
   "name": "python",
   "nbconvert_exporter": "python",
   "pygments_lexer": "ipython3",
   "version": "3.7.6"
  }
 },
 "nbformat": 4,
 "nbformat_minor": 5
}
