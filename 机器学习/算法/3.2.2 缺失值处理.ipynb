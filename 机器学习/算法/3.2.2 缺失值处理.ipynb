{
 "cells": [
  {
   "cell_type": "markdown",
   "id": "confused-consolidation",
   "metadata": {},
   "source": [
    "# **处理缺失值**"
   ]
  },
  {
   "cell_type": "markdown",
   "id": "short-beauty",
   "metadata": {},
   "source": [
    "**机器学习和数据挖掘中所使用的数据，永远不可能是完美的。** 很多特征，对于分析和建模来说意义非凡，但对于实际收集数据的人却不是如此，因此数据挖掘之中，常常会有重要的字段缺失值很多，但又不能舍弃字段的情况。因此，数据预处理中非常重要的一项就是**处理缺失值。**"
   ]
  },
  {
   "cell_type": "markdown",
   "id": "monetary-constitutional",
   "metadata": {},
   "source": [
    "-----\n",
    "我们采用从泰坦尼克号提取出来的数据，这个数据有三个特征，如下：\n",
    "\n",
    "* Age 数值型    \n",
    "* Sex 字符型   \n",
    "* Embarked 字符型   "
   ]
  },
  {
   "attachments": {
    "253af24f-190e-4790-b8c7-483ea7fa595c.png": {
     "image/png": "[encoded data removed]"
    }
   },
   "cell_type": "markdown",
   "id": "angry-termination",
   "metadata": {},
   "source": [
    "![image.png](attachment:253af24f-190e-4790-b8c7-483ea7fa595c.png)"
   ]
  },
  {
   "cell_type": "code",
   "execution_count": 4,
   "id": "spread-gather",
   "metadata": {},
   "outputs": [
    {
     "data": {
      "text/html": [
       "<div>\n",
       "<style scoped>\n",
       "    .dataframe tbody tr th:only-of-type {\n",
       "        vertical-align: middle;\n",
       "    }\n",
       "\n",
       "    .dataframe tbody tr th {\n",
       "        vertical-align: top;\n",
       "    }\n",
       "\n",
       "    .dataframe thead th {\n",
       "        text-align: right;\n",
       "    }\n",
       "</style>\n",
       "<table border=\"1\" class=\"dataframe\">\n",
       "  <thead>\n",
       "    <tr style=\"text-align: right;\">\n",
       "      <th></th>\n",
       "      <th>Age</th>\n",
       "      <th>Sex</th>\n",
       "      <th>Embarked</th>\n",
       "      <th>Survived</th>\n",
       "    </tr>\n",
       "  </thead>\n",
       "  <tbody>\n",
       "    <tr>\n",
       "      <th>0</th>\n",
       "      <td>22.0</td>\n",
       "      <td>male</td>\n",
       "      <td>S</td>\n",
       "      <td>0</td>\n",
       "    </tr>\n",
       "    <tr>\n",
       "      <th>1</th>\n",
       "      <td>38.0</td>\n",
       "      <td>female</td>\n",
       "      <td>C</td>\n",
       "      <td>1</td>\n",
       "    </tr>\n",
       "    <tr>\n",
       "      <th>2</th>\n",
       "      <td>26.0</td>\n",
       "      <td>female</td>\n",
       "      <td>S</td>\n",
       "      <td>1</td>\n",
       "    </tr>\n",
       "    <tr>\n",
       "      <th>3</th>\n",
       "      <td>35.0</td>\n",
       "      <td>female</td>\n",
       "      <td>S</td>\n",
       "      <td>1</td>\n",
       "    </tr>\n",
       "    <tr>\n",
       "      <th>4</th>\n",
       "      <td>35.0</td>\n",
       "      <td>male</td>\n",
       "      <td>S</td>\n",
       "      <td>0</td>\n",
       "    </tr>\n",
       "  </tbody>\n",
       "</table>\n",
       "</div>"
      ],
      "text/plain": [
       "    Age     Sex Embarked  Survived\n",
       "0  22.0    male        S         0\n",
       "1  38.0  female        C         1\n",
       "2  26.0  female        S         1\n",
       "3  35.0  female        S         1\n",
       "4  35.0    male        S         0"
      ]
     },
     "execution_count": 4,
     "metadata": {},
     "output_type": "execute_result"
    }
   ],
   "source": [
    "import pandas as pd\n",
    "data = pd.read_csv(\"train.csv\",index_col=0)\n",
    "data = data[['Age','Sex','Embarked','Survived']]\n",
    "data.reset_index(drop=True,inplace=True)\n",
    "data.head()"
   ]
  },
  {
   "cell_type": "code",
   "execution_count": 5,
   "id": "hazardous-attendance",
   "metadata": {},
   "outputs": [
    {
     "name": "stdout",
     "output_type": "stream",
     "text": [
      "<class 'pandas.core.frame.DataFrame'>\n",
      "RangeIndex: 891 entries, 0 to 890\n",
      "Data columns (total 4 columns):\n",
      " #   Column    Non-Null Count  Dtype  \n",
      "---  ------    --------------  -----  \n",
      " 0   Age       714 non-null    float64\n",
      " 1   Sex       891 non-null    object \n",
      " 2   Embarked  889 non-null    object \n",
      " 3   Survived  891 non-null    int64  \n",
      "dtypes: float64(1), int64(1), object(2)\n",
      "memory usage: 28.0+ KB\n"
     ]
    }
   ],
   "source": [
    "data.info()"
   ]
  },
  {
   "cell_type": "markdown",
   "id": "demonstrated-lloyd",
   "metadata": {},
   "source": [
    "### **缺失值填补 impute.SimpleImputer**"
   ]
  },
  {
   "cell_type": "code",
   "execution_count": null,
   "id": "positive-today",
   "metadata": {},
   "outputs": [],
   "source": [
    "class sklearn.impute.SimpleImputer (\n",
    "                                    missing_values=nan, \n",
    "                                    strategy='mean', \n",
    "                                    fill_value=None, \n",
    "                                    verbose=0,\n",
    "                                    copy=True\n",
    "                                    )"
   ]
  },
  {
   "cell_type": "markdown",
   "id": "palestinian-inclusion",
   "metadata": {},
   "source": [
    "这个类是专门用来填补缺失值的。它包括四个重要参数：\n",
    "\n",
    "* missing_values    \n",
    "告诉SimpleImputer，数据中的缺失值长什么样，默认空值np.nan\n",
    "\n",
    "* strategy      \n",
    "我们填补缺失值的策略，默认均值    \n",
    "输入\"mean\"使用均值填补（仅对数值型特征可用）   \n",
    "输入\"median\"用中值填补（仅对数值型特征可用）    \n",
    "输入\"most_frequent\"用众数填补（对数值型和字符型特征都可用）   \n",
    "输入\"constant\"表示请参考参数\"fill_value\"中的值（对数值型和字符型特征都可用）      \n",
    "\n",
    "* fill_value     \n",
    "当参数startegy为\"constant\"的时候可用，可输入字符串或数字表示要填充的值，常用0  \n",
    "\n",
    "* copy\n",
    "默认为True，将创建特征矩阵的副本，反之则会将缺失值填补到原本的特征矩阵中去\n"
   ]
  },
  {
   "cell_type": "code",
   "execution_count": 8,
   "id": "naughty-operations",
   "metadata": {},
   "outputs": [
    {
     "data": {
      "text/plain": [
       "array([[22.],\n",
       "       [38.],\n",
       "       [26.],\n",
       "       [35.],\n",
       "       [35.]])"
      ]
     },
     "execution_count": 8,
     "metadata": {},
     "output_type": "execute_result"
    }
   ],
   "source": [
    "Age = data.loc[:,\"Age\"].values.reshape(-1,1) #sklearn当中特征矩阵必须是二维\n",
    "Age[:5]"
   ]
  },
  {
   "cell_type": "code",
   "execution_count": 9,
   "id": "opening-roots",
   "metadata": {},
   "outputs": [],
   "source": [
    "#填补年龄, 分别用均值、中位数、0填补\n",
    "from sklearn.impute import SimpleImputer\n",
    "imp_mean = SimpleImputer() #实例化,默认均值填补\n",
    "imp_median = SimpleImputer(strategy=\"median\") #用中位数填补\n",
    "imp_0 = SimpleImputer(strategy=\"constant\",fill_value=0) #用0填补"
   ]
  },
  {
   "cell_type": "code",
   "execution_count": 10,
   "id": "harmful-glance",
   "metadata": {},
   "outputs": [],
   "source": [
    "#fit_transform一步完成调取结果\n",
    "imp_mean = imp_mean.fit_transform(Age) #均值填补\n",
    "imp_median = imp_median.fit_transform(Age) #中值填补\n",
    "imp_0 = imp_0.fit_transform(Age) # 使用0填补"
   ]
  },
  {
   "cell_type": "code",
   "execution_count": 11,
   "id": "intimate-practitioner",
   "metadata": {},
   "outputs": [
    {
     "data": {
      "text/plain": [
       "array([[22.        ],\n",
       "       [38.        ],\n",
       "       [26.        ],\n",
       "       [35.        ],\n",
       "       [35.        ],\n",
       "       [29.69911765],\n",
       "       [54.        ],\n",
       "       [ 2.        ],\n",
       "       [27.        ],\n",
       "       [14.        ],\n",
       "       [ 4.        ],\n",
       "       [58.        ],\n",
       "       [20.        ],\n",
       "       [39.        ],\n",
       "       [14.        ],\n",
       "       [55.        ],\n",
       "       [ 2.        ],\n",
       "       [29.69911765],\n",
       "       [31.        ],\n",
       "       [29.69911765]])"
      ]
     },
     "execution_count": 11,
     "metadata": {},
     "output_type": "execute_result"
    }
   ],
   "source": [
    "imp_mean[:20] # 查看用均值填补后的前20条数据"
   ]
  },
  {
   "cell_type": "code",
   "execution_count": 13,
   "id": "configured-watts",
   "metadata": {},
   "outputs": [
    {
     "data": {
      "text/plain": [
       "array([[22.],\n",
       "       [38.],\n",
       "       [26.],\n",
       "       [35.],\n",
       "       [35.],\n",
       "       [28.],\n",
       "       [54.],\n",
       "       [ 2.],\n",
       "       [27.],\n",
       "       [14.],\n",
       "       [ 4.],\n",
       "       [58.],\n",
       "       [20.],\n",
       "       [39.],\n",
       "       [14.],\n",
       "       [55.],\n",
       "       [ 2.],\n",
       "       [28.],\n",
       "       [31.],\n",
       "       [28.]])"
      ]
     },
     "execution_count": 13,
     "metadata": {},
     "output_type": "execute_result"
    }
   ],
   "source": [
    "imp_median[:20] # 查看用中值填补后的前20条数据"
   ]
  },
  {
   "cell_type": "code",
   "execution_count": 14,
   "id": "legal-institute",
   "metadata": {},
   "outputs": [
    {
     "data": {
      "text/plain": [
       "array([[22.],\n",
       "       [38.],\n",
       "       [26.],\n",
       "       [35.],\n",
       "       [35.],\n",
       "       [ 0.],\n",
       "       [54.],\n",
       "       [ 2.],\n",
       "       [27.],\n",
       "       [14.],\n",
       "       [ 4.],\n",
       "       [58.],\n",
       "       [20.],\n",
       "       [39.],\n",
       "       [14.],\n",
       "       [55.],\n",
       "       [ 2.],\n",
       "       [ 0.],\n",
       "       [31.],\n",
       "       [ 0.]])"
      ]
     },
     "execution_count": 14,
     "metadata": {},
     "output_type": "execute_result"
    }
   ],
   "source": [
    "imp_0[:20] # 查看用0填补后的前20条数据"
   ]
  },
  {
   "cell_type": "code",
   "execution_count": 15,
   "id": "oriental-macro",
   "metadata": {},
   "outputs": [
    {
     "name": "stdout",
     "output_type": "stream",
     "text": [
      "<class 'pandas.core.frame.DataFrame'>\n",
      "RangeIndex: 891 entries, 0 to 890\n",
      "Data columns (total 4 columns):\n",
      " #   Column    Non-Null Count  Dtype  \n",
      "---  ------    --------------  -----  \n",
      " 0   Age       891 non-null    float64\n",
      " 1   Sex       891 non-null    object \n",
      " 2   Embarked  889 non-null    object \n",
      " 3   Survived  891 non-null    int64  \n",
      "dtypes: float64(1), int64(1), object(2)\n",
      "memory usage: 28.0+ KB\n"
     ]
    }
   ],
   "source": [
    "data.loc[:,'Age'] = imp_median\n",
    "data.info()"
   ]
  },
  {
   "cell_type": "markdown",
   "id": "preceding-royalty",
   "metadata": {},
   "source": [
    "用众数填补Embarked："
   ]
  },
  {
   "cell_type": "code",
   "execution_count": 16,
   "id": "surface-coordinate",
   "metadata": {},
   "outputs": [],
   "source": [
    "#使用众数填补Embarked\n",
    "Embarked = data.loc[:,\"Embarked\"].values.reshape(-1,1)\n",
    "imp_mode = SimpleImputer(strategy = \"most_frequent\")\n",
    "data.loc[:,\"Embarked\"] = imp_mode.fit_transform(Embarked)\n"
   ]
  },
  {
   "cell_type": "code",
   "execution_count": 17,
   "id": "willing-setup",
   "metadata": {},
   "outputs": [
    {
     "name": "stdout",
     "output_type": "stream",
     "text": [
      "<class 'pandas.core.frame.DataFrame'>\n",
      "RangeIndex: 891 entries, 0 to 890\n",
      "Data columns (total 4 columns):\n",
      " #   Column    Non-Null Count  Dtype  \n",
      "---  ------    --------------  -----  \n",
      " 0   Age       891 non-null    float64\n",
      " 1   Sex       891 non-null    object \n",
      " 2   Embarked  891 non-null    object \n",
      " 3   Survived  891 non-null    int64  \n",
      "dtypes: float64(1), int64(1), object(2)\n",
      "memory usage: 28.0+ KB\n"
     ]
    }
   ],
   "source": [
    "data.info()"
   ]
  },
  {
   "cell_type": "markdown",
   "id": "vulnerable-divorce",
   "metadata": {},
   "source": [
    "**用Pandas和Numpy进行填补其实更加简单**"
   ]
  },
  {
   "cell_type": "code",
   "execution_count": 18,
   "id": "driven-indianapolis",
   "metadata": {},
   "outputs": [
    {
     "data": {
      "text/html": [
       "<div>\n",
       "<style scoped>\n",
       "    .dataframe tbody tr th:only-of-type {\n",
       "        vertical-align: middle;\n",
       "    }\n",
       "\n",
       "    .dataframe tbody tr th {\n",
       "        vertical-align: top;\n",
       "    }\n",
       "\n",
       "    .dataframe thead th {\n",
       "        text-align: right;\n",
       "    }\n",
       "</style>\n",
       "<table border=\"1\" class=\"dataframe\">\n",
       "  <thead>\n",
       "    <tr style=\"text-align: right;\">\n",
       "      <th></th>\n",
       "      <th>Age</th>\n",
       "      <th>Sex</th>\n",
       "      <th>Embarked</th>\n",
       "      <th>Survived</th>\n",
       "    </tr>\n",
       "  </thead>\n",
       "  <tbody>\n",
       "    <tr>\n",
       "      <th>0</th>\n",
       "      <td>22.0</td>\n",
       "      <td>male</td>\n",
       "      <td>S</td>\n",
       "      <td>0</td>\n",
       "    </tr>\n",
       "    <tr>\n",
       "      <th>1</th>\n",
       "      <td>38.0</td>\n",
       "      <td>female</td>\n",
       "      <td>C</td>\n",
       "      <td>1</td>\n",
       "    </tr>\n",
       "    <tr>\n",
       "      <th>2</th>\n",
       "      <td>26.0</td>\n",
       "      <td>female</td>\n",
       "      <td>S</td>\n",
       "      <td>1</td>\n",
       "    </tr>\n",
       "    <tr>\n",
       "      <th>3</th>\n",
       "      <td>35.0</td>\n",
       "      <td>female</td>\n",
       "      <td>S</td>\n",
       "      <td>1</td>\n",
       "    </tr>\n",
       "    <tr>\n",
       "      <th>4</th>\n",
       "      <td>35.0</td>\n",
       "      <td>male</td>\n",
       "      <td>S</td>\n",
       "      <td>0</td>\n",
       "    </tr>\n",
       "  </tbody>\n",
       "</table>\n",
       "</div>"
      ],
      "text/plain": [
       "    Age     Sex Embarked  Survived\n",
       "0  22.0    male        S         0\n",
       "1  38.0  female        C         1\n",
       "2  26.0  female        S         1\n",
       "3  35.0  female        S         1\n",
       "4  35.0    male        S         0"
      ]
     },
     "execution_count": 18,
     "metadata": {},
     "output_type": "execute_result"
    }
   ],
   "source": [
    "import pandas as pd\n",
    "data = pd.read_csv(\"train.csv\",index_col=0)\n",
    "data = data[['Age','Sex','Embarked','Survived']]\n",
    "data.reset_index(drop=True,inplace=True)\n",
    "data.head()"
   ]
  },
  {
   "cell_type": "code",
   "execution_count": 19,
   "id": "express-scottish",
   "metadata": {},
   "outputs": [
    {
     "name": "stdout",
     "output_type": "stream",
     "text": [
      "<class 'pandas.core.frame.DataFrame'>\n",
      "Int64Index: 889 entries, 0 to 890\n",
      "Data columns (total 4 columns):\n",
      " #   Column    Non-Null Count  Dtype  \n",
      "---  ------    --------------  -----  \n",
      " 0   Age       889 non-null    float64\n",
      " 1   Sex       889 non-null    object \n",
      " 2   Embarked  889 non-null    object \n",
      " 3   Survived  889 non-null    int64  \n",
      "dtypes: float64(1), int64(1), object(2)\n",
      "memory usage: 34.7+ KB\n"
     ]
    }
   ],
   "source": [
    "data.loc[:,\"Age\"] = data.loc[:,\"Age\"].fillna(data.loc[:,\"Age\"].median())\n",
    "#.fillna 在DataFrame里面直接进行填补\n",
    "data.dropna(axis=0,inplace=True)\n",
    "#.dropna(axis=0)删除所有有缺失值的行，.dropna(axis=1)删除所有有缺失值的列\n",
    "data.info()"
   ]
  },
  {
   "cell_type": "code",
   "execution_count": null,
   "id": "reliable-inside",
   "metadata": {},
   "outputs": [],
   "source": []
  }
 ],
 "metadata": {
  "kernelspec": {
   "display_name": "Python 3",
   "language": "python",
   "name": "python3"
  },
  "language_info": {
   "codemirror_mode": {
    "name": "ipython",
    "version": 3
   },
   "file_extension": ".py",
   "mimetype": "text/x-python",
   "name": "python",
   "nbconvert_exporter": "python",
   "pygments_lexer": "ipython3",
   "version": "3.8.8"
  }
 },
 "nbformat": 4,
 "nbformat_minor": 5
}
