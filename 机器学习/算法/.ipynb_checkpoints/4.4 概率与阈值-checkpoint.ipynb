{
 "cells": [
  {
   "cell_type": "markdown",
   "id": "85f41e63-00e0-405f-9684-b5aa155ac148",
   "metadata": {},
   "source": [
    "### 概率(probability)与阈值(threshold)"
   ]
  },
  {
   "cell_type": "markdown",
   "id": "588dd0a8-6b8a-4a0c-9a0b-478ede83e02d",
   "metadata": {},
   "source": [
    "1. 自建数据集"
   ]
  },
  {
   "cell_type": "code",
   "execution_count": 20,
   "id": "7389db9c-be64-4ebe-987a-d1b0b37b560d",
   "metadata": {},
   "outputs": [],
   "source": [
    "import numpy as np\n",
    "import matplotlib.pyplot as plt\n",
    "from sklearn import svm\n",
    "from sklearn.datasets import make_blobs"
   ]
  },
  {
   "cell_type": "code",
   "execution_count": 21,
   "id": "f1b48474-484c-435a-8a16-fc5191412e04",
   "metadata": {},
   "outputs": [
    {
     "data": {
      "text/plain": [
       "<matplotlib.collections.PathCollection at 0x2601abe82c8>"
      ]
     },
     "execution_count": 21,
     "metadata": {},
     "output_type": "execute_result"
    },
    {
     "data": {
      "image/png": "[encoded data removed]",
      "text/plain": [
       "<Figure size 432x288 with 1 Axes>"
      ]
     },
     "metadata": {
      "needs_background": "light"
     },
     "output_type": "display_data"
    }
   ],
   "source": [
    "class_1_ = 7\n",
    "class_2_ = 4\n",
    "centers_ = [[0.0, 0.0], [1,1]]\n",
    "clusters_std = [0.5, 1]\n",
    "X_, y_ = make_blobs(n_samples=[class_1_, class_2_],\n",
    "                  centers=centers_,\n",
    "                  cluster_std=clusters_std,\n",
    "                  random_state=0, shuffle=False)\n",
    "plt.scatter(X_[:, 0], X_[:, 1], c=y_, cmap=\"rainbow\",s=30)"
   ]
  },
  {
   "cell_type": "markdown",
   "id": "6f8c1a59-b17d-4a97-9d5e-f013583b61a2",
   "metadata": {},
   "source": [
    "2. 建模，调用概率"
   ]
  },
  {
   "cell_type": "code",
   "execution_count": 22,
   "id": "1b603f80-4e60-4d82-b648-e3df5c843793",
   "metadata": {},
   "outputs": [
    {
     "data": {
      "text/plain": [
       "array([[0.69461879, 0.30538121],\n",
       "       [0.5109308 , 0.4890692 ],\n",
       "       [0.82003826, 0.17996174],\n",
       "       [0.78564706, 0.21435294],\n",
       "       [0.77738721, 0.22261279],\n",
       "       [0.65663421, 0.34336579],\n",
       "       [0.76858638, 0.23141362],\n",
       "       [0.34917129, 0.65082871],\n",
       "       [0.36618382, 0.63381618],\n",
       "       [0.66327186, 0.33672814],\n",
       "       [0.6075288 , 0.3924712 ]])"
      ]
     },
     "execution_count": 22,
     "metadata": {},
     "output_type": "execute_result"
    }
   ],
   "source": [
    "from sklearn.linear_model import LogisticRegression as LogiR\n",
    "clf_lo = LogiR().fit(X_,y_)\n",
    "prob = clf_lo.predict_proba(X_)\n",
    "prob"
   ]
  },
  {
   "cell_type": "code",
   "execution_count": 23,
   "id": "1481643f-6d77-49e6-9bb5-3c4f57c2d6ef",
   "metadata": {},
   "outputs": [
    {
     "data": {
      "text/html": [
       "<div>\n",
       "<style scoped>\n",
       "    .dataframe tbody tr th:only-of-type {\n",
       "        vertical-align: middle;\n",
       "    }\n",
       "\n",
       "    .dataframe tbody tr th {\n",
       "        vertical-align: top;\n",
       "    }\n",
       "\n",
       "    .dataframe thead th {\n",
       "        text-align: right;\n",
       "    }\n",
       "</style>\n",
       "<table border=\"1\" class=\"dataframe\">\n",
       "  <thead>\n",
       "    <tr style=\"text-align: right;\">\n",
       "      <th></th>\n",
       "      <th>0</th>\n",
       "      <th>1</th>\n",
       "    </tr>\n",
       "  </thead>\n",
       "  <tbody>\n",
       "    <tr>\n",
       "      <th>0</th>\n",
       "      <td>0.694619</td>\n",
       "      <td>0.305381</td>\n",
       "    </tr>\n",
       "    <tr>\n",
       "      <th>1</th>\n",
       "      <td>0.510931</td>\n",
       "      <td>0.489069</td>\n",
       "    </tr>\n",
       "    <tr>\n",
       "      <th>2</th>\n",
       "      <td>0.820038</td>\n",
       "      <td>0.179962</td>\n",
       "    </tr>\n",
       "    <tr>\n",
       "      <th>3</th>\n",
       "      <td>0.785647</td>\n",
       "      <td>0.214353</td>\n",
       "    </tr>\n",
       "    <tr>\n",
       "      <th>4</th>\n",
       "      <td>0.777387</td>\n",
       "      <td>0.222613</td>\n",
       "    </tr>\n",
       "    <tr>\n",
       "      <th>5</th>\n",
       "      <td>0.656634</td>\n",
       "      <td>0.343366</td>\n",
       "    </tr>\n",
       "    <tr>\n",
       "      <th>6</th>\n",
       "      <td>0.768586</td>\n",
       "      <td>0.231414</td>\n",
       "    </tr>\n",
       "    <tr>\n",
       "      <th>7</th>\n",
       "      <td>0.349171</td>\n",
       "      <td>0.650829</td>\n",
       "    </tr>\n",
       "    <tr>\n",
       "      <th>8</th>\n",
       "      <td>0.366184</td>\n",
       "      <td>0.633816</td>\n",
       "    </tr>\n",
       "    <tr>\n",
       "      <th>9</th>\n",
       "      <td>0.663272</td>\n",
       "      <td>0.336728</td>\n",
       "    </tr>\n",
       "    <tr>\n",
       "      <th>10</th>\n",
       "      <td>0.607529</td>\n",
       "      <td>0.392471</td>\n",
       "    </tr>\n",
       "  </tbody>\n",
       "</table>\n",
       "</div>"
      ],
      "text/plain": [
       "           0         1\n",
       "0   0.694619  0.305381\n",
       "1   0.510931  0.489069\n",
       "2   0.820038  0.179962\n",
       "3   0.785647  0.214353\n",
       "4   0.777387  0.222613\n",
       "5   0.656634  0.343366\n",
       "6   0.768586  0.231414\n",
       "7   0.349171  0.650829\n",
       "8   0.366184  0.633816\n",
       "9   0.663272  0.336728\n",
       "10  0.607529  0.392471"
      ]
     },
     "execution_count": 23,
     "metadata": {},
     "output_type": "execute_result"
    }
   ],
   "source": [
    "#将样本和概率放到一个DataFrame中\n",
    "import pandas as pd\n",
    "prob = pd.DataFrame(prob)\n",
    "prob.columns = [\"0\",\"1\"]\n",
    "prob"
   ]
  },
  {
   "cell_type": "markdown",
   "id": "a18673ed-cc00-45d9-b0e1-bd7b3329987a",
   "metadata": {},
   "source": [
    "3. 使用阈值0.5，大于0.5的样本被预测为1，小于0.5的样本被预测为0"
   ]
  },
  {
   "cell_type": "code",
   "execution_count": 24,
   "id": "9690c736-53bf-4bef-a529-1b7c4d53fb00",
   "metadata": {},
   "outputs": [
    {
     "data": {
      "text/html": [
       "<div>\n",
       "<style scoped>\n",
       "    .dataframe tbody tr th:only-of-type {\n",
       "        vertical-align: middle;\n",
       "    }\n",
       "\n",
       "    .dataframe tbody tr th {\n",
       "        vertical-align: top;\n",
       "    }\n",
       "\n",
       "    .dataframe thead th {\n",
       "        text-align: right;\n",
       "    }\n",
       "</style>\n",
       "<table border=\"1\" class=\"dataframe\">\n",
       "  <thead>\n",
       "    <tr style=\"text-align: right;\">\n",
       "      <th></th>\n",
       "      <th>0</th>\n",
       "      <th>1</th>\n",
       "      <th>pred</th>\n",
       "      <th>y_true</th>\n",
       "    </tr>\n",
       "  </thead>\n",
       "  <tbody>\n",
       "    <tr>\n",
       "      <th>7</th>\n",
       "      <td>0.349171</td>\n",
       "      <td>0.650829</td>\n",
       "      <td>1.0</td>\n",
       "      <td>1</td>\n",
       "    </tr>\n",
       "    <tr>\n",
       "      <th>8</th>\n",
       "      <td>0.366184</td>\n",
       "      <td>0.633816</td>\n",
       "      <td>1.0</td>\n",
       "      <td>1</td>\n",
       "    </tr>\n",
       "    <tr>\n",
       "      <th>1</th>\n",
       "      <td>0.510931</td>\n",
       "      <td>0.489069</td>\n",
       "      <td>0.0</td>\n",
       "      <td>0</td>\n",
       "    </tr>\n",
       "    <tr>\n",
       "      <th>10</th>\n",
       "      <td>0.607529</td>\n",
       "      <td>0.392471</td>\n",
       "      <td>0.0</td>\n",
       "      <td>1</td>\n",
       "    </tr>\n",
       "    <tr>\n",
       "      <th>5</th>\n",
       "      <td>0.656634</td>\n",
       "      <td>0.343366</td>\n",
       "      <td>0.0</td>\n",
       "      <td>0</td>\n",
       "    </tr>\n",
       "    <tr>\n",
       "      <th>9</th>\n",
       "      <td>0.663272</td>\n",
       "      <td>0.336728</td>\n",
       "      <td>0.0</td>\n",
       "      <td>1</td>\n",
       "    </tr>\n",
       "    <tr>\n",
       "      <th>0</th>\n",
       "      <td>0.694619</td>\n",
       "      <td>0.305381</td>\n",
       "      <td>0.0</td>\n",
       "      <td>0</td>\n",
       "    </tr>\n",
       "    <tr>\n",
       "      <th>6</th>\n",
       "      <td>0.768586</td>\n",
       "      <td>0.231414</td>\n",
       "      <td>0.0</td>\n",
       "      <td>0</td>\n",
       "    </tr>\n",
       "    <tr>\n",
       "      <th>4</th>\n",
       "      <td>0.777387</td>\n",
       "      <td>0.222613</td>\n",
       "      <td>0.0</td>\n",
       "      <td>0</td>\n",
       "    </tr>\n",
       "    <tr>\n",
       "      <th>3</th>\n",
       "      <td>0.785647</td>\n",
       "      <td>0.214353</td>\n",
       "      <td>0.0</td>\n",
       "      <td>0</td>\n",
       "    </tr>\n",
       "    <tr>\n",
       "      <th>2</th>\n",
       "      <td>0.820038</td>\n",
       "      <td>0.179962</td>\n",
       "      <td>0.0</td>\n",
       "      <td>0</td>\n",
       "    </tr>\n",
       "  </tbody>\n",
       "</table>\n",
       "</div>"
      ],
      "text/plain": [
       "           0         1  pred  y_true\n",
       "7   0.349171  0.650829   1.0       1\n",
       "8   0.366184  0.633816   1.0       1\n",
       "1   0.510931  0.489069   0.0       0\n",
       "10  0.607529  0.392471   0.0       1\n",
       "5   0.656634  0.343366   0.0       0\n",
       "9   0.663272  0.336728   0.0       1\n",
       "0   0.694619  0.305381   0.0       0\n",
       "6   0.768586  0.231414   0.0       0\n",
       "4   0.777387  0.222613   0.0       0\n",
       "3   0.785647  0.214353   0.0       0\n",
       "2   0.820038  0.179962   0.0       0"
      ]
     },
     "execution_count": 24,
     "metadata": {},
     "output_type": "execute_result"
    }
   ],
   "source": [
    "#手动调节阈值，来改变我们的模型效果\n",
    "for i in range(prob.shape[0]):\n",
    "    if prob.loc[i,\"1\"] > 0.5:\n",
    "        prob.loc[i,\"pred\"] = 1\n",
    "    else:\n",
    "        prob.loc[i,\"pred\"] = 0\n",
    "prob[\"y_true\"] = y_\n",
    "prob = prob.sort_values(by=\"1\",ascending=False)\n",
    "prob"
   ]
  },
  {
   "cell_type": "markdown",
   "id": "57910355-af2b-4925-b5f2-917d89a39b6f",
   "metadata": {},
   "source": [
    "4. 使用混淆矩阵查看结果"
   ]
  },
  {
   "cell_type": "code",
   "execution_count": 25,
   "id": "d8eed81d-645e-44f5-86b2-f3d5f916627c",
   "metadata": {},
   "outputs": [],
   "source": [
    "from sklearn.metrics import confusion_matrix as CM, precision_score as P, recall_score as R"
   ]
  },
  {
   "cell_type": "code",
   "execution_count": 26,
   "id": "7d70b0d1-42e2-43ff-9089-347b427981bc",
   "metadata": {},
   "outputs": [
    {
     "data": {
      "text/plain": [
       "array([[2, 2],\n",
       "       [0, 7]], dtype=int64)"
      ]
     },
     "execution_count": 26,
     "metadata": {},
     "output_type": "execute_result"
    }
   ],
   "source": [
    "CM(prob.loc[:,\"y_true\"],prob.loc[:,\"pred\"],labels=[1,0])"
   ]
  },
  {
   "cell_type": "code",
   "execution_count": 27,
   "id": "0473715e-5f08-431e-a8ba-98f1e7a4e9bb",
   "metadata": {},
   "outputs": [
    {
     "data": {
      "text/plain": [
       "1.0"
      ]
     },
     "execution_count": 27,
     "metadata": {},
     "output_type": "execute_result"
    }
   ],
   "source": [
    "#试试看手动计算Precision和Recall?\n",
    "P(prob.loc[:,\"y_true\"],prob.loc[:,\"pred\"],labels=[1,0])  # 真实值写在前面"
   ]
  },
  {
   "cell_type": "code",
   "execution_count": 28,
   "id": "7851ff7c-97d3-4ec7-8cf2-699fbf145ca1",
   "metadata": {},
   "outputs": [
    {
     "data": {
      "text/plain": [
       "0.5"
      ]
     },
     "execution_count": 28,
     "metadata": {},
     "output_type": "execute_result"
    }
   ],
   "source": [
    "R(prob.loc[:,\"y_true\"],prob.loc[:,\"pred\"],labels=[1,0])"
   ]
  },
  {
   "cell_type": "markdown",
   "id": "06826ecb-eb35-4efe-b4f7-187c6d718c00",
   "metadata": {},
   "source": [
    "5. 假如我们使用0.4作为阈值呢？"
   ]
  },
  {
   "cell_type": "code",
   "execution_count": 29,
   "id": "7284a5d2-7a60-4eff-a5a1-0e71938cfc53",
   "metadata": {},
   "outputs": [
    {
     "data": {
      "text/html": [
       "<div>\n",
       "<style scoped>\n",
       "    .dataframe tbody tr th:only-of-type {\n",
       "        vertical-align: middle;\n",
       "    }\n",
       "\n",
       "    .dataframe tbody tr th {\n",
       "        vertical-align: top;\n",
       "    }\n",
       "\n",
       "    .dataframe thead th {\n",
       "        text-align: right;\n",
       "    }\n",
       "</style>\n",
       "<table border=\"1\" class=\"dataframe\">\n",
       "  <thead>\n",
       "    <tr style=\"text-align: right;\">\n",
       "      <th></th>\n",
       "      <th>0</th>\n",
       "      <th>1</th>\n",
       "      <th>pred</th>\n",
       "      <th>y_true</th>\n",
       "    </tr>\n",
       "  </thead>\n",
       "  <tbody>\n",
       "    <tr>\n",
       "      <th>7</th>\n",
       "      <td>0.349171</td>\n",
       "      <td>0.650829</td>\n",
       "      <td>1.0</td>\n",
       "      <td>1</td>\n",
       "    </tr>\n",
       "    <tr>\n",
       "      <th>8</th>\n",
       "      <td>0.366184</td>\n",
       "      <td>0.633816</td>\n",
       "      <td>1.0</td>\n",
       "      <td>1</td>\n",
       "    </tr>\n",
       "    <tr>\n",
       "      <th>1</th>\n",
       "      <td>0.510931</td>\n",
       "      <td>0.489069</td>\n",
       "      <td>1.0</td>\n",
       "      <td>0</td>\n",
       "    </tr>\n",
       "    <tr>\n",
       "      <th>10</th>\n",
       "      <td>0.607529</td>\n",
       "      <td>0.392471</td>\n",
       "      <td>0.0</td>\n",
       "      <td>1</td>\n",
       "    </tr>\n",
       "    <tr>\n",
       "      <th>5</th>\n",
       "      <td>0.656634</td>\n",
       "      <td>0.343366</td>\n",
       "      <td>0.0</td>\n",
       "      <td>0</td>\n",
       "    </tr>\n",
       "    <tr>\n",
       "      <th>9</th>\n",
       "      <td>0.663272</td>\n",
       "      <td>0.336728</td>\n",
       "      <td>0.0</td>\n",
       "      <td>1</td>\n",
       "    </tr>\n",
       "    <tr>\n",
       "      <th>0</th>\n",
       "      <td>0.694619</td>\n",
       "      <td>0.305381</td>\n",
       "      <td>0.0</td>\n",
       "      <td>0</td>\n",
       "    </tr>\n",
       "    <tr>\n",
       "      <th>6</th>\n",
       "      <td>0.768586</td>\n",
       "      <td>0.231414</td>\n",
       "      <td>0.0</td>\n",
       "      <td>0</td>\n",
       "    </tr>\n",
       "    <tr>\n",
       "      <th>4</th>\n",
       "      <td>0.777387</td>\n",
       "      <td>0.222613</td>\n",
       "      <td>0.0</td>\n",
       "      <td>0</td>\n",
       "    </tr>\n",
       "    <tr>\n",
       "      <th>3</th>\n",
       "      <td>0.785647</td>\n",
       "      <td>0.214353</td>\n",
       "      <td>0.0</td>\n",
       "      <td>0</td>\n",
       "    </tr>\n",
       "    <tr>\n",
       "      <th>2</th>\n",
       "      <td>0.820038</td>\n",
       "      <td>0.179962</td>\n",
       "      <td>0.0</td>\n",
       "      <td>0</td>\n",
       "    </tr>\n",
       "  </tbody>\n",
       "</table>\n",
       "</div>"
      ],
      "text/plain": [
       "           0         1  pred  y_true\n",
       "7   0.349171  0.650829   1.0       1\n",
       "8   0.366184  0.633816   1.0       1\n",
       "1   0.510931  0.489069   1.0       0\n",
       "10  0.607529  0.392471   0.0       1\n",
       "5   0.656634  0.343366   0.0       0\n",
       "9   0.663272  0.336728   0.0       1\n",
       "0   0.694619  0.305381   0.0       0\n",
       "6   0.768586  0.231414   0.0       0\n",
       "4   0.777387  0.222613   0.0       0\n",
       "3   0.785647  0.214353   0.0       0\n",
       "2   0.820038  0.179962   0.0       0"
      ]
     },
     "execution_count": 29,
     "metadata": {},
     "output_type": "execute_result"
    }
   ],
   "source": [
    "for i in range(prob.shape[0]):\n",
    "    if prob.loc[i,\"1\"] > 0.4:\n",
    "        prob.loc[i,\"pred\"] = 1\n",
    "    else:\n",
    "        prob.loc[i,\"pred\"] = 0\n",
    "prob"
   ]
  },
  {
   "cell_type": "code",
   "execution_count": 31,
   "id": "dc67a02e-cf6a-43c5-ab55-4346f7616bd1",
   "metadata": {},
   "outputs": [
    {
     "data": {
      "text/plain": [
       "array([[2, 2],\n",
       "       [1, 6]], dtype=int64)"
      ]
     },
     "execution_count": 31,
     "metadata": {},
     "output_type": "execute_result"
    }
   ],
   "source": [
    "CM(prob.loc[:,\"y_true\"],prob.loc[:,\"pred\"],labels=[1,0])"
   ]
  },
  {
   "cell_type": "code",
   "execution_count": 32,
   "id": "78c0f016-82ad-4967-97e7-11cfc45b1509",
   "metadata": {},
   "outputs": [
    {
     "data": {
      "text/plain": [
       "0.6666666666666666"
      ]
     },
     "execution_count": 32,
     "metadata": {},
     "output_type": "execute_result"
    }
   ],
   "source": [
    "P(prob.loc[:,\"y_true\"],prob.loc[:,\"pred\"],labels=[1,0])"
   ]
  },
  {
   "cell_type": "code",
   "execution_count": 33,
   "id": "c8b02e99-10cc-4461-baec-ba70d71c4ece",
   "metadata": {},
   "outputs": [
    {
     "data": {
      "text/plain": [
       "0.5"
      ]
     },
     "execution_count": 33,
     "metadata": {},
     "output_type": "execute_result"
    }
   ],
   "source": [
    "R(prob.loc[:,\"y_true\"],prob.loc[:,\"pred\"],labels=[1,0])\n",
    "#注意，降低或者升高阈值并不一定能够让模型的效果变好，一切都基于我们要追求怎样的模型效果\n",
    "# 通常来说，降低阈值能够升高recall"
   ]
  },
  {
   "cell_type": "markdown",
   "id": "6320aad0-9977-4983-80c5-22e6f5313535",
   "metadata": {},
   "source": [
    "### SVM实现概率预测"
   ]
  },
  {
   "cell_type": "code",
   "execution_count": 34,
   "id": "514329a7-0606-4a2c-8cf4-37fb43976df4",
   "metadata": {},
   "outputs": [
    {
     "data": {
      "text/plain": [
       "<matplotlib.collections.PathCollection at 0x2601ac64b08>"
      ]
     },
     "execution_count": 34,
     "metadata": {},
     "output_type": "execute_result"
    },
    {
     "data": {
      "image/png": "[encoded data removed]",
      "text/plain": [
       "<Figure size 432x288 with 1 Axes>"
      ]
     },
     "metadata": {
      "needs_background": "light"
     },
     "output_type": "display_data"
    }
   ],
   "source": [
    "#使用最初的X和y，样本不均衡的这个模型\n",
    "class_1 = 500 #类别1有500个样本\n",
    "class_2 = 50 #类别2只有50个\n",
    "centers = [[0.0, 0.0], [2.0, 2.0]] #设定两个类别的中心\n",
    "clusters_std = [1.5, 0.5] #设定两个类别的方差，通常来说，样本量比较大的类别会更加松散\n",
    "X, y = make_blobs(n_samples=[class_1, class_2],\n",
    "                  centers=centers,\n",
    "                  cluster_std=clusters_std,\n",
    "                  random_state=0, shuffle=False)\n",
    "#看看数据集长什么样\n",
    "plt.scatter(X[:, 0], X[:, 1], c=y, cmap=\"rainbow\",s=10)"
   ]
  },
  {
   "cell_type": "code",
   "execution_count": 35,
   "id": "db15e050-3651-4644-a71d-d8ebf358899c",
   "metadata": {},
   "outputs": [],
   "source": [
    "#其中红色点是少数类，紫色点是多数类\n",
    "clf_proba = svm.SVC(kernel=\"linear\",C=1.0,probability=True).fit(X,y)"
   ]
  },
  {
   "cell_type": "code",
   "execution_count": 36,
   "id": "6ffeb765-da19-40f2-9089-7b3fdfc38adf",
   "metadata": {},
   "outputs": [
    {
     "data": {
      "text/plain": [
       "array([[0.68523371, 0.31476629],\n",
       "       [0.25549773, 0.74450227],\n",
       "       [0.96422389, 0.03577611],\n",
       "       ...,\n",
       "       [0.14893177, 0.85106823],\n",
       "       [0.34924213, 0.65075787],\n",
       "       [0.3083182 , 0.6916818 ]])"
      ]
     },
     "execution_count": 36,
     "metadata": {},
     "output_type": "execute_result"
    }
   ],
   "source": [
    "clf_proba.predict_proba(X)"
   ]
  },
  {
   "cell_type": "code",
   "execution_count": 37,
   "id": "ebcf5ef6-1ef8-42ef-a820-ee5ae0aa198d",
   "metadata": {},
   "outputs": [
    {
     "data": {
      "text/plain": [
       "(550, 2)"
      ]
     },
     "execution_count": 37,
     "metadata": {},
     "output_type": "execute_result"
    }
   ],
   "source": [
    "clf_proba.predict_proba(X).shape"
   ]
  },
  {
   "cell_type": "code",
   "execution_count": 38,
   "id": "7a235af5-d6c6-46ec-ae65-afee5db0b9ff",
   "metadata": {
    "collapsed": true,
    "jupyter": {
     "outputs_hidden": true
    },
    "tags": []
   },
   "outputs": [
    {
     "data": {
      "text/plain": [
       "array([ -0.39182241,   0.95617053,  -2.24996184,  -2.63659269,\n",
       "        -3.65243197,  -1.67311996,  -2.56396417,  -2.80650393,\n",
       "        -1.76184723,  -4.7948575 ,  -7.59061196,  -3.66174848,\n",
       "        -2.2508023 ,  -4.27626526,   0.78571364,  -3.24751892,\n",
       "        -8.57016271,  -4.45823747,  -0.14034183,  -5.20657114,\n",
       "        -8.02181046,  -4.18420871,  -5.6222409 ,  -5.12602771,\n",
       "        -7.22592707,  -5.07749638,  -6.72386021,  -3.4945225 ,\n",
       "        -3.51475144,  -5.72941551,  -5.79160724,  -8.06232013,\n",
       "        -4.36303857,  -6.25419679,  -5.59426696,  -2.60919281,\n",
       "        -3.90887478,  -4.38754704,  -6.46432224,  -4.54279979,\n",
       "        -4.78961735,  -5.53727469,   1.33920817,  -2.27766451,\n",
       "        -4.39650854,  -2.97649872,  -2.26771979,  -2.40781748,\n",
       "        -1.41638181,  -3.26142275,  -2.7712218 ,  -4.87288439,\n",
       "        -3.2594128 ,  -5.91189118,   1.48676267,   0.5389064 ,\n",
       "        -2.76188843,  -3.36126945,  -2.64697843,  -1.63635284,\n",
       "        -5.04695135,  -1.59196902,  -5.5195418 ,  -2.10439349,\n",
       "        -2.29646147,  -4.63162339,  -5.21532213,  -4.19325629,\n",
       "        -3.37620335,  -5.0032094 ,  -6.04506666,  -2.84656859,\n",
       "         1.5004014 ,  -4.02677739,  -7.07160609,  -1.66193239,\n",
       "        -6.60981996,  -5.23458676,  -3.70189918,  -6.74089425,\n",
       "        -2.09584948,  -2.28398296,  -4.97899921,  -8.12174085,\n",
       "        -1.52566274,  -1.99176286,  -3.54013094,  -4.8845886 ,\n",
       "        -6.51002015,  -4.8526957 ,  -6.73649174,  -8.50103589,\n",
       "        -5.35477446,  -5.93972132,  -3.09197136,  -5.95218482,\n",
       "        -5.87802088,  -3.41531761,  -1.50581423,   1.69513218,\n",
       "        -5.08155767,  -1.17971205,  -5.3506946 ,  -5.21493342,\n",
       "        -3.73358514,  -2.01273566,  -3.39045625,  -6.34357458,\n",
       "        -3.54776648,  -0.17804673,  -6.26887557,  -4.17973771,\n",
       "        -6.68896346,  -3.46095619,  -5.47965411,  -7.30835247,\n",
       "        -4.41569899,  -4.95103272,  -4.52261342,  -2.32912228,\n",
       "        -5.78601433,  -4.75347157,  -7.10337939,  -0.4589064 ,\n",
       "        -7.67789856,  -4.01780827,  -4.3031773 ,  -1.83727693,\n",
       "        -7.40091653,  -5.95271547,  -6.91568411,  -5.20341905,\n",
       "        -7.19695832,  -3.02927263,  -4.48056922,  -7.48496425,\n",
       "        -0.07011269,  -5.80292499,  -3.38503533,  -4.58498843,\n",
       "        -2.76260661,  -3.01843998,  -2.67539002,  -4.1197355 ,\n",
       "        -0.94129257,  -5.89363772,  -1.6069038 ,  -2.6343464 ,\n",
       "        -3.04465464,  -4.23219535,  -3.91622593,  -5.29389964,\n",
       "        -3.59245628,  -8.41452726,  -3.09845691,  -2.71798914,\n",
       "        -7.1383473 ,  -4.61490324,  -4.57817871,  -4.34638288,\n",
       "        -6.5457838 ,  -4.91701759,  -6.57235561,  -1.01417607,\n",
       "        -3.91893483,  -4.52905816,  -4.47582917,  -7.84694737,\n",
       "        -6.49226452,  -2.82193743,  -2.87607739,  -7.0839848 ,\n",
       "        -5.2681034 ,  -4.4871544 ,  -2.54658631,  -7.54914279,\n",
       "        -2.70628288,  -5.99557957,  -8.02076603,  -4.00226228,\n",
       "        -2.84835501,  -1.9410333 ,  -3.86856886,  -4.99855904,\n",
       "        -6.21947623,  -5.05797444,  -2.97214824,  -3.26123902,\n",
       "        -5.27649982,  -3.13897861,  -6.48514315,  -9.55083209,\n",
       "        -6.46488612,  -7.98793665,  -0.94456569,  -3.41380968,\n",
       "        -7.093158  ,  -5.71901588,  -0.88438995,  -0.24381463,\n",
       "        -6.78212695,  -2.20666714,  -6.65580329,  -2.56305221,\n",
       "        -5.60001636,  -5.43216357,  -4.96741585,  -0.02572912,\n",
       "        -3.21839147,   1.13383091,  -1.58640099,  -7.57106914,\n",
       "        -4.16850181,  -6.48179088,  -4.67852158,  -6.99661419,\n",
       "        -2.1447926 ,  -5.31694653,  -2.63007619,  -2.55890478,\n",
       "        -6.4896746 ,  -3.94241071,  -2.71319258,  -4.70525843,\n",
       "        -5.61592746,  -4.7150336 ,  -2.85352156,  -0.49195707,\n",
       "        -8.16191324,  -3.80462978,  -6.43680611,  -4.58137592,\n",
       "        -1.38912206,  -6.93900334,  -7.7222725 ,  -8.41592264,\n",
       "        -5.613998  ,   0.44396046,  -3.07168078,  -1.36478732,\n",
       "        -1.20153628,  -6.30209808,  -6.49846303,  -0.60518198,\n",
       "        -3.83301464,  -6.40455571,  -0.22680504,   0.54161373,\n",
       "        -5.99626181,  -5.98077412,  -3.45857531,  -2.50268554,\n",
       "        -5.54970836,  -9.26535525,  -4.22097425,  -0.47257602,\n",
       "        -9.33187038,  -4.97705346,  -1.65256318,  -1.0000177 ,\n",
       "        -5.82202444,  -8.34541689,  -4.97060946,  -0.34446784,\n",
       "        -6.95722208,  -7.41413036,  -1.8343221 ,  -7.19145712,\n",
       "        -4.8082824 ,  -4.59805445,  -5.49449995,  -2.25570223,\n",
       "        -5.41145249,  -5.97739476,  -2.94240518,  -3.64911853,\n",
       "        -2.82208944,  -3.34705766,  -8.19712182,  -7.57201089,\n",
       "        -0.61670956,  -6.3752957 ,  -5.06738146,  -2.54344987,\n",
       "        -3.28382401,  -5.9927353 ,  -2.87730848,  -3.58324503,\n",
       "        -7.1488302 ,  -2.63140119,  -8.48092542,  -4.91672751,\n",
       "        -5.7488116 ,  -3.80044426,  -9.27859326,  -2.475992  ,\n",
       "        -6.06980518,  -2.90059294,  -5.22496057,  -5.97575155,\n",
       "        -6.18156775,  -5.38363878,  -7.41985155,  -6.73241325,\n",
       "        -4.43878791,  -9.06614408,  -1.69153658,  -3.71141045,\n",
       "        -3.19852116,  -4.05473804,  -3.45821856,  -4.92039492,\n",
       "        -6.55332449,  -1.28332784,  -4.17989583,  -5.45916562,\n",
       "        -3.80974949,  -4.27838346,  -5.31607024,  -0.62628865,\n",
       "        -2.21276478,  -3.7397342 ,  -6.66779473,  -2.38116892,\n",
       "        -2.83460004,  -7.01238422,  -2.75282445,  -3.01759368,\n",
       "        -6.14970454,  -6.1300394 ,  -7.58620719,  -3.14051577,\n",
       "        -5.82720807,  -2.52236034,  -7.03761018,  -7.82753368,\n",
       "        -8.8447092 ,  -3.11218173,  -4.22074847,  -0.99624534,\n",
       "        -3.45189404,  -1.46956557,  -9.42857926,  -2.75093993,\n",
       "        -0.61665367,  -2.09370852,  -9.34768018,  -3.39876535,\n",
       "        -5.8635608 ,  -2.12987936,  -8.40706474,  -3.84209244,\n",
       "        -0.5100329 ,  -2.48836494,  -1.54663048,  -4.30920238,\n",
       "        -5.73107193,  -1.89978615,  -6.17605033,  -3.10487492,\n",
       "        -5.51376743,  -4.32751131,  -8.20349197,  -3.87477609,\n",
       "        -1.78392197,  -6.17403966,  -6.52743333,  -3.02302099,\n",
       "        -4.99201913,  -5.72548424,  -7.83390422,  -1.19722286,\n",
       "        -4.59974076,  -2.99496132,  -6.83038116,  -5.1842235 ,\n",
       "        -0.78127198,  -2.88907207,  -3.95055581,  -6.33003274,\n",
       "        -4.47772201,  -2.77425683,  -4.44937971,  -4.2292366 ,\n",
       "        -1.15145162,  -4.92325347,  -5.40648383,  -7.37247783,\n",
       "        -4.65237446,  -7.04281259,  -0.69437244,  -4.99227188,\n",
       "        -3.02282976,  -2.52532913,  -6.52636286,  -5.48318846,\n",
       "        -3.71028837,  -6.91757625,  -5.54349414,  -6.05345046,\n",
       "        -0.43986605,  -4.75951272,  -1.82851406,  -3.24432919,\n",
       "        -7.20785221,  -4.0583863 ,  -3.27842271,  -0.68706448,\n",
       "        -2.76021537,  -5.54119808,  -4.08188794,  -6.4244794 ,\n",
       "        -4.76668274,  -0.2040958 ,  -2.42898945,  -2.03283232,\n",
       "        -4.12879797,  -2.70459163,  -6.04997273,  -2.79280244,\n",
       "        -4.20663028,   0.786804  ,  -3.65237777,  -3.55179726,\n",
       "        -5.3460864 , -10.31959605,  -6.69397854,  -6.53784926,\n",
       "        -7.56321471,  -4.98085596,  -1.79893146,  -3.89513404,\n",
       "        -5.18601688,  -3.82352518,  -5.20243998,  -3.11707515,\n",
       "        -5.80322513,  -4.42380099,  -5.74159836,  -6.6468986 ,\n",
       "        -3.18053496,  -4.28898663,  -6.73111304,  -3.21485845,\n",
       "        -4.79047586,  -4.51550728,  -2.70659984,  -3.61545839,\n",
       "        -7.86496861,  -0.1258212 ,  -7.6559803 ,  -3.15269699,\n",
       "        -2.87456418,  -6.74876767,  -0.42574712,  -7.58877495,\n",
       "        -5.30321115,  -4.79881591,  -4.5673199 ,  -3.6865868 ,\n",
       "        -4.46822682,  -1.45060265,  -0.53560561,  -4.94874171,\n",
       "        -1.26112294,  -1.66779284,  -5.57910033,  -5.87103484,\n",
       "        -3.35570045,  -6.25661833,  -1.51564145,   0.85085628,\n",
       "        -3.82725071,  -1.47077448,  -3.36154118,  -5.37972404,\n",
       "        -2.22844631,  -2.78684422,  -3.75603932,  -1.85645   ,\n",
       "        -3.33156093,  -2.32968944,  -5.06053069,  -1.73410541,\n",
       "        -1.68829408,  -3.79892942,  -1.62650712,  -1.00001873,\n",
       "        -6.07170511,  -4.89697898,  -3.66269926,  -3.13731451,\n",
       "        -5.08348781,  -3.71891247,  -2.09779606,  -3.04082162,\n",
       "        -5.12536015,  -2.96071945,  -4.28796395,  -6.6231135 ,\n",
       "         1.00003406,   0.03907036,   0.46718521,  -0.3467975 ,\n",
       "         0.32350521,   0.47563771,   1.10055427,  -0.67580418,\n",
       "        -0.46310299,   0.40806733,   1.17438632,  -0.55152081,\n",
       "         0.84476439,  -0.91257798,   0.63165546,  -0.13845693,\n",
       "        -0.22137683,   1.20116183,   1.18915628,  -0.40676459,\n",
       "         1.35964325,   1.14038015,   1.27914468,   0.19329823,\n",
       "        -0.16790648,  -0.62775078,   0.66095617,   2.18236076,\n",
       "         0.07018415,  -0.26762451,  -0.25529448,   0.32084111,\n",
       "         0.48016592,   0.28189794,   0.60568093,  -1.07472716,\n",
       "        -0.5088941 ,   0.74892526,   0.07203056,  -0.10668727,\n",
       "        -0.15662946,   0.09611498,  -0.39521586,  -0.79874442,\n",
       "         0.65613691,  -0.39386485,  -1.08601917,   1.44693858,\n",
       "         0.62992794,   0.76536897])"
      ]
     },
     "execution_count": 38,
     "metadata": {},
     "output_type": "execute_result"
    }
   ],
   "source": [
    "clf_proba.decision_function(X)"
   ]
  },
  {
   "cell_type": "markdown",
   "id": "5cbc2580-6bd2-4a73-b4fc-8d8ac1ebcf8f",
   "metadata": {},
   "source": [
    "### 绘制SVM的ROC曲线"
   ]
  },
  {
   "cell_type": "code",
   "execution_count": 39,
   "id": "a8512387-1663-45f2-b246-30897ad60a65",
   "metadata": {},
   "outputs": [
    {
     "data": {
      "text/plain": [
       "array([[2, 2],\n",
       "       [1, 6]], dtype=int64)"
      ]
     },
     "execution_count": 39,
     "metadata": {},
     "output_type": "execute_result"
    }
   ],
   "source": [
    "#首先来看看如何从混淆矩阵中获取FPR和Recall\n",
    "cm = CM(prob.loc[:,\"y_true\"],prob.loc[:,\"pred\"],labels=[1,0])\n",
    "cm"
   ]
  },
  {
   "cell_type": "code",
   "execution_count": 40,
   "id": "9583c843-b0e1-4cce-b86a-5dec4ee14f81",
   "metadata": {},
   "outputs": [
    {
     "data": {
      "text/plain": [
       "0.14285714285714285"
      ]
     },
     "execution_count": 40,
     "metadata": {},
     "output_type": "execute_result"
    }
   ],
   "source": [
    "#FPR\n",
    "cm[1,0]/cm[1,:].sum()"
   ]
  },
  {
   "cell_type": "code",
   "execution_count": 41,
   "id": "d0cb029a-28f2-4c92-be3a-39f3bef06e36",
   "metadata": {},
   "outputs": [
    {
     "data": {
      "text/plain": [
       "0.5"
      ]
     },
     "execution_count": 41,
     "metadata": {},
     "output_type": "execute_result"
    }
   ],
   "source": [
    "#Recall\n",
    "cm[0,0]/cm[0,:].sum()"
   ]
  },
  {
   "cell_type": "code",
   "execution_count": 42,
   "id": "d86e60e9-c6e0-41e1-b74d-0d1248fb06bf",
   "metadata": {},
   "outputs": [
    {
     "data": {
      "image/png": "[encoded data removed]",
      "text/plain": [
       "<Figure size 432x288 with 1 Axes>"
      ]
     },
     "metadata": {
      "needs_background": "light"
     },
     "output_type": "display_data"
    }
   ],
   "source": [
    "#开始绘图\n",
    "recall = []\n",
    "FPR = []\n",
    "# endpoint不要取到最大值\n",
    "probrange = np.linspace(clf_proba.predict_proba(X)[:,1].min(),clf_proba.predict_proba(X)[:,1].max(),num=50,endpoint=False)\n",
    "from sklearn.metrics import confusion_matrix as CM, recall_score as R\n",
    "import matplotlib.pyplot as plot\n",
    "for i in probrange:\n",
    "    y_predict = []\n",
    "    for j in range(X.shape[0]):\n",
    "        if clf_proba.predict_proba(X)[j,1] > i:\n",
    "            y_predict.append(1)\n",
    "        else:\n",
    "            y_predict.append(0)\n",
    "    cm = CM(y,y_predict,labels=[1,0])\n",
    "    recall.append(cm[0,0]/cm[0,:].sum())\n",
    "    FPR.append(cm[1,0]/cm[1,:].sum())\n",
    "recall.sort()\n",
    "FPR.sort()\n",
    "plt.plot(FPR,recall,c=\"red\")\n",
    "plt.plot(probrange+0.05,probrange+0.05,c=\"black\",linestyle=\"--\")\n",
    "plt.show()"
   ]
  },
  {
   "cell_type": "markdown",
   "id": "2e89c70d-c594-4e68-9e33-1e1f8914421f",
   "metadata": {},
   "source": [
    "我们建立ROC曲线的根本目的是找寻\n",
    "Recall和FPR之间的平衡，让我们能够衡量模型在尽量捕捉少数类的时候，误伤多数类的情况会如何变化。横坐标\n",
    "是FPR，代表着模型将多数类判断错误的能力，纵坐标Recall，代表着模型捕捉少数类的能力，所以ROC曲线代表\n",
    "着，随着Recall的不断增加，FPR如何增加。我们希望随着Recall的不断提升，FPR增加得越慢越好，这说明我们可\n",
    "以尽量高效地捕捉出少数类，而不会将很多地多数类判断错误。"
   ]
  },
  {
   "cell_type": "markdown",
   "id": "e3c39abc-5b95-4cd7-8a93-102820bbdcc1",
   "metadata": {},
   "source": [
    "所以，**我们希望看到的图像是，纵坐标急速上升，\n",
    "横坐标缓慢增长，也就是在整个图像左上方的一条弧线。这代表模型的效果很不错，拥有较好的捕获少数类的能\n",
    "力。**\n"
   ]
  },
  {
   "cell_type": "markdown",
   "id": "69d31ae7-368b-4f3e-a991-8ae49557ddcd",
   "metadata": {},
   "source": [
    "### sklearn中的ROC曲线和AUC面积"
   ]
  },
  {
   "cell_type": "code",
   "execution_count": 43,
   "id": "b3137692-2ab6-4d1f-9748-cc9b4a8ae00b",
   "metadata": {},
   "outputs": [],
   "source": [
    "from sklearn.metrics import roc_curve\n",
    "FPR, recall, thresholds = roc_curve(y,clf_proba.decision_function(X), pos_label=1)"
   ]
  },
  {
   "cell_type": "code",
   "execution_count": 44,
   "id": "90f893d1-e702-448d-bd86-8d2a4a595dba",
   "metadata": {},
   "outputs": [
    {
     "data": {
      "text/plain": [
       "array([0.   , 0.   , 0.006, 0.006, 0.008, 0.008, 0.01 , 0.01 , 0.014,\n",
       "       0.014, 0.018, 0.018, 0.022, 0.022, 0.024, 0.024, 0.028, 0.028,\n",
       "       0.03 , 0.03 , 0.032, 0.032, 0.036, 0.036, 0.04 , 0.04 , 0.042,\n",
       "       0.042, 0.044, 0.044, 0.05 , 0.05 , 0.054, 0.054, 0.058, 0.058,\n",
       "       0.066, 0.066, 0.072, 0.072, 0.074, 0.074, 0.086, 0.086, 1.   ])"
      ]
     },
     "execution_count": 44,
     "metadata": {},
     "output_type": "execute_result"
    }
   ],
   "source": [
    "FPR"
   ]
  },
  {
   "cell_type": "code",
   "execution_count": 45,
   "id": "67b75c4c-3efc-4383-9765-9c0b72332961",
   "metadata": {},
   "outputs": [
    {
     "data": {
      "text/plain": [
       "array([0.  , 0.02, 0.02, 0.06, 0.06, 0.16, 0.16, 0.2 , 0.2 , 0.22, 0.22,\n",
       "       0.36, 0.36, 0.42, 0.42, 0.6 , 0.6 , 0.62, 0.62, 0.64, 0.64, 0.68,\n",
       "       0.68, 0.7 , 0.7 , 0.74, 0.74, 0.76, 0.76, 0.82, 0.82, 0.84, 0.84,\n",
       "       0.86, 0.86, 0.88, 0.88, 0.92, 0.92, 0.94, 0.94, 0.96, 0.96, 1.  ,\n",
       "       1.  ])"
      ]
     },
     "execution_count": 45,
     "metadata": {},
     "output_type": "execute_result"
    }
   ],
   "source": [
    "recall"
   ]
  },
  {
   "cell_type": "code",
   "execution_count": 46,
   "id": "9e692189-4556-4144-beb3-e64eb4dd6b56",
   "metadata": {},
   "outputs": [
    {
     "data": {
      "text/plain": [
       "array([  3.18236076,   2.18236076,   1.48676267,   1.35964325,\n",
       "         1.33920817,   1.14038015,   1.13383091,   1.00003406,\n",
       "         0.85085628,   0.84476439,   0.78571364,   0.60568093,\n",
       "         0.5389064 ,   0.46718521,   0.44396046,   0.03907036,\n",
       "        -0.07011269,  -0.10668727,  -0.1258212 ,  -0.13845693,\n",
       "        -0.14034183,  -0.16790648,  -0.2040958 ,  -0.22137683,\n",
       "        -0.24381463,  -0.26762451,  -0.34446784,  -0.3467975 ,\n",
       "        -0.39182241,  -0.40676459,  -0.4589064 ,  -0.46310299,\n",
       "        -0.49195707,  -0.5088941 ,  -0.53560561,  -0.55152081,\n",
       "        -0.62628865,  -0.67580418,  -0.78127198,  -0.79874442,\n",
       "        -0.88438995,  -0.91257798,  -1.01417607,  -1.08601917,\n",
       "       -10.31959605])"
      ]
     },
     "execution_count": 46,
     "metadata": {},
     "output_type": "execute_result"
    }
   ],
   "source": [
    "thresholds #此时的threshold就不是一个概率值，而是距离值中的阈值了，所以它可以大于1，也可以为负"
   ]
  },
  {
   "cell_type": "code",
   "execution_count": 47,
   "id": "1e8c2b94-e1cf-471d-af30-c932de21aa40",
   "metadata": {},
   "outputs": [],
   "source": [
    "from sklearn.metrics import roc_auc_score as AUC\n",
    "area = AUC(y,clf_proba.decision_function(X))"
   ]
  },
  {
   "cell_type": "code",
   "execution_count": 48,
   "id": "36f46636-7a4f-42ac-9112-7cac0d253b4f",
   "metadata": {},
   "outputs": [
    {
     "data": {
      "text/plain": [
       "0.9696400000000001"
      ]
     },
     "execution_count": 48,
     "metadata": {},
     "output_type": "execute_result"
    }
   ],
   "source": [
    "area"
   ]
  },
  {
   "cell_type": "code",
   "execution_count": 49,
   "id": "b12dc9d5-eb54-4b51-b46d-c1da5ae84e24",
   "metadata": {},
   "outputs": [
    {
     "data": {
      "image/png": "[encoded data removed]",
      "text/plain": [
       "<Figure size 432x288 with 1 Axes>"
      ]
     },
     "metadata": {
      "needs_background": "light"
     },
     "output_type": "display_data"
    }
   ],
   "source": [
    "plt.figure()\n",
    "plt.plot(FPR, recall, color='red',\n",
    "         label='ROC curve (area = %0.2f)' % area)\n",
    "plt.plot([0, 1], [0, 1], color='black', linestyle='--')\n",
    "plt.xlim([-0.05, 1.05])\n",
    "plt.ylim([-0.05, 1.05])\n",
    "plt.xlabel('False Positive Rate')\n",
    "plt.ylabel('Recall')\n",
    "plt.title('Receiver operating characteristic example')\n",
    "plt.legend(loc=\"lower right\")\n",
    "plt.show()"
   ]
  },
  {
   "cell_type": "markdown",
   "id": "85db0b47-9ee7-4bc5-820f-32d88a25a664",
   "metadata": {},
   "source": [
    "### 利用ROC曲线找出最佳阈值"
   ]
  },
  {
   "cell_type": "code",
   "execution_count": 51,
   "id": "b16f0720-af1e-43e6-b9bf-7a22bbcc26ad",
   "metadata": {},
   "outputs": [
    {
     "data": {
      "text/plain": [
       "0.914"
      ]
     },
     "execution_count": 51,
     "metadata": {},
     "output_type": "execute_result"
    }
   ],
   "source": [
    "max(recall - FPR)"
   ]
  },
  {
   "cell_type": "code",
   "execution_count": 52,
   "id": "5dc6042a-3c37-4030-8935-ba3da92cc32f",
   "metadata": {},
   "outputs": [
    {
     "data": {
      "text/plain": [
       "43"
      ]
     },
     "execution_count": 52,
     "metadata": {},
     "output_type": "execute_result"
    }
   ],
   "source": [
    "maxindex = (recall - FPR).tolist().index(max(recall - FPR))\n",
    "maxindex"
   ]
  },
  {
   "cell_type": "code",
   "execution_count": 53,
   "id": "9bb1e3fc-682d-4a61-ba36-6aaff7c08df2",
   "metadata": {},
   "outputs": [
    {
     "data": {
      "text/plain": [
       "-1.0860191749391461"
      ]
     },
     "execution_count": 53,
     "metadata": {},
     "output_type": "execute_result"
    }
   ],
   "source": [
    "thresholds[maxindex]"
   ]
  },
  {
   "cell_type": "code",
   "execution_count": 55,
   "id": "afd6f6ff-c9b2-4ab4-b271-6b20638401e3",
   "metadata": {},
   "outputs": [
    {
     "data": {
      "text/plain": [
       "<matplotlib.collections.PathCollection at 0x2601ace30c8>"
      ]
     },
     "execution_count": 55,
     "metadata": {},
     "output_type": "execute_result"
    },
    {
     "data": {
      "image/png": "[encoded data removed]",
      "text/plain": [
       "<Figure size 432x288 with 1 Axes>"
      ]
     },
     "metadata": {
      "needs_background": "light"
     },
     "output_type": "display_data"
    }
   ],
   "source": [
    "#我们可以在图像上来看看这个点在哪里\n",
    "plt.scatter(FPR[maxindex],recall[maxindex],c=\"black\",s=30)"
   ]
  },
  {
   "cell_type": "code",
   "execution_count": 56,
   "id": "bcb3b78d-8b80-490a-9797-cc696d3606a5",
   "metadata": {},
   "outputs": [
    {
     "data": {
      "image/png": "[encoded data removed]",
      "text/plain": [
       "<Figure size 432x288 with 1 Axes>"
      ]
     },
     "metadata": {
      "needs_background": "light"
     },
     "output_type": "display_data"
    }
   ],
   "source": [
    "#把上述代码放入这段代码中：\n",
    "plt.figure()\n",
    "plt.plot(FPR, recall, color='red',\n",
    "         label='ROC curve (area = %0.2f)' % area)\n",
    "plt.plot([0, 1], [0, 1], color='black', linestyle='--')\n",
    "plt.scatter(FPR[maxindex],recall[maxindex],c=\"black\",s=30)\n",
    "plt.xlim([-0.05, 1.05])\n",
    "plt.ylim([-0.05, 1.05])\n",
    "plt.xlabel('False Positive Rate')\n",
    "plt.ylabel('Recall')\n",
    "plt.title('Receiver operating characteristic example')\n",
    "plt.legend(loc=\"lower right\")\n",
    "plt.show()"
   ]
  },
  {
   "cell_type": "code",
   "execution_count": null,
   "id": "9379e07e-3fb8-4ad7-9ce3-20006ef1e9df",
   "metadata": {},
   "outputs": [],
   "source": []
  }
 ],
 "metadata": {
  "kernelspec": {
   "display_name": "ml_bt",
   "language": "python",
   "name": "ml_bt"
  },
  "language_info": {
   "codemirror_mode": {
    "name": "ipython",
    "version": 3
   },
   "file_extension": ".py",
   "mimetype": "text/x-python",
   "name": "python",
   "nbconvert_exporter": "python",
   "pygments_lexer": "ipython3",
   "version": "3.7.11"
  }
 },
 "nbformat": 4,
 "nbformat_minor": 5
}
