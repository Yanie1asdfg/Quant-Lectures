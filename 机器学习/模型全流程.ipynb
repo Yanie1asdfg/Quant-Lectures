{
 "cells": [
  {
   "cell_type": "markdown",
   "id": "saved-height",
   "metadata": {},
   "source": [
    "1.数据获取与指标构建"
   ]
  },
  {
   "cell_type": "markdown",
   "id": "younger-marsh",
   "metadata": {},
   "source": [
    "2.模型预测与评估"
   ]
  },
  {
   "cell_type": "markdown",
   "id": "hindu-chrome",
   "metadata": {},
   "source": [
    "3.特征优化"
   ]
  },
  {
   "cell_type": "code",
   "execution_count": null,
   "id": "becoming-values",
   "metadata": {},
   "outputs": [],
   "source": []
  }
 ],
 "metadata": {
  "kernelspec": {
   "display_name": "Python 3",
   "language": "python",
   "name": "python3"
  },
  "language_info": {
   "codemirror_mode": {
    "name": "ipython",
    "version": 3
   },
   "file_extension": ".py",
   "mimetype": "text/x-python",
   "name": "python",
   "nbconvert_exporter": "python",
   "pygments_lexer": "ipython3",
   "version": "3.7.6"
  }
 },
 "nbformat": 4,
 "nbformat_minor": 5
}
