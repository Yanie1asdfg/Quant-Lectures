{
 "cells": [
  {
   "cell_type": "markdown",
   "id": "collective-strand",
   "metadata": {},
   "source": [
    "移动平均线:移动平均线通过减少噪音来指示价格的运动趋势。    \n",
    " \n",
    "随机振荡器%K和%D:随机振荡器是一个动量指示器，比较特定的证券收盘价和一定时期内的价格范围。%K、%D分别为慢、快指标。   \n",
    " \n",
    "相对强弱指数(RSI):动量指标，衡量最近价格变化的幅度，以评估股票或其他资产的价格超买或超卖情况。   \n",
    "\n",
    "变化率(ROC):动量振荡器，测量当前价格和n期过去价格之间的百分比变化。ROC值越高越有可能超买，越低可能超卖。  \n",
    "\n",
    "动量(MOM):证券价格或成交量加速的速度;价格变化的速度。 data['MOM10']=ta.MOM(data.close,timeperiod=10)"
   ]
  },
  {
   "cell_type": "code",
   "execution_count": null,
   "id": "strategic-retention",
   "metadata": {},
   "outputs": [],
   "source": []
  }
 ],
 "metadata": {
  "kernelspec": {
   "display_name": "Python 3",
   "language": "python",
   "name": "python3"
  },
  "language_info": {
   "codemirror_mode": {
    "name": "ipython",
    "version": 3
   },
   "file_extension": ".py",
   "mimetype": "text/x-python",
   "name": "python",
   "nbconvert_exporter": "python",
   "pygments_lexer": "ipython3",
   "version": "3.8.8"
  }
 },
 "nbformat": 4,
 "nbformat_minor": 5
}
