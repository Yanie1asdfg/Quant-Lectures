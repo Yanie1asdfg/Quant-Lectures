{
 "cells": [
  {
   "cell_type": "markdown",
   "id": "94c2087f-25b7-47f3-887e-43a9728c98ba",
   "metadata": {
    "tags": []
   },
   "source": [
    "# <center> 【Kaggle】Telco Customer Churn 电信用户流失预测案例"
   ]
  },
  {
   "cell_type": "markdown",
   "id": "68a82308-b70b-4fea-b117-d99cdad8d2e4",
   "metadata": {},
   "source": [
    "&emsp;&emsp;<font face=\"仿宋\">在案例的第二部分中，我们详细介绍了常用特征转化方法，其中有些是模型训练之必须，如自然数编码、独热编码，而有些方法则是以提高数据质量为核心、在大多数时候都是作为模型优化的备选方法，如连续变量分箱、数据标准化等。当然，在此之后，我们首先尝试构建一些可解释性较强的模型来进行用户流失预测，即采用逻辑回归和决策树模型来进行预测，并同时详细介绍了两种模型在实战中的调优技巧，在最终模型训练完成后，我们也重点讨论了关于两种可解释性模型建模结果的解释方法。"
   ]
  },
  {
   "cell_type": "markdown",
   "id": "85d8f9e9-db29-47f0-a6b8-0346682b165b",
   "metadata": {},
   "source": [
    "&emsp;&emsp;<font face=\"仿宋\">从理论上来说，树模型的判别能力是要强于逻辑回归的，但在上一节最后的建模结果中我们发现两个模型的建模并无显著差别，预测准确率都维持在79%-80%之间，这或许说明很多逻辑回归无法正确判别的样本决策树模型也无法判别，据此我们推测，这是一个“入门容易、精通较难”的数据集。当然，如果我们进一步尝试其他“更强”的集成学习算法，如随机森林、XGB、CatBoost等，在当前数据集上的建模结果和逻辑回归也并无太大差异，因此我们亟需通过特征工程方法进一步提升数据集质量，进而提升最终模型效果。"
   ]
  },
  {
   "cell_type": "markdown",
   "id": "7bd0da8b-850c-401d-89b7-edcd8bcf0685",
   "metadata": {},
   "source": [
    "&emsp;&emsp;<font face=\"仿宋\">当然，哪怕是复杂模型在当前数据集上表现出了更好的效果，采用特征工程方法提升数据质量仍是优化建模结果必不可少的部分，正如时下流行的描述那样，“数据质量决定模型上界，而建模过程只是不断逼近这个上界”，特征工程中的一系列提高数据质量的方法、无论是在工业界实践中还是各大顶级竞赛里，都已然成了最为重要的提升模型效果的手段。"
   ]
  },
  {
   "cell_type": "markdown",
   "id": "7a6f85fe-01f7-4587-921f-8e51cb01550b",
   "metadata": {},
   "source": [
    "<center><img src=\"https://tva1.sinaimg.cn/large/008i3skNly1gwllgk4wgqj31hr0u0wh4.jpg\" alt=\"image-20211112170651500\" style=\"zoom:15%;\" />"
   ]
  },
  {
   "cell_type": "markdown",
   "id": "a928702a-c472-443f-96c1-95af04c84406",
   "metadata": {},
   "source": [
    "&emsp;&emsp;<font face=\"仿宋\">不过，所谓的通过特征工程方法提高数据质量，看似简单但实际操作起来却并不容易。其难点并不在于其中具体操作方法的理解，至少相比机器学习算法原理，特征工程的很多方法并不复杂，特征工程的最大难点在于配合模型与数据进行方法选择、以及各种方法的工程化部署实现。一方面，特征工程方法众多，需要根据实际情况“因地制宜”，但数据的情况千变万化，很多时候需要同时结合数据探索结论、建模人员自身经验以及对各种备选方法的熟悉程度，才能快速制定行之有效的特征工程策略；另一方面，很多特征工程方法不像机器学习算法有现成的库可以直接调用，很多方法、尤其是一些围绕当前数据集的定制方法，需要自己手动实现，而这个过程就对建模人员本身的代码编写能力及工程部署能力提出了更高的要求。总而言之，特征工程是一个实践高度相关的技术，这也是为何课程会在介绍案例的过程中同步介绍特征工程常用方法的原因。"
   ]
  },
  {
   "cell_type": "markdown",
   "id": "d87dabe4-e6c0-4bb6-89c7-f3fe5987a34c",
   "metadata": {},
   "source": [
    "&emsp;&emsp;<font face=\"仿宋\">当然，从宽泛的角度来看，所有围绕数据集的数据调整工作都可以看成是特征工程的一部分，包括此前介绍的缺失值填补、数据编码、特征变换等，这些方法其实都能一定程度提升数据质量，而本节开始，我们将花费一整节的时间来讨论另一类特征工程方法：特征衍生与特征筛选。而该方法通过创建更多特征来提供更多捕捉数据规律的维度，从而提升模型效果。当然特征衍生也是目前公认的最为有效的、能够显著提升数据集质量方法。"
   ]
  },
  {
   "cell_type": "markdown",
   "id": "059aab6f-589d-4a36-886d-b8f07dd913fa",
   "metadata": {},
   "source": [
    "# <center>Part 4.时序特征衍生与NLP特征衍生"
   ]
  },
  {
   "cell_type": "markdown",
   "id": "4a4da367-092c-400c-a06a-bd7e91c7c71f",
   "metadata": {},
   "source": [
    "&emsp;&emsp;本阶开始我们将重点讨论特征工程中的特征衍生与特征筛选方法，并借此进一步提升模型效果。首先需要将此前的操作中涉及到的第三方库进行统一的导入："
   ]
  },
  {
   "cell_type": "code",
   "execution_count": 1,
   "id": "aee66f21-22a3-47a3-ab5e-001c18d17222",
   "metadata": {
    "tags": []
   },
   "outputs": [],
   "source": [
    "# 基础数据科学运算库\n",
    "import numpy as np\n",
    "import pandas as pd\n",
    "\n",
    "# 可视化库\n",
    "import seaborn as sns\n",
    "import matplotlib.pyplot as plt\n",
    "\n",
    "# 时间模块\n",
    "import time\n",
    "\n",
    "# sklearn库\n",
    "# 数据预处理\n",
    "from sklearn import preprocessing\n",
    "from sklearn.compose import ColumnTransformer\n",
    "\n",
    "# 实用函数\n",
    "from sklearn.metrics import accuracy_score, recall_score, precision_score, f1_score, roc_auc_score\n",
    "from sklearn.model_selection import train_test_split\n",
    "\n",
    "# 常用评估器\n",
    "from sklearn.pipeline import make_pipeline\n",
    "from sklearn.linear_model import LogisticRegression\n",
    "from sklearn import tree\n",
    "from sklearn.tree import DecisionTreeClassifier\n",
    "\n",
    "# 网格搜索\n",
    "from sklearn.model_selection import GridSearchCV\n",
    "\n",
    "# 自定义评估器支持模块\n",
    "from sklearn.base import BaseEstimator, TransformerMixin\n",
    "\n",
    "# 自定义模块\n",
    "from telcoFunc import *\n",
    "\n",
    "# re模块相关\n",
    "import inspect, re"
   ]
  },
  {
   "cell_type": "markdown",
   "id": "f005ed10-b3c3-4f30-b0b7-11a54b411f76",
   "metadata": {},
   "source": [
    "其中telcoFunc是自定义的模块，其内保存了此前自定义的函数和类，后续新增的函数和类也将逐步写入其中，telcoFunc.py文件随课件提供，需要将其放置于当前ipy文件同一文件夹内才能正常导入。"
   ]
  },
  {
   "cell_type": "markdown",
   "id": "987dc44e-9874-4ece-bef2-e3a0b6f1768c",
   "metadata": {},
   "source": [
    "&emsp;&emsp;接下来导入数据并执行Part 1中的数据清洗步骤。"
   ]
  },
  {
   "cell_type": "code",
   "execution_count": 2,
   "id": "e4e49afb-18e5-4bed-a8b8-2ba5f43e1b6e",
   "metadata": {},
   "outputs": [],
   "source": [
    "# 读取数据\n",
    "tcc = pd.read_csv('WA_Fn-UseC_-Telco-Customer-Churn.csv')\n",
    "\n",
    "# 标注连续/离散字段\n",
    "# 离散字段\n",
    "category_cols = ['gender', 'SeniorCitizen', 'Partner', 'Dependents',\n",
    "                'PhoneService', 'MultipleLines', 'InternetService', 'OnlineSecurity', 'OnlineBackup', \n",
    "                'DeviceProtection', 'TechSupport', 'StreamingTV', 'StreamingMovies', 'Contract', 'PaperlessBilling',\n",
    "                'PaymentMethod']\n",
    "\n",
    "# 连续字段\n",
    "numeric_cols = ['tenure', 'MonthlyCharges', 'TotalCharges']\n",
    " \n",
    "# 标签\n",
    "target = 'Churn'\n",
    "\n",
    "# ID列\n",
    "ID_col = 'customerID'\n",
    "\n",
    "# 验证是否划分能完全\n",
    "assert len(category_cols) + len(numeric_cols) + 2 == tcc.shape[1]\n",
    "\n",
    "# 连续字段转化\n",
    "tcc['TotalCharges']= tcc['TotalCharges'].apply(lambda x: x if x!= ' ' else np.nan).astype(float)\n",
    "tcc['MonthlyCharges'] = tcc['MonthlyCharges'].astype(float)\n",
    "\n",
    "# 缺失值填补\n",
    "tcc['TotalCharges'] = tcc['TotalCharges'].fillna(0)\n",
    "\n",
    "# 标签值手动转化 \n",
    "tcc['Churn'].replace(to_replace='Yes', value=1, inplace=True)\n",
    "tcc['Churn'].replace(to_replace='No',  value=0, inplace=True)"
   ]
  },
  {
   "cell_type": "code",
   "execution_count": 3,
   "id": "acfb68b4-5b87-41d8-8e83-cf91ed23a92f",
   "metadata": {},
   "outputs": [],
   "source": [
    "features = tcc.drop(columns=[ID_col, target]).copy()\n",
    "labels = tcc['Churn'].copy()"
   ]
  },
  {
   "cell_type": "markdown",
   "id": "22326703-8b2e-4b7a-9649-4b9824c5a755",
   "metadata": {},
   "source": [
    "接下来即可直接带入数据进行特征衍生。"
   ]
  },
  {
   "cell_type": "markdown",
   "id": "a0205acb-645f-4338-9d3e-093e13f68d6d",
   "metadata": {},
   "source": [
    "#### 1.2 更通用的时序字段基本特征衍生方法"
   ]
  },
  {
   "cell_type": "markdown",
   "id": "bdfb4418-d8a4-4c26-a492-809739775406",
   "metadata": {},
   "source": [
    "&emsp;&emsp;在本案例中，由于时序字段并没有包含更多细节的信息，因此分析过程并不复杂，但在其他很多场景下时序字段的特征衍生与分析可能会非常复杂。因此，为了应对更加复杂场景，我们需要进一步补充一些时序字段的处理方法与特征衍生策略，同时，在对某些包含时序特征的回归问题中，我们还会使用一类仅仅通过时序特征就能够对标签进行预测的模型——时间序列模型，尽管本案例中并不涉及实践序列模型建模，但简单了解其背后的核心思想却是非常有助于我们理解时序特征的重要性，也能够更进一步指导我们进行时序特征的特征衍生。"
   ]
  },
  {
   "cell_type": "markdown",
   "id": "fc3fb110-fd02-4596-835a-aeef04706ff4",
   "metadata": {},
   "source": [
    "- Pandas中的时间记录格式"
   ]
  },
  {
   "cell_type": "markdown",
   "id": "c59285f7-99a8-4129-8e13-a8f5436f1ae4",
   "metadata": {},
   "source": [
    "&emsp;&emsp;首先是关于时序字段的展示形式，本案例中tenure字段是经过自然数编码后的字段，时间是以整数形式进行呈现，而对于其他很多数据集，时序字段往往记录的就是时间是真实时间，并且是精确到年-月-日、甚至是小时-分钟-秒的字段，例如\"2022-07-01;14:22:01\"，此时拿到数据后，首先需要考虑的是如何对这类字段进行处理。"
   ]
  },
  {
   "cell_type": "code",
   "execution_count": 41,
   "id": "83ef5ed0-6efe-43d5-8b1e-fee5a4e0e60f",
   "metadata": {},
   "outputs": [],
   "source": [
    "t = pd.DataFrame()"
   ]
  },
  {
   "cell_type": "code",
   "execution_count": 42,
   "id": "b5bf4d47-b305-4bf9-944c-f458d4b285c7",
   "metadata": {},
   "outputs": [
    {
     "data": {
      "text/html": [
       "<div>\n",
       "<style scoped>\n",
       "    .dataframe tbody tr th:only-of-type {\n",
       "        vertical-align: middle;\n",
       "    }\n",
       "\n",
       "    .dataframe tbody tr th {\n",
       "        vertical-align: top;\n",
       "    }\n",
       "\n",
       "    .dataframe thead th {\n",
       "        text-align: right;\n",
       "    }\n",
       "</style>\n",
       "<table border=\"1\" class=\"dataframe\">\n",
       "  <thead>\n",
       "    <tr style=\"text-align: right;\">\n",
       "      <th></th>\n",
       "      <th>time</th>\n",
       "    </tr>\n",
       "  </thead>\n",
       "  <tbody>\n",
       "    <tr>\n",
       "      <th>0</th>\n",
       "      <td>2022-01-03;02:31:52</td>\n",
       "    </tr>\n",
       "    <tr>\n",
       "      <th>1</th>\n",
       "      <td>2022-07-01;14:22:01</td>\n",
       "    </tr>\n",
       "    <tr>\n",
       "      <th>2</th>\n",
       "      <td>2022-08-22;08:02:31</td>\n",
       "    </tr>\n",
       "    <tr>\n",
       "      <th>3</th>\n",
       "      <td>2022-04-30;11:41:31</td>\n",
       "    </tr>\n",
       "    <tr>\n",
       "      <th>4</th>\n",
       "      <td>2022-05-02;22:01:27</td>\n",
       "    </tr>\n",
       "  </tbody>\n",
       "</table>\n",
       "</div>"
      ],
      "text/plain": [
       "                  time\n",
       "0  2022-01-03;02:31:52\n",
       "1  2022-07-01;14:22:01\n",
       "2  2022-08-22;08:02:31\n",
       "3  2022-04-30;11:41:31\n",
       "4  2022-05-02;22:01:27"
      ]
     },
     "execution_count": 42,
     "metadata": {},
     "output_type": "execute_result"
    }
   ],
   "source": [
    "t['time'] = ['2022-01-03;02:31:52',\n",
    "             '2022-07-01;14:22:01', \n",
    "             '2022-08-22;08:02:31', \n",
    "             '2022-04-30;11:41:31', \n",
    "             '2022-05-02;22:01:27']\n",
    "t"
   ]
  },
  {
   "cell_type": "markdown",
   "id": "f4c10e83-e770-4ebf-924c-893d2b28f4ea",
   "metadata": {},
   "source": [
    "当然，对于这类object对象，我们可以字符串分割的方式对其进行处理，此外还有一种更简单通用同时也更有效的方法：将其转化为datetime64格式，这也是pandas中专门用于记录时间对象的格式。对于datetime64来说有两种子类型，分别是datetime64[ns]毫秒格式与datetime64[D]日期格式。无论是哪种格式，我们可以通过pd.to_datetime函数对其进行转化，基本过程如下："
   ]
  },
  {
   "cell_type": "code",
   "execution_count": 43,
   "id": "76373856-5599-47e3-918a-c954a054eccd",
   "metadata": {
    "collapsed": true,
    "jupyter": {
     "outputs_hidden": true
    },
    "tags": []
   },
   "outputs": [
    {
     "data": {
      "text/plain": [
       "\u001b[1;31mSignature:\u001b[0m\n",
       "\u001b[0mpd\u001b[0m\u001b[1;33m.\u001b[0m\u001b[0mto_datetime\u001b[0m\u001b[1;33m(\u001b[0m\u001b[1;33m\n",
       "\u001b[0m    \u001b[0marg\u001b[0m\u001b[1;33m:\u001b[0m \u001b[0mUnion\u001b[0m\u001b[1;33m[\u001b[0m\u001b[1;33m~\u001b[0m\u001b[0mDatetimeScalar\u001b[0m\u001b[1;33m,\u001b[0m \u001b[0mList\u001b[0m\u001b[1;33m,\u001b[0m \u001b[0mTuple\u001b[0m\u001b[1;33m,\u001b[0m \u001b[1;33m~\u001b[0m\u001b[0mArrayLike\u001b[0m\u001b[1;33m,\u001b[0m \u001b[0mForwardRef\u001b[0m\u001b[1;33m(\u001b[0m\u001b[1;34m'Series'\u001b[0m\u001b[1;33m)\u001b[0m\u001b[1;33m]\u001b[0m\u001b[1;33m,\u001b[0m\u001b[1;33m\n",
       "\u001b[0m    \u001b[0merrors\u001b[0m\u001b[1;33m:\u001b[0m \u001b[0mstr\u001b[0m \u001b[1;33m=\u001b[0m \u001b[1;34m'raise'\u001b[0m\u001b[1;33m,\u001b[0m\u001b[1;33m\n",
       "\u001b[0m    \u001b[0mdayfirst\u001b[0m\u001b[1;33m:\u001b[0m \u001b[0mbool\u001b[0m \u001b[1;33m=\u001b[0m \u001b[1;32mFalse\u001b[0m\u001b[1;33m,\u001b[0m\u001b[1;33m\n",
       "\u001b[0m    \u001b[0myearfirst\u001b[0m\u001b[1;33m:\u001b[0m \u001b[0mbool\u001b[0m \u001b[1;33m=\u001b[0m \u001b[1;32mFalse\u001b[0m\u001b[1;33m,\u001b[0m\u001b[1;33m\n",
       "\u001b[0m    \u001b[0mutc\u001b[0m\u001b[1;33m:\u001b[0m \u001b[0mUnion\u001b[0m\u001b[1;33m[\u001b[0m\u001b[0mbool\u001b[0m\u001b[1;33m,\u001b[0m \u001b[0mNoneType\u001b[0m\u001b[1;33m]\u001b[0m \u001b[1;33m=\u001b[0m \u001b[1;32mNone\u001b[0m\u001b[1;33m,\u001b[0m\u001b[1;33m\n",
       "\u001b[0m    \u001b[0mformat\u001b[0m\u001b[1;33m:\u001b[0m \u001b[0mUnion\u001b[0m\u001b[1;33m[\u001b[0m\u001b[0mstr\u001b[0m\u001b[1;33m,\u001b[0m \u001b[0mNoneType\u001b[0m\u001b[1;33m]\u001b[0m \u001b[1;33m=\u001b[0m \u001b[1;32mNone\u001b[0m\u001b[1;33m,\u001b[0m\u001b[1;33m\n",
       "\u001b[0m    \u001b[0mexact\u001b[0m\u001b[1;33m:\u001b[0m \u001b[0mbool\u001b[0m \u001b[1;33m=\u001b[0m \u001b[1;32mTrue\u001b[0m\u001b[1;33m,\u001b[0m\u001b[1;33m\n",
       "\u001b[0m    \u001b[0munit\u001b[0m\u001b[1;33m:\u001b[0m \u001b[0mUnion\u001b[0m\u001b[1;33m[\u001b[0m\u001b[0mstr\u001b[0m\u001b[1;33m,\u001b[0m \u001b[0mNoneType\u001b[0m\u001b[1;33m]\u001b[0m \u001b[1;33m=\u001b[0m \u001b[1;32mNone\u001b[0m\u001b[1;33m,\u001b[0m\u001b[1;33m\n",
       "\u001b[0m    \u001b[0minfer_datetime_format\u001b[0m\u001b[1;33m:\u001b[0m \u001b[0mbool\u001b[0m \u001b[1;33m=\u001b[0m \u001b[1;32mFalse\u001b[0m\u001b[1;33m,\u001b[0m\u001b[1;33m\n",
       "\u001b[0m    \u001b[0morigin\u001b[0m\u001b[1;33m=\u001b[0m\u001b[1;34m'unix'\u001b[0m\u001b[1;33m,\u001b[0m\u001b[1;33m\n",
       "\u001b[0m    \u001b[0mcache\u001b[0m\u001b[1;33m:\u001b[0m \u001b[0mbool\u001b[0m \u001b[1;33m=\u001b[0m \u001b[1;32mTrue\u001b[0m\u001b[1;33m,\u001b[0m\u001b[1;33m\n",
       "\u001b[0m\u001b[1;33m)\u001b[0m \u001b[1;33m->\u001b[0m \u001b[0mUnion\u001b[0m\u001b[1;33m[\u001b[0m\u001b[0mpandas\u001b[0m\u001b[1;33m.\u001b[0m\u001b[0mcore\u001b[0m\u001b[1;33m.\u001b[0m\u001b[0mindexes\u001b[0m\u001b[1;33m.\u001b[0m\u001b[0mdatetimes\u001b[0m\u001b[1;33m.\u001b[0m\u001b[0mDatetimeIndex\u001b[0m\u001b[1;33m,\u001b[0m \u001b[0mForwardRef\u001b[0m\u001b[1;33m(\u001b[0m\u001b[1;34m'Series'\u001b[0m\u001b[1;33m)\u001b[0m\u001b[1;33m,\u001b[0m \u001b[1;33m~\u001b[0m\u001b[0mDatetimeScalar\u001b[0m\u001b[1;33m,\u001b[0m \u001b[0mForwardRef\u001b[0m\u001b[1;33m(\u001b[0m\u001b[1;34m'NaTType'\u001b[0m\u001b[1;33m)\u001b[0m\u001b[1;33m]\u001b[0m\u001b[1;33m\u001b[0m\u001b[1;33m\u001b[0m\u001b[0m\n",
       "\u001b[1;31mDocstring:\u001b[0m\n",
       "Convert argument to datetime.\n",
       "\n",
       "Parameters\n",
       "----------\n",
       "arg : int, float, str, datetime, list, tuple, 1-d array, Series, DataFrame/dict-like\n",
       "    The object to convert to a datetime.\n",
       "errors : {'ignore', 'raise', 'coerce'}, default 'raise'\n",
       "    - If 'raise', then invalid parsing will raise an exception.\n",
       "    - If 'coerce', then invalid parsing will be set as NaT.\n",
       "    - If 'ignore', then invalid parsing will return the input.\n",
       "dayfirst : bool, default False\n",
       "    Specify a date parse order if `arg` is str or its list-likes.\n",
       "    If True, parses dates with the day first, eg 10/11/12 is parsed as\n",
       "    2012-11-10.\n",
       "    Warning: dayfirst=True is not strict, but will prefer to parse\n",
       "    with day first (this is a known bug, based on dateutil behavior).\n",
       "yearfirst : bool, default False\n",
       "    Specify a date parse order if `arg` is str or its list-likes.\n",
       "\n",
       "    - If True parses dates with the year first, eg 10/11/12 is parsed as\n",
       "      2010-11-12.\n",
       "    - If both dayfirst and yearfirst are True, yearfirst is preceded (same\n",
       "      as dateutil).\n",
       "\n",
       "    Warning: yearfirst=True is not strict, but will prefer to parse\n",
       "    with year first (this is a known bug, based on dateutil behavior).\n",
       "utc : bool, default None\n",
       "    Return UTC DatetimeIndex if True (converting any tz-aware\n",
       "    datetime.datetime objects as well).\n",
       "format : str, default None\n",
       "    The strftime to parse time, eg \"%d/%m/%Y\", note that \"%f\" will parse\n",
       "    all the way up to nanoseconds.\n",
       "    See strftime documentation for more information on choices:\n",
       "    https://docs.python.org/3/library/datetime.html#strftime-and-strptime-behavior.\n",
       "exact : bool, True by default\n",
       "    Behaves as:\n",
       "    - If True, require an exact format match.\n",
       "    - If False, allow the format to match anywhere in the target string.\n",
       "\n",
       "unit : str, default 'ns'\n",
       "    The unit of the arg (D,s,ms,us,ns) denote the unit, which is an\n",
       "    integer or float number. This will be based off the origin.\n",
       "    Example, with unit='ms' and origin='unix' (the default), this\n",
       "    would calculate the number of milliseconds to the unix epoch start.\n",
       "infer_datetime_format : bool, default False\n",
       "    If True and no `format` is given, attempt to infer the format of the\n",
       "    datetime strings based on the first non-NaN element,\n",
       "    and if it can be inferred, switch to a faster method of parsing them.\n",
       "    In some cases this can increase the parsing speed by ~5-10x.\n",
       "origin : scalar, default 'unix'\n",
       "    Define the reference date. The numeric values would be parsed as number\n",
       "    of units (defined by `unit`) since this reference date.\n",
       "\n",
       "    - If 'unix' (or POSIX) time; origin is set to 1970-01-01.\n",
       "    - If 'julian', unit must be 'D', and origin is set to beginning of\n",
       "      Julian Calendar. Julian day number 0 is assigned to the day starting\n",
       "      at noon on January 1, 4713 BC.\n",
       "    - If Timestamp convertible, origin is set to Timestamp identified by\n",
       "      origin.\n",
       "cache : bool, default True\n",
       "    If True, use a cache of unique, converted dates to apply the datetime\n",
       "    conversion. May produce significant speed-up when parsing duplicate\n",
       "    date strings, especially ones with timezone offsets. The cache is only\n",
       "    used when there are at least 50 values. The presence of out-of-bounds\n",
       "    values will render the cache unusable and may slow down parsing.\n",
       "\n",
       "    .. versionchanged:: 0.25.0\n",
       "        - changed default value from False to True.\n",
       "\n",
       "Returns\n",
       "-------\n",
       "datetime\n",
       "    If parsing succeeded.\n",
       "    Return type depends on input:\n",
       "\n",
       "    - list-like: DatetimeIndex\n",
       "    - Series: Series of datetime64 dtype\n",
       "    - scalar: Timestamp\n",
       "\n",
       "    In case when it is not possible to return designated types (e.g. when\n",
       "    any element of input is before Timestamp.min or after Timestamp.max)\n",
       "    return will have datetime.datetime type (or corresponding\n",
       "    array/Series).\n",
       "\n",
       "See Also\n",
       "--------\n",
       "DataFrame.astype : Cast argument to a specified dtype.\n",
       "to_timedelta : Convert argument to timedelta.\n",
       "convert_dtypes : Convert dtypes.\n",
       "\n",
       "Examples\n",
       "--------\n",
       "Assembling a datetime from multiple columns of a DataFrame. The keys can be\n",
       "common abbreviations like ['year', 'month', 'day', 'minute', 'second',\n",
       "'ms', 'us', 'ns']) or plurals of the same\n",
       "\n",
       ">>> df = pd.DataFrame({'year': [2015, 2016],\n",
       "...                    'month': [2, 3],\n",
       "...                    'day': [4, 5]})\n",
       ">>> pd.to_datetime(df)\n",
       "0   2015-02-04\n",
       "1   2016-03-05\n",
       "dtype: datetime64[ns]\n",
       "\n",
       "If a date does not meet the `timestamp limitations\n",
       "<https://pandas.pydata.org/pandas-docs/stable/user_guide/timeseries.html\n",
       "#timeseries-timestamp-limits>`_, passing errors='ignore'\n",
       "will return the original input instead of raising any exception.\n",
       "\n",
       "Passing errors='coerce' will force an out-of-bounds date to NaT,\n",
       "in addition to forcing non-dates (or non-parseable dates) to NaT.\n",
       "\n",
       ">>> pd.to_datetime('13000101', format='%Y%m%d', errors='ignore')\n",
       "datetime.datetime(1300, 1, 1, 0, 0)\n",
       ">>> pd.to_datetime('13000101', format='%Y%m%d', errors='coerce')\n",
       "NaT\n",
       "\n",
       "Passing infer_datetime_format=True can often-times speedup a parsing\n",
       "if its not an ISO8601 format exactly, but in a regular format.\n",
       "\n",
       ">>> s = pd.Series(['3/11/2000', '3/12/2000', '3/13/2000'] * 1000)\n",
       ">>> s.head()\n",
       "0    3/11/2000\n",
       "1    3/12/2000\n",
       "2    3/13/2000\n",
       "3    3/11/2000\n",
       "4    3/12/2000\n",
       "dtype: object\n",
       "\n",
       ">>> %timeit pd.to_datetime(s, infer_datetime_format=True)  # doctest: +SKIP\n",
       "100 loops, best of 3: 10.4 ms per loop\n",
       "\n",
       ">>> %timeit pd.to_datetime(s, infer_datetime_format=False)  # doctest: +SKIP\n",
       "1 loop, best of 3: 471 ms per loop\n",
       "\n",
       "Using a unix epoch time\n",
       "\n",
       ">>> pd.to_datetime(1490195805, unit='s')\n",
       "Timestamp('2017-03-22 15:16:45')\n",
       ">>> pd.to_datetime(1490195805433502912, unit='ns')\n",
       "Timestamp('2017-03-22 15:16:45.433502912')\n",
       "\n",
       ".. warning:: For float arg, precision rounding might happen. To prevent\n",
       "    unexpected behavior use a fixed-width exact type.\n",
       "\n",
       "Using a non-unix epoch origin\n",
       "\n",
       ">>> pd.to_datetime([1, 2, 3], unit='D',\n",
       "...                origin=pd.Timestamp('1960-01-01'))\n",
       "DatetimeIndex(['1960-01-02', '1960-01-03', '1960-01-04'], dtype='datetime64[ns]', freq=None)\n",
       "\u001b[1;31mFile:\u001b[0m      c:\\users\\vdmion\\anaconda3\\lib\\site-packages\\pandas\\core\\tools\\datetimes.py\n",
       "\u001b[1;31mType:\u001b[0m      function\n"
      ]
     },
     "metadata": {},
     "output_type": "display_data"
    }
   ],
   "source": [
    "pd.to_datetime?"
   ]
  },
  {
   "cell_type": "code",
   "execution_count": 44,
   "id": "ed06743a-bf2f-464f-9b40-86f00e05adee",
   "metadata": {},
   "outputs": [
    {
     "data": {
      "text/plain": [
       "0   2022-01-03 02:31:52\n",
       "1   2022-07-01 14:22:01\n",
       "2   2022-08-22 08:02:31\n",
       "3   2022-04-30 11:41:31\n",
       "4   2022-05-02 22:01:27\n",
       "Name: time, dtype: datetime64[ns]"
      ]
     },
     "execution_count": 44,
     "metadata": {},
     "output_type": "execute_result"
    }
   ],
   "source": [
    "pd.to_datetime(t['time'])"
   ]
  },
  {
   "cell_type": "code",
   "execution_count": 45,
   "id": "c9542fb4-8341-46df-83eb-701eaf4bb04a",
   "metadata": {},
   "outputs": [
    {
     "data": {
      "text/plain": [
       "0   2022-01-03 02:31:52\n",
       "1   2022-07-01 14:22:01\n",
       "2   2022-08-22 08:02:31\n",
       "3   2022-04-30 11:41:31\n",
       "4   2022-05-02 22:01:27\n",
       "Name: time, dtype: datetime64[ns]"
      ]
     },
     "execution_count": 45,
     "metadata": {},
     "output_type": "execute_result"
    }
   ],
   "source": [
    "t['time'] = pd.to_datetime(t['time'])\n",
    "t['time']"
   ]
  },
  {
   "cell_type": "markdown",
   "id": "2ea75d37-3ad6-4882-a2a4-a60bd54fd814",
   "metadata": {},
   "source": [
    "> 这里需要注意，一般来说时间字段的记录格式都是用'-'来划分年月日，用':'来分割时分秒，用空格、分号或者换行来分割年月日与时分秒，这是一种通用的记录方法，如果是手动输入时间，也尽可能按照上述格式进行记录。"
   ]
  },
  {
   "cell_type": "markdown",
   "id": "2ffdc1f2-9ed0-4786-a770-09b892af0fb0",
   "metadata": {},
   "source": [
    "同时我们发现，该函数会自动将目标对象转化为datetime64[ns]类型，该对象类型是一种高精度、精确到纳秒（10的负九次方秒）的时间记录格式，后面在进行时间差计算时会看到纳秒级运算的结果。当然，如果我们的时间记录格式本身只精确到日期、并没有时分秒，通过pd.to_datetime函数仍然会转化为datetime64[ns]类型，只是此时显示的时间中就没有时分秒："
   ]
  },
  {
   "cell_type": "code",
   "execution_count": 125,
   "id": "ae3f5c89-2749-4d51-8dfb-e0f206dfbecc",
   "metadata": {},
   "outputs": [
    {
     "data": {
      "text/html": [
       "<div>\n",
       "<style scoped>\n",
       "    .dataframe tbody tr th:only-of-type {\n",
       "        vertical-align: middle;\n",
       "    }\n",
       "\n",
       "    .dataframe tbody tr th {\n",
       "        vertical-align: top;\n",
       "    }\n",
       "\n",
       "    .dataframe thead th {\n",
       "        text-align: right;\n",
       "    }\n",
       "</style>\n",
       "<table border=\"1\" class=\"dataframe\">\n",
       "  <thead>\n",
       "    <tr style=\"text-align: right;\">\n",
       "      <th></th>\n",
       "      <th>time</th>\n",
       "    </tr>\n",
       "  </thead>\n",
       "  <tbody>\n",
       "    <tr>\n",
       "      <th>0</th>\n",
       "      <td>2022-01-03</td>\n",
       "    </tr>\n",
       "    <tr>\n",
       "      <th>1</th>\n",
       "      <td>2022-07-01</td>\n",
       "    </tr>\n",
       "  </tbody>\n",
       "</table>\n",
       "</div>"
      ],
      "text/plain": [
       "         time\n",
       "0  2022-01-03\n",
       "1  2022-07-01"
      ]
     },
     "execution_count": 125,
     "metadata": {},
     "output_type": "execute_result"
    }
   ],
   "source": [
    "t1 = pd.DataFrame()\n",
    "t1['time'] = ['2022-01-03', '2022-07-01',]\n",
    "t1"
   ]
  },
  {
   "cell_type": "code",
   "execution_count": 126,
   "id": "c669e32f-883f-43d7-9c07-1e953dfcf009",
   "metadata": {},
   "outputs": [
    {
     "data": {
      "text/plain": [
       "0   2022-01-03\n",
       "1   2022-07-01\n",
       "Name: time, dtype: datetime64[ns]"
      ]
     },
     "execution_count": 126,
     "metadata": {},
     "output_type": "execute_result"
    }
   ],
   "source": [
    "t1['time'] = pd.to_datetime(t1['time'])\n",
    "t1['time']"
   ]
  },
  {
   "cell_type": "markdown",
   "id": "99914738-5e25-4da0-b8a3-f4cfc34d83e3",
   "metadata": {},
   "source": [
    "就类似于浮点数与整数，更高的精度往往会导致更大的计算量，对于本身只是精确到日期的时间记录格式，我们其实可以用另一种只能精确到天的时间数据格式进行记录，也就是datetime64[D]类型。当然在pd.to_datetime函数使用过程中是无法直接创建datetime64[D]类型对象的，我们需要使用.value.astype('datetime64[D]')的方法对其进行转化，但是需要注意，这个过程最终创建的对象类型是array，而不再是Series了："
   ]
  },
  {
   "cell_type": "code",
   "execution_count": 48,
   "id": "0deb26e6-61f5-4d9d-9f32-fe717b9cd033",
   "metadata": {},
   "outputs": [
    {
     "data": {
      "text/plain": [
       "array(['2022-01-03T00:00:00.000000000', '2022-07-01T00:00:00.000000000'],\n",
       "      dtype='datetime64[ns]')"
      ]
     },
     "execution_count": 48,
     "metadata": {},
     "output_type": "execute_result"
    }
   ],
   "source": [
    "t1['time'].values"
   ]
  },
  {
   "cell_type": "code",
   "execution_count": 49,
   "id": "183ed98f-86f2-40e2-9d1a-a093380f1d6f",
   "metadata": {},
   "outputs": [
    {
     "data": {
      "text/plain": [
       "array(['2022-01-03', '2022-07-01'], dtype='datetime64[D]')"
      ]
     },
     "execution_count": 49,
     "metadata": {},
     "output_type": "execute_result"
    }
   ],
   "source": [
    "t1['time'].values.astype('datetime64[D]')"
   ]
  },
  {
   "cell_type": "markdown",
   "id": "2983a9e0-02dc-4ac3-a45d-d83371540ae2",
   "metadata": {},
   "source": [
    "能够看出，array是支持datetime64[ns]和datetime64[D]等多种类型存储的，但对于pandas来说，只支持以datetime64[ns]类型进行存储，哪怕输入的对象类型是datetime64[D]，在转化为Series时仍然会被转化为datetime64[ns]："
   ]
  },
  {
   "cell_type": "code",
   "execution_count": 50,
   "id": "63e412a4-37de-4163-8fb2-a2af22cecdf5",
   "metadata": {},
   "outputs": [],
   "source": [
    "t1['time'] = pd.Series(t1['time'].values.astype('datetime64[D]'), dtype='datetime64[D]')"
   ]
  },
  {
   "cell_type": "code",
   "execution_count": 51,
   "id": "484c5808-c636-4b37-ba8c-b4b662df9e22",
   "metadata": {},
   "outputs": [
    {
     "data": {
      "text/plain": [
       "0   2022-01-03\n",
       "1   2022-07-01\n",
       "Name: time, dtype: datetime64[ns]"
      ]
     },
     "execution_count": 51,
     "metadata": {},
     "output_type": "execute_result"
    }
   ],
   "source": [
    "t1['time']"
   ]
  },
  {
   "cell_type": "markdown",
   "id": "65e29910-21a0-4a79-983c-350085568248",
   "metadata": {},
   "source": [
    "尽管我们无法使用.values.astype('datetime64[D]')方法将Series对象类型进行'datetime64[D]'类型转化，但不同时间格式的转化有的时候有助于我们控制时间记录本身的精度，例如对于t中的time列，如果对其进行精确到天的'datetime64[D]'类型转化，则会自动删除时分秒的数据记录结果："
   ]
  },
  {
   "cell_type": "code",
   "execution_count": 52,
   "id": "c48bcd2c-e8eb-407d-988c-e72098633ecb",
   "metadata": {},
   "outputs": [
    {
     "data": {
      "text/plain": [
       "array(['2022-01-03', '2022-07-01', '2022-08-22', '2022-04-30',\n",
       "       '2022-05-02'], dtype='datetime64[D]')"
      ]
     },
     "execution_count": 52,
     "metadata": {},
     "output_type": "execute_result"
    }
   ],
   "source": [
    "t['time'].values.astype('datetime64[D]')"
   ]
  },
  {
   "cell_type": "code",
   "execution_count": 53,
   "id": "a97e6dc4-351a-43fb-8390-65e734e4fddc",
   "metadata": {},
   "outputs": [
    {
     "data": {
      "text/html": [
       "<div>\n",
       "<style scoped>\n",
       "    .dataframe tbody tr th:only-of-type {\n",
       "        vertical-align: middle;\n",
       "    }\n",
       "\n",
       "    .dataframe tbody tr th {\n",
       "        vertical-align: top;\n",
       "    }\n",
       "\n",
       "    .dataframe thead th {\n",
       "        text-align: right;\n",
       "    }\n",
       "</style>\n",
       "<table border=\"1\" class=\"dataframe\">\n",
       "  <thead>\n",
       "    <tr style=\"text-align: right;\">\n",
       "      <th></th>\n",
       "      <th>time</th>\n",
       "      <th>time-D</th>\n",
       "    </tr>\n",
       "  </thead>\n",
       "  <tbody>\n",
       "    <tr>\n",
       "      <th>0</th>\n",
       "      <td>2022-01-03 02:31:52</td>\n",
       "      <td>2022-01-03</td>\n",
       "    </tr>\n",
       "    <tr>\n",
       "      <th>1</th>\n",
       "      <td>2022-07-01 14:22:01</td>\n",
       "      <td>2022-07-01</td>\n",
       "    </tr>\n",
       "    <tr>\n",
       "      <th>2</th>\n",
       "      <td>2022-08-22 08:02:31</td>\n",
       "      <td>2022-08-22</td>\n",
       "    </tr>\n",
       "    <tr>\n",
       "      <th>3</th>\n",
       "      <td>2022-04-30 11:41:31</td>\n",
       "      <td>2022-04-30</td>\n",
       "    </tr>\n",
       "    <tr>\n",
       "      <th>4</th>\n",
       "      <td>2022-05-02 22:01:27</td>\n",
       "      <td>2022-05-02</td>\n",
       "    </tr>\n",
       "  </tbody>\n",
       "</table>\n",
       "</div>"
      ],
      "text/plain": [
       "                 time     time-D\n",
       "0 2022-01-03 02:31:52 2022-01-03\n",
       "1 2022-07-01 14:22:01 2022-07-01\n",
       "2 2022-08-22 08:02:31 2022-08-22\n",
       "3 2022-04-30 11:41:31 2022-04-30\n",
       "4 2022-05-02 22:01:27 2022-05-02"
      ]
     },
     "execution_count": 53,
     "metadata": {},
     "output_type": "execute_result"
    }
   ],
   "source": [
    "t['time-D'] = t['time'].values.astype('datetime64[D]')\n",
    "t"
   ]
  },
  {
   "cell_type": "markdown",
   "id": "5c13265b-fa3d-4751-8d9e-9d277d4e0a74",
   "metadata": {},
   "source": [
    "有的时候我们无需考虑时分秒的时间时，可以通过上述方法进行精确到天的时间格式转化。当然，此外还有'datetime64[h]'类型可精确到小时、'datetime64[s]'精确到、'datetime64[ms]'精确到毫秒等："
   ]
  },
  {
   "cell_type": "code",
   "execution_count": 54,
   "id": "62493dc7-44f7-4fee-abf6-233da7e4084f",
   "metadata": {},
   "outputs": [
    {
     "data": {
      "text/plain": [
       "array(['2022-01-03T02', '2022-07-01T14', '2022-08-22T08', '2022-04-30T11',\n",
       "       '2022-05-02T22'], dtype='datetime64[h]')"
      ]
     },
     "execution_count": 54,
     "metadata": {},
     "output_type": "execute_result"
    }
   ],
   "source": [
    "t['time'].values.astype('datetime64[h]')"
   ]
  },
  {
   "cell_type": "code",
   "execution_count": 55,
   "id": "4ea4376a-1625-4073-9dd5-324b5cc6bf03",
   "metadata": {},
   "outputs": [
    {
     "data": {
      "text/plain": [
       "array(['2022-01-03T02:31:52', '2022-07-01T14:22:01',\n",
       "       '2022-08-22T08:02:31', '2022-04-30T11:41:31',\n",
       "       '2022-05-02T22:01:27'], dtype='datetime64[s]')"
      ]
     },
     "execution_count": 55,
     "metadata": {},
     "output_type": "execute_result"
    }
   ],
   "source": [
    "t['time'].values.astype('datetime64[s]')"
   ]
  },
  {
   "cell_type": "markdown",
   "id": "b0f31548-28a6-4fe8-9a9e-208bcd101121",
   "metadata": {},
   "source": [
    "> 在绝大多数情况下，我们都建议采用pandas中datetime类型记录时间（尽管从表面上来看也可以用字符串来表示时间），这也将极大程度方便我们后续对关键时间信息的提取。"
   ]
  },
  {
   "cell_type": "markdown",
   "id": "909de009-ddea-4648-a7ab-d972dbbe2f55",
   "metadata": {},
   "source": [
    "- 时序字段的通用信息提取方式"
   ]
  },
  {
   "cell_type": "markdown",
   "id": "5a6ca920-4b22-4de4-a26c-71a683363afb",
   "metadata": {},
   "source": [
    "&emsp;&emsp;在转化为datetime64格式之后，我们就可以通过一些dt.func方式来提取时间中的关键信息，如年、月、日、小时、季节、一年的第几周等，常用方法如下所示："
   ]
  },
  {
   "cell_type": "markdown",
   "id": "fcff22b8-65d6-43f8-9477-2f032df947fc",
   "metadata": {},
   "source": [
    "| 方法 | 作用 |\n",
    "| ------ | ------ |\n",
    "| dt.year | 提取年 |\n",
    "| dt.month | 提取月 |\n",
    "| dt.day | 提取日 |\n",
    "| dt.hour | 提取小时 |\n",
    "| dt.minute | 提取分钟 |\n",
    "| dt.second | 提取秒 |"
   ]
  },
  {
   "cell_type": "code",
   "execution_count": 56,
   "id": "5b516729-af6f-4597-805d-dce3ada55e36",
   "metadata": {},
   "outputs": [
    {
     "data": {
      "text/plain": [
       "0    2022\n",
       "1    2022\n",
       "2    2022\n",
       "3    2022\n",
       "4    2022\n",
       "Name: time, dtype: int64"
      ]
     },
     "execution_count": 56,
     "metadata": {},
     "output_type": "execute_result"
    }
   ],
   "source": [
    "t['time'].dt.year"
   ]
  },
  {
   "cell_type": "code",
   "execution_count": 57,
   "id": "869b9f90-dffd-423c-b684-a575b5960f99",
   "metadata": {},
   "outputs": [
    {
     "data": {
      "text/plain": [
       "0    52\n",
       "1     1\n",
       "2    31\n",
       "3    31\n",
       "4    27\n",
       "Name: time, dtype: int64"
      ]
     },
     "execution_count": 57,
     "metadata": {},
     "output_type": "execute_result"
    }
   ],
   "source": [
    "t['time'].dt.second"
   ]
  },
  {
   "cell_type": "markdown",
   "id": "ea9ef06c-9673-4f15-af48-6c3803d516f1",
   "metadata": {},
   "source": [
    "接下来我们用不同的列记录这些具体时间信息："
   ]
  },
  {
   "cell_type": "code",
   "execution_count": 58,
   "id": "e7546d29-4437-49fe-bac4-6497957c8231",
   "metadata": {},
   "outputs": [],
   "source": [
    "t['year']        =  t['time'].dt.year\n",
    "t['month']       =  t['time'].dt.month\n",
    "t['day']         =  t['time'].dt.day\n",
    "t['hour']        =  t['time'].dt.hour\n",
    "t['minute']      =  t['time'].dt.minute\n",
    "t['second']      =  t['time'].dt.second"
   ]
  },
  {
   "cell_type": "code",
   "execution_count": 59,
   "id": "32dcb17f-66aa-4e11-8c12-907771808316",
   "metadata": {},
   "outputs": [
    {
     "data": {
      "text/html": [
       "<div>\n",
       "<style scoped>\n",
       "    .dataframe tbody tr th:only-of-type {\n",
       "        vertical-align: middle;\n",
       "    }\n",
       "\n",
       "    .dataframe tbody tr th {\n",
       "        vertical-align: top;\n",
       "    }\n",
       "\n",
       "    .dataframe thead th {\n",
       "        text-align: right;\n",
       "    }\n",
       "</style>\n",
       "<table border=\"1\" class=\"dataframe\">\n",
       "  <thead>\n",
       "    <tr style=\"text-align: right;\">\n",
       "      <th></th>\n",
       "      <th>time</th>\n",
       "      <th>time-D</th>\n",
       "      <th>year</th>\n",
       "      <th>month</th>\n",
       "      <th>day</th>\n",
       "      <th>hour</th>\n",
       "      <th>minute</th>\n",
       "      <th>second</th>\n",
       "    </tr>\n",
       "  </thead>\n",
       "  <tbody>\n",
       "    <tr>\n",
       "      <th>0</th>\n",
       "      <td>2022-01-03 02:31:52</td>\n",
       "      <td>2022-01-03</td>\n",
       "      <td>2022</td>\n",
       "      <td>1</td>\n",
       "      <td>3</td>\n",
       "      <td>2</td>\n",
       "      <td>31</td>\n",
       "      <td>52</td>\n",
       "    </tr>\n",
       "    <tr>\n",
       "      <th>1</th>\n",
       "      <td>2022-07-01 14:22:01</td>\n",
       "      <td>2022-07-01</td>\n",
       "      <td>2022</td>\n",
       "      <td>7</td>\n",
       "      <td>1</td>\n",
       "      <td>14</td>\n",
       "      <td>22</td>\n",
       "      <td>1</td>\n",
       "    </tr>\n",
       "    <tr>\n",
       "      <th>2</th>\n",
       "      <td>2022-08-22 08:02:31</td>\n",
       "      <td>2022-08-22</td>\n",
       "      <td>2022</td>\n",
       "      <td>8</td>\n",
       "      <td>22</td>\n",
       "      <td>8</td>\n",
       "      <td>2</td>\n",
       "      <td>31</td>\n",
       "    </tr>\n",
       "    <tr>\n",
       "      <th>3</th>\n",
       "      <td>2022-04-30 11:41:31</td>\n",
       "      <td>2022-04-30</td>\n",
       "      <td>2022</td>\n",
       "      <td>4</td>\n",
       "      <td>30</td>\n",
       "      <td>11</td>\n",
       "      <td>41</td>\n",
       "      <td>31</td>\n",
       "    </tr>\n",
       "    <tr>\n",
       "      <th>4</th>\n",
       "      <td>2022-05-02 22:01:27</td>\n",
       "      <td>2022-05-02</td>\n",
       "      <td>2022</td>\n",
       "      <td>5</td>\n",
       "      <td>2</td>\n",
       "      <td>22</td>\n",
       "      <td>1</td>\n",
       "      <td>27</td>\n",
       "    </tr>\n",
       "  </tbody>\n",
       "</table>\n",
       "</div>"
      ],
      "text/plain": [
       "                 time     time-D  year  month  day  hour  minute  second\n",
       "0 2022-01-03 02:31:52 2022-01-03  2022      1    3     2      31      52\n",
       "1 2022-07-01 14:22:01 2022-07-01  2022      7    1    14      22       1\n",
       "2 2022-08-22 08:02:31 2022-08-22  2022      8   22     8       2      31\n",
       "3 2022-04-30 11:41:31 2022-04-30  2022      4   30    11      41      31\n",
       "4 2022-05-02 22:01:27 2022-05-02  2022      5    2    22       1      27"
      ]
     },
     "execution_count": 59,
     "metadata": {},
     "output_type": "execute_result"
    }
   ],
   "source": [
    "t"
   ]
  },
  {
   "cell_type": "markdown",
   "id": "bc137dbd-6aa6-4129-8554-5d08d7f08af6",
   "metadata": {},
   "source": [
    "- 时序字段的其他自然周期提取方式"
   ]
  },
  {
   "cell_type": "markdown",
   "id": "5fe28639-e03e-4880-b984-a9a69efc0ab1",
   "metadata": {},
   "source": [
    "&emsp;&emsp;当然，除了用不同的列记录时序字段的年月日、时分秒之外，我们知道，还有一些自然周期也会对结果预测有较大影响，如日期所在季度。这里需要注意的是，对于时序字段，往往我们会尽可能的对其进行自然周期的划分，然后在后续进行特征筛选时再对这些衍生字段进行筛选，对于此前的数据集，我们能够清晰的看到季度特征对标签的影响，而很多时候，除了季度，诸如全年的第几周、一周的第几天，甚至是日期是否在周末，具体事件的时间是在上午、下午还是在晚上等，都会对预测造成影响。对于这些自然周期提取方法，有些自然周期可以通过dt的方法自动计算，另外则需要手动进行计算。首先我们先看能够自动完成计算的自然周期："
   ]
  },
  {
   "cell_type": "markdown",
   "id": "51233805-9208-45e9-b4d9-1f4c2a19f94c",
   "metadata": {},
   "source": [
    "| 方法 | 作用 |\n",
    "| ------ | ------ |\n",
    "| dt.quarter | 提取季度 |\n",
    "| dt.weekofyear | 提取年当中的周数 |\n",
    "| dt.dayofweek, dt.weekday | 提取周几 |"
   ]
  },
  {
   "cell_type": "code",
   "execution_count": 60,
   "id": "8fcc44b1-2296-45c0-9b73-946f55b23cc1",
   "metadata": {},
   "outputs": [
    {
     "data": {
      "text/html": [
       "<div>\n",
       "<style scoped>\n",
       "    .dataframe tbody tr th:only-of-type {\n",
       "        vertical-align: middle;\n",
       "    }\n",
       "\n",
       "    .dataframe tbody tr th {\n",
       "        vertical-align: top;\n",
       "    }\n",
       "\n",
       "    .dataframe thead th {\n",
       "        text-align: right;\n",
       "    }\n",
       "</style>\n",
       "<table border=\"1\" class=\"dataframe\">\n",
       "  <thead>\n",
       "    <tr style=\"text-align: right;\">\n",
       "      <th></th>\n",
       "      <th>time</th>\n",
       "      <th>time-D</th>\n",
       "      <th>year</th>\n",
       "      <th>month</th>\n",
       "      <th>day</th>\n",
       "      <th>hour</th>\n",
       "      <th>minute</th>\n",
       "      <th>second</th>\n",
       "    </tr>\n",
       "  </thead>\n",
       "  <tbody>\n",
       "    <tr>\n",
       "      <th>0</th>\n",
       "      <td>2022-01-03 02:31:52</td>\n",
       "      <td>2022-01-03</td>\n",
       "      <td>2022</td>\n",
       "      <td>1</td>\n",
       "      <td>3</td>\n",
       "      <td>2</td>\n",
       "      <td>31</td>\n",
       "      <td>52</td>\n",
       "    </tr>\n",
       "    <tr>\n",
       "      <th>1</th>\n",
       "      <td>2022-07-01 14:22:01</td>\n",
       "      <td>2022-07-01</td>\n",
       "      <td>2022</td>\n",
       "      <td>7</td>\n",
       "      <td>1</td>\n",
       "      <td>14</td>\n",
       "      <td>22</td>\n",
       "      <td>1</td>\n",
       "    </tr>\n",
       "    <tr>\n",
       "      <th>2</th>\n",
       "      <td>2022-08-22 08:02:31</td>\n",
       "      <td>2022-08-22</td>\n",
       "      <td>2022</td>\n",
       "      <td>8</td>\n",
       "      <td>22</td>\n",
       "      <td>8</td>\n",
       "      <td>2</td>\n",
       "      <td>31</td>\n",
       "    </tr>\n",
       "    <tr>\n",
       "      <th>3</th>\n",
       "      <td>2022-04-30 11:41:31</td>\n",
       "      <td>2022-04-30</td>\n",
       "      <td>2022</td>\n",
       "      <td>4</td>\n",
       "      <td>30</td>\n",
       "      <td>11</td>\n",
       "      <td>41</td>\n",
       "      <td>31</td>\n",
       "    </tr>\n",
       "    <tr>\n",
       "      <th>4</th>\n",
       "      <td>2022-05-02 22:01:27</td>\n",
       "      <td>2022-05-02</td>\n",
       "      <td>2022</td>\n",
       "      <td>5</td>\n",
       "      <td>2</td>\n",
       "      <td>22</td>\n",
       "      <td>1</td>\n",
       "      <td>27</td>\n",
       "    </tr>\n",
       "  </tbody>\n",
       "</table>\n",
       "</div>"
      ],
      "text/plain": [
       "                 time     time-D  year  month  day  hour  minute  second\n",
       "0 2022-01-03 02:31:52 2022-01-03  2022      1    3     2      31      52\n",
       "1 2022-07-01 14:22:01 2022-07-01  2022      7    1    14      22       1\n",
       "2 2022-08-22 08:02:31 2022-08-22  2022      8   22     8       2      31\n",
       "3 2022-04-30 11:41:31 2022-04-30  2022      4   30    11      41      31\n",
       "4 2022-05-02 22:01:27 2022-05-02  2022      5    2    22       1      27"
      ]
     },
     "execution_count": 60,
     "metadata": {},
     "output_type": "execute_result"
    }
   ],
   "source": [
    "t"
   ]
  },
  {
   "cell_type": "code",
   "execution_count": 61,
   "id": "dae7d4fc-a00f-46c8-81f6-c163307bc5db",
   "metadata": {},
   "outputs": [
    {
     "name": "stderr",
     "output_type": "stream",
     "text": [
      "<ipython-input-61-40c69577c0b6>:1: FutureWarning: Series.dt.weekofyear and Series.dt.week have been deprecated.  Please use Series.dt.isocalendar().week instead.\n",
      "  t['time'].dt.weekofyear\n"
     ]
    },
    {
     "data": {
      "text/plain": [
       "0     1\n",
       "1    26\n",
       "2    34\n",
       "3    17\n",
       "4    18\n",
       "Name: time, dtype: int64"
      ]
     },
     "execution_count": 61,
     "metadata": {},
     "output_type": "execute_result"
    }
   ],
   "source": [
    "t['time'].dt.weekofyear"
   ]
  },
  {
   "cell_type": "code",
   "execution_count": 62,
   "id": "ca14633f-dfd4-4f6f-96b0-7877e6100b6c",
   "metadata": {},
   "outputs": [
    {
     "data": {
      "text/plain": [
       "0    1\n",
       "1    3\n",
       "2    3\n",
       "3    2\n",
       "4    2\n",
       "Name: time, dtype: int64"
      ]
     },
     "execution_count": 62,
     "metadata": {},
     "output_type": "execute_result"
    }
   ],
   "source": [
    "t['time'].dt.quarter"
   ]
  },
  {
   "cell_type": "code",
   "execution_count": 63,
   "id": "bc432b67-4ab2-42b0-b3b3-52555e91bbab",
   "metadata": {},
   "outputs": [
    {
     "data": {
      "text/plain": [
       "0    0\n",
       "1    4\n",
       "2    0\n",
       "3    5\n",
       "4    0\n",
       "Name: time, dtype: int64"
      ]
     },
     "execution_count": 63,
     "metadata": {},
     "output_type": "execute_result"
    }
   ],
   "source": [
    "t['time'].dt.dayofweek"
   ]
  },
  {
   "cell_type": "markdown",
   "id": "f0933dcf-0069-4457-b615-e6ca5a9d1a6f",
   "metadata": {},
   "source": [
    "这里需要注意，每周一是从0开始计数，这里我们可以手动+1，对其进行数值上的修改："
   ]
  },
  {
   "cell_type": "code",
   "execution_count": 64,
   "id": "ad57cada-8e02-4db0-844e-d22b9a88bbff",
   "metadata": {},
   "outputs": [
    {
     "data": {
      "text/plain": [
       "0    1\n",
       "1    5\n",
       "2    1\n",
       "3    6\n",
       "4    1\n",
       "Name: time, dtype: int64"
      ]
     },
     "execution_count": 64,
     "metadata": {},
     "output_type": "execute_result"
    }
   ],
   "source": [
    "t['time'].dt.dayofweek + 1"
   ]
  },
  {
   "cell_type": "markdown",
   "id": "a4a0dcc2-9fa6-4a77-82d6-526503a4213b",
   "metadata": {},
   "source": [
    "接下来我们将其拼接到原始数据集中："
   ]
  },
  {
   "cell_type": "code",
   "execution_count": 65,
   "id": "b063a230-7089-4fb8-89f7-b16889a19c2e",
   "metadata": {},
   "outputs": [
    {
     "name": "stderr",
     "output_type": "stream",
     "text": [
      "<ipython-input-65-d6fa2c370bb6>:2: FutureWarning: Series.dt.weekofyear and Series.dt.week have been deprecated.  Please use Series.dt.isocalendar().week instead.\n",
      "  t['weekofyear']  =  t['time'].dt.weekofyear\n"
     ]
    }
   ],
   "source": [
    "t['quarter']     =  t['time'].dt.quarter\n",
    "t['weekofyear']  =  t['time'].dt.weekofyear\n",
    "t['dayofweek']   =  t['time'].dt.dayofweek + 1"
   ]
  },
  {
   "cell_type": "code",
   "execution_count": 66,
   "id": "183a0056-a393-4776-9dca-33afbbdee600",
   "metadata": {},
   "outputs": [
    {
     "data": {
      "text/html": [
       "<div>\n",
       "<style scoped>\n",
       "    .dataframe tbody tr th:only-of-type {\n",
       "        vertical-align: middle;\n",
       "    }\n",
       "\n",
       "    .dataframe tbody tr th {\n",
       "        vertical-align: top;\n",
       "    }\n",
       "\n",
       "    .dataframe thead th {\n",
       "        text-align: right;\n",
       "    }\n",
       "</style>\n",
       "<table border=\"1\" class=\"dataframe\">\n",
       "  <thead>\n",
       "    <tr style=\"text-align: right;\">\n",
       "      <th></th>\n",
       "      <th>time</th>\n",
       "      <th>time-D</th>\n",
       "      <th>year</th>\n",
       "      <th>month</th>\n",
       "      <th>day</th>\n",
       "      <th>hour</th>\n",
       "      <th>minute</th>\n",
       "      <th>second</th>\n",
       "      <th>quarter</th>\n",
       "      <th>weekofyear</th>\n",
       "      <th>dayofweek</th>\n",
       "    </tr>\n",
       "  </thead>\n",
       "  <tbody>\n",
       "    <tr>\n",
       "      <th>0</th>\n",
       "      <td>2022-01-03 02:31:52</td>\n",
       "      <td>2022-01-03</td>\n",
       "      <td>2022</td>\n",
       "      <td>1</td>\n",
       "      <td>3</td>\n",
       "      <td>2</td>\n",
       "      <td>31</td>\n",
       "      <td>52</td>\n",
       "      <td>1</td>\n",
       "      <td>1</td>\n",
       "      <td>1</td>\n",
       "    </tr>\n",
       "    <tr>\n",
       "      <th>1</th>\n",
       "      <td>2022-07-01 14:22:01</td>\n",
       "      <td>2022-07-01</td>\n",
       "      <td>2022</td>\n",
       "      <td>7</td>\n",
       "      <td>1</td>\n",
       "      <td>14</td>\n",
       "      <td>22</td>\n",
       "      <td>1</td>\n",
       "      <td>3</td>\n",
       "      <td>26</td>\n",
       "      <td>5</td>\n",
       "    </tr>\n",
       "    <tr>\n",
       "      <th>2</th>\n",
       "      <td>2022-08-22 08:02:31</td>\n",
       "      <td>2022-08-22</td>\n",
       "      <td>2022</td>\n",
       "      <td>8</td>\n",
       "      <td>22</td>\n",
       "      <td>8</td>\n",
       "      <td>2</td>\n",
       "      <td>31</td>\n",
       "      <td>3</td>\n",
       "      <td>34</td>\n",
       "      <td>1</td>\n",
       "    </tr>\n",
       "    <tr>\n",
       "      <th>3</th>\n",
       "      <td>2022-04-30 11:41:31</td>\n",
       "      <td>2022-04-30</td>\n",
       "      <td>2022</td>\n",
       "      <td>4</td>\n",
       "      <td>30</td>\n",
       "      <td>11</td>\n",
       "      <td>41</td>\n",
       "      <td>31</td>\n",
       "      <td>2</td>\n",
       "      <td>17</td>\n",
       "      <td>6</td>\n",
       "    </tr>\n",
       "    <tr>\n",
       "      <th>4</th>\n",
       "      <td>2022-05-02 22:01:27</td>\n",
       "      <td>2022-05-02</td>\n",
       "      <td>2022</td>\n",
       "      <td>5</td>\n",
       "      <td>2</td>\n",
       "      <td>22</td>\n",
       "      <td>1</td>\n",
       "      <td>27</td>\n",
       "      <td>2</td>\n",
       "      <td>18</td>\n",
       "      <td>1</td>\n",
       "    </tr>\n",
       "  </tbody>\n",
       "</table>\n",
       "</div>"
      ],
      "text/plain": [
       "                 time     time-D  year  month  day  hour  minute  second  \\\n",
       "0 2022-01-03 02:31:52 2022-01-03  2022      1    3     2      31      52   \n",
       "1 2022-07-01 14:22:01 2022-07-01  2022      7    1    14      22       1   \n",
       "2 2022-08-22 08:02:31 2022-08-22  2022      8   22     8       2      31   \n",
       "3 2022-04-30 11:41:31 2022-04-30  2022      4   30    11      41      31   \n",
       "4 2022-05-02 22:01:27 2022-05-02  2022      5    2    22       1      27   \n",
       "\n",
       "   quarter  weekofyear  dayofweek  \n",
       "0        1           1          1  \n",
       "1        3          26          5  \n",
       "2        3          34          1  \n",
       "3        2          17          6  \n",
       "4        2          18          1  "
      ]
     },
     "execution_count": 66,
     "metadata": {},
     "output_type": "execute_result"
    }
   ],
   "source": [
    "t"
   ]
  },
  {
   "cell_type": "markdown",
   "id": "316b0ce5-9499-4023-a940-ab2682908e0a",
   "metadata": {},
   "source": [
    "接下来继续创建是否是周末的标识字段："
   ]
  },
  {
   "cell_type": "code",
   "execution_count": 67,
   "id": "d6d84b9a-b3fe-4a8f-becf-f153b15a53e9",
   "metadata": {},
   "outputs": [
    {
     "data": {
      "text/plain": [
       "0    0\n",
       "1    0\n",
       "2    0\n",
       "3    1\n",
       "4    0\n",
       "Name: dayofweek, dtype: int32"
      ]
     },
     "execution_count": 67,
     "metadata": {},
     "output_type": "execute_result"
    }
   ],
   "source": [
    "(t['dayofweek'] > 5).astype(int) "
   ]
  },
  {
   "cell_type": "code",
   "execution_count": 68,
   "id": "663397ef-e878-4d07-94e5-7a9d6f802891",
   "metadata": {},
   "outputs": [],
   "source": [
    "t['weekend'] = (t['dayofweek'] > 5).astype(int) "
   ]
  },
  {
   "cell_type": "markdown",
   "id": "b508ac0f-2423-4d58-a6c3-3fbbe1eb7b9f",
   "metadata": {},
   "source": [
    "进一步创建小时所属每一天的周期，凌晨、上午、下午、晚上，周期以6小时为划分依据："
   ]
  },
  {
   "cell_type": "code",
   "execution_count": 69,
   "id": "39c4600b-cf4c-4895-9db2-237f3dca87c0",
   "metadata": {},
   "outputs": [
    {
     "data": {
      "text/plain": [
       "0    0\n",
       "1    2\n",
       "2    1\n",
       "3    1\n",
       "4    3\n",
       "Name: hour, dtype: int32"
      ]
     },
     "execution_count": 69,
     "metadata": {},
     "output_type": "execute_result"
    }
   ],
   "source": [
    "(t['hour'] // 6).astype(int) "
   ]
  },
  {
   "cell_type": "code",
   "execution_count": 70,
   "id": "ce4416dd-c8f5-48e9-9bad-2c5c3cd7027e",
   "metadata": {},
   "outputs": [],
   "source": [
    "t['hour_section'] = (t['hour'] // 6).astype(int) "
   ]
  },
  {
   "cell_type": "markdown",
   "id": "2b6ef4a7-787f-4343-956d-d958660c1f02",
   "metadata": {},
   "source": [
    "其中，0代表凌晨、1代表上午、2代表下午、3代表晚上。接下来查看时间信息衍生后的数据表："
   ]
  },
  {
   "cell_type": "code",
   "execution_count": 71,
   "id": "872ad1a6-bdb7-46a3-b4d6-b6625109d9e1",
   "metadata": {},
   "outputs": [
    {
     "data": {
      "text/html": [
       "<div>\n",
       "<style scoped>\n",
       "    .dataframe tbody tr th:only-of-type {\n",
       "        vertical-align: middle;\n",
       "    }\n",
       "\n",
       "    .dataframe tbody tr th {\n",
       "        vertical-align: top;\n",
       "    }\n",
       "\n",
       "    .dataframe thead th {\n",
       "        text-align: right;\n",
       "    }\n",
       "</style>\n",
       "<table border=\"1\" class=\"dataframe\">\n",
       "  <thead>\n",
       "    <tr style=\"text-align: right;\">\n",
       "      <th></th>\n",
       "      <th>time</th>\n",
       "      <th>time-D</th>\n",
       "      <th>year</th>\n",
       "      <th>month</th>\n",
       "      <th>day</th>\n",
       "      <th>hour</th>\n",
       "      <th>minute</th>\n",
       "      <th>second</th>\n",
       "      <th>quarter</th>\n",
       "      <th>weekofyear</th>\n",
       "      <th>dayofweek</th>\n",
       "      <th>weekend</th>\n",
       "      <th>hour_section</th>\n",
       "    </tr>\n",
       "  </thead>\n",
       "  <tbody>\n",
       "    <tr>\n",
       "      <th>0</th>\n",
       "      <td>2022-01-03 02:31:52</td>\n",
       "      <td>2022-01-03</td>\n",
       "      <td>2022</td>\n",
       "      <td>1</td>\n",
       "      <td>3</td>\n",
       "      <td>2</td>\n",
       "      <td>31</td>\n",
       "      <td>52</td>\n",
       "      <td>1</td>\n",
       "      <td>1</td>\n",
       "      <td>1</td>\n",
       "      <td>0</td>\n",
       "      <td>0</td>\n",
       "    </tr>\n",
       "    <tr>\n",
       "      <th>1</th>\n",
       "      <td>2022-07-01 14:22:01</td>\n",
       "      <td>2022-07-01</td>\n",
       "      <td>2022</td>\n",
       "      <td>7</td>\n",
       "      <td>1</td>\n",
       "      <td>14</td>\n",
       "      <td>22</td>\n",
       "      <td>1</td>\n",
       "      <td>3</td>\n",
       "      <td>26</td>\n",
       "      <td>5</td>\n",
       "      <td>0</td>\n",
       "      <td>2</td>\n",
       "    </tr>\n",
       "    <tr>\n",
       "      <th>2</th>\n",
       "      <td>2022-08-22 08:02:31</td>\n",
       "      <td>2022-08-22</td>\n",
       "      <td>2022</td>\n",
       "      <td>8</td>\n",
       "      <td>22</td>\n",
       "      <td>8</td>\n",
       "      <td>2</td>\n",
       "      <td>31</td>\n",
       "      <td>3</td>\n",
       "      <td>34</td>\n",
       "      <td>1</td>\n",
       "      <td>0</td>\n",
       "      <td>1</td>\n",
       "    </tr>\n",
       "    <tr>\n",
       "      <th>3</th>\n",
       "      <td>2022-04-30 11:41:31</td>\n",
       "      <td>2022-04-30</td>\n",
       "      <td>2022</td>\n",
       "      <td>4</td>\n",
       "      <td>30</td>\n",
       "      <td>11</td>\n",
       "      <td>41</td>\n",
       "      <td>31</td>\n",
       "      <td>2</td>\n",
       "      <td>17</td>\n",
       "      <td>6</td>\n",
       "      <td>1</td>\n",
       "      <td>1</td>\n",
       "    </tr>\n",
       "    <tr>\n",
       "      <th>4</th>\n",
       "      <td>2022-05-02 22:01:27</td>\n",
       "      <td>2022-05-02</td>\n",
       "      <td>2022</td>\n",
       "      <td>5</td>\n",
       "      <td>2</td>\n",
       "      <td>22</td>\n",
       "      <td>1</td>\n",
       "      <td>27</td>\n",
       "      <td>2</td>\n",
       "      <td>18</td>\n",
       "      <td>1</td>\n",
       "      <td>0</td>\n",
       "      <td>3</td>\n",
       "    </tr>\n",
       "  </tbody>\n",
       "</table>\n",
       "</div>"
      ],
      "text/plain": [
       "                 time     time-D  year  month  day  hour  minute  second  \\\n",
       "0 2022-01-03 02:31:52 2022-01-03  2022      1    3     2      31      52   \n",
       "1 2022-07-01 14:22:01 2022-07-01  2022      7    1    14      22       1   \n",
       "2 2022-08-22 08:02:31 2022-08-22  2022      8   22     8       2      31   \n",
       "3 2022-04-30 11:41:31 2022-04-30  2022      4   30    11      41      31   \n",
       "4 2022-05-02 22:01:27 2022-05-02  2022      5    2    22       1      27   \n",
       "\n",
       "   quarter  weekofyear  dayofweek  weekend  hour_section  \n",
       "0        1           1          1        0             0  \n",
       "1        3          26          5        0             2  \n",
       "2        3          34          1        0             1  \n",
       "3        2          17          6        1             1  \n",
       "4        2          18          1        0             3  "
      ]
     },
     "execution_count": 71,
     "metadata": {},
     "output_type": "execute_result"
    }
   ],
   "source": [
    "t"
   ]
  },
  {
   "cell_type": "markdown",
   "id": "3fd2b9cb-88f9-45ab-a0b8-545af0715709",
   "metadata": {},
   "source": [
    "至此，我们就完成了围绕时序字段的详细信息衍生（年月日、时分秒单独提取一列），以及基于自然周期划分的时序特征衍生（第几周、周几、是否是周末、一天中的时间段）。"
   ]
  },
  {
   "cell_type": "markdown",
   "id": "a0a8ae18-cfd2-4754-a21c-b15cfcdfac1d",
   "metadata": {},
   "source": [
    "<center><img src=\"https://s2.loli.net/2022/02/17/y7wctiB4EH3qkMV.png\" alt=\"image-20220217202852046\" style=\"zoom:33%;\" />"
   ]
  },
  {
   "cell_type": "markdown",
   "id": "097a856e-55c6-4f74-b0bd-8dc03063a656",
   "metadata": {},
   "source": [
    "&emsp;&emsp;当然整个时序字段的特征衍生过程并不复杂，接下来我们重点探讨为何我们需要对时序特征进行周期性划分，或者说，为何对时序特征进行有效的周期性划分是我们进一步挖掘时序特征背后有效信息的必要手段。"
   ]
  },
  {
   "cell_type": "markdown",
   "id": "8f72a05b-3c4e-452a-8ccc-a456c0908c7d",
   "metadata": {},
   "source": [
    "#### 2.2 NLP特征衍生的简单应用"
   ]
  },
  {
   "cell_type": "markdown",
   "id": "58363d4d-b6d8-4160-a573-bb89c7bd481b",
   "metadata": {},
   "source": [
    "&emsp;&emsp;正所谓“他山之石、可以攻玉”，很多时候NLP特征衍生能够在结构化数据处理中起到意想不到的效果。在了解了NLP中基本的CountVectorizer和TF-IDF方法之后，接下来进一步考虑如何将这些方法应用到结构化数据的特征衍生中。"
   ]
  },
  {
   "cell_type": "markdown",
   "id": "21e88fda-5ed7-4837-945e-6afcb8a9e81b",
   "metadata": {},
   "source": [
    "##### 2.2.1 CountVectorizer与分组统计特征衍生"
   ]
  },
  {
   "cell_type": "markdown",
   "id": "fc32d70b-abe9-4ad3-a271-bb2cde41b6b6",
   "metadata": {},
   "source": [
    "- 基本原理"
   ]
  },
  {
   "cell_type": "markdown",
   "id": "39addeb2-6c56-448f-9814-26f03710b74d",
   "metadata": {},
   "source": [
    "&emsp;&emsp;先看一个最简单的应用场景，即CountVectorizer在分组统计特征衍生中的应用。我们先从一个例子入手进行观察特征衍生的过程，然后再讨论其背后的本质及原理。当然，在这个例子中，与其说是借助了CountVectorizer进行了特征衍生，不如说CountVectorizer和我们此前介绍的方法殊途同归。"
   ]
  },
  {
   "cell_type": "markdown",
   "id": "62e53b10-069a-4752-9859-8df1c72930da",
   "metadata": {},
   "source": [
    "&emsp;&emsp;在电信用户数据集中，存在一些彼此“类似”但又相互补充的离散字段，即用户购买服务字段，这些字段记录了用户此前购买的一系列服务，包括是否开通网络安全服务（OnlineSecurity）、是否开通在线备份服务（OnlineBackup）、是否开通设备安全服务（DeviceProtection）等，这些字段都是二分类字段，假设有如下极简数据集："
   ]
  },
  {
   "cell_type": "markdown",
   "id": "be552a16-7e9e-4158-b089-b67b58fd803f",
   "metadata": {},
   "source": [
    "<center><img src=\"https://s2.loli.net/2022/02/23/qeXDcR7IOUhpojS.png\" alt=\"image-20220223165413377\" style=\"zoom: 50%;\" />"
   ]
  },
  {
   "cell_type": "markdown",
   "id": "877b7adf-f8f3-4781-b9ec-56f526348f77",
   "metadata": {},
   "source": [
    "&emsp;&emsp;接下来，我们将上述数据集类比于一个文本。这里首先将OnlineSecurity、OnlineBackup和DeviceProtection视作文本中的不同单词（Term），并根据tenure不同取值对用户进行分组，每个分组视作一个Document，则可将原数据集转化为文本数据，然后再使用CountVectorizer进行计算，该过程也非常简单，就是对每个文件进行词频的汇总，也就是分成两组后进行OnlineSecurity、OnlineBackup和DeviceProtection三个字段的汇总，基本过程如下："
   ]
  },
  {
   "cell_type": "markdown",
   "id": "e1490110-67b1-44ca-babc-8cebd77f6e04",
   "metadata": {},
   "source": [
    "<center><img src=\"https://s2.loli.net/2022/02/23/osv7ECDTV8zmNZX.png\" alt=\"image-20220223175816675\" style=\"zoom:50%;\" />"
   ]
  },
  {
   "cell_type": "markdown",
   "id": "1afd26b6-00bc-4699-ae22-3bea7a3eaa99",
   "metadata": {},
   "source": [
    "最终，即可衍生出分组统计量OnlineSecurity_count、OnlineBackup_count和DeviceProtection_count。当然，这只是一个非常见的示例，并且如果从最后的结果上来看，其实就是分组求和的结果，但我们仍然需要熟悉这个先把结构化数据转化为文本数据、然后再使用NLP方法进行统计量计算的过程，以便于我们后续在这个过程中引入其他NLP方法以及进行其他形式的分组。"
   ]
  },
  {
   "cell_type": "markdown",
   "id": "25c0f0d5-a1ac-4e00-aebe-751486f0e395",
   "metadata": {},
   "source": [
    "- 代码实现"
   ]
  },
  {
   "cell_type": "markdown",
   "id": "c1e5ab24-dc54-405f-bcd5-72f5d13280bb",
   "metadata": {},
   "source": [
    "&emsp;&emsp;具体的代码实现过程也非常简单，我们只需要对其进行分组求和集合，可以通过group过程快速实现。"
   ]
  },
  {
   "cell_type": "markdown",
   "id": "87a08924-8d3a-413c-ba20-9015d84c7cde",
   "metadata": {},
   "source": [
    "&emsp;&emsp;首先先进行数据集的准备工作："
   ]
  },
  {
   "cell_type": "code",
   "execution_count": 39,
   "id": "070f5b25-7267-47cc-a066-a12b0b328d24",
   "metadata": {},
   "outputs": [
    {
     "data": {
      "text/plain": [
       "['OnlineSecurity', 'OnlineBackup', 'DeviceProtection']"
      ]
     },
     "execution_count": 39,
     "metadata": {},
     "output_type": "execute_result"
    }
   ],
   "source": [
    "tar_col = ['OnlineSecurity', 'OnlineBackup', 'DeviceProtection']\n",
    "keycol = 'tenure'\n",
    "tar_col"
   ]
  },
  {
   "cell_type": "code",
   "execution_count": 40,
   "id": "c5090583-b95c-43f4-ac47-d1e988354d4c",
   "metadata": {},
   "outputs": [
    {
     "data": {
      "text/html": [
       "<div>\n",
       "<style scoped>\n",
       "    .dataframe tbody tr th:only-of-type {\n",
       "        vertical-align: middle;\n",
       "    }\n",
       "\n",
       "    .dataframe tbody tr th {\n",
       "        vertical-align: top;\n",
       "    }\n",
       "\n",
       "    .dataframe thead th {\n",
       "        text-align: right;\n",
       "    }\n",
       "</style>\n",
       "<table border=\"1\" class=\"dataframe\">\n",
       "  <thead>\n",
       "    <tr style=\"text-align: right;\">\n",
       "      <th></th>\n",
       "      <th>OnlineSecurity</th>\n",
       "      <th>OnlineBackup</th>\n",
       "      <th>DeviceProtection</th>\n",
       "    </tr>\n",
       "  </thead>\n",
       "  <tbody>\n",
       "    <tr>\n",
       "      <th>0</th>\n",
       "      <td>No</td>\n",
       "      <td>Yes</td>\n",
       "      <td>No</td>\n",
       "    </tr>\n",
       "    <tr>\n",
       "      <th>1</th>\n",
       "      <td>Yes</td>\n",
       "      <td>No</td>\n",
       "      <td>Yes</td>\n",
       "    </tr>\n",
       "    <tr>\n",
       "      <th>2</th>\n",
       "      <td>Yes</td>\n",
       "      <td>Yes</td>\n",
       "      <td>No</td>\n",
       "    </tr>\n",
       "    <tr>\n",
       "      <th>3</th>\n",
       "      <td>Yes</td>\n",
       "      <td>No</td>\n",
       "      <td>Yes</td>\n",
       "    </tr>\n",
       "    <tr>\n",
       "      <th>4</th>\n",
       "      <td>No</td>\n",
       "      <td>No</td>\n",
       "      <td>No</td>\n",
       "    </tr>\n",
       "  </tbody>\n",
       "</table>\n",
       "</div>"
      ],
      "text/plain": [
       "  OnlineSecurity OnlineBackup DeviceProtection\n",
       "0             No          Yes               No\n",
       "1            Yes           No              Yes\n",
       "2            Yes          Yes               No\n",
       "3            Yes           No              Yes\n",
       "4             No           No               No"
      ]
     },
     "execution_count": 40,
     "metadata": {},
     "output_type": "execute_result"
    }
   ],
   "source": [
    "features[tar_col].head(5)"
   ]
  },
  {
   "cell_type": "markdown",
   "id": "ea807c9f-fc89-400e-8d51-876fd43d7510",
   "metadata": {},
   "source": [
    "但根据此前介绍，这些特征其实都有三个取值："
   ]
  },
  {
   "cell_type": "code",
   "execution_count": 41,
   "id": "7856c6dd-b955-45b1-b14c-3d45f1bf6983",
   "metadata": {},
   "outputs": [
    {
     "data": {
      "text/plain": [
       "OnlineSecurity      3\n",
       "OnlineBackup        3\n",
       "DeviceProtection    3\n",
       "dtype: int64"
      ]
     },
     "execution_count": 41,
     "metadata": {},
     "output_type": "execute_result"
    }
   ],
   "source": [
    "features[tar_col].nunique()"
   ]
  },
  {
   "cell_type": "code",
   "execution_count": 42,
   "id": "721c9ae7-1426-41bf-8ee0-492f99abf34f",
   "metadata": {},
   "outputs": [
    {
     "data": {
      "text/plain": [
       "{'No': 3498, 'Yes': 2019, 'No internet service': 1526}"
      ]
     },
     "execution_count": 42,
     "metadata": {},
     "output_type": "execute_result"
    }
   ],
   "source": [
    "features['OnlineSecurity'].explode().value_counts().to_dict()"
   ]
  },
  {
   "cell_type": "markdown",
   "id": "66644dfa-419c-4dc6-bac3-b2b45b04b60c",
   "metadata": {},
   "source": [
    "我们需要将购买了服务标记为1，其他标记为0，可以通过如下操作实现："
   ]
  },
  {
   "cell_type": "code",
   "execution_count": 43,
   "id": "aad6b833-301f-45fc-b37a-790ad6d779bf",
   "metadata": {},
   "outputs": [
    {
     "data": {
      "text/plain": [
       "0       0\n",
       "1       1\n",
       "2       1\n",
       "3       1\n",
       "4       0\n",
       "       ..\n",
       "7038    1\n",
       "7039    0\n",
       "7040    1\n",
       "7041    0\n",
       "7042    1\n",
       "Name: OnlineSecurity, Length: 7043, dtype: int32"
      ]
     },
     "execution_count": 43,
     "metadata": {},
     "output_type": "execute_result"
    }
   ],
   "source": [
    "(features['OnlineSecurity'] == 'Yes') * 1"
   ]
  },
  {
   "cell_type": "markdown",
   "id": "218447a2-3ce2-441a-a22d-60fdc463c3d1",
   "metadata": {},
   "source": [
    "然后需要将这些列放到一个df中："
   ]
  },
  {
   "cell_type": "code",
   "execution_count": 44,
   "id": "22190fc5-f09d-40e8-a11e-2763037aa4cd",
   "metadata": {},
   "outputs": [],
   "source": [
    "features_OE = pd.DataFrame()\n",
    "features_OE[keycol] = features[keycol]\n",
    "\n",
    "for col in tar_col:\n",
    "    features_OE[col] = (features[col] == 'Yes') * 1"
   ]
  },
  {
   "cell_type": "code",
   "execution_count": 45,
   "id": "57856370-5bd6-49c5-a320-b168c46f7423",
   "metadata": {},
   "outputs": [
    {
     "data": {
      "text/html": [
       "<div>\n",
       "<style scoped>\n",
       "    .dataframe tbody tr th:only-of-type {\n",
       "        vertical-align: middle;\n",
       "    }\n",
       "\n",
       "    .dataframe tbody tr th {\n",
       "        vertical-align: top;\n",
       "    }\n",
       "\n",
       "    .dataframe thead th {\n",
       "        text-align: right;\n",
       "    }\n",
       "</style>\n",
       "<table border=\"1\" class=\"dataframe\">\n",
       "  <thead>\n",
       "    <tr style=\"text-align: right;\">\n",
       "      <th></th>\n",
       "      <th>tenure</th>\n",
       "      <th>OnlineSecurity</th>\n",
       "      <th>OnlineBackup</th>\n",
       "      <th>DeviceProtection</th>\n",
       "    </tr>\n",
       "  </thead>\n",
       "  <tbody>\n",
       "    <tr>\n",
       "      <th>0</th>\n",
       "      <td>1</td>\n",
       "      <td>0</td>\n",
       "      <td>1</td>\n",
       "      <td>0</td>\n",
       "    </tr>\n",
       "    <tr>\n",
       "      <th>1</th>\n",
       "      <td>34</td>\n",
       "      <td>1</td>\n",
       "      <td>0</td>\n",
       "      <td>1</td>\n",
       "    </tr>\n",
       "    <tr>\n",
       "      <th>2</th>\n",
       "      <td>2</td>\n",
       "      <td>1</td>\n",
       "      <td>1</td>\n",
       "      <td>0</td>\n",
       "    </tr>\n",
       "    <tr>\n",
       "      <th>3</th>\n",
       "      <td>45</td>\n",
       "      <td>1</td>\n",
       "      <td>0</td>\n",
       "      <td>1</td>\n",
       "    </tr>\n",
       "    <tr>\n",
       "      <th>4</th>\n",
       "      <td>2</td>\n",
       "      <td>0</td>\n",
       "      <td>0</td>\n",
       "      <td>0</td>\n",
       "    </tr>\n",
       "  </tbody>\n",
       "</table>\n",
       "</div>"
      ],
      "text/plain": [
       "   tenure  OnlineSecurity  OnlineBackup  DeviceProtection\n",
       "0       1               0             1                 0\n",
       "1      34               1             0                 1\n",
       "2       2               1             1                 0\n",
       "3      45               1             0                 1\n",
       "4       2               0             0                 0"
      ]
     },
     "execution_count": 45,
     "metadata": {},
     "output_type": "execute_result"
    }
   ],
   "source": [
    "features_OE.head(5)"
   ]
  },
  {
   "cell_type": "markdown",
   "id": "11f3178c-5175-4fe4-91ff-b199510ccaff",
   "metadata": {},
   "source": [
    "&emsp;&emsp;在准备好数据集之后，接下来使用groupby的方法、通过sum的方式计算组内求和结果："
   ]
  },
  {
   "cell_type": "code",
   "execution_count": 46,
   "id": "64e56480-92ea-4351-87d5-76b6ff946a37",
   "metadata": {},
   "outputs": [
    {
     "data": {
      "text/html": [
       "<div>\n",
       "<style scoped>\n",
       "    .dataframe tbody tr th:only-of-type {\n",
       "        vertical-align: middle;\n",
       "    }\n",
       "\n",
       "    .dataframe tbody tr th {\n",
       "        vertical-align: top;\n",
       "    }\n",
       "\n",
       "    .dataframe thead th {\n",
       "        text-align: right;\n",
       "    }\n",
       "</style>\n",
       "<table border=\"1\" class=\"dataframe\">\n",
       "  <thead>\n",
       "    <tr style=\"text-align: right;\">\n",
       "      <th></th>\n",
       "      <th>OnlineSecurity</th>\n",
       "      <th>OnlineBackup</th>\n",
       "      <th>DeviceProtection</th>\n",
       "    </tr>\n",
       "    <tr>\n",
       "      <th>tenure</th>\n",
       "      <th></th>\n",
       "      <th></th>\n",
       "      <th></th>\n",
       "    </tr>\n",
       "  </thead>\n",
       "  <tbody>\n",
       "    <tr>\n",
       "      <th>0</th>\n",
       "      <td>4</td>\n",
       "      <td>4</td>\n",
       "      <td>4</td>\n",
       "    </tr>\n",
       "    <tr>\n",
       "      <th>1</th>\n",
       "      <td>37</td>\n",
       "      <td>47</td>\n",
       "      <td>41</td>\n",
       "    </tr>\n",
       "    <tr>\n",
       "      <th>2</th>\n",
       "      <td>27</td>\n",
       "      <td>38</td>\n",
       "      <td>30</td>\n",
       "    </tr>\n",
       "    <tr>\n",
       "      <th>3</th>\n",
       "      <td>20</td>\n",
       "      <td>35</td>\n",
       "      <td>33</td>\n",
       "    </tr>\n",
       "    <tr>\n",
       "      <th>4</th>\n",
       "      <td>24</td>\n",
       "      <td>32</td>\n",
       "      <td>26</td>\n",
       "    </tr>\n",
       "    <tr>\n",
       "      <th>...</th>\n",
       "      <td>...</td>\n",
       "      <td>...</td>\n",
       "      <td>...</td>\n",
       "    </tr>\n",
       "    <tr>\n",
       "      <th>68</th>\n",
       "      <td>51</td>\n",
       "      <td>65</td>\n",
       "      <td>58</td>\n",
       "    </tr>\n",
       "    <tr>\n",
       "      <th>69</th>\n",
       "      <td>38</td>\n",
       "      <td>50</td>\n",
       "      <td>49</td>\n",
       "    </tr>\n",
       "    <tr>\n",
       "      <th>70</th>\n",
       "      <td>66</td>\n",
       "      <td>77</td>\n",
       "      <td>78</td>\n",
       "    </tr>\n",
       "    <tr>\n",
       "      <th>71</th>\n",
       "      <td>91</td>\n",
       "      <td>104</td>\n",
       "      <td>102</td>\n",
       "    </tr>\n",
       "    <tr>\n",
       "      <th>72</th>\n",
       "      <td>236</td>\n",
       "      <td>252</td>\n",
       "      <td>259</td>\n",
       "    </tr>\n",
       "  </tbody>\n",
       "</table>\n",
       "<p>73 rows × 3 columns</p>\n",
       "</div>"
      ],
      "text/plain": [
       "        OnlineSecurity  OnlineBackup  DeviceProtection\n",
       "tenure                                                \n",
       "0                    4             4                 4\n",
       "1                   37            47                41\n",
       "2                   27            38                30\n",
       "3                   20            35                33\n",
       "4                   24            32                26\n",
       "...                ...           ...               ...\n",
       "68                  51            65                58\n",
       "69                  38            50                49\n",
       "70                  66            77                78\n",
       "71                  91           104               102\n",
       "72                 236           252               259\n",
       "\n",
       "[73 rows x 3 columns]"
      ]
     },
     "execution_count": 46,
     "metadata": {},
     "output_type": "execute_result"
    }
   ],
   "source": [
    "count = features_OE.groupby(keycol).sum()\n",
    "count"
   ]
  },
  {
   "cell_type": "markdown",
   "id": "06a7324a-5610-4b14-8aad-6604ca297fb3",
   "metadata": {},
   "source": [
    "整体过程并不复杂，和分组汇总统计特征一样，稍后我们将这些特征以tenure为主键拼接回原特征矩阵即可形成衍生特征。"
   ]
  },
  {
   "cell_type": "markdown",
   "id": "bbb828fe-2576-4eb1-813c-35b0b8c9e882",
   "metadata": {},
   "source": [
    "##### 2.2.2 T-IDF与分组统计特征衍生"
   ]
  },
  {
   "cell_type": "markdown",
   "id": "33d402ad-a720-43d6-b9dc-c486dd15d32b",
   "metadata": {},
   "source": [
    "- 特征衍生过程"
   ]
  },
  {
   "cell_type": "markdown",
   "id": "ae95c472-f85f-4af1-a883-5571ac74b5cf",
   "metadata": {},
   "source": [
    "&emsp;&emsp;既然有CountVectorizer计算结果，自然而然我们就会联想到，接下来可以继续进行TF-IDF计算。该计算过程也并不复杂，直接在CountVectorizer结果上进行计算即可。对于上述极简示例，计算结果如下："
   ]
  },
  {
   "cell_type": "code",
   "execution_count": 47,
   "id": "eb5c442e-07e7-4645-8896-e91c21c10101",
   "metadata": {},
   "outputs": [
    {
     "data": {
      "text/plain": [
       "array([[1, 2, 2],\n",
       "       [2, 1, 0]])"
      ]
     },
     "execution_count": 47,
     "metadata": {},
     "output_type": "execute_result"
    }
   ],
   "source": [
    "c2 = np.array([[1, 2, 2], [2, 1, 0]])\n",
    "c2"
   ]
  },
  {
   "cell_type": "code",
   "execution_count": 48,
   "id": "5d61f4a4-368a-4aaf-8f68-d3d0ff6edd99",
   "metadata": {},
   "outputs": [
    {
     "data": {
      "text/plain": [
       "array([[0.27840869, 0.55681737, 0.78258739],\n",
       "       [0.89442719, 0.4472136 , 0.        ]])"
      ]
     },
     "execution_count": 48,
     "metadata": {},
     "output_type": "execute_result"
    }
   ],
   "source": [
    "transformer = TfidfTransformer(smooth_idf=True)\n",
    "\n",
    "tfidf = transformer.fit_transform(c2)\n",
    "\n",
    "tfidf.toarray()"
   ]
  },
  {
   "cell_type": "markdown",
   "id": "35b6f36d-05e4-40e7-a438-fdae71253f0e",
   "metadata": {},
   "source": [
    "<center><img src=\"https://s2.loli.net/2022/02/23/IWZx31Nnv2utKgR.png\" alt=\"image-20220223201700208\" style=\"zoom:50%;\" />"
   ]
  },
  {
   "cell_type": "markdown",
   "id": "f18a3e1e-49cc-432c-b98f-62633b93e4a2",
   "metadata": {},
   "source": [
    "据此又可以衍生出新的特征。当然，上述基于原数据集的count结果也可以进行TF-IDF计算："
   ]
  },
  {
   "cell_type": "code",
   "execution_count": 49,
   "id": "ed3c350a-ad0a-4b2e-a9cc-2c9e27481554",
   "metadata": {
    "tags": []
   },
   "outputs": [
    {
     "data": {
      "text/plain": [
       "array([[0.57735027, 0.57735027, 0.57735027],\n",
       "       [0.51021138, 0.64810634, 0.56536936],\n",
       "       [0.48706002, 0.68549188, 0.5411778 ],\n",
       "       [0.38390615, 0.67183577, 0.63344515],\n",
       "       [0.50306617, 0.67075489, 0.54498835]])"
      ]
     },
     "execution_count": 49,
     "metadata": {},
     "output_type": "execute_result"
    }
   ],
   "source": [
    "transformer = TfidfTransformer(smooth_idf=True)\n",
    "\n",
    "tfidf = transformer.fit_transform(count)\n",
    "\n",
    "tfidf.toarray()[:5]"
   ]
  },
  {
   "cell_type": "markdown",
   "id": "b8008e73-69c4-43f1-9b8d-10549cb67403",
   "metadata": {},
   "source": [
    "&emsp;&emsp;据此，我们就又完成了基于TF-IDF的特征衍生。"
   ]
  }
 ],
 "metadata": {
  "kernelspec": {
   "display_name": "Python 3",
   "language": "python",
   "name": "python3"
  },
  "language_info": {
   "codemirror_mode": {
    "name": "ipython",
    "version": 3
   },
   "file_extension": ".py",
   "mimetype": "text/x-python",
   "name": "python",
   "nbconvert_exporter": "python",
   "pygments_lexer": "ipython3",
   "version": "3.8.8"
  }
 },
 "nbformat": 4,
 "nbformat_minor": 5
}
