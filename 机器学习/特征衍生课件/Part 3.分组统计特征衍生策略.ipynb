{
 "cells": [
  {
   "cell_type": "markdown",
   "id": "b0c79cd1-8233-47b9-aec0-2b5218ed21cc",
   "metadata": {
    "tags": []
   },
   "source": [
    "# <center> 【Kaggle】Telco Customer Churn 电信用户流失预测案例"
   ]
  },
  {
   "cell_type": "markdown",
   "id": "c7330cc9-530f-4adf-9bf9-d1b2169dbcd3",
   "metadata": {},
   "source": [
    "&emsp;&emsp;<font face=\"仿宋\">在案例的第二部分中，我们详细介绍了常用特征转化方法，其中有些是模型训练之必须，如自然数编码、独热编码，而有些方法则是以提高数据质量为核心、在大多数时候都是作为模型优化的备选方法，如连续变量分箱、数据标准化等。当然，在此之后，我们首先尝试构建一些可解释性较强的模型来进行用户流失预测，即采用逻辑回归和决策树模型来进行预测，并同时详细介绍了两种模型在实战中的调优技巧，在最终模型训练完成后，我们也重点讨论了关于两种可解释性模型建模结果的解释方法。"
   ]
  },
  {
   "cell_type": "markdown",
   "id": "7885fdfe-3eb4-4fd2-8a45-328cf60d9f49",
   "metadata": {},
   "source": [
    "&emsp;&emsp;<font face=\"仿宋\">从理论上来说，树模型的判别能力是要强于逻辑回归的，但在上一节最后的建模结果中我们发现两个模型的建模并无显著差别，预测准确率都维持在79%-80%之间，这或许说明很多逻辑回归无法正确判别的样本决策树模型也无法判别，据此我们推测，这是一个“入门容易、精通较难”的数据集。当然，如果我们进一步尝试其他“更强”的集成学习算法，如随机森林、XGB、CatBoost等，在当前数据集上的建模结果和逻辑回归也并无太大差异，因此我们亟需通过特征工程方法进一步提升数据集质量，进而提升最终模型效果。"
   ]
  },
  {
   "cell_type": "markdown",
   "id": "f8a93747-accc-45cf-83ee-e493b52ab645",
   "metadata": {},
   "source": [
    "&emsp;&emsp;<font face=\"仿宋\">当然，哪怕是复杂模型在当前数据集上表现出了更好的效果，采用特征工程方法提升数据质量仍是优化建模结果必不可少的部分，正如时下流行的描述那样，“数据质量决定模型上界，而建模过程只是不断逼近这个上界”，特征工程中的一系列提高数据质量的方法、无论是在工业界实践中还是各大顶级竞赛里，都已然成了最为重要的提升模型效果的手段。"
   ]
  },
  {
   "cell_type": "markdown",
   "id": "9f274a47-f3b8-49d8-9284-2f25e3480959",
   "metadata": {},
   "source": [
    "<center><img src=\"https://tva1.sinaimg.cn/large/008i3skNly1gwllgk4wgqj31hr0u0wh4.jpg\" alt=\"image-20211112170651500\" style=\"zoom:15%;\" />"
   ]
  },
  {
   "cell_type": "markdown",
   "id": "87c75a07-33eb-486b-b5e9-23a9cf8cb40b",
   "metadata": {},
   "source": [
    "&emsp;&emsp;<font face=\"仿宋\">不过，所谓的通过特征工程方法提高数据质量，看似简单但实际操作起来却并不容易。其难点并不在于其中具体操作方法的理解，至少相比机器学习算法原理，特征工程的很多方法并不复杂，特征工程的最大难点在于配合模型与数据进行方法选择、以及各种方法的工程化部署实现。一方面，特征工程方法众多，需要根据实际情况“因地制宜”，但数据的情况千变万化，很多时候需要同时结合数据探索结论、建模人员自身经验以及对各种备选方法的熟悉程度，才能快速制定行之有效的特征工程策略；另一方面，很多特征工程方法不像机器学习算法有现成的库可以直接调用，很多方法、尤其是一些围绕当前数据集的定制方法，需要自己手动实现，而这个过程就对建模人员本身的代码编写能力及工程部署能力提出了更高的要求。总而言之，特征工程是一个实践高度相关的技术，这也是为何课程会在介绍案例的过程中同步介绍特征工程常用方法的原因。"
   ]
  },
  {
   "cell_type": "markdown",
   "id": "7885f4d7-17a1-4955-8ab8-c8b27b74f8ad",
   "metadata": {},
   "source": [
    "&emsp;&emsp;<font face=\"仿宋\">当然，从宽泛的角度来看，所有围绕数据集的数据调整工作都可以看成是特征工程的一部分，包括此前介绍的缺失值填补、数据编码、特征变换等，这些方法其实都能一定程度提升数据质量，而本节开始，我们将花费一整节的时间来讨论另一类特征工程方法：特征衍生与特征筛选。而该方法通过创建更多特征来提供更多捕捉数据规律的维度，从而提升模型效果。当然特征衍生也是目前公认的最为有效的、能够显著提升数据集质量方法。"
   ]
  },
  {
   "cell_type": "markdown",
   "id": "00596d75-b654-4ba7-a01e-4163275f0dc4",
   "metadata": {},
   "source": [
    "# <center>Part 3.分组统计特征衍生策略"
   ]
  },
  {
   "cell_type": "markdown",
   "id": "cbccc819-92a6-4abc-ae63-bd9df05cbd7d",
   "metadata": {},
   "source": [
    "&emsp;&emsp;本阶开始我们将重点讨论特征工程中的特征衍生与特征筛选方法，并借此进一步提升模型效果。首先需要将此前的操作中涉及到的第三方库进行统一的导入："
   ]
  },
  {
   "cell_type": "code",
   "execution_count": 1,
   "id": "316b53e0-4217-4ed4-83e9-725a460dbad4",
   "metadata": {
    "tags": []
   },
   "outputs": [],
   "source": [
    "# 基础数据科学运算库\n",
    "import numpy as np\n",
    "import pandas as pd\n",
    "\n",
    "# 可视化库\n",
    "import seaborn as sns\n",
    "import matplotlib.pyplot as plt\n",
    "\n",
    "# 时间模块\n",
    "import time\n",
    "\n",
    "# sklearn库\n",
    "# 数据预处理\n",
    "from sklearn import preprocessing\n",
    "from sklearn.compose import ColumnTransformer\n",
    "\n",
    "# 实用函数\n",
    "from sklearn.metrics import accuracy_score, recall_score, precision_score, f1_score, roc_auc_score\n",
    "from sklearn.model_selection import train_test_split\n",
    "\n",
    "# 常用评估器\n",
    "from sklearn.pipeline import make_pipeline\n",
    "from sklearn.linear_model import LogisticRegression\n",
    "from sklearn import tree\n",
    "from sklearn.tree import DecisionTreeClassifier\n",
    "\n",
    "# 网格搜索\n",
    "from sklearn.model_selection import GridSearchCV\n",
    "\n",
    "# 自定义评估器支持模块\n",
    "from sklearn.base import BaseEstimator, TransformerMixin\n",
    "\n",
    "# 自定义模块\n",
    "from telcoFunc import *\n",
    "\n",
    "# re模块相关\n",
    "import inspect, re"
   ]
  },
  {
   "cell_type": "markdown",
   "id": "17314689-ada1-4309-bdc0-c2d4a13a7de8",
   "metadata": {},
   "source": [
    "其中telcoFunc是自定义的模块，其内保存了此前自定义的函数和类，后续新增的函数和类也将逐步写入其中，telcoFunc.py文件随课件提供，需要将其放置于当前ipy文件同一文件夹内才能正常导入。"
   ]
  },
  {
   "cell_type": "markdown",
   "id": "d17d1e90-62bb-4cf0-856d-1d5d6b75c761",
   "metadata": {},
   "source": [
    "&emsp;&emsp;接下来导入数据并执行Part 1中的数据清洗步骤。"
   ]
  },
  {
   "cell_type": "code",
   "execution_count": 2,
   "id": "c2fb15d3-36d8-4e01-a278-45321659593e",
   "metadata": {},
   "outputs": [],
   "source": [
    "# 读取数据\n",
    "tcc = pd.read_csv('WA_Fn-UseC_-Telco-Customer-Churn.csv')\n",
    "\n",
    "# 标注连续/离散字段\n",
    "# 离散字段\n",
    "category_cols = ['gender', 'SeniorCitizen', 'Partner', 'Dependents',\n",
    "                'PhoneService', 'MultipleLines', 'InternetService', 'OnlineSecurity', 'OnlineBackup', \n",
    "                'DeviceProtection', 'TechSupport', 'StreamingTV', 'StreamingMovies', 'Contract', 'PaperlessBilling',\n",
    "                'PaymentMethod']\n",
    "\n",
    "# 连续字段\n",
    "numeric_cols = ['tenure', 'MonthlyCharges', 'TotalCharges']\n",
    " \n",
    "# 标签\n",
    "target = 'Churn'\n",
    "\n",
    "# ID列\n",
    "ID_col = 'customerID'\n",
    "\n",
    "# 验证是否划分能完全\n",
    "assert len(category_cols) + len(numeric_cols) + 2 == tcc.shape[1]\n",
    "\n",
    "# 连续字段转化\n",
    "tcc['TotalCharges']= tcc['TotalCharges'].apply(lambda x: x if x!= ' ' else np.nan).astype(float)\n",
    "tcc['MonthlyCharges'] = tcc['MonthlyCharges'].astype(float)\n",
    "\n",
    "# 缺失值填补\n",
    "tcc['TotalCharges'] = tcc['TotalCharges'].fillna(0)\n",
    "\n",
    "# 标签值手动转化 \n",
    "tcc['Churn'].replace(to_replace='Yes', value=1, inplace=True)\n",
    "tcc['Churn'].replace(to_replace='No',  value=0, inplace=True)"
   ]
  },
  {
   "cell_type": "code",
   "execution_count": 3,
   "id": "3eec53de-423a-4b84-a5cb-4af92824987f",
   "metadata": {},
   "outputs": [],
   "source": [
    "features = tcc.drop(columns=[ID_col, target]).copy()\n",
    "labels = tcc['Churn'].copy()"
   ]
  },
  {
   "cell_type": "markdown",
   "id": "37d2fcf4-62f9-40de-8817-73f1f1f46dd4",
   "metadata": {},
   "source": [
    "接下来即可直接带入数据进行特征衍生。"
   ]
  },
  {
   "cell_type": "markdown",
   "id": "c94eb1ae-adba-458a-b6e3-5129062d176b",
   "metadata": {},
   "source": [
    "### 3.分组统计特征衍生"
   ]
  },
  {
   "cell_type": "markdown",
   "id": "65d5905c-6dd8-4c26-bc13-4190b0fccd8e",
   "metadata": {},
   "source": [
    "- 方法介绍"
   ]
  },
  {
   "cell_type": "markdown",
   "id": "6884fd35-22c5-4e76-8e40-8818e6b16bea",
   "metadata": {},
   "source": [
    "&emsp;&emsp;接下来，我们继续讨论另一种同样非常常用的特征衍生方法：分组统计特征衍生方法。所谓分组统计，顾名思义，就是A特征根据B特征的不同取值进行分组统计，统计量可以是均值、方差等针对连续变量的统计指标，也可以是众数、分位数等针对离散变量的统计指标，例如我们可以计算不同入网时间用户的平均月消费金额、消费金额最大值、消费金额最小值等，基本过程如下："
   ]
  },
  {
   "cell_type": "markdown",
   "id": "e782a33a-6790-403e-af94-2ff7509ff430",
   "metadata": {},
   "source": [
    "<center><img src=\"https://s2.loli.net/2022/01/20/6YzMGo9uI1Dm8rc.png\" alt=\"image-20220120170224947\" style=\"zoom:33%;\" />"
   ]
  },
  {
   "cell_type": "markdown",
   "id": "dd3551df-f87b-4668-b3a2-568b36017582",
   "metadata": {},
   "source": [
    "同样，该过程也并不复杂，在实际执行分组统计特征衍生的过程中（假设是A特征根据B特征的不同取值进行分组统计），有以下几点需要注意："
   ]
  },
  {
   "cell_type": "markdown",
   "id": "952153ff-b7f1-42d0-8c1e-d3d75a1490a5",
   "metadata": {},
   "source": [
    "- 首先，一般来说A特征可以是离散变量也可以是连续变量，而B特征必须是离散变量，且最好是一些取值较多的离散变量（或者固定取值的连续变量），例如本数据集中的tenure字段，总共有73个取值。主要原因是如果B特征取值较少，则在衍生的特征矩阵中会出现大量的重复的行；      \n",
    "- 其次，在实际计算A的分组统计量时，可以不局限于连续特征只用连续变量的统计量、离散特征只用离散的统计量，完全可以交叉使用，例如A是离散变量，我们也可以分组统计其均值、方差、偏度、峰度等，连续变量也可以统计众数、分位数等。很多时候，更多的信息组合有可能会带来更多的可能性；        \n",
    "- 其三，有的时候分组统计还可以用于多表连接的场景，例如假设现在给出的数据集不是每个用户的汇总统计结果，而是每个用户在过去的一段时间内的行为记录，则我们可以根据用户ID对其进行分组统计汇总：        \n",
    "<center><img src=\"https://s2.loli.net/2022/01/20/mE9hBtyaHpOIlvR.png\" alt=\"image-20220120172058991\" style=\"zoom:33%;\" />      \n",
    "- 其四，很多时候我们还会考虑进一步围绕特征A和分组统计结果进行再一次的四则运算特征衍生，例如用月度消费金额减去分组均值，则可以比较每一位用户与相同时间入网用户的消费平均水平的差异，围绕衍生特征再次进行衍生，我们将其称为统计演变特征，也是分组汇总衍生特征的重要应用场景：     \n",
    "<center><img src=\"https://s2.loli.net/2022/01/20/Z1bgnjBui7VT4dI.png\" alt=\"image-20220120172703371\" style=\"zoom:33%;\" />        "
   ]
  },
  {
   "cell_type": "markdown",
   "id": "601a30e7-3769-4f94-9a9a-f40a1255e920",
   "metadata": {},
   "source": [
    "- 手动实现"
   ]
  },
  {
   "cell_type": "markdown",
   "id": "9dfed587-f281-4955-970a-0225e392ce38",
   "metadata": {},
   "source": [
    "&emsp;&emsp;接下来我们考虑分组汇总特征如何实现。这里我们可以优先考虑借助Pandas中的groupby方法来实现，首先简单回归groupby方法的基本使用，这里我们提取'tenure'、'SeniorCitizen'、'MonthlyCharges'三列来尝试进行单列聚合和多列聚合："
   ]
  },
  {
   "cell_type": "code",
   "execution_count": 4,
   "id": "29f2a79a-56b0-44a5-b52d-2ceea98179b2",
   "metadata": {},
   "outputs": [],
   "source": [
    "# 提取目标字段\n",
    "colNames = ['tenure', 'SeniorCitizen', 'MonthlyCharges']"
   ]
  },
  {
   "cell_type": "code",
   "execution_count": 5,
   "id": "1ab7ab9b-dee0-491e-bc5b-44697f6e703f",
   "metadata": {},
   "outputs": [
    {
     "data": {
      "text/html": [
       "<div>\n",
       "<style scoped>\n",
       "    .dataframe tbody tr th:only-of-type {\n",
       "        vertical-align: middle;\n",
       "    }\n",
       "\n",
       "    .dataframe tbody tr th {\n",
       "        vertical-align: top;\n",
       "    }\n",
       "\n",
       "    .dataframe thead th {\n",
       "        text-align: right;\n",
       "    }\n",
       "</style>\n",
       "<table border=\"1\" class=\"dataframe\">\n",
       "  <thead>\n",
       "    <tr style=\"text-align: right;\">\n",
       "      <th></th>\n",
       "      <th>tenure</th>\n",
       "      <th>SeniorCitizen</th>\n",
       "      <th>MonthlyCharges</th>\n",
       "    </tr>\n",
       "  </thead>\n",
       "  <tbody>\n",
       "    <tr>\n",
       "      <th>0</th>\n",
       "      <td>1</td>\n",
       "      <td>0</td>\n",
       "      <td>29.85</td>\n",
       "    </tr>\n",
       "    <tr>\n",
       "      <th>1</th>\n",
       "      <td>34</td>\n",
       "      <td>0</td>\n",
       "      <td>56.95</td>\n",
       "    </tr>\n",
       "    <tr>\n",
       "      <th>2</th>\n",
       "      <td>2</td>\n",
       "      <td>0</td>\n",
       "      <td>53.85</td>\n",
       "    </tr>\n",
       "    <tr>\n",
       "      <th>3</th>\n",
       "      <td>45</td>\n",
       "      <td>0</td>\n",
       "      <td>42.30</td>\n",
       "    </tr>\n",
       "    <tr>\n",
       "      <th>4</th>\n",
       "      <td>2</td>\n",
       "      <td>0</td>\n",
       "      <td>70.70</td>\n",
       "    </tr>\n",
       "  </tbody>\n",
       "</table>\n",
       "</div>"
      ],
      "text/plain": [
       "   tenure  SeniorCitizen  MonthlyCharges\n",
       "0       1              0           29.85\n",
       "1      34              0           56.95\n",
       "2       2              0           53.85\n",
       "3      45              0           42.30\n",
       "4       2              0           70.70"
      ]
     },
     "execution_count": 5,
     "metadata": {},
     "output_type": "execute_result"
    }
   ],
   "source": [
    "# 单独提取目标字段的数据集\n",
    "features_temp = features[colNames]\n",
    "features_temp.head(5)"
   ]
  },
  {
   "cell_type": "code",
   "execution_count": 6,
   "id": "4e1dccf2-91f8-403d-ae20-3f58a44a5284",
   "metadata": {},
   "outputs": [
    {
     "data": {
      "text/html": [
       "<div>\n",
       "<style scoped>\n",
       "    .dataframe tbody tr th:only-of-type {\n",
       "        vertical-align: middle;\n",
       "    }\n",
       "\n",
       "    .dataframe tbody tr th {\n",
       "        vertical-align: top;\n",
       "    }\n",
       "\n",
       "    .dataframe thead th {\n",
       "        text-align: right;\n",
       "    }\n",
       "</style>\n",
       "<table border=\"1\" class=\"dataframe\">\n",
       "  <thead>\n",
       "    <tr style=\"text-align: right;\">\n",
       "      <th></th>\n",
       "      <th>SeniorCitizen</th>\n",
       "      <th>MonthlyCharges</th>\n",
       "    </tr>\n",
       "    <tr>\n",
       "      <th>tenure</th>\n",
       "      <th></th>\n",
       "      <th></th>\n",
       "    </tr>\n",
       "  </thead>\n",
       "  <tbody>\n",
       "    <tr>\n",
       "      <th>0</th>\n",
       "      <td>0.000000</td>\n",
       "      <td>41.418182</td>\n",
       "    </tr>\n",
       "    <tr>\n",
       "      <th>1</th>\n",
       "      <td>0.140294</td>\n",
       "      <td>50.485808</td>\n",
       "    </tr>\n",
       "    <tr>\n",
       "      <th>2</th>\n",
       "      <td>0.180672</td>\n",
       "      <td>57.206303</td>\n",
       "    </tr>\n",
       "    <tr>\n",
       "      <th>3</th>\n",
       "      <td>0.125000</td>\n",
       "      <td>58.015000</td>\n",
       "    </tr>\n",
       "    <tr>\n",
       "      <th>4</th>\n",
       "      <td>0.147727</td>\n",
       "      <td>57.432670</td>\n",
       "    </tr>\n",
       "    <tr>\n",
       "      <th>...</th>\n",
       "      <td>...</td>\n",
       "      <td>...</td>\n",
       "    </tr>\n",
       "    <tr>\n",
       "      <th>68</th>\n",
       "      <td>0.130000</td>\n",
       "      <td>73.321000</td>\n",
       "    </tr>\n",
       "    <tr>\n",
       "      <th>69</th>\n",
       "      <td>0.136842</td>\n",
       "      <td>70.823158</td>\n",
       "    </tr>\n",
       "    <tr>\n",
       "      <th>70</th>\n",
       "      <td>0.142857</td>\n",
       "      <td>76.378992</td>\n",
       "    </tr>\n",
       "    <tr>\n",
       "      <th>71</th>\n",
       "      <td>0.182353</td>\n",
       "      <td>73.735588</td>\n",
       "    </tr>\n",
       "    <tr>\n",
       "      <th>72</th>\n",
       "      <td>0.154696</td>\n",
       "      <td>80.695856</td>\n",
       "    </tr>\n",
       "  </tbody>\n",
       "</table>\n",
       "<p>73 rows × 2 columns</p>\n",
       "</div>"
      ],
      "text/plain": [
       "        SeniorCitizen  MonthlyCharges\n",
       "tenure                               \n",
       "0            0.000000       41.418182\n",
       "1            0.140294       50.485808\n",
       "2            0.180672       57.206303\n",
       "3            0.125000       58.015000\n",
       "4            0.147727       57.432670\n",
       "...               ...             ...\n",
       "68           0.130000       73.321000\n",
       "69           0.136842       70.823158\n",
       "70           0.142857       76.378992\n",
       "71           0.182353       73.735588\n",
       "72           0.154696       80.695856\n",
       "\n",
       "[73 rows x 2 columns]"
      ]
     },
     "execution_count": 6,
     "metadata": {},
     "output_type": "execute_result"
    }
   ],
   "source": [
    "# 在不同tenure取值下计算其他变量分组均值的结果\n",
    "features_temp.groupby('tenure').mean()"
   ]
  },
  {
   "cell_type": "code",
   "execution_count": 7,
   "id": "2fe939f9-8c7c-4e5f-b402-4fa6145e4fbb",
   "metadata": {},
   "outputs": [
    {
     "data": {
      "text/html": [
       "<div>\n",
       "<style scoped>\n",
       "    .dataframe tbody tr th:only-of-type {\n",
       "        vertical-align: middle;\n",
       "    }\n",
       "\n",
       "    .dataframe tbody tr th {\n",
       "        vertical-align: top;\n",
       "    }\n",
       "\n",
       "    .dataframe thead th {\n",
       "        text-align: right;\n",
       "    }\n",
       "</style>\n",
       "<table border=\"1\" class=\"dataframe\">\n",
       "  <thead>\n",
       "    <tr style=\"text-align: right;\">\n",
       "      <th></th>\n",
       "      <th>SeniorCitizen</th>\n",
       "      <th>MonthlyCharges</th>\n",
       "    </tr>\n",
       "    <tr>\n",
       "      <th>tenure</th>\n",
       "      <th></th>\n",
       "      <th></th>\n",
       "    </tr>\n",
       "  </thead>\n",
       "  <tbody>\n",
       "    <tr>\n",
       "      <th>0</th>\n",
       "      <td>0.000000</td>\n",
       "      <td>23.831484</td>\n",
       "    </tr>\n",
       "    <tr>\n",
       "      <th>1</th>\n",
       "      <td>0.347575</td>\n",
       "      <td>24.714198</td>\n",
       "    </tr>\n",
       "    <tr>\n",
       "      <th>2</th>\n",
       "      <td>0.385557</td>\n",
       "      <td>25.180714</td>\n",
       "    </tr>\n",
       "    <tr>\n",
       "      <th>3</th>\n",
       "      <td>0.331549</td>\n",
       "      <td>26.783798</td>\n",
       "    </tr>\n",
       "    <tr>\n",
       "      <th>4</th>\n",
       "      <td>0.355842</td>\n",
       "      <td>26.362647</td>\n",
       "    </tr>\n",
       "    <tr>\n",
       "      <th>...</th>\n",
       "      <td>...</td>\n",
       "      <td>...</td>\n",
       "    </tr>\n",
       "    <tr>\n",
       "      <th>68</th>\n",
       "      <td>0.337998</td>\n",
       "      <td>30.267744</td>\n",
       "    </tr>\n",
       "    <tr>\n",
       "      <th>69</th>\n",
       "      <td>0.345504</td>\n",
       "      <td>33.730068</td>\n",
       "    </tr>\n",
       "    <tr>\n",
       "      <th>70</th>\n",
       "      <td>0.351407</td>\n",
       "      <td>30.993483</td>\n",
       "    </tr>\n",
       "    <tr>\n",
       "      <th>71</th>\n",
       "      <td>0.387276</td>\n",
       "      <td>32.711860</td>\n",
       "    </tr>\n",
       "    <tr>\n",
       "      <th>72</th>\n",
       "      <td>0.362115</td>\n",
       "      <td>31.956764</td>\n",
       "    </tr>\n",
       "  </tbody>\n",
       "</table>\n",
       "<p>73 rows × 2 columns</p>\n",
       "</div>"
      ],
      "text/plain": [
       "        SeniorCitizen  MonthlyCharges\n",
       "tenure                               \n",
       "0            0.000000       23.831484\n",
       "1            0.347575       24.714198\n",
       "2            0.385557       25.180714\n",
       "3            0.331549       26.783798\n",
       "4            0.355842       26.362647\n",
       "...               ...             ...\n",
       "68           0.337998       30.267744\n",
       "69           0.345504       33.730068\n",
       "70           0.351407       30.993483\n",
       "71           0.387276       32.711860\n",
       "72           0.362115       31.956764\n",
       "\n",
       "[73 rows x 2 columns]"
      ]
     },
     "execution_count": 7,
     "metadata": {},
     "output_type": "execute_result"
    }
   ],
   "source": [
    "# 在不同tenure取值下计算其他变量分组标准差的结果\n",
    "features_temp.groupby('tenure').std()"
   ]
  },
  {
   "cell_type": "markdown",
   "id": "3a98b49c-39c6-4938-a781-0e804b7c7ba0",
   "metadata": {},
   "source": [
    "此外，我们还可以尝试多列聚合"
   ]
  },
  {
   "cell_type": "code",
   "execution_count": 11,
   "id": "7e482158-410a-4d70-85dd-e90542f73f95",
   "metadata": {},
   "outputs": [
    {
     "data": {
      "text/html": [
       "<div>\n",
       "<style scoped>\n",
       "    .dataframe tbody tr th:only-of-type {\n",
       "        vertical-align: middle;\n",
       "    }\n",
       "\n",
       "    .dataframe tbody tr th {\n",
       "        vertical-align: top;\n",
       "    }\n",
       "\n",
       "    .dataframe thead th {\n",
       "        text-align: right;\n",
       "    }\n",
       "</style>\n",
       "<table border=\"1\" class=\"dataframe\">\n",
       "  <thead>\n",
       "    <tr style=\"text-align: right;\">\n",
       "      <th></th>\n",
       "      <th></th>\n",
       "      <th>MonthlyCharges</th>\n",
       "    </tr>\n",
       "    <tr>\n",
       "      <th>tenure</th>\n",
       "      <th>SeniorCitizen</th>\n",
       "      <th></th>\n",
       "    </tr>\n",
       "  </thead>\n",
       "  <tbody>\n",
       "    <tr>\n",
       "      <th>0</th>\n",
       "      <th>0</th>\n",
       "      <td>41.418182</td>\n",
       "    </tr>\n",
       "    <tr>\n",
       "      <th rowspan=\"2\" valign=\"top\">1</th>\n",
       "      <th>0</th>\n",
       "      <td>48.329127</td>\n",
       "    </tr>\n",
       "    <tr>\n",
       "      <th>1</th>\n",
       "      <td>63.701744</td>\n",
       "    </tr>\n",
       "    <tr>\n",
       "      <th rowspan=\"2\" valign=\"top\">2</th>\n",
       "      <th>0</th>\n",
       "      <td>54.951538</td>\n",
       "    </tr>\n",
       "    <tr>\n",
       "      <th>1</th>\n",
       "      <td>67.431395</td>\n",
       "    </tr>\n",
       "    <tr>\n",
       "      <th>...</th>\n",
       "      <th>...</th>\n",
       "      <td>...</td>\n",
       "    </tr>\n",
       "    <tr>\n",
       "      <th>70</th>\n",
       "      <th>1</th>\n",
       "      <td>87.017647</td>\n",
       "    </tr>\n",
       "    <tr>\n",
       "      <th rowspan=\"2\" valign=\"top\">71</th>\n",
       "      <th>0</th>\n",
       "      <td>72.497482</td>\n",
       "    </tr>\n",
       "    <tr>\n",
       "      <th>1</th>\n",
       "      <td>79.287097</td>\n",
       "    </tr>\n",
       "    <tr>\n",
       "      <th rowspan=\"2\" valign=\"top\">72</th>\n",
       "      <th>0</th>\n",
       "      <td>78.687745</td>\n",
       "    </tr>\n",
       "    <tr>\n",
       "      <th>1</th>\n",
       "      <td>91.668750</td>\n",
       "    </tr>\n",
       "  </tbody>\n",
       "</table>\n",
       "<p>145 rows × 1 columns</p>\n",
       "</div>"
      ],
      "text/plain": [
       "                      MonthlyCharges\n",
       "tenure SeniorCitizen                \n",
       "0      0                   41.418182\n",
       "1      0                   48.329127\n",
       "       1                   63.701744\n",
       "2      0                   54.951538\n",
       "       1                   67.431395\n",
       "...                              ...\n",
       "70     1                   87.017647\n",
       "71     0                   72.497482\n",
       "       1                   79.287097\n",
       "72     0                   78.687745\n",
       "       1                   91.668750\n",
       "\n",
       "[145 rows x 1 columns]"
      ]
     },
     "execution_count": 11,
     "metadata": {},
     "output_type": "execute_result"
    }
   ],
   "source": [
    "# 在'tenure'、'SeniorCitizen'交叉取值分组下，计算组内月度消费金额均值\n",
    "features_temp.groupby(['tenure', 'SeniorCitizen']).mean()"
   ]
  },
  {
   "cell_type": "markdown",
   "id": "aefd12cb-1251-40d3-aea0-e297104fc994",
   "metadata": {},
   "source": [
    "当然，groupby也支持同时输入多个统计量进行汇总计算，此时推荐使用agg方法来进行相关操作:"
   ]
  },
  {
   "cell_type": "code",
   "execution_count": 8,
   "id": "cd6c8b75-9e74-442e-ac8e-f70938706fda",
   "metadata": {},
   "outputs": [
    {
     "data": {
      "text/plain": [
       "['tenure', 'SeniorCitizen', 'MonthlyCharges']"
      ]
     },
     "execution_count": 8,
     "metadata": {},
     "output_type": "execute_result"
    }
   ],
   "source": [
    "colNames"
   ]
  },
  {
   "cell_type": "code",
   "execution_count": 9,
   "id": "ef60ec2b-30cd-4482-9234-5700d217df6e",
   "metadata": {},
   "outputs": [],
   "source": [
    "# 分组汇总字段\n",
    "colNames_sub = ['SeniorCitizen', 'MonthlyCharges']"
   ]
  },
  {
   "cell_type": "code",
   "execution_count": 10,
   "id": "8dc0667e-405b-4a37-9baf-46266bfa05e0",
   "metadata": {},
   "outputs": [],
   "source": [
    "# 创建空字典\n",
    "aggs = {}\n",
    "\n",
    "# 字段汇总统计量设置\n",
    "for col in colNames_sub:\n",
    "    aggs[col] = ['mean', 'min', 'max']"
   ]
  },
  {
   "cell_type": "code",
   "execution_count": 11,
   "id": "a15a46fa-ee42-4232-a96e-25f9f0574d1e",
   "metadata": {},
   "outputs": [
    {
     "data": {
      "text/plain": [
       "{'SeniorCitizen': ['mean', 'min', 'max'],\n",
       " 'MonthlyCharges': ['mean', 'min', 'max']}"
      ]
     },
     "execution_count": 11,
     "metadata": {},
     "output_type": "execute_result"
    }
   ],
   "source": [
    "# 每个字段汇总统计信息\n",
    "aggs"
   ]
  },
  {
   "cell_type": "code",
   "execution_count": 12,
   "id": "347d964c-c478-4c80-a13b-d426770212a0",
   "metadata": {},
   "outputs": [],
   "source": [
    "# 创建新的列名称\n",
    "cols = ['tenure']\n",
    "\n",
    "for key in aggs.keys():\n",
    "    cols.extend([key+'_'+'tenure'+'_'+stat for stat in aggs[key]])"
   ]
  },
  {
   "cell_type": "code",
   "execution_count": 13,
   "id": "83aa9a9e-6ff0-4f4b-bd96-5ab037e7da80",
   "metadata": {},
   "outputs": [
    {
     "data": {
      "text/plain": [
       "['tenure',\n",
       " 'SeniorCitizen_tenure_mean',\n",
       " 'SeniorCitizen_tenure_min',\n",
       " 'SeniorCitizen_tenure_max',\n",
       " 'MonthlyCharges_tenure_mean',\n",
       " 'MonthlyCharges_tenure_min',\n",
       " 'MonthlyCharges_tenure_max']"
      ]
     },
     "execution_count": 13,
     "metadata": {},
     "output_type": "execute_result"
    }
   ],
   "source": [
    "cols"
   ]
  },
  {
   "cell_type": "markdown",
   "id": "081efa77-6f1c-4aa2-acd1-8dcd8c26017d",
   "metadata": {},
   "source": [
    "而这里的列表表达式，返回结果如下："
   ]
  },
  {
   "cell_type": "code",
   "execution_count": 14,
   "id": "7a9ccc45-0ec6-4fa1-a860-cabbaa7d947c",
   "metadata": {},
   "outputs": [
    {
     "data": {
      "text/plain": [
       "['MonthlyCharges_tenure_mean',\n",
       " 'MonthlyCharges_tenure_min',\n",
       " 'MonthlyCharges_tenure_max']"
      ]
     },
     "execution_count": 14,
     "metadata": {},
     "output_type": "execute_result"
    }
   ],
   "source": [
    "[key+'_'+'tenure'+'_'+stat for stat in aggs[key]]"
   ]
  },
  {
   "cell_type": "markdown",
   "id": "ce0aaae8-d55c-4505-90c1-c35da8d22f30",
   "metadata": {},
   "source": [
    "这也是为何使用extend方法的原因。接下来我们创建新特征："
   ]
  },
  {
   "cell_type": "code",
   "execution_count": 15,
   "id": "f6635916-b3d9-47ee-8714-0d3146515501",
   "metadata": {},
   "outputs": [
    {
     "data": {
      "text/html": [
       "<div>\n",
       "<style scoped>\n",
       "    .dataframe tbody tr th:only-of-type {\n",
       "        vertical-align: middle;\n",
       "    }\n",
       "\n",
       "    .dataframe tbody tr th {\n",
       "        vertical-align: top;\n",
       "    }\n",
       "\n",
       "    .dataframe thead tr th {\n",
       "        text-align: left;\n",
       "    }\n",
       "</style>\n",
       "<table border=\"1\" class=\"dataframe\">\n",
       "  <thead>\n",
       "    <tr>\n",
       "      <th></th>\n",
       "      <th>tenure</th>\n",
       "      <th colspan=\"3\" halign=\"left\">SeniorCitizen</th>\n",
       "      <th colspan=\"3\" halign=\"left\">MonthlyCharges</th>\n",
       "    </tr>\n",
       "    <tr>\n",
       "      <th></th>\n",
       "      <th></th>\n",
       "      <th>mean</th>\n",
       "      <th>min</th>\n",
       "      <th>max</th>\n",
       "      <th>mean</th>\n",
       "      <th>min</th>\n",
       "      <th>max</th>\n",
       "    </tr>\n",
       "  </thead>\n",
       "  <tbody>\n",
       "    <tr>\n",
       "      <th>0</th>\n",
       "      <td>0</td>\n",
       "      <td>0.000000</td>\n",
       "      <td>0</td>\n",
       "      <td>0</td>\n",
       "      <td>41.418182</td>\n",
       "      <td>19.70</td>\n",
       "      <td>80.85</td>\n",
       "    </tr>\n",
       "    <tr>\n",
       "      <th>1</th>\n",
       "      <td>1</td>\n",
       "      <td>0.140294</td>\n",
       "      <td>0</td>\n",
       "      <td>1</td>\n",
       "      <td>50.485808</td>\n",
       "      <td>18.80</td>\n",
       "      <td>102.45</td>\n",
       "    </tr>\n",
       "    <tr>\n",
       "      <th>2</th>\n",
       "      <td>2</td>\n",
       "      <td>0.180672</td>\n",
       "      <td>0</td>\n",
       "      <td>1</td>\n",
       "      <td>57.206303</td>\n",
       "      <td>18.75</td>\n",
       "      <td>104.40</td>\n",
       "    </tr>\n",
       "    <tr>\n",
       "      <th>3</th>\n",
       "      <td>3</td>\n",
       "      <td>0.125000</td>\n",
       "      <td>0</td>\n",
       "      <td>1</td>\n",
       "      <td>58.015000</td>\n",
       "      <td>18.80</td>\n",
       "      <td>107.95</td>\n",
       "    </tr>\n",
       "    <tr>\n",
       "      <th>4</th>\n",
       "      <td>4</td>\n",
       "      <td>0.147727</td>\n",
       "      <td>0</td>\n",
       "      <td>1</td>\n",
       "      <td>57.432670</td>\n",
       "      <td>18.85</td>\n",
       "      <td>105.65</td>\n",
       "    </tr>\n",
       "  </tbody>\n",
       "</table>\n",
       "</div>"
      ],
      "text/plain": [
       "  tenure SeniorCitizen         MonthlyCharges               \n",
       "                  mean min max           mean    min     max\n",
       "0      0      0.000000   0   0      41.418182  19.70   80.85\n",
       "1      1      0.140294   0   1      50.485808  18.80  102.45\n",
       "2      2      0.180672   0   1      57.206303  18.75  104.40\n",
       "3      3      0.125000   0   1      58.015000  18.80  107.95\n",
       "4      4      0.147727   0   1      57.432670  18.85  105.65"
      ]
     },
     "execution_count": 15,
     "metadata": {},
     "output_type": "execute_result"
    }
   ],
   "source": [
    "features_new = features_temp.groupby('tenure').agg(aggs).reset_index()\n",
    "features_new.head(5)"
   ]
  },
  {
   "cell_type": "code",
   "execution_count": 16,
   "id": "07b40302-66a2-40ca-ae57-434a6c847160",
   "metadata": {},
   "outputs": [
    {
     "data": {
      "text/html": [
       "<div>\n",
       "<style scoped>\n",
       "    .dataframe tbody tr th:only-of-type {\n",
       "        vertical-align: middle;\n",
       "    }\n",
       "\n",
       "    .dataframe tbody tr th {\n",
       "        vertical-align: top;\n",
       "    }\n",
       "\n",
       "    .dataframe thead th {\n",
       "        text-align: right;\n",
       "    }\n",
       "</style>\n",
       "<table border=\"1\" class=\"dataframe\">\n",
       "  <thead>\n",
       "    <tr style=\"text-align: right;\">\n",
       "      <th></th>\n",
       "      <th>tenure</th>\n",
       "      <th>SeniorCitizen_tenure_mean</th>\n",
       "      <th>SeniorCitizen_tenure_min</th>\n",
       "      <th>SeniorCitizen_tenure_max</th>\n",
       "      <th>MonthlyCharges_tenure_mean</th>\n",
       "      <th>MonthlyCharges_tenure_min</th>\n",
       "      <th>MonthlyCharges_tenure_max</th>\n",
       "    </tr>\n",
       "  </thead>\n",
       "  <tbody>\n",
       "    <tr>\n",
       "      <th>0</th>\n",
       "      <td>0</td>\n",
       "      <td>0.000000</td>\n",
       "      <td>0</td>\n",
       "      <td>0</td>\n",
       "      <td>41.418182</td>\n",
       "      <td>19.70</td>\n",
       "      <td>80.85</td>\n",
       "    </tr>\n",
       "    <tr>\n",
       "      <th>1</th>\n",
       "      <td>1</td>\n",
       "      <td>0.140294</td>\n",
       "      <td>0</td>\n",
       "      <td>1</td>\n",
       "      <td>50.485808</td>\n",
       "      <td>18.80</td>\n",
       "      <td>102.45</td>\n",
       "    </tr>\n",
       "    <tr>\n",
       "      <th>2</th>\n",
       "      <td>2</td>\n",
       "      <td>0.180672</td>\n",
       "      <td>0</td>\n",
       "      <td>1</td>\n",
       "      <td>57.206303</td>\n",
       "      <td>18.75</td>\n",
       "      <td>104.40</td>\n",
       "    </tr>\n",
       "    <tr>\n",
       "      <th>3</th>\n",
       "      <td>3</td>\n",
       "      <td>0.125000</td>\n",
       "      <td>0</td>\n",
       "      <td>1</td>\n",
       "      <td>58.015000</td>\n",
       "      <td>18.80</td>\n",
       "      <td>107.95</td>\n",
       "    </tr>\n",
       "    <tr>\n",
       "      <th>4</th>\n",
       "      <td>4</td>\n",
       "      <td>0.147727</td>\n",
       "      <td>0</td>\n",
       "      <td>1</td>\n",
       "      <td>57.432670</td>\n",
       "      <td>18.85</td>\n",
       "      <td>105.65</td>\n",
       "    </tr>\n",
       "  </tbody>\n",
       "</table>\n",
       "</div>"
      ],
      "text/plain": [
       "   tenure  SeniorCitizen_tenure_mean  SeniorCitizen_tenure_min  \\\n",
       "0       0                   0.000000                         0   \n",
       "1       1                   0.140294                         0   \n",
       "2       2                   0.180672                         0   \n",
       "3       3                   0.125000                         0   \n",
       "4       4                   0.147727                         0   \n",
       "\n",
       "   SeniorCitizen_tenure_max  MonthlyCharges_tenure_mean  \\\n",
       "0                         0                   41.418182   \n",
       "1                         1                   50.485808   \n",
       "2                         1                   57.206303   \n",
       "3                         1                   58.015000   \n",
       "4                         1                   57.432670   \n",
       "\n",
       "   MonthlyCharges_tenure_min  MonthlyCharges_tenure_max  \n",
       "0                      19.70                      80.85  \n",
       "1                      18.80                     102.45  \n",
       "2                      18.75                     104.40  \n",
       "3                      18.80                     107.95  \n",
       "4                      18.85                     105.65  "
      ]
     },
     "execution_count": 16,
     "metadata": {},
     "output_type": "execute_result"
    }
   ],
   "source": [
    "# 重新设置列名称\n",
    "features_new.columns = cols\n",
    "features_new.head(5)"
   ]
  },
  {
   "cell_type": "markdown",
   "id": "31a26203-fef0-4499-bb47-b7941ddf70e6",
   "metadata": {},
   "source": [
    "当然，在创建完统计汇总信息后，还需要以tenure为主键和原始数据集进行拼接，此时需要使用merge函数进行操作："
   ]
  },
  {
   "cell_type": "code",
   "execution_count": 17,
   "id": "eaa62654-6323-4223-acf2-188cb47de635",
   "metadata": {},
   "outputs": [
    {
     "data": {
      "text/html": [
       "<div>\n",
       "<style scoped>\n",
       "    .dataframe tbody tr th:only-of-type {\n",
       "        vertical-align: middle;\n",
       "    }\n",
       "\n",
       "    .dataframe tbody tr th {\n",
       "        vertical-align: top;\n",
       "    }\n",
       "\n",
       "    .dataframe thead th {\n",
       "        text-align: right;\n",
       "    }\n",
       "</style>\n",
       "<table border=\"1\" class=\"dataframe\">\n",
       "  <thead>\n",
       "    <tr style=\"text-align: right;\">\n",
       "      <th></th>\n",
       "      <th>gender</th>\n",
       "      <th>SeniorCitizen</th>\n",
       "      <th>Partner</th>\n",
       "      <th>Dependents</th>\n",
       "      <th>tenure</th>\n",
       "      <th>PhoneService</th>\n",
       "      <th>MultipleLines</th>\n",
       "      <th>InternetService</th>\n",
       "      <th>OnlineSecurity</th>\n",
       "      <th>OnlineBackup</th>\n",
       "      <th>...</th>\n",
       "      <th>PaperlessBilling</th>\n",
       "      <th>PaymentMethod</th>\n",
       "      <th>MonthlyCharges</th>\n",
       "      <th>TotalCharges</th>\n",
       "      <th>SeniorCitizen_tenure_mean</th>\n",
       "      <th>SeniorCitizen_tenure_min</th>\n",
       "      <th>SeniorCitizen_tenure_max</th>\n",
       "      <th>MonthlyCharges_tenure_mean</th>\n",
       "      <th>MonthlyCharges_tenure_min</th>\n",
       "      <th>MonthlyCharges_tenure_max</th>\n",
       "    </tr>\n",
       "  </thead>\n",
       "  <tbody>\n",
       "    <tr>\n",
       "      <th>0</th>\n",
       "      <td>Female</td>\n",
       "      <td>0</td>\n",
       "      <td>Yes</td>\n",
       "      <td>No</td>\n",
       "      <td>1</td>\n",
       "      <td>No</td>\n",
       "      <td>No phone service</td>\n",
       "      <td>DSL</td>\n",
       "      <td>No</td>\n",
       "      <td>Yes</td>\n",
       "      <td>...</td>\n",
       "      <td>Yes</td>\n",
       "      <td>Electronic check</td>\n",
       "      <td>29.85</td>\n",
       "      <td>29.85</td>\n",
       "      <td>0.140294</td>\n",
       "      <td>0</td>\n",
       "      <td>1</td>\n",
       "      <td>50.485808</td>\n",
       "      <td>18.80</td>\n",
       "      <td>102.45</td>\n",
       "    </tr>\n",
       "    <tr>\n",
       "      <th>1</th>\n",
       "      <td>Male</td>\n",
       "      <td>0</td>\n",
       "      <td>No</td>\n",
       "      <td>No</td>\n",
       "      <td>34</td>\n",
       "      <td>Yes</td>\n",
       "      <td>No</td>\n",
       "      <td>DSL</td>\n",
       "      <td>Yes</td>\n",
       "      <td>No</td>\n",
       "      <td>...</td>\n",
       "      <td>No</td>\n",
       "      <td>Mailed check</td>\n",
       "      <td>56.95</td>\n",
       "      <td>1889.50</td>\n",
       "      <td>0.184615</td>\n",
       "      <td>0</td>\n",
       "      <td>1</td>\n",
       "      <td>69.644615</td>\n",
       "      <td>19.60</td>\n",
       "      <td>116.25</td>\n",
       "    </tr>\n",
       "    <tr>\n",
       "      <th>2</th>\n",
       "      <td>Male</td>\n",
       "      <td>0</td>\n",
       "      <td>No</td>\n",
       "      <td>No</td>\n",
       "      <td>2</td>\n",
       "      <td>Yes</td>\n",
       "      <td>No</td>\n",
       "      <td>DSL</td>\n",
       "      <td>Yes</td>\n",
       "      <td>Yes</td>\n",
       "      <td>...</td>\n",
       "      <td>Yes</td>\n",
       "      <td>Mailed check</td>\n",
       "      <td>53.85</td>\n",
       "      <td>108.15</td>\n",
       "      <td>0.180672</td>\n",
       "      <td>0</td>\n",
       "      <td>1</td>\n",
       "      <td>57.206303</td>\n",
       "      <td>18.75</td>\n",
       "      <td>104.40</td>\n",
       "    </tr>\n",
       "    <tr>\n",
       "      <th>3</th>\n",
       "      <td>Male</td>\n",
       "      <td>0</td>\n",
       "      <td>No</td>\n",
       "      <td>No</td>\n",
       "      <td>45</td>\n",
       "      <td>No</td>\n",
       "      <td>No phone service</td>\n",
       "      <td>DSL</td>\n",
       "      <td>Yes</td>\n",
       "      <td>No</td>\n",
       "      <td>...</td>\n",
       "      <td>No</td>\n",
       "      <td>Bank transfer (automatic)</td>\n",
       "      <td>42.30</td>\n",
       "      <td>1840.75</td>\n",
       "      <td>0.196721</td>\n",
       "      <td>0</td>\n",
       "      <td>1</td>\n",
       "      <td>71.245902</td>\n",
       "      <td>18.85</td>\n",
       "      <td>115.65</td>\n",
       "    </tr>\n",
       "    <tr>\n",
       "      <th>4</th>\n",
       "      <td>Female</td>\n",
       "      <td>0</td>\n",
       "      <td>No</td>\n",
       "      <td>No</td>\n",
       "      <td>2</td>\n",
       "      <td>Yes</td>\n",
       "      <td>No</td>\n",
       "      <td>Fiber optic</td>\n",
       "      <td>No</td>\n",
       "      <td>No</td>\n",
       "      <td>...</td>\n",
       "      <td>Yes</td>\n",
       "      <td>Electronic check</td>\n",
       "      <td>70.70</td>\n",
       "      <td>151.65</td>\n",
       "      <td>0.180672</td>\n",
       "      <td>0</td>\n",
       "      <td>1</td>\n",
       "      <td>57.206303</td>\n",
       "      <td>18.75</td>\n",
       "      <td>104.40</td>\n",
       "    </tr>\n",
       "  </tbody>\n",
       "</table>\n",
       "<p>5 rows × 25 columns</p>\n",
       "</div>"
      ],
      "text/plain": [
       "   gender  SeniorCitizen Partner Dependents  tenure PhoneService  \\\n",
       "0  Female              0     Yes         No       1           No   \n",
       "1    Male              0      No         No      34          Yes   \n",
       "2    Male              0      No         No       2          Yes   \n",
       "3    Male              0      No         No      45           No   \n",
       "4  Female              0      No         No       2          Yes   \n",
       "\n",
       "      MultipleLines InternetService OnlineSecurity OnlineBackup  ...  \\\n",
       "0  No phone service             DSL             No          Yes  ...   \n",
       "1                No             DSL            Yes           No  ...   \n",
       "2                No             DSL            Yes          Yes  ...   \n",
       "3  No phone service             DSL            Yes           No  ...   \n",
       "4                No     Fiber optic             No           No  ...   \n",
       "\n",
       "  PaperlessBilling              PaymentMethod MonthlyCharges TotalCharges  \\\n",
       "0              Yes           Electronic check          29.85        29.85   \n",
       "1               No               Mailed check          56.95      1889.50   \n",
       "2              Yes               Mailed check          53.85       108.15   \n",
       "3               No  Bank transfer (automatic)          42.30      1840.75   \n",
       "4              Yes           Electronic check          70.70       151.65   \n",
       "\n",
       "  SeniorCitizen_tenure_mean SeniorCitizen_tenure_min SeniorCitizen_tenure_max  \\\n",
       "0                  0.140294                        0                        1   \n",
       "1                  0.184615                        0                        1   \n",
       "2                  0.180672                        0                        1   \n",
       "3                  0.196721                        0                        1   \n",
       "4                  0.180672                        0                        1   \n",
       "\n",
       "   MonthlyCharges_tenure_mean  MonthlyCharges_tenure_min  \\\n",
       "0                   50.485808                      18.80   \n",
       "1                   69.644615                      19.60   \n",
       "2                   57.206303                      18.75   \n",
       "3                   71.245902                      18.85   \n",
       "4                   57.206303                      18.75   \n",
       "\n",
       "   MonthlyCharges_tenure_max  \n",
       "0                     102.45  \n",
       "1                     116.25  \n",
       "2                     104.40  \n",
       "3                     115.65  \n",
       "4                     104.40  \n",
       "\n",
       "[5 rows x 25 columns]"
      ]
     },
     "execution_count": 17,
     "metadata": {},
     "output_type": "execute_result"
    }
   ],
   "source": [
    "df_temp = pd.merge(features, features_new, how='left',on='tenure')\n",
    "df_temp.head()"
   ]
  },
  {
   "cell_type": "markdown",
   "id": "f5d7089e-688f-4ef6-b5fe-8722e0152217",
   "metadata": {},
   "source": [
    "- 常用统计量补充"
   ]
  },
  {
   "cell_type": "markdown",
   "id": "102d88f8-14e4-4910-aae3-c90b09ddb9d6",
   "metadata": {},
   "source": [
    "&emsp;&emsp;这里我们对所有分组统计过程中可能用到的统计量进行汇总，需要注意的是，在进行分组汇总统计时，我们往往会无差别的进行尽可能多的统计量进行计算，只在针对离散或连续变量时进行统计量设置的些许调整。可用于连续性变量的统计量如下："
   ]
  },
  {
   "cell_type": "markdown",
   "id": "57204957-e206-4cd4-b57d-ff4663e2bede",
   "metadata": {},
   "source": [
    "    - mean/var：均值、方差；\n",
    "    - max/min：最大值、最小值；\n",
    "    - skew：数据分布偏度，小于零时左偏，大于零时右偏；"
   ]
  },
  {
   "cell_type": "code",
   "execution_count": 57,
   "id": "f5e575b6-75e4-4e05-9a51-ff349142ad4e",
   "metadata": {},
   "outputs": [
    {
     "data": {
      "text/html": [
       "<div>\n",
       "<style scoped>\n",
       "    .dataframe tbody tr th:only-of-type {\n",
       "        vertical-align: middle;\n",
       "    }\n",
       "\n",
       "    .dataframe tbody tr th {\n",
       "        vertical-align: top;\n",
       "    }\n",
       "\n",
       "    .dataframe thead th {\n",
       "        text-align: right;\n",
       "    }\n",
       "</style>\n",
       "<table border=\"1\" class=\"dataframe\">\n",
       "  <thead>\n",
       "    <tr style=\"text-align: right;\">\n",
       "      <th></th>\n",
       "      <th>x1</th>\n",
       "      <th>x2</th>\n",
       "    </tr>\n",
       "  </thead>\n",
       "  <tbody>\n",
       "    <tr>\n",
       "      <th>0</th>\n",
       "      <td>1</td>\n",
       "      <td>0</td>\n",
       "    </tr>\n",
       "    <tr>\n",
       "      <th>1</th>\n",
       "      <td>2</td>\n",
       "      <td>0</td>\n",
       "    </tr>\n",
       "    <tr>\n",
       "      <th>2</th>\n",
       "      <td>3</td>\n",
       "      <td>0</td>\n",
       "    </tr>\n",
       "    <tr>\n",
       "      <th>3</th>\n",
       "      <td>2</td>\n",
       "      <td>1</td>\n",
       "    </tr>\n",
       "    <tr>\n",
       "      <th>4</th>\n",
       "      <td>5</td>\n",
       "      <td>1</td>\n",
       "    </tr>\n",
       "    <tr>\n",
       "      <th>5</th>\n",
       "      <td>1</td>\n",
       "      <td>1</td>\n",
       "    </tr>\n",
       "  </tbody>\n",
       "</table>\n",
       "</div>"
      ],
      "text/plain": [
       "   x1  x2\n",
       "0   1   0\n",
       "1   2   0\n",
       "2   3   0\n",
       "3   2   1\n",
       "4   5   1\n",
       "5   1   1"
      ]
     },
     "execution_count": 57,
     "metadata": {},
     "output_type": "execute_result"
    }
   ],
   "source": [
    "a = np.array([[1, 2, 3, 2, 5, 1], [0, 0, 0, 1, 1, 1]])\n",
    "df = pd.DataFrame(a.T, columns=['x1', 'x2'])\n",
    "df"
   ]
  },
  {
   "cell_type": "code",
   "execution_count": 58,
   "id": "6ce2db02-0e86-4c76-b661-c5dfc8ccf8d7",
   "metadata": {},
   "outputs": [
    {
     "data": {
      "text/html": [
       "<div>\n",
       "<style scoped>\n",
       "    .dataframe tbody tr th:only-of-type {\n",
       "        vertical-align: middle;\n",
       "    }\n",
       "\n",
       "    .dataframe tbody tr th {\n",
       "        vertical-align: top;\n",
       "    }\n",
       "\n",
       "    .dataframe thead tr th {\n",
       "        text-align: left;\n",
       "    }\n",
       "</style>\n",
       "<table border=\"1\" class=\"dataframe\">\n",
       "  <thead>\n",
       "    <tr>\n",
       "      <th></th>\n",
       "      <th>x2</th>\n",
       "      <th colspan=\"5\" halign=\"left\">x1</th>\n",
       "    </tr>\n",
       "    <tr>\n",
       "      <th></th>\n",
       "      <th></th>\n",
       "      <th>mean</th>\n",
       "      <th>var</th>\n",
       "      <th>max</th>\n",
       "      <th>min</th>\n",
       "      <th>skew</th>\n",
       "    </tr>\n",
       "  </thead>\n",
       "  <tbody>\n",
       "    <tr>\n",
       "      <th>0</th>\n",
       "      <td>0</td>\n",
       "      <td>2.000000</td>\n",
       "      <td>1.000000</td>\n",
       "      <td>3</td>\n",
       "      <td>1</td>\n",
       "      <td>0.000000</td>\n",
       "    </tr>\n",
       "    <tr>\n",
       "      <th>1</th>\n",
       "      <td>1</td>\n",
       "      <td>2.666667</td>\n",
       "      <td>4.333333</td>\n",
       "      <td>5</td>\n",
       "      <td>1</td>\n",
       "      <td>1.293343</td>\n",
       "    </tr>\n",
       "  </tbody>\n",
       "</table>\n",
       "</div>"
      ],
      "text/plain": [
       "  x2        x1                            \n",
       "          mean       var max min      skew\n",
       "0  0  2.000000  1.000000   3   1  0.000000\n",
       "1  1  2.666667  4.333333   5   1  1.293343"
      ]
     },
     "execution_count": 58,
     "metadata": {},
     "output_type": "execute_result"
    }
   ],
   "source": [
    "aggs = {'x1': ['mean', 'var', 'max', 'min', 'skew']}\n",
    "df.groupby('x2').agg(aggs).reset_index()"
   ]
  },
  {
   "cell_type": "markdown",
   "id": "fee4f3e7-832e-46f2-88cb-1a5fea99174b",
   "metadata": {},
   "source": [
    "常用的分类变量的统计量如下，当然除了偏度外，其他连续变量的统计量也是可用于分类变量的："
   ]
  },
  {
   "cell_type": "markdown",
   "id": "fe0809d4-370c-4c51-835b-2bc24a9eac0d",
   "metadata": {},
   "source": [
    "    - median：中位数；\n",
    "    - count：个数统计；\n",
    "    - nunique：类别数；\n",
    "    - quantile：分位数"
   ]
  },
  {
   "cell_type": "code",
   "execution_count": 254,
   "id": "0fd2acc6-5287-448b-ae45-726d45d5cac1",
   "metadata": {},
   "outputs": [
    {
     "data": {
      "text/html": [
       "<div>\n",
       "<style scoped>\n",
       "    .dataframe tbody tr th:only-of-type {\n",
       "        vertical-align: middle;\n",
       "    }\n",
       "\n",
       "    .dataframe tbody tr th {\n",
       "        vertical-align: top;\n",
       "    }\n",
       "\n",
       "    .dataframe thead th {\n",
       "        text-align: right;\n",
       "    }\n",
       "</style>\n",
       "<table border=\"1\" class=\"dataframe\">\n",
       "  <thead>\n",
       "    <tr style=\"text-align: right;\">\n",
       "      <th></th>\n",
       "      <th>x1</th>\n",
       "      <th>x2</th>\n",
       "    </tr>\n",
       "  </thead>\n",
       "  <tbody>\n",
       "    <tr>\n",
       "      <th>0</th>\n",
       "      <td>1</td>\n",
       "      <td>0</td>\n",
       "    </tr>\n",
       "    <tr>\n",
       "      <th>1</th>\n",
       "      <td>3</td>\n",
       "      <td>0</td>\n",
       "    </tr>\n",
       "    <tr>\n",
       "      <th>2</th>\n",
       "      <td>4</td>\n",
       "      <td>1</td>\n",
       "    </tr>\n",
       "    <tr>\n",
       "      <th>3</th>\n",
       "      <td>2</td>\n",
       "      <td>1</td>\n",
       "    </tr>\n",
       "    <tr>\n",
       "      <th>4</th>\n",
       "      <td>1</td>\n",
       "      <td>1</td>\n",
       "    </tr>\n",
       "  </tbody>\n",
       "</table>\n",
       "</div>"
      ],
      "text/plain": [
       "   x1  x2\n",
       "0   1   0\n",
       "1   3   0\n",
       "2   4   1\n",
       "3   2   1\n",
       "4   1   1"
      ]
     },
     "execution_count": 254,
     "metadata": {},
     "output_type": "execute_result"
    }
   ],
   "source": [
    "df = pd.DataFrame({'x1':[1, 3, 4, 2, 1], 'x2':[0, 0, 1, 1, 1]})\n",
    "df"
   ]
  },
  {
   "cell_type": "code",
   "execution_count": 255,
   "id": "e63cda74-b1d7-454e-be04-6fc8160c8fea",
   "metadata": {},
   "outputs": [
    {
     "data": {
      "text/html": [
       "<div>\n",
       "<style scoped>\n",
       "    .dataframe tbody tr th:only-of-type {\n",
       "        vertical-align: middle;\n",
       "    }\n",
       "\n",
       "    .dataframe tbody tr th {\n",
       "        vertical-align: top;\n",
       "    }\n",
       "\n",
       "    .dataframe thead tr th {\n",
       "        text-align: left;\n",
       "    }\n",
       "</style>\n",
       "<table border=\"1\" class=\"dataframe\">\n",
       "  <thead>\n",
       "    <tr>\n",
       "      <th></th>\n",
       "      <th>x2</th>\n",
       "      <th colspan=\"3\" halign=\"left\">x1</th>\n",
       "    </tr>\n",
       "    <tr>\n",
       "      <th></th>\n",
       "      <th></th>\n",
       "      <th>median</th>\n",
       "      <th>count</th>\n",
       "      <th>nunique</th>\n",
       "    </tr>\n",
       "  </thead>\n",
       "  <tbody>\n",
       "    <tr>\n",
       "      <th>0</th>\n",
       "      <td>0</td>\n",
       "      <td>2</td>\n",
       "      <td>2</td>\n",
       "      <td>2</td>\n",
       "    </tr>\n",
       "    <tr>\n",
       "      <th>1</th>\n",
       "      <td>1</td>\n",
       "      <td>2</td>\n",
       "      <td>3</td>\n",
       "      <td>3</td>\n",
       "    </tr>\n",
       "  </tbody>\n",
       "</table>\n",
       "</div>"
      ],
      "text/plain": [
       "  x2     x1              \n",
       "     median count nunique\n",
       "0  0      2     2       2\n",
       "1  1      2     3       3"
      ]
     },
     "execution_count": 255,
     "metadata": {},
     "output_type": "execute_result"
    }
   ],
   "source": [
    "aggs = {'x1': ['median', 'count', 'nunique']}\n",
    "df.groupby('x2').agg(aggs).reset_index()"
   ]
  },
  {
   "cell_type": "markdown",
   "id": "6714df90-4c07-4a57-8abe-9910730e58d6",
   "metadata": {},
   "source": [
    "而对于分位数的计算，则需要借助自定义函数来完成计算："
   ]
  },
  {
   "cell_type": "code",
   "execution_count": 23,
   "id": "6acd901c-eab7-4ebe-9db8-85234499a76b",
   "metadata": {},
   "outputs": [],
   "source": [
    "def q1(x):\n",
    "    \"\"\"\n",
    "    下四分位数\n",
    "    \"\"\"\n",
    "    return x.quantile(0.25)\n",
    "\n",
    "def q2(x):\n",
    "    \"\"\"\n",
    "    上四分位数\n",
    "    \"\"\"\n",
    "    return x.quantile(0.75)"
   ]
  },
  {
   "cell_type": "code",
   "execution_count": 33,
   "id": "bac86129-0b04-4d89-a724-af8a77d5b507",
   "metadata": {},
   "outputs": [
    {
     "data": {
      "text/html": [
       "<div>\n",
       "<style scoped>\n",
       "    .dataframe tbody tr th:only-of-type {\n",
       "        vertical-align: middle;\n",
       "    }\n",
       "\n",
       "    .dataframe tbody tr th {\n",
       "        vertical-align: top;\n",
       "    }\n",
       "\n",
       "    .dataframe thead th {\n",
       "        text-align: right;\n",
       "    }\n",
       "</style>\n",
       "<table border=\"1\" class=\"dataframe\">\n",
       "  <thead>\n",
       "    <tr style=\"text-align: right;\">\n",
       "      <th></th>\n",
       "      <th>x1</th>\n",
       "      <th>x2</th>\n",
       "    </tr>\n",
       "  </thead>\n",
       "  <tbody>\n",
       "    <tr>\n",
       "      <th>0</th>\n",
       "      <td>3</td>\n",
       "      <td>0</td>\n",
       "    </tr>\n",
       "    <tr>\n",
       "      <th>1</th>\n",
       "      <td>2</td>\n",
       "      <td>1</td>\n",
       "    </tr>\n",
       "    <tr>\n",
       "      <th>2</th>\n",
       "      <td>4</td>\n",
       "      <td>1</td>\n",
       "    </tr>\n",
       "    <tr>\n",
       "      <th>3</th>\n",
       "      <td>4</td>\n",
       "      <td>0</td>\n",
       "    </tr>\n",
       "    <tr>\n",
       "      <th>4</th>\n",
       "      <td>2</td>\n",
       "      <td>0</td>\n",
       "    </tr>\n",
       "    <tr>\n",
       "      <th>5</th>\n",
       "      <td>2</td>\n",
       "      <td>0</td>\n",
       "    </tr>\n",
       "  </tbody>\n",
       "</table>\n",
       "</div>"
      ],
      "text/plain": [
       "   x1  x2\n",
       "0   3   0\n",
       "1   2   1\n",
       "2   4   1\n",
       "3   4   0\n",
       "4   2   0\n",
       "5   2   0"
      ]
     },
     "execution_count": 33,
     "metadata": {},
     "output_type": "execute_result"
    }
   ],
   "source": [
    "d1 = pd.DataFrame({'x1':[3, 2, 4, 4, 2, 2], 'x2':[0, 1, 1, 0, 0, 0]})\n",
    "d1"
   ]
  },
  {
   "cell_type": "code",
   "execution_count": 34,
   "id": "55efe5f0-e1cc-432f-8079-30476545b633",
   "metadata": {},
   "outputs": [
    {
     "data": {
      "text/html": [
       "<div>\n",
       "<style scoped>\n",
       "    .dataframe tbody tr th:only-of-type {\n",
       "        vertical-align: middle;\n",
       "    }\n",
       "\n",
       "    .dataframe tbody tr th {\n",
       "        vertical-align: top;\n",
       "    }\n",
       "\n",
       "    .dataframe thead tr th {\n",
       "        text-align: left;\n",
       "    }\n",
       "</style>\n",
       "<table border=\"1\" class=\"dataframe\">\n",
       "  <thead>\n",
       "    <tr>\n",
       "      <th></th>\n",
       "      <th>x2</th>\n",
       "      <th colspan=\"2\" halign=\"left\">x1</th>\n",
       "    </tr>\n",
       "    <tr>\n",
       "      <th></th>\n",
       "      <th></th>\n",
       "      <th>q1</th>\n",
       "      <th>q2</th>\n",
       "    </tr>\n",
       "  </thead>\n",
       "  <tbody>\n",
       "    <tr>\n",
       "      <th>0</th>\n",
       "      <td>0</td>\n",
       "      <td>2.0</td>\n",
       "      <td>3.25</td>\n",
       "    </tr>\n",
       "    <tr>\n",
       "      <th>1</th>\n",
       "      <td>1</td>\n",
       "      <td>2.5</td>\n",
       "      <td>3.50</td>\n",
       "    </tr>\n",
       "  </tbody>\n",
       "</table>\n",
       "</div>"
      ],
      "text/plain": [
       "  x2   x1      \n",
       "       q1    q2\n",
       "0  0  2.0  3.25\n",
       "1  1  2.5  3.50"
      ]
     },
     "execution_count": 34,
     "metadata": {},
     "output_type": "execute_result"
    }
   ],
   "source": [
    "aggs = {'x1': [q1, q2]}\n",
    "d2 = d1.groupby('x2').agg(aggs).reset_index()\n",
    "d2"
   ]
  },
  {
   "cell_type": "code",
   "execution_count": 35,
   "id": "93ca8589-0ab9-4ae2-8cd6-6c4abb4b3e9d",
   "metadata": {},
   "outputs": [
    {
     "data": {
      "text/html": [
       "<div>\n",
       "<style scoped>\n",
       "    .dataframe tbody tr th:only-of-type {\n",
       "        vertical-align: middle;\n",
       "    }\n",
       "\n",
       "    .dataframe tbody tr th {\n",
       "        vertical-align: top;\n",
       "    }\n",
       "\n",
       "    .dataframe thead th {\n",
       "        text-align: right;\n",
       "    }\n",
       "</style>\n",
       "<table border=\"1\" class=\"dataframe\">\n",
       "  <thead>\n",
       "    <tr style=\"text-align: right;\">\n",
       "      <th></th>\n",
       "      <th>x2</th>\n",
       "      <th>x1_x2_q1</th>\n",
       "      <th>x1_x2_q2</th>\n",
       "    </tr>\n",
       "  </thead>\n",
       "  <tbody>\n",
       "    <tr>\n",
       "      <th>0</th>\n",
       "      <td>0</td>\n",
       "      <td>2.0</td>\n",
       "      <td>3.25</td>\n",
       "    </tr>\n",
       "    <tr>\n",
       "      <th>1</th>\n",
       "      <td>1</td>\n",
       "      <td>2.5</td>\n",
       "      <td>3.50</td>\n",
       "    </tr>\n",
       "  </tbody>\n",
       "</table>\n",
       "</div>"
      ],
      "text/plain": [
       "   x2  x1_x2_q1  x1_x2_q2\n",
       "0   0       2.0      3.25\n",
       "1   1       2.5      3.50"
      ]
     },
     "execution_count": 35,
     "metadata": {},
     "output_type": "execute_result"
    }
   ],
   "source": [
    "d2.columns = ['x2', 'x1_x2_q1', 'x1_x2_q2']\n",
    "d2"
   ]
  },
  {
   "cell_type": "markdown",
   "id": "c7b9c952-0052-4214-9b75-08ec0de021f7",
   "metadata": {},
   "source": [
    "当然，分位数也是可以应用于连续变量的。"
   ]
  },
  {
   "cell_type": "markdown",
   "id": "eaae7877-d732-4b11-9e37-a96b96813339",
   "metadata": {},
   "source": [
    "&emsp;&emsp;最后，让我们来汇总各种不同类型的变量可以使用的统计量。正如此前讨论的，分位数可以用于连续变量，而连续变量的统计指标中只有偏度不适用于离散变量。据此我们在划分连续变量和分类变量后，可以设置如下基本统计衍生指标："
   ]
  },
  {
   "cell_type": "code",
   "execution_count": 275,
   "id": "1f554757-567e-4890-9579-706084eed2f7",
   "metadata": {},
   "outputs": [],
   "source": [
    "aggs_num = {'num': ['mean', 'var', 'max', 'min', 'skew', 'median', 'q1', 'q2']}"
   ]
  },
  {
   "cell_type": "code",
   "execution_count": 276,
   "id": "9efc0dc7-1f14-4b64-826f-6f8099aa69c0",
   "metadata": {},
   "outputs": [],
   "source": [
    "aggs_cat = {'cat': ['mean', 'var', 'max', 'min', 'median', 'count', 'nunique', 'q1', 'q2']}"
   ]
  },
  {
   "cell_type": "markdown",
   "id": "392aac47-ee92-4f1d-a6e9-7ebbfe651288",
   "metadata": {},
   "source": [
    "> 需要注意的是，上面的统计指标设置只适用于一般情况，在某些情况下，如连续变量取值个数较少（只有十几个或者几十个不同取值）时，该连续变量也可以使用'count'、'nunique'等指标，而如果分类变量取值个数较多（如超过5个），则也可以使用偏度计算公式，具体如何选择还需要视具体情况而定。"
   ]
  },
  {
   "cell_type": "markdown",
   "id": "b0e091ae-0291-456a-b299-c5f8a62aad33",
   "metadata": {},
   "source": [
    "### 2.多变量的分组统计特征衍生"
   ]
  },
  {
   "cell_type": "markdown",
   "id": "fc0105ba-3e4e-42c2-bb5c-054ba3b55ff8",
   "metadata": {},
   "source": [
    "- 方法介绍"
   ]
  },
  {
   "cell_type": "markdown",
   "id": "dbfa5226-b7f0-48a1-af60-a3f29755e9b4",
   "metadata": {},
   "source": [
    "&emsp;&emsp;接下来，进一步考虑多变量分组特征衍生的方法。在双变量分组特征衍生时，我们是选择某个特征为KeyCol（关键特征），然后以KeyCol的不同取值为作为分组依据，计算其他特征的统计量。而在多变量分组特征衍生的过程中，我们将考虑采用不同离散变量的交叉组合后的取值分组依据，再进行分组统计量的计算。在双变量分组统计汇总下，基本计算过程如下："
   ]
  },
  {
   "cell_type": "markdown",
   "id": "82904b8f-b511-47d8-9866-abd407bc5f83",
   "metadata": {},
   "source": [
    "<center><img src=\"https://s2.loli.net/2022/01/20/6YzMGo9uI1Dm8rc.png\" alt=\"image-20220120170224947\" style=\"zoom:33%;\" />"
   ]
  },
  {
   "cell_type": "markdown",
   "id": "6dfba58a-d299-4b10-ba2c-8d9ac8e5aeb1",
   "metadata": {},
   "source": [
    "而多变量分组统计汇总基本过程如下："
   ]
  },
  {
   "cell_type": "markdown",
   "id": "6da74f1f-38e5-46e5-9580-86df3e496fe6",
   "metadata": {},
   "source": [
    "<center><img src=\"https://s2.loli.net/2022/02/11/7wgWCorpUuLEKTS.png\" alt=\"image-20220211190335669\" style=\"zoom:33%;\" />"
   ]
  },
  {
   "cell_type": "markdown",
   "id": "8d5fe942-a115-44a9-b3eb-4966a55f46cc",
   "metadata": {},
   "source": [
    "此处是以tenure和SeniorCitizen交叉组合后的结果作为分组依据，对Monthly Charges进行分组汇总。除了分组的依据发生了变化外，分组统计过程和此前介绍的双变量分组统计特征衍生过程并没有任何差异。当然，从直观的结果上来看，多变量分组统计特征衍生能够更细粒度的呈现数据集信息，例如在以tenure作为分组依据统计Monthly Charges时相当于计算不同入网时间用户的平均月消费金额（以mean为例），而如果是以tenure与SeniorCitizen交叉组合结果作为分组依据统计Monthly Charges时，则相当于是计算不同入网时间、不同年龄段用户的平均消费金额，而往往更细粒度的信息展示就能够帮助模型达到更好的效果，因此，有限范围内的多变量分组统计特征衍生，是能达到更好的效果的。但同时需要注意的是，这种“细粒度”的呈现并不是越细粒度越好，我们知道，参与分组的交叉特征越多、分组也就越多，而在相同数据集下，分组越多、每一组的组内样本数量就越少，而在进行组内统计量计算时，如果组内样本数量太少，统计量往往就不具备代表性了，例如上述极简示例中ID为1的样本，在tenure和SeniorCitizen交叉分组后该样本所属分组只有一条样本，后续计算的统计量也没有任何“统计”方面的价值了。因此，多变量交叉分组也并不是越多变量越细粒度越好。一般来说，对于人工判断极重要的特征，可以考虑两个或三个特征进行交叉组合后分组。"
   ]
  },
  {
   "cell_type": "markdown",
   "id": "0c458869-8e92-4e8c-a863-cc57f6c1bb3b",
   "metadata": {},
   "source": [
    "### 5.统计演变特征"
   ]
  },
  {
   "cell_type": "markdown",
   "id": "47079908-bb8e-4fba-b443-9e502be55efd",
   "metadata": {},
   "source": [
    "- 二阶特征衍生"
   ]
  },
  {
   "cell_type": "markdown",
   "id": "ca579a50-66f8-46eb-b375-b9d895220fd1",
   "metadata": {},
   "source": [
    "&emsp;&emsp;一种很自然的联想，是当我们已经完成了一些特征衍生后，还会考虑以衍生特征为基础，进一步进行特征衍生，这也就是所谓的二阶特征衍生（注意区分二阶多项式衍生）。当然这个过程可以无限重复，这也是此前讨论为何会出现无限特征的根本原因之一。不过，在大多数情况下，二阶甚至是更高阶的特征衍生（以下简称高阶特征衍生）往往伴随着严重的信息衰减，大多数高阶衍生出来的特征其本身的有效性也将急剧下降，外加高阶特征衍生是在已有的大量衍生出来的一阶特征基础上再进行衍生，其计算过程往往需要消耗巨大的计算量，外加需要从一系列高阶衍生特征中挑选出极个别有用的特征也较为繁琐，因此，高阶衍生往往性价比较低，除非特殊情况，否则并不建议在广泛特征基础上进行大量高阶特征衍生的尝试。"
   ]
  },
  {
   "cell_type": "markdown",
   "id": "27a93d80-7550-4050-b299-18cf1966ba79",
   "metadata": {},
   "source": [
    "- 统计演变特征"
   ]
  },
  {
   "cell_type": "markdown",
   "id": "65d2bb20-96e3-42c8-b7c6-20ed043ca77c",
   "metadata": {},
   "source": [
    "&emsp;&emsp;当然，尽管并不建议手动进行尝试，但在长期的实践过程中，人们还是总结出某些高阶衍生特征（主要是二阶衍生特征）在很多情况下都能起到很好的效果。需要注意的是，这里的着重指的是一些特征，而不是特征衍生的策略。在这些普遍有效的高阶特征中，最著名的就是所谓的统计演变特征，这些特征由原始特征和分组统计特征、或分组统计特征彼此之间交叉衍生而来，在很多算法竞赛和企业应用中，都被证明了有较高的尝试价值。"
   ]
  },
  {
   "cell_type": "markdown",
   "id": "0a300992-f10b-4eff-b996-478a2cbee99e",
   "metadata": {},
   "source": [
    "&emsp;&emsp;接下来我们就对这些统计演变特征进行逐一介绍。"
   ]
  },
  {
   "cell_type": "markdown",
   "id": "84fdffca-da07-4b67-afd1-685409343bc0",
   "metadata": {},
   "source": [
    "#### 5.1 原始特征与分组汇总特征交叉衍生"
   ]
  },
  {
   "cell_type": "markdown",
   "id": "aa18a572-7541-4ded-a710-aaa58e32138e",
   "metadata": {},
   "source": [
    "&emsp;&emsp;在统计演变特征中，最常用的特征衍生方法就是利用KeyCol和分组统计衍生特征进行交叉衍生，例如此前数据集分组统计汇总衍生为例，此处我们以tenure作为分组依据，对月均消费金额进行分组汇总统计，有计算结果如下："
   ]
  },
  {
   "cell_type": "code",
   "execution_count": 124,
   "id": "4b4cc07e-6f0d-44b3-8d09-d1f10b800536",
   "metadata": {},
   "outputs": [
    {
     "data": {
      "text/html": [
       "<div>\n",
       "<style scoped>\n",
       "    .dataframe tbody tr th:only-of-type {\n",
       "        vertical-align: middle;\n",
       "    }\n",
       "\n",
       "    .dataframe tbody tr th {\n",
       "        vertical-align: top;\n",
       "    }\n",
       "\n",
       "    .dataframe thead th {\n",
       "        text-align: right;\n",
       "    }\n",
       "</style>\n",
       "<table border=\"1\" class=\"dataframe\">\n",
       "  <thead>\n",
       "    <tr style=\"text-align: right;\">\n",
       "      <th></th>\n",
       "      <th>gender</th>\n",
       "      <th>SeniorCitizen</th>\n",
       "      <th>Partner</th>\n",
       "      <th>Dependents</th>\n",
       "      <th>tenure</th>\n",
       "      <th>PhoneService</th>\n",
       "      <th>MultipleLines</th>\n",
       "      <th>InternetService</th>\n",
       "      <th>OnlineSecurity</th>\n",
       "      <th>OnlineBackup</th>\n",
       "      <th>...</th>\n",
       "      <th>PaperlessBilling</th>\n",
       "      <th>PaymentMethod</th>\n",
       "      <th>MonthlyCharges</th>\n",
       "      <th>TotalCharges</th>\n",
       "      <th>MonthlyCharges_tenure_mean</th>\n",
       "      <th>MonthlyCharges_tenure_var</th>\n",
       "      <th>MonthlyCharges_tenure_max</th>\n",
       "      <th>MonthlyCharges_tenure_min</th>\n",
       "      <th>MonthlyCharges_tenure_skew</th>\n",
       "      <th>MonthlyCharges_tenure_median</th>\n",
       "    </tr>\n",
       "  </thead>\n",
       "  <tbody>\n",
       "    <tr>\n",
       "      <th>0</th>\n",
       "      <td>Female</td>\n",
       "      <td>0</td>\n",
       "      <td>Yes</td>\n",
       "      <td>No</td>\n",
       "      <td>1</td>\n",
       "      <td>No</td>\n",
       "      <td>No phone service</td>\n",
       "      <td>DSL</td>\n",
       "      <td>No</td>\n",
       "      <td>Yes</td>\n",
       "      <td>...</td>\n",
       "      <td>Yes</td>\n",
       "      <td>Electronic check</td>\n",
       "      <td>29.85</td>\n",
       "      <td>29.85</td>\n",
       "      <td>50.485808</td>\n",
       "      <td>610.791587</td>\n",
       "      <td>102.45</td>\n",
       "      <td>18.80</td>\n",
       "      <td>0.092226</td>\n",
       "      <td>49.750</td>\n",
       "    </tr>\n",
       "    <tr>\n",
       "      <th>1</th>\n",
       "      <td>Male</td>\n",
       "      <td>0</td>\n",
       "      <td>No</td>\n",
       "      <td>No</td>\n",
       "      <td>34</td>\n",
       "      <td>Yes</td>\n",
       "      <td>No</td>\n",
       "      <td>DSL</td>\n",
       "      <td>Yes</td>\n",
       "      <td>No</td>\n",
       "      <td>...</td>\n",
       "      <td>No</td>\n",
       "      <td>Mailed check</td>\n",
       "      <td>56.95</td>\n",
       "      <td>1889.50</td>\n",
       "      <td>69.644615</td>\n",
       "      <td>866.891416</td>\n",
       "      <td>116.25</td>\n",
       "      <td>19.60</td>\n",
       "      <td>-0.384323</td>\n",
       "      <td>73.950</td>\n",
       "    </tr>\n",
       "    <tr>\n",
       "      <th>2</th>\n",
       "      <td>Male</td>\n",
       "      <td>0</td>\n",
       "      <td>No</td>\n",
       "      <td>No</td>\n",
       "      <td>2</td>\n",
       "      <td>Yes</td>\n",
       "      <td>No</td>\n",
       "      <td>DSL</td>\n",
       "      <td>Yes</td>\n",
       "      <td>Yes</td>\n",
       "      <td>...</td>\n",
       "      <td>Yes</td>\n",
       "      <td>Mailed check</td>\n",
       "      <td>53.85</td>\n",
       "      <td>108.15</td>\n",
       "      <td>57.206303</td>\n",
       "      <td>634.068336</td>\n",
       "      <td>104.40</td>\n",
       "      <td>18.75</td>\n",
       "      <td>-0.220111</td>\n",
       "      <td>61.075</td>\n",
       "    </tr>\n",
       "    <tr>\n",
       "      <th>3</th>\n",
       "      <td>Male</td>\n",
       "      <td>0</td>\n",
       "      <td>No</td>\n",
       "      <td>No</td>\n",
       "      <td>45</td>\n",
       "      <td>No</td>\n",
       "      <td>No phone service</td>\n",
       "      <td>DSL</td>\n",
       "      <td>Yes</td>\n",
       "      <td>No</td>\n",
       "      <td>...</td>\n",
       "      <td>No</td>\n",
       "      <td>Bank transfer (automatic)</td>\n",
       "      <td>42.30</td>\n",
       "      <td>1840.75</td>\n",
       "      <td>71.245902</td>\n",
       "      <td>938.289858</td>\n",
       "      <td>115.65</td>\n",
       "      <td>18.85</td>\n",
       "      <td>-0.481543</td>\n",
       "      <td>81.000</td>\n",
       "    </tr>\n",
       "    <tr>\n",
       "      <th>4</th>\n",
       "      <td>Female</td>\n",
       "      <td>0</td>\n",
       "      <td>No</td>\n",
       "      <td>No</td>\n",
       "      <td>2</td>\n",
       "      <td>Yes</td>\n",
       "      <td>No</td>\n",
       "      <td>Fiber optic</td>\n",
       "      <td>No</td>\n",
       "      <td>No</td>\n",
       "      <td>...</td>\n",
       "      <td>Yes</td>\n",
       "      <td>Electronic check</td>\n",
       "      <td>70.70</td>\n",
       "      <td>151.65</td>\n",
       "      <td>57.206303</td>\n",
       "      <td>634.068336</td>\n",
       "      <td>104.40</td>\n",
       "      <td>18.75</td>\n",
       "      <td>-0.220111</td>\n",
       "      <td>61.075</td>\n",
       "    </tr>\n",
       "  </tbody>\n",
       "</table>\n",
       "<p>5 rows × 25 columns</p>\n",
       "</div>"
      ],
      "text/plain": [
       "   gender  SeniorCitizen Partner Dependents  tenure PhoneService  \\\n",
       "0  Female              0     Yes         No       1           No   \n",
       "1    Male              0      No         No      34          Yes   \n",
       "2    Male              0      No         No       2          Yes   \n",
       "3    Male              0      No         No      45           No   \n",
       "4  Female              0      No         No       2          Yes   \n",
       "\n",
       "      MultipleLines InternetService OnlineSecurity OnlineBackup  ...  \\\n",
       "0  No phone service             DSL             No          Yes  ...   \n",
       "1                No             DSL            Yes           No  ...   \n",
       "2                No             DSL            Yes          Yes  ...   \n",
       "3  No phone service             DSL            Yes           No  ...   \n",
       "4                No     Fiber optic             No           No  ...   \n",
       "\n",
       "  PaperlessBilling              PaymentMethod MonthlyCharges TotalCharges  \\\n",
       "0              Yes           Electronic check          29.85        29.85   \n",
       "1               No               Mailed check          56.95      1889.50   \n",
       "2              Yes               Mailed check          53.85       108.15   \n",
       "3               No  Bank transfer (automatic)          42.30      1840.75   \n",
       "4              Yes           Electronic check          70.70       151.65   \n",
       "\n",
       "  MonthlyCharges_tenure_mean MonthlyCharges_tenure_var  \\\n",
       "0                  50.485808                610.791587   \n",
       "1                  69.644615                866.891416   \n",
       "2                  57.206303                634.068336   \n",
       "3                  71.245902                938.289858   \n",
       "4                  57.206303                634.068336   \n",
       "\n",
       "  MonthlyCharges_tenure_max  MonthlyCharges_tenure_min  \\\n",
       "0                    102.45                      18.80   \n",
       "1                    116.25                      19.60   \n",
       "2                    104.40                      18.75   \n",
       "3                    115.65                      18.85   \n",
       "4                    104.40                      18.75   \n",
       "\n",
       "   MonthlyCharges_tenure_skew  MonthlyCharges_tenure_median  \n",
       "0                    0.092226                        49.750  \n",
       "1                   -0.384323                        73.950  \n",
       "2                   -0.220111                        61.075  \n",
       "3                   -0.481543                        81.000  \n",
       "4                   -0.220111                        61.075  \n",
       "\n",
       "[5 rows x 25 columns]"
      ]
     },
     "execution_count": 124,
     "metadata": {},
     "output_type": "execute_result"
    }
   ],
   "source": [
    "col_num = ['MonthlyCharges']\n",
    "df, col = Binary_Group_Statistics(keyCol, features, col_num)\n",
    "df.head(5)"
   ]
  },
  {
   "cell_type": "markdown",
   "id": "64f80c58-2d0b-4dfa-8b3d-839352ed822b",
   "metadata": {},
   "source": [
    "我们依此为依据，可以进一步构建下列统计演变特征："
   ]
  },
  {
   "cell_type": "markdown",
   "id": "f3c8739b-6e1f-45c0-a330-eb7686572822",
   "metadata": {},
   "source": [
    "- 流量平滑特征"
   ]
  },
  {
   "cell_type": "markdown",
   "id": "616760e8-001e-4b90-bbd2-aca2d3673181",
   "metadata": {},
   "source": [
    "&emsp;&emsp;该特征通过KeyCol除以分组汇总均值后的特征计算而来，也就是利用tenure除以MonthlyCharges_tenure_mean计算得出。当然因为是进行除法运算，为了避免分母为零的情况，我们可以在分母位上加上一个很小的数，具体计算过程如下："
   ]
  },
  {
   "cell_type": "code",
   "execution_count": 129,
   "id": "b08ae7bb-8657-45dc-aa53-59b06c1b28f4",
   "metadata": {},
   "outputs": [
    {
     "data": {
      "text/plain": [
       "0       0.019808\n",
       "1       0.488193\n",
       "2       0.034961\n",
       "3       0.631615\n",
       "4       0.034961\n",
       "          ...   \n",
       "7038    0.391239\n",
       "7039    0.892239\n",
       "7040    0.188122\n",
       "7041    0.069647\n",
       "7042    0.867696\n",
       "Length: 7043, dtype: float64"
      ]
     },
     "execution_count": 129,
     "metadata": {},
     "output_type": "execute_result"
    }
   ],
   "source": [
    "df['tenure'] / (df['MonthlyCharges_tenure_mean'] + 1e-5)"
   ]
  },
  {
   "cell_type": "markdown",
   "id": "4e6d66dd-59af-42db-9722-bcf3cb13e485",
   "metadata": {},
   "source": [
    "- 黄金组合特征"
   ]
  },
  {
   "cell_type": "markdown",
   "id": "11a21169-86c8-40b7-a99a-e07155c78b72",
   "metadata": {},
   "source": [
    "&emsp;&emsp;所谓黄金组合特征，就是简单的利用tenure减去MonthlyCharges_tenure_mean计算得出："
   ]
  },
  {
   "cell_type": "code",
   "execution_count": 130,
   "id": "dffb5618-f33d-4e91-9e1d-743df4efced4",
   "metadata": {},
   "outputs": [
    {
     "data": {
      "text/plain": [
       "0      -49.485808\n",
       "1      -35.644615\n",
       "2      -55.206303\n",
       "3      -26.245902\n",
       "4      -55.206303\n",
       "          ...    \n",
       "7038   -37.343617\n",
       "7039    -8.695856\n",
       "7040   -47.472727\n",
       "7041   -53.432670\n",
       "7042   -10.063483\n",
       "Length: 7043, dtype: float64"
      ]
     },
     "execution_count": 130,
     "metadata": {},
     "output_type": "execute_result"
    }
   ],
   "source": [
    "df['tenure'] - df['MonthlyCharges_tenure_mean']"
   ]
  },
  {
   "cell_type": "markdown",
   "id": "93ff3f56-ca14-47e2-b41c-5e180d180464",
   "metadata": {},
   "source": [
    "- 组内归一化特征"
   ]
  },
  {
   "cell_type": "markdown",
   "id": "73fd51fc-7a40-4495-bde4-ecb9bb1210d9",
   "metadata": {},
   "source": [
    "&emsp;&emsp;所谓组内归一化特征，指的是用tenure减去MonthlyCharges_tenure_mean，再除以MonthlyCharges_tenure_std，其计算过程非常类似于归一化过程，即某列数据减去该列的均值再除以该列的标准差，这也是组内归一化名称的由来。具体计算过程如下："
   ]
  },
  {
   "cell_type": "code",
   "execution_count": 135,
   "id": "9a320e31-8ff2-4720-ab16-689665056907",
   "metadata": {},
   "outputs": [
    {
     "data": {
      "text/plain": [
       "0      -2.002322\n",
       "1      -1.210630\n",
       "2      -2.192403\n",
       "3      -0.856826\n",
       "4      -2.192403\n",
       "          ...   \n",
       "7038   -1.317354\n",
       "7039   -0.272113\n",
       "7040   -1.741320\n",
       "7041   -2.026832\n",
       "7042   -0.339537\n",
       "Length: 7043, dtype: float64"
      ]
     },
     "execution_count": 135,
     "metadata": {},
     "output_type": "execute_result"
    }
   ],
   "source": [
    "(df['tenure'] - df['MonthlyCharges_tenure_mean']) / (np.sqrt(df['MonthlyCharges_tenure_var']) + 1e-5)"
   ]
  },
  {
   "cell_type": "markdown",
   "id": "a67ec4bf-e5e7-45b1-95d1-17f4e6b04ea3",
   "metadata": {},
   "source": [
    "&emsp;&emsp;不难看出这些衍生过程仍然还是主要用到四则运算衍生方法，其计算过程并不复杂，而在实际操作过程中需要注意的是，往往需要同时带入基础的分组汇总衍生的特征和上述二阶衍生特征，才能起到更好的效果。"
   ]
  },
  {
   "cell_type": "markdown",
   "id": "ff5bd663-ca38-43de-bec6-13600f200aa2",
   "metadata": {},
   "source": [
    "#### 5.2 分组汇总特征彼此交叉衍生"
   ]
  },
  {
   "cell_type": "markdown",
   "id": "2d15adfb-36de-4a49-8b58-72347d58ce1b",
   "metadata": {},
   "source": [
    "&emsp;&emsp;另外一类常用的二阶衍生特征，就是一系列基于分组汇总统计后的信息再次进行交叉衍生得到的新特征。这类特征往往具有较强的统计背景，能够更好的衡量原始特征的基本分布情况，还是在上述数据集中，以tenure作为分组依据，对月均消费金额进行分组汇总统计后，我们可以围绕这些统计指标进行二阶衍生："
   ]
  },
  {
   "cell_type": "code",
   "execution_count": 43,
   "id": "1e850370-4011-4e67-b72e-9e0e1e9875a4",
   "metadata": {},
   "outputs": [
    {
     "data": {
      "text/html": [
       "<div>\n",
       "<style scoped>\n",
       "    .dataframe tbody tr th:only-of-type {\n",
       "        vertical-align: middle;\n",
       "    }\n",
       "\n",
       "    .dataframe tbody tr th {\n",
       "        vertical-align: top;\n",
       "    }\n",
       "\n",
       "    .dataframe thead th {\n",
       "        text-align: right;\n",
       "    }\n",
       "</style>\n",
       "<table border=\"1\" class=\"dataframe\">\n",
       "  <thead>\n",
       "    <tr style=\"text-align: right;\">\n",
       "      <th></th>\n",
       "      <th>MonthlyCharges_tenure_mean</th>\n",
       "      <th>MonthlyCharges_tenure_var</th>\n",
       "      <th>MonthlyCharges_tenure_max</th>\n",
       "      <th>MonthlyCharges_tenure_min</th>\n",
       "      <th>MonthlyCharges_tenure_skew</th>\n",
       "      <th>MonthlyCharges_tenure_median</th>\n",
       "      <th>MonthlyCharges_tenure_q1</th>\n",
       "      <th>MonthlyCharges_tenure_q2</th>\n",
       "    </tr>\n",
       "  </thead>\n",
       "  <tbody>\n",
       "    <tr>\n",
       "      <th>0</th>\n",
       "      <td>50.485808</td>\n",
       "      <td>610.791587</td>\n",
       "      <td>102.45</td>\n",
       "      <td>18.80</td>\n",
       "      <td>0.092226</td>\n",
       "      <td>49.750</td>\n",
       "      <td>20.9</td>\n",
       "      <td>71.35</td>\n",
       "    </tr>\n",
       "    <tr>\n",
       "      <th>1</th>\n",
       "      <td>69.644615</td>\n",
       "      <td>866.891416</td>\n",
       "      <td>116.25</td>\n",
       "      <td>19.60</td>\n",
       "      <td>-0.384323</td>\n",
       "      <td>73.950</td>\n",
       "      <td>50.2</td>\n",
       "      <td>94.25</td>\n",
       "    </tr>\n",
       "    <tr>\n",
       "      <th>2</th>\n",
       "      <td>57.206303</td>\n",
       "      <td>634.068336</td>\n",
       "      <td>104.40</td>\n",
       "      <td>18.75</td>\n",
       "      <td>-0.220111</td>\n",
       "      <td>61.075</td>\n",
       "      <td>34.8</td>\n",
       "      <td>79.15</td>\n",
       "    </tr>\n",
       "    <tr>\n",
       "      <th>3</th>\n",
       "      <td>71.245902</td>\n",
       "      <td>938.289858</td>\n",
       "      <td>115.65</td>\n",
       "      <td>18.85</td>\n",
       "      <td>-0.481543</td>\n",
       "      <td>81.000</td>\n",
       "      <td>50.9</td>\n",
       "      <td>96.75</td>\n",
       "    </tr>\n",
       "    <tr>\n",
       "      <th>4</th>\n",
       "      <td>57.206303</td>\n",
       "      <td>634.068336</td>\n",
       "      <td>104.40</td>\n",
       "      <td>18.75</td>\n",
       "      <td>-0.220111</td>\n",
       "      <td>61.075</td>\n",
       "      <td>34.8</td>\n",
       "      <td>79.15</td>\n",
       "    </tr>\n",
       "  </tbody>\n",
       "</table>\n",
       "</div>"
      ],
      "text/plain": [
       "   MonthlyCharges_tenure_mean  MonthlyCharges_tenure_var  \\\n",
       "0                   50.485808                 610.791587   \n",
       "1                   69.644615                 866.891416   \n",
       "2                   57.206303                 634.068336   \n",
       "3                   71.245902                 938.289858   \n",
       "4                   57.206303                 634.068336   \n",
       "\n",
       "   MonthlyCharges_tenure_max  MonthlyCharges_tenure_min  \\\n",
       "0                     102.45                      18.80   \n",
       "1                     116.25                      19.60   \n",
       "2                     104.40                      18.75   \n",
       "3                     115.65                      18.85   \n",
       "4                     104.40                      18.75   \n",
       "\n",
       "   MonthlyCharges_tenure_skew  MonthlyCharges_tenure_median  \\\n",
       "0                    0.092226                        49.750   \n",
       "1                   -0.384323                        73.950   \n",
       "2                   -0.220111                        61.075   \n",
       "3                   -0.481543                        81.000   \n",
       "4                   -0.220111                        61.075   \n",
       "\n",
       "   MonthlyCharges_tenure_q1  MonthlyCharges_tenure_q2  \n",
       "0                      20.9                     71.35  \n",
       "1                      50.2                     94.25  \n",
       "2                      34.8                     79.15  \n",
       "3                      50.9                     96.75  \n",
       "4                      34.8                     79.15  "
      ]
     },
     "execution_count": 43,
     "metadata": {},
     "output_type": "execute_result"
    }
   ],
   "source": [
    "col_num = ['MonthlyCharges']\n",
    "df, col = Binary_Group_Statistics(keyCol, features, col_num)\n",
    "df.head(5)"
   ]
  },
  {
   "cell_type": "markdown",
   "id": "123ece3a-50fe-4a4a-88ca-90ecdca08e38",
   "metadata": {},
   "source": [
    "- Gap特征"
   ]
  },
  {
   "cell_type": "markdown",
   "id": "5e659641-9a56-4ec7-91bc-c080ac96dfb2",
   "metadata": {},
   "source": [
    "&emsp;&emsp;Gap特征通过分组汇总后的上四分位数-下四分位数计算得出。在此前使用groupby进行分组统计的过程中我们并未使用分位数作为统计指标，具体分组分位数的计算过程需要借助，然后再带入groupby的过程："
   ]
  },
  {
   "cell_type": "markdown",
   "id": "b32f6415-6f4d-4fee-b58b-9874748e3fd3",
   "metadata": {},
   "source": [
    "当然，相同的计算过程也可应用于此前数据集中MonthlyCharges在不同tenure取值下的计算："
   ]
  },
  {
   "cell_type": "code",
   "execution_count": 160,
   "id": "3922652b-98b3-4d71-9248-bbdbe58c26a3",
   "metadata": {},
   "outputs": [
    {
     "data": {
      "text/html": [
       "<div>\n",
       "<style scoped>\n",
       "    .dataframe tbody tr th:only-of-type {\n",
       "        vertical-align: middle;\n",
       "    }\n",
       "\n",
       "    .dataframe tbody tr th {\n",
       "        vertical-align: top;\n",
       "    }\n",
       "\n",
       "    .dataframe thead tr th {\n",
       "        text-align: left;\n",
       "    }\n",
       "</style>\n",
       "<table border=\"1\" class=\"dataframe\">\n",
       "  <thead>\n",
       "    <tr>\n",
       "      <th></th>\n",
       "      <th>tenure</th>\n",
       "      <th colspan=\"2\" halign=\"left\">MonthlyCharges</th>\n",
       "    </tr>\n",
       "    <tr>\n",
       "      <th></th>\n",
       "      <th></th>\n",
       "      <th>q1</th>\n",
       "      <th>q2</th>\n",
       "    </tr>\n",
       "  </thead>\n",
       "  <tbody>\n",
       "    <tr>\n",
       "      <th>0</th>\n",
       "      <td>0</td>\n",
       "      <td>20.1250</td>\n",
       "      <td>58.9750</td>\n",
       "    </tr>\n",
       "    <tr>\n",
       "      <th>1</th>\n",
       "      <td>1</td>\n",
       "      <td>20.9000</td>\n",
       "      <td>71.3500</td>\n",
       "    </tr>\n",
       "    <tr>\n",
       "      <th>2</th>\n",
       "      <td>2</td>\n",
       "      <td>34.8000</td>\n",
       "      <td>79.1500</td>\n",
       "    </tr>\n",
       "    <tr>\n",
       "      <th>3</th>\n",
       "      <td>3</td>\n",
       "      <td>29.8750</td>\n",
       "      <td>79.2875</td>\n",
       "    </tr>\n",
       "    <tr>\n",
       "      <th>4</th>\n",
       "      <td>4</td>\n",
       "      <td>29.5250</td>\n",
       "      <td>79.3375</td>\n",
       "    </tr>\n",
       "    <tr>\n",
       "      <th>...</th>\n",
       "      <td>...</td>\n",
       "      <td>...</td>\n",
       "      <td>...</td>\n",
       "    </tr>\n",
       "    <tr>\n",
       "      <th>68</th>\n",
       "      <td>68</td>\n",
       "      <td>54.3250</td>\n",
       "      <td>97.3000</td>\n",
       "    </tr>\n",
       "    <tr>\n",
       "      <th>69</th>\n",
       "      <td>69</td>\n",
       "      <td>32.7750</td>\n",
       "      <td>101.7250</td>\n",
       "    </tr>\n",
       "    <tr>\n",
       "      <th>70</th>\n",
       "      <td>70</td>\n",
       "      <td>58.3750</td>\n",
       "      <td>103.4750</td>\n",
       "    </tr>\n",
       "    <tr>\n",
       "      <th>71</th>\n",
       "      <td>71</td>\n",
       "      <td>47.1875</td>\n",
       "      <td>99.6500</td>\n",
       "    </tr>\n",
       "    <tr>\n",
       "      <th>72</th>\n",
       "      <td>72</td>\n",
       "      <td>64.8375</td>\n",
       "      <td>108.2750</td>\n",
       "    </tr>\n",
       "  </tbody>\n",
       "</table>\n",
       "<p>73 rows × 3 columns</p>\n",
       "</div>"
      ],
      "text/plain": [
       "   tenure MonthlyCharges          \n",
       "                      q1        q2\n",
       "0       0        20.1250   58.9750\n",
       "1       1        20.9000   71.3500\n",
       "2       2        34.8000   79.1500\n",
       "3       3        29.8750   79.2875\n",
       "4       4        29.5250   79.3375\n",
       "..    ...            ...       ...\n",
       "68     68        54.3250   97.3000\n",
       "69     69        32.7750  101.7250\n",
       "70     70        58.3750  103.4750\n",
       "71     71        47.1875   99.6500\n",
       "72     72        64.8375  108.2750\n",
       "\n",
       "[73 rows x 3 columns]"
      ]
     },
     "execution_count": 160,
     "metadata": {},
     "output_type": "execute_result"
    }
   ],
   "source": [
    "aggs = {'MonthlyCharges': [q1, q2]}\n",
    "features_temp = features.groupby('tenure').agg(aggs).reset_index()\n",
    "features_temp.head(5)"
   ]
  },
  {
   "cell_type": "code",
   "execution_count": 161,
   "id": "0e423a99-c95c-4375-96ce-425b9f235fad",
   "metadata": {},
   "outputs": [
    {
     "data": {
      "text/html": [
       "<div>\n",
       "<style scoped>\n",
       "    .dataframe tbody tr th:only-of-type {\n",
       "        vertical-align: middle;\n",
       "    }\n",
       "\n",
       "    .dataframe tbody tr th {\n",
       "        vertical-align: top;\n",
       "    }\n",
       "\n",
       "    .dataframe thead th {\n",
       "        text-align: right;\n",
       "    }\n",
       "</style>\n",
       "<table border=\"1\" class=\"dataframe\">\n",
       "  <thead>\n",
       "    <tr style=\"text-align: right;\">\n",
       "      <th></th>\n",
       "      <th>tenure</th>\n",
       "      <th>MonthlyCharges_tenure_q1</th>\n",
       "      <th>MonthlyCharges_tenure_q2</th>\n",
       "    </tr>\n",
       "  </thead>\n",
       "  <tbody>\n",
       "    <tr>\n",
       "      <th>0</th>\n",
       "      <td>0</td>\n",
       "      <td>20.125</td>\n",
       "      <td>58.9750</td>\n",
       "    </tr>\n",
       "    <tr>\n",
       "      <th>1</th>\n",
       "      <td>1</td>\n",
       "      <td>20.900</td>\n",
       "      <td>71.3500</td>\n",
       "    </tr>\n",
       "    <tr>\n",
       "      <th>2</th>\n",
       "      <td>2</td>\n",
       "      <td>34.800</td>\n",
       "      <td>79.1500</td>\n",
       "    </tr>\n",
       "    <tr>\n",
       "      <th>3</th>\n",
       "      <td>3</td>\n",
       "      <td>29.875</td>\n",
       "      <td>79.2875</td>\n",
       "    </tr>\n",
       "    <tr>\n",
       "      <th>4</th>\n",
       "      <td>4</td>\n",
       "      <td>29.525</td>\n",
       "      <td>79.3375</td>\n",
       "    </tr>\n",
       "  </tbody>\n",
       "</table>\n",
       "</div>"
      ],
      "text/plain": [
       "   tenure  MonthlyCharges_tenure_q1  MonthlyCharges_tenure_q2\n",
       "0       0                    20.125                   58.9750\n",
       "1       1                    20.900                   71.3500\n",
       "2       2                    34.800                   79.1500\n",
       "3       3                    29.875                   79.2875\n",
       "4       4                    29.525                   79.3375"
      ]
     },
     "execution_count": 161,
     "metadata": {},
     "output_type": "execute_result"
    }
   ],
   "source": [
    "features_temp.columns = ['tenure', 'MonthlyCharges_tenure_q1', 'MonthlyCharges_tenure_q2']\n",
    "features_temp.head(5)"
   ]
  },
  {
   "cell_type": "code",
   "execution_count": 163,
   "id": "c34e0f79-5b9c-4acd-8109-65fc66b430c9",
   "metadata": {},
   "outputs": [
    {
     "data": {
      "text/html": [
       "<div>\n",
       "<style scoped>\n",
       "    .dataframe tbody tr th:only-of-type {\n",
       "        vertical-align: middle;\n",
       "    }\n",
       "\n",
       "    .dataframe tbody tr th {\n",
       "        vertical-align: top;\n",
       "    }\n",
       "\n",
       "    .dataframe thead th {\n",
       "        text-align: right;\n",
       "    }\n",
       "</style>\n",
       "<table border=\"1\" class=\"dataframe\">\n",
       "  <thead>\n",
       "    <tr style=\"text-align: right;\">\n",
       "      <th></th>\n",
       "      <th>tenure</th>\n",
       "      <th>MonthlyCharges_tenure_q1</th>\n",
       "      <th>MonthlyCharges_tenure_q2</th>\n",
       "      <th>MonthlyCharges_tenure_q2-q1</th>\n",
       "    </tr>\n",
       "  </thead>\n",
       "  <tbody>\n",
       "    <tr>\n",
       "      <th>0</th>\n",
       "      <td>0</td>\n",
       "      <td>20.125</td>\n",
       "      <td>58.9750</td>\n",
       "      <td>38.8500</td>\n",
       "    </tr>\n",
       "    <tr>\n",
       "      <th>1</th>\n",
       "      <td>1</td>\n",
       "      <td>20.900</td>\n",
       "      <td>71.3500</td>\n",
       "      <td>50.4500</td>\n",
       "    </tr>\n",
       "    <tr>\n",
       "      <th>2</th>\n",
       "      <td>2</td>\n",
       "      <td>34.800</td>\n",
       "      <td>79.1500</td>\n",
       "      <td>44.3500</td>\n",
       "    </tr>\n",
       "    <tr>\n",
       "      <th>3</th>\n",
       "      <td>3</td>\n",
       "      <td>29.875</td>\n",
       "      <td>79.2875</td>\n",
       "      <td>49.4125</td>\n",
       "    </tr>\n",
       "    <tr>\n",
       "      <th>4</th>\n",
       "      <td>4</td>\n",
       "      <td>29.525</td>\n",
       "      <td>79.3375</td>\n",
       "      <td>49.8125</td>\n",
       "    </tr>\n",
       "  </tbody>\n",
       "</table>\n",
       "</div>"
      ],
      "text/plain": [
       "   tenure  MonthlyCharges_tenure_q1  MonthlyCharges_tenure_q2  \\\n",
       "0       0                    20.125                   58.9750   \n",
       "1       1                    20.900                   71.3500   \n",
       "2       2                    34.800                   79.1500   \n",
       "3       3                    29.875                   79.2875   \n",
       "4       4                    29.525                   79.3375   \n",
       "\n",
       "   MonthlyCharges_tenure_q2-q1  \n",
       "0                      38.8500  \n",
       "1                      50.4500  \n",
       "2                      44.3500  \n",
       "3                      49.4125  \n",
       "4                      49.8125  "
      ]
     },
     "execution_count": 163,
     "metadata": {},
     "output_type": "execute_result"
    }
   ],
   "source": [
    "features_temp['MonthlyCharges_tenure_q2-q1'] = features_temp['MonthlyCharges_tenure_q2'] - features_temp['MonthlyCharges_tenure_q1']\n",
    "features_temp.head(5)"
   ]
  },
  {
   "cell_type": "markdown",
   "id": "013d9153-dd96-44a4-9b8c-e097886bfe63",
   "metadata": {},
   "source": [
    "- 数据倾斜"
   ]
  },
  {
   "cell_type": "markdown",
   "id": "b7d15bb3-45e4-4298-9a1f-7f6fc54f98e6",
   "metadata": {},
   "source": [
    "&emsp;&emsp;此外，我们还可以通过中位数和均值的比较来计算组内的数据倾斜情况：当均值大于中位数时，数据呈现正倾斜，均值小于中位数时，数据正弦负倾斜。当然衡量倾斜的方法有两种，其一是计算差值，其二则是计算比值："
   ]
  },
  {
   "cell_type": "code",
   "execution_count": 164,
   "id": "87dd2bec-b02a-4b5b-b4f3-48c981afa8a6",
   "metadata": {},
   "outputs": [
    {
     "data": {
      "text/html": [
       "<div>\n",
       "<style scoped>\n",
       "    .dataframe tbody tr th:only-of-type {\n",
       "        vertical-align: middle;\n",
       "    }\n",
       "\n",
       "    .dataframe tbody tr th {\n",
       "        vertical-align: top;\n",
       "    }\n",
       "\n",
       "    .dataframe thead th {\n",
       "        text-align: right;\n",
       "    }\n",
       "</style>\n",
       "<table border=\"1\" class=\"dataframe\">\n",
       "  <thead>\n",
       "    <tr style=\"text-align: right;\">\n",
       "      <th></th>\n",
       "      <th>gender</th>\n",
       "      <th>SeniorCitizen</th>\n",
       "      <th>Partner</th>\n",
       "      <th>Dependents</th>\n",
       "      <th>tenure</th>\n",
       "      <th>PhoneService</th>\n",
       "      <th>MultipleLines</th>\n",
       "      <th>InternetService</th>\n",
       "      <th>OnlineSecurity</th>\n",
       "      <th>OnlineBackup</th>\n",
       "      <th>...</th>\n",
       "      <th>PaperlessBilling</th>\n",
       "      <th>PaymentMethod</th>\n",
       "      <th>MonthlyCharges</th>\n",
       "      <th>TotalCharges</th>\n",
       "      <th>MonthlyCharges_tenure_mean</th>\n",
       "      <th>MonthlyCharges_tenure_var</th>\n",
       "      <th>MonthlyCharges_tenure_max</th>\n",
       "      <th>MonthlyCharges_tenure_min</th>\n",
       "      <th>MonthlyCharges_tenure_skew</th>\n",
       "      <th>MonthlyCharges_tenure_median</th>\n",
       "    </tr>\n",
       "  </thead>\n",
       "  <tbody>\n",
       "    <tr>\n",
       "      <th>0</th>\n",
       "      <td>Female</td>\n",
       "      <td>0</td>\n",
       "      <td>Yes</td>\n",
       "      <td>No</td>\n",
       "      <td>1</td>\n",
       "      <td>No</td>\n",
       "      <td>No phone service</td>\n",
       "      <td>DSL</td>\n",
       "      <td>No</td>\n",
       "      <td>Yes</td>\n",
       "      <td>...</td>\n",
       "      <td>Yes</td>\n",
       "      <td>Electronic check</td>\n",
       "      <td>29.85</td>\n",
       "      <td>29.85</td>\n",
       "      <td>50.485808</td>\n",
       "      <td>610.791587</td>\n",
       "      <td>102.45</td>\n",
       "      <td>18.80</td>\n",
       "      <td>0.092226</td>\n",
       "      <td>49.750</td>\n",
       "    </tr>\n",
       "    <tr>\n",
       "      <th>1</th>\n",
       "      <td>Male</td>\n",
       "      <td>0</td>\n",
       "      <td>No</td>\n",
       "      <td>No</td>\n",
       "      <td>34</td>\n",
       "      <td>Yes</td>\n",
       "      <td>No</td>\n",
       "      <td>DSL</td>\n",
       "      <td>Yes</td>\n",
       "      <td>No</td>\n",
       "      <td>...</td>\n",
       "      <td>No</td>\n",
       "      <td>Mailed check</td>\n",
       "      <td>56.95</td>\n",
       "      <td>1889.50</td>\n",
       "      <td>69.644615</td>\n",
       "      <td>866.891416</td>\n",
       "      <td>116.25</td>\n",
       "      <td>19.60</td>\n",
       "      <td>-0.384323</td>\n",
       "      <td>73.950</td>\n",
       "    </tr>\n",
       "    <tr>\n",
       "      <th>2</th>\n",
       "      <td>Male</td>\n",
       "      <td>0</td>\n",
       "      <td>No</td>\n",
       "      <td>No</td>\n",
       "      <td>2</td>\n",
       "      <td>Yes</td>\n",
       "      <td>No</td>\n",
       "      <td>DSL</td>\n",
       "      <td>Yes</td>\n",
       "      <td>Yes</td>\n",
       "      <td>...</td>\n",
       "      <td>Yes</td>\n",
       "      <td>Mailed check</td>\n",
       "      <td>53.85</td>\n",
       "      <td>108.15</td>\n",
       "      <td>57.206303</td>\n",
       "      <td>634.068336</td>\n",
       "      <td>104.40</td>\n",
       "      <td>18.75</td>\n",
       "      <td>-0.220111</td>\n",
       "      <td>61.075</td>\n",
       "    </tr>\n",
       "    <tr>\n",
       "      <th>3</th>\n",
       "      <td>Male</td>\n",
       "      <td>0</td>\n",
       "      <td>No</td>\n",
       "      <td>No</td>\n",
       "      <td>45</td>\n",
       "      <td>No</td>\n",
       "      <td>No phone service</td>\n",
       "      <td>DSL</td>\n",
       "      <td>Yes</td>\n",
       "      <td>No</td>\n",
       "      <td>...</td>\n",
       "      <td>No</td>\n",
       "      <td>Bank transfer (automatic)</td>\n",
       "      <td>42.30</td>\n",
       "      <td>1840.75</td>\n",
       "      <td>71.245902</td>\n",
       "      <td>938.289858</td>\n",
       "      <td>115.65</td>\n",
       "      <td>18.85</td>\n",
       "      <td>-0.481543</td>\n",
       "      <td>81.000</td>\n",
       "    </tr>\n",
       "    <tr>\n",
       "      <th>4</th>\n",
       "      <td>Female</td>\n",
       "      <td>0</td>\n",
       "      <td>No</td>\n",
       "      <td>No</td>\n",
       "      <td>2</td>\n",
       "      <td>Yes</td>\n",
       "      <td>No</td>\n",
       "      <td>Fiber optic</td>\n",
       "      <td>No</td>\n",
       "      <td>No</td>\n",
       "      <td>...</td>\n",
       "      <td>Yes</td>\n",
       "      <td>Electronic check</td>\n",
       "      <td>70.70</td>\n",
       "      <td>151.65</td>\n",
       "      <td>57.206303</td>\n",
       "      <td>634.068336</td>\n",
       "      <td>104.40</td>\n",
       "      <td>18.75</td>\n",
       "      <td>-0.220111</td>\n",
       "      <td>61.075</td>\n",
       "    </tr>\n",
       "  </tbody>\n",
       "</table>\n",
       "<p>5 rows × 25 columns</p>\n",
       "</div>"
      ],
      "text/plain": [
       "   gender  SeniorCitizen Partner Dependents  tenure PhoneService  \\\n",
       "0  Female              0     Yes         No       1           No   \n",
       "1    Male              0      No         No      34          Yes   \n",
       "2    Male              0      No         No       2          Yes   \n",
       "3    Male              0      No         No      45           No   \n",
       "4  Female              0      No         No       2          Yes   \n",
       "\n",
       "      MultipleLines InternetService OnlineSecurity OnlineBackup  ...  \\\n",
       "0  No phone service             DSL             No          Yes  ...   \n",
       "1                No             DSL            Yes           No  ...   \n",
       "2                No             DSL            Yes          Yes  ...   \n",
       "3  No phone service             DSL            Yes           No  ...   \n",
       "4                No     Fiber optic             No           No  ...   \n",
       "\n",
       "  PaperlessBilling              PaymentMethod MonthlyCharges TotalCharges  \\\n",
       "0              Yes           Electronic check          29.85        29.85   \n",
       "1               No               Mailed check          56.95      1889.50   \n",
       "2              Yes               Mailed check          53.85       108.15   \n",
       "3               No  Bank transfer (automatic)          42.30      1840.75   \n",
       "4              Yes           Electronic check          70.70       151.65   \n",
       "\n",
       "  MonthlyCharges_tenure_mean MonthlyCharges_tenure_var  \\\n",
       "0                  50.485808                610.791587   \n",
       "1                  69.644615                866.891416   \n",
       "2                  57.206303                634.068336   \n",
       "3                  71.245902                938.289858   \n",
       "4                  57.206303                634.068336   \n",
       "\n",
       "  MonthlyCharges_tenure_max  MonthlyCharges_tenure_min  \\\n",
       "0                    102.45                      18.80   \n",
       "1                    116.25                      19.60   \n",
       "2                    104.40                      18.75   \n",
       "3                    115.65                      18.85   \n",
       "4                    104.40                      18.75   \n",
       "\n",
       "   MonthlyCharges_tenure_skew  MonthlyCharges_tenure_median  \n",
       "0                    0.092226                        49.750  \n",
       "1                   -0.384323                        73.950  \n",
       "2                   -0.220111                        61.075  \n",
       "3                   -0.481543                        81.000  \n",
       "4                   -0.220111                        61.075  \n",
       "\n",
       "[5 rows x 25 columns]"
      ]
     },
     "execution_count": 164,
     "metadata": {},
     "output_type": "execute_result"
    }
   ],
   "source": [
    "col_num = ['MonthlyCharges']\n",
    "df, col = Binary_Group_Statistics(keyCol, features, col_num)\n",
    "df.head(5)"
   ]
  },
  {
   "cell_type": "code",
   "execution_count": 165,
   "id": "8dd82f7f-cbed-4f14-8192-3af10d6894e7",
   "metadata": {},
   "outputs": [
    {
     "data": {
      "text/plain": [
       "0       0.735808\n",
       "1      -4.305385\n",
       "2      -3.868697\n",
       "3      -9.754098\n",
       "4      -3.868697\n",
       "          ...   \n",
       "7038    1.943617\n",
       "7039   -8.379144\n",
       "7040   -2.777273\n",
       "7041    0.457670\n",
       "7042   -4.486517\n",
       "Length: 7043, dtype: float64"
      ]
     },
     "execution_count": 165,
     "metadata": {},
     "output_type": "execute_result"
    }
   ],
   "source": [
    "df['MonthlyCharges_tenure_mean'] - df['MonthlyCharges_tenure_median']"
   ]
  },
  {
   "cell_type": "code",
   "execution_count": 167,
   "id": "74628787-9485-4d1c-911f-fa46dc7a5cda",
   "metadata": {},
   "outputs": [
    {
     "data": {
      "text/plain": [
       "0       1.014790\n",
       "1       0.941780\n",
       "2       0.936656\n",
       "3       0.879579\n",
       "4       0.936656\n",
       "          ...   \n",
       "7038    1.032721\n",
       "7039    0.905931\n",
       "7040    0.954657\n",
       "7041    1.008033\n",
       "7042    0.944301\n",
       "Length: 7043, dtype: float64"
      ]
     },
     "execution_count": 167,
     "metadata": {},
     "output_type": "execute_result"
    }
   ],
   "source": [
    "df['MonthlyCharges_tenure_mean'] / (df['MonthlyCharges_tenure_median'] + 1e-5)"
   ]
  },
  {
   "cell_type": "markdown",
   "id": "ca27b2ca-b0b1-4c8a-b021-956489ec7e21",
   "metadata": {},
   "source": [
    "- 变异系数"
   ]
  },
  {
   "cell_type": "markdown",
   "id": "fbcade80-57e0-4c0f-9f5b-57be8467a07b",
   "metadata": {},
   "source": [
    "&emsp;&emsp;变异系数是通过分组统计的标准差除以均值，变异系数计算的是离中趋势，变异系数越大、说明数据离散程度越高，相关计算过程如下："
   ]
  },
  {
   "cell_type": "code",
   "execution_count": 168,
   "id": "42cf943f-f193-4786-afb8-db3812883dbb",
   "metadata": {},
   "outputs": [
    {
     "data": {
      "text/plain": [
       "0       0.489528\n",
       "1       0.422761\n",
       "2       0.440174\n",
       "3       0.429941\n",
       "4       0.440174\n",
       "          ...   \n",
       "7038    0.462109\n",
       "7039    0.396015\n",
       "7040    0.466243\n",
       "7041    0.459018\n",
       "7042    0.389659\n",
       "Length: 7043, dtype: float64"
      ]
     },
     "execution_count": 168,
     "metadata": {},
     "output_type": "execute_result"
    }
   ],
   "source": [
    "np.sqrt(df['MonthlyCharges_tenure_var']) / (df['MonthlyCharges_tenure_mean'] + 1e-10)"
   ]
  }
 ],
 "metadata": {
  "kernelspec": {
   "display_name": "Python 3",
   "language": "python",
   "name": "python3"
  },
  "language_info": {
   "codemirror_mode": {
    "name": "ipython",
    "version": 3
   },
   "file_extension": ".py",
   "mimetype": "text/x-python",
   "name": "python",
   "nbconvert_exporter": "python",
   "pygments_lexer": "ipython3",
   "version": "3.8.8"
  }
 },
 "nbformat": 4,
 "nbformat_minor": 5
}
