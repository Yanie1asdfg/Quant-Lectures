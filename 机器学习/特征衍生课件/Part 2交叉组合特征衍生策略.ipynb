{
 "cells": [
  {
   "cell_type": "markdown",
   "id": "8e0b01be-edc7-44be-b7b5-3aa8f5776b28",
   "metadata": {
    "tags": []
   },
   "source": [
    "# <center> 【Kaggle】Telco Customer Churn 电信用户流失预测案例"
   ]
  },
  {
   "cell_type": "markdown",
   "id": "7b0f39fd-7d20-42b1-9db2-b35a544d6154",
   "metadata": {},
   "source": [
    "&emsp;&emsp;<font face=\"仿宋\">在案例的第二部分中，我们详细介绍了常用特征转化方法，其中有些是模型训练之必须，如自然数编码、独热编码，而有些方法则是以提高数据质量为核心、在大多数时候都是作为模型优化的备选方法，如连续变量分箱、数据标准化等。当然，在此之后，我们首先尝试构建一些可解释性较强的模型来进行用户流失预测，即采用逻辑回归和决策树模型来进行预测，并同时详细介绍了两种模型在实战中的调优技巧，在最终模型训练完成后，我们也重点讨论了关于两种可解释性模型建模结果的解释方法。"
   ]
  },
  {
   "cell_type": "markdown",
   "id": "532c5b69-b7a8-4eae-8f66-9b8ef274e94a",
   "metadata": {},
   "source": [
    "&emsp;&emsp;<font face=\"仿宋\">从理论上来说，树模型的判别能力是要强于逻辑回归的，但在上一节最后的建模结果中我们发现两个模型的建模并无显著差别，预测准确率都维持在79%-80%之间，这或许说明很多逻辑回归无法正确判别的样本决策树模型也无法判别，据此我们推测，这是一个“入门容易、精通较难”的数据集。当然，如果我们进一步尝试其他“更强”的集成学习算法，如随机森林、XGB、CatBoost等，在当前数据集上的建模结果和逻辑回归也并无太大差异，因此我们亟需通过特征工程方法进一步提升数据集质量，进而提升最终模型效果。"
   ]
  },
  {
   "cell_type": "markdown",
   "id": "c236186e-cc43-4dbe-8294-068c1db840ab",
   "metadata": {},
   "source": [
    "&emsp;&emsp;<font face=\"仿宋\">当然，哪怕是复杂模型在当前数据集上表现出了更好的效果，采用特征工程方法提升数据质量仍是优化建模结果必不可少的部分，正如时下流行的描述那样，“数据质量决定模型上界，而建模过程只是不断逼近这个上界”，特征工程中的一系列提高数据质量的方法、无论是在工业界实践中还是各大顶级竞赛里，都已然成了最为重要的提升模型效果的手段。"
   ]
  },
  {
   "cell_type": "markdown",
   "id": "467a410d-ed30-4e3d-8981-932bcabdd769",
   "metadata": {},
   "source": [
    "<center><img src=\"https://tva1.sinaimg.cn/large/008i3skNly1gwllgk4wgqj31hr0u0wh4.jpg\" alt=\"image-20211112170651500\" style=\"zoom:15%;\" />"
   ]
  },
  {
   "cell_type": "markdown",
   "id": "92752b7a-3f1f-40f7-a892-45f9f48d5daa",
   "metadata": {},
   "source": [
    "&emsp;&emsp;<font face=\"仿宋\">不过，所谓的通过特征工程方法提高数据质量，看似简单但实际操作起来却并不容易。其难点并不在于其中具体操作方法的理解，至少相比机器学习算法原理，特征工程的很多方法并不复杂，特征工程的最大难点在于配合模型与数据进行方法选择、以及各种方法的工程化部署实现。一方面，特征工程方法众多，需要根据实际情况“因地制宜”，但数据的情况千变万化，很多时候需要同时结合数据探索结论、建模人员自身经验以及对各种备选方法的熟悉程度，才能快速制定行之有效的特征工程策略；另一方面，很多特征工程方法不像机器学习算法有现成的库可以直接调用，很多方法、尤其是一些围绕当前数据集的定制方法，需要自己手动实现，而这个过程就对建模人员本身的代码编写能力及工程部署能力提出了更高的要求。总而言之，特征工程是一个实践高度相关的技术，这也是为何课程会在介绍案例的过程中同步介绍特征工程常用方法的原因。"
   ]
  },
  {
   "cell_type": "markdown",
   "id": "8731121a-3e46-489b-b72c-b08bc4a2d139",
   "metadata": {},
   "source": [
    "&emsp;&emsp;<font face=\"仿宋\">当然，从宽泛的角度来看，所有围绕数据集的数据调整工作都可以看成是特征工程的一部分，包括此前介绍的缺失值填补、数据编码、特征变换等，这些方法其实都能一定程度提升数据质量，而本节开始，我们将花费一整节的时间来讨论另一类特征工程方法：特征衍生与特征筛选。而该方法通过创建更多特征来提供更多捕捉数据规律的维度，从而提升模型效果。当然特征衍生也是目前公认的最为有效的、能够显著提升数据集质量方法。"
   ]
  },
  {
   "cell_type": "markdown",
   "id": "97a3650b-a578-40c7-9e21-994b1fcb3a45",
   "metadata": {},
   "source": [
    "# <center>Part 2.交叉组合特征衍生策略"
   ]
  },
  {
   "cell_type": "markdown",
   "id": "6c6c396a-d754-4bb9-abdd-1a8651c6ca03",
   "metadata": {},
   "source": [
    "&emsp;&emsp;本阶开始我们将重点讨论特征工程中的特征衍生与特征筛选方法，并借此进一步提升模型效果。首先需要将此前的操作中涉及到的第三方库进行统一的导入："
   ]
  },
  {
   "cell_type": "code",
   "execution_count": 1,
   "id": "c1bcfd65-fc9b-4a47-b3d1-de359b135a81",
   "metadata": {
    "tags": []
   },
   "outputs": [],
   "source": [
    "# 基础数据科学运算库\n",
    "import numpy as np\n",
    "import pandas as pd\n",
    "\n",
    "# 可视化库\n",
    "import seaborn as sns\n",
    "import matplotlib.pyplot as plt\n",
    "\n",
    "# 时间模块\n",
    "import time\n",
    "\n",
    "# sklearn库\n",
    "# 数据预处理\n",
    "from sklearn import preprocessing\n",
    "from sklearn.compose import ColumnTransformer\n",
    "\n",
    "# 实用函数\n",
    "from sklearn.metrics import accuracy_score, recall_score, precision_score, f1_score, roc_auc_score\n",
    "from sklearn.model_selection import train_test_split\n",
    "\n",
    "# 常用评估器\n",
    "from sklearn.pipeline import make_pipeline\n",
    "from sklearn.linear_model import LogisticRegression\n",
    "from sklearn import tree\n",
    "from sklearn.tree import DecisionTreeClassifier\n",
    "\n",
    "# 网格搜索\n",
    "from sklearn.model_selection import GridSearchCV\n",
    "\n",
    "# 自定义评估器支持模块\n",
    "from sklearn.base import BaseEstimator, TransformerMixin\n",
    "\n",
    "# 自定义模块\n",
    "from telcoFunc import *\n",
    "\n",
    "# re模块相关\n",
    "import inspect, re"
   ]
  },
  {
   "cell_type": "markdown",
   "id": "57093a53-0f28-431e-9e8d-2918a1ee3b5a",
   "metadata": {},
   "source": [
    "其中telcoFunc是自定义的模块，其内保存了此前自定义的函数和类，后续新增的函数和类也将逐步写入其中，telcoFunc.py文件随课件提供，需要将其放置于当前ipy文件同一文件夹内才能正常导入。"
   ]
  },
  {
   "cell_type": "markdown",
   "id": "01eec8e3-64d2-4e5f-b31e-9be0f02146e7",
   "metadata": {},
   "source": [
    "&emsp;&emsp;接下来导入数据并执行Part 1中的数据清洗步骤。"
   ]
  },
  {
   "cell_type": "code",
   "execution_count": 2,
   "id": "5b306608-4344-41a6-a84e-cb1466152c0e",
   "metadata": {},
   "outputs": [],
   "source": [
    "# 读取数据\n",
    "tcc = pd.read_csv('WA_Fn-UseC_-Telco-Customer-Churn.csv')\n",
    "\n",
    "# 标注连续/离散字段\n",
    "# 离散字段\n",
    "category_cols = ['gender', 'SeniorCitizen', 'Partner', 'Dependents',\n",
    "                'PhoneService', 'MultipleLines', 'InternetService', 'OnlineSecurity', 'OnlineBackup', \n",
    "                'DeviceProtection', 'TechSupport', 'StreamingTV', 'StreamingMovies', 'Contract', 'PaperlessBilling',\n",
    "                'PaymentMethod']\n",
    "\n",
    "# 连续字段\n",
    "numeric_cols = ['tenure', 'MonthlyCharges', 'TotalCharges']\n",
    " \n",
    "# 标签\n",
    "target = 'Churn'\n",
    "\n",
    "# ID列\n",
    "ID_col = 'customerID'\n",
    "\n",
    "# 验证是否划分能完全\n",
    "assert len(category_cols) + len(numeric_cols) + 2 == tcc.shape[1]\n",
    "\n",
    "# 连续字段转化\n",
    "tcc['TotalCharges']= tcc['TotalCharges'].apply(lambda x: x if x!= ' ' else np.nan).astype(float)\n",
    "tcc['MonthlyCharges'] = tcc['MonthlyCharges'].astype(float)\n",
    "\n",
    "# 缺失值填补\n",
    "tcc['TotalCharges'] = tcc['TotalCharges'].fillna(0)\n",
    "\n",
    "# 标签值手动转化 \n",
    "tcc['Churn'].replace(to_replace='Yes', value=1, inplace=True)\n",
    "tcc['Churn'].replace(to_replace='No',  value=0, inplace=True)"
   ]
  },
  {
   "cell_type": "code",
   "execution_count": 3,
   "id": "24b39045-628a-4621-9083-92cee7e3ac3c",
   "metadata": {},
   "outputs": [],
   "source": [
    "features = tcc.drop(columns=[ID_col, target]).copy()\n",
    "labels = tcc['Churn'].copy()"
   ]
  },
  {
   "cell_type": "markdown",
   "id": "0616902b-8a7e-43fd-a906-26c62a585e61",
   "metadata": {},
   "source": [
    "接下来即可直接带入数据进行特征衍生。"
   ]
  },
  {
   "cell_type": "markdown",
   "id": "cf3d87ac-030b-4412-9c3e-085faf7fce45",
   "metadata": {},
   "source": [
    "### 2.交叉组合特征衍生"
   ]
  },
  {
   "cell_type": "markdown",
   "id": "b7788736-8c49-45dc-9bf4-d5f09751d4e5",
   "metadata": {},
   "source": [
    "- 方法介绍"
   ]
  },
  {
   "cell_type": "markdown",
   "id": "bde1fd2f-9d2f-4422-b0a8-bac625b8e43e",
   "metadata": {},
   "source": [
    "&emsp;&emsp;所谓交叉组合特征衍生，指的是不同分类变量不同取值水平之间进行交叉组合，从而创建新字段的过程。例如此前我们创建的老年且经济不独立的标识字段，实际上就是是否是老年人字段（SeniorCitizen）和是否经济独立字段（Dependents）两个字段交叉组合衍生过程中的一个："
   ]
  },
  {
   "cell_type": "markdown",
   "id": "265aefa6-1210-4f2a-9565-7e8401fecbc3",
   "metadata": {},
   "source": [
    "<center><img src=\"https://s2.loli.net/2022/01/20/BiH4LtVTOjkWQuI.png\" alt=\"image-20220120140301256\" style=\"zoom:33%;\" />"
   ]
  },
  {
   "cell_type": "markdown",
   "id": "c4e57d3f-f434-4cd6-9538-a5be4218608f",
   "metadata": {},
   "source": [
    "不难看出，该计算流程并不复杂，需要注意的是，交叉组合后衍生的特征个数是参数交叉组合的特征的取值水平之积，因此交叉组合特征衍生一般只适用于取值水平较少的分类变量之间进行，若是分类变量或者取值水平较多的离散变量彼此之间进行交叉组合，则会导致衍生特征矩阵过于稀疏，从而无法为模型提供有效的训练信息。"
   ]
  },
  {
   "cell_type": "markdown",
   "id": "2d11e8a0-abfd-4e0b-8c84-19d0d7cbf84c",
   "metadata": {},
   "source": [
    "- 手动实现"
   ]
  },
  {
   "cell_type": "markdown",
   "id": "274c36ed-1cec-4b7f-a5b2-082cd8816a70",
   "metadata": {},
   "source": [
    "&emsp;&emsp;我们仍然以telco数据集为例，尝试围绕'SeniorCitizen'、'Partner'、'Dependents'字段进行两两交叉组合衍生，当然该流程也可以顺利推广至任意多个任意取值个数的分类变量两两交叉组合衍生过程。"
   ]
  },
  {
   "cell_type": "code",
   "execution_count": 7,
   "id": "a0f0ab17-6c70-45fe-b4ee-a215dfe3a366",
   "metadata": {},
   "outputs": [
    {
     "data": {
      "text/plain": [
       "['gender',\n",
       " 'SeniorCitizen',\n",
       " 'Partner',\n",
       " 'Dependents',\n",
       " 'PhoneService',\n",
       " 'MultipleLines',\n",
       " 'InternetService',\n",
       " 'OnlineSecurity',\n",
       " 'OnlineBackup',\n",
       " 'DeviceProtection',\n",
       " 'TechSupport',\n",
       " 'StreamingTV',\n",
       " 'StreamingMovies',\n",
       " 'Contract',\n",
       " 'PaperlessBilling',\n",
       " 'PaymentMethod']"
      ]
     },
     "execution_count": 7,
     "metadata": {},
     "output_type": "execute_result"
    }
   ],
   "source": [
    "# 数据集中离散变量\n",
    "category_cols"
   ]
  },
  {
   "cell_type": "code",
   "execution_count": 8,
   "id": "0dec9762-ed0a-43f3-bbdd-4417e63aa951",
   "metadata": {},
   "outputs": [],
   "source": [
    "# 提取目标字段\n",
    "colNames = ['SeniorCitizen', 'Partner', 'Dependents']"
   ]
  },
  {
   "cell_type": "code",
   "execution_count": 9,
   "id": "e2dda910-dc6e-4c39-b53d-be940e5e26d3",
   "metadata": {},
   "outputs": [
    {
     "data": {
      "text/html": [
       "<div>\n",
       "<style scoped>\n",
       "    .dataframe tbody tr th:only-of-type {\n",
       "        vertical-align: middle;\n",
       "    }\n",
       "\n",
       "    .dataframe tbody tr th {\n",
       "        vertical-align: top;\n",
       "    }\n",
       "\n",
       "    .dataframe thead th {\n",
       "        text-align: right;\n",
       "    }\n",
       "</style>\n",
       "<table border=\"1\" class=\"dataframe\">\n",
       "  <thead>\n",
       "    <tr style=\"text-align: right;\">\n",
       "      <th></th>\n",
       "      <th>SeniorCitizen</th>\n",
       "      <th>Partner</th>\n",
       "      <th>Dependents</th>\n",
       "    </tr>\n",
       "  </thead>\n",
       "  <tbody>\n",
       "    <tr>\n",
       "      <th>0</th>\n",
       "      <td>0</td>\n",
       "      <td>Yes</td>\n",
       "      <td>No</td>\n",
       "    </tr>\n",
       "    <tr>\n",
       "      <th>1</th>\n",
       "      <td>0</td>\n",
       "      <td>No</td>\n",
       "      <td>No</td>\n",
       "    </tr>\n",
       "    <tr>\n",
       "      <th>2</th>\n",
       "      <td>0</td>\n",
       "      <td>No</td>\n",
       "      <td>No</td>\n",
       "    </tr>\n",
       "    <tr>\n",
       "      <th>3</th>\n",
       "      <td>0</td>\n",
       "      <td>No</td>\n",
       "      <td>No</td>\n",
       "    </tr>\n",
       "    <tr>\n",
       "      <th>4</th>\n",
       "      <td>0</td>\n",
       "      <td>No</td>\n",
       "      <td>No</td>\n",
       "    </tr>\n",
       "  </tbody>\n",
       "</table>\n",
       "</div>"
      ],
      "text/plain": [
       "   SeniorCitizen Partner Dependents\n",
       "0              0     Yes         No\n",
       "1              0      No         No\n",
       "2              0      No         No\n",
       "3              0      No         No\n",
       "4              0      No         No"
      ]
     },
     "execution_count": 9,
     "metadata": {},
     "output_type": "execute_result"
    }
   ],
   "source": [
    "# 单独提取目标字段的数据集\n",
    "features_temp = features[colNames]\n",
    "features_temp.head(5)"
   ]
  },
  {
   "cell_type": "code",
   "execution_count": 10,
   "id": "c8ca7dad-0cde-4c3a-ac03-c65fd85b0ad8",
   "metadata": {},
   "outputs": [],
   "source": [
    "# 创建空列表用于存储衍生后的特征名称和特征\n",
    "colNames_new_l = []\n",
    "features_new_l = []"
   ]
  },
  {
   "cell_type": "code",
   "execution_count": 11,
   "id": "9359a194-81c5-4148-b348-25e4464ba8eb",
   "metadata": {},
   "outputs": [
    {
     "name": "stdout",
     "output_type": "stream",
     "text": [
      "0 SeniorCitizen\n",
      "1 Partner\n",
      "2 Dependents\n"
     ]
    }
   ],
   "source": [
    "# enumerate过程\n",
    "for col_index, col_name in enumerate(colNames):\n",
    "    print(col_index, col_name)"
   ]
  },
  {
   "cell_type": "code",
   "execution_count": 12,
   "id": "a88ca0df-06d3-4b99-9a45-f301709b7f97",
   "metadata": {},
   "outputs": [
    {
     "name": "stdout",
     "output_type": "stream",
     "text": [
      "SeniorCitizen&Partner\n",
      "SeniorCitizen&Dependents\n",
      "Partner&Dependents\n"
     ]
    }
   ],
   "source": [
    "# 衍生特征列名称\n",
    "for col_index, col_name in enumerate(colNames):\n",
    "    for col_sub_index in range(col_index+1, len(colNames)):\n",
    "        newNames = col_name + '&' + colNames[col_sub_index]\n",
    "        print(newNames)"
   ]
  },
  {
   "cell_type": "code",
   "execution_count": 13,
   "id": "3a060176-25c0-471b-83ea-719000a26a06",
   "metadata": {},
   "outputs": [],
   "source": [
    "# 创建衍生特征列名称及特征本身\n",
    "for col_index, col_name in enumerate(colNames):\n",
    "    for col_sub_index in range(col_index+1, len(colNames)):\n",
    "        \n",
    "        newNames = col_name + '&' + colNames[col_sub_index]\n",
    "        colNames_new_l.append(newNames)\n",
    "        \n",
    "        newDF = pd.Series(features[col_name].astype('str') \n",
    "                          + '&'\n",
    "                          + features[colNames[col_sub_index]].astype('str'), \n",
    "                          name=col_name)\n",
    "        features_new_l.append(newDF)"
   ]
  },
  {
   "cell_type": "code",
   "execution_count": 14,
   "id": "53d703be-97fa-41cf-8728-6e5872d3cf26",
   "metadata": {},
   "outputs": [],
   "source": [
    "features_new = pd.concat(features_new_l, axis=1)\n",
    "features_new.columns = colNames_new_l"
   ]
  },
  {
   "cell_type": "code",
   "execution_count": 15,
   "id": "c68aeda0-60fe-4655-b2de-e5ee1010a3a8",
   "metadata": {},
   "outputs": [
    {
     "data": {
      "text/html": [
       "<div>\n",
       "<style scoped>\n",
       "    .dataframe tbody tr th:only-of-type {\n",
       "        vertical-align: middle;\n",
       "    }\n",
       "\n",
       "    .dataframe tbody tr th {\n",
       "        vertical-align: top;\n",
       "    }\n",
       "\n",
       "    .dataframe thead th {\n",
       "        text-align: right;\n",
       "    }\n",
       "</style>\n",
       "<table border=\"1\" class=\"dataframe\">\n",
       "  <thead>\n",
       "    <tr style=\"text-align: right;\">\n",
       "      <th></th>\n",
       "      <th>SeniorCitizen&amp;Partner</th>\n",
       "      <th>SeniorCitizen&amp;Dependents</th>\n",
       "      <th>Partner&amp;Dependents</th>\n",
       "    </tr>\n",
       "  </thead>\n",
       "  <tbody>\n",
       "    <tr>\n",
       "      <th>0</th>\n",
       "      <td>0&amp;Yes</td>\n",
       "      <td>0&amp;No</td>\n",
       "      <td>Yes&amp;No</td>\n",
       "    </tr>\n",
       "    <tr>\n",
       "      <th>1</th>\n",
       "      <td>0&amp;No</td>\n",
       "      <td>0&amp;No</td>\n",
       "      <td>No&amp;No</td>\n",
       "    </tr>\n",
       "    <tr>\n",
       "      <th>2</th>\n",
       "      <td>0&amp;No</td>\n",
       "      <td>0&amp;No</td>\n",
       "      <td>No&amp;No</td>\n",
       "    </tr>\n",
       "    <tr>\n",
       "      <th>3</th>\n",
       "      <td>0&amp;No</td>\n",
       "      <td>0&amp;No</td>\n",
       "      <td>No&amp;No</td>\n",
       "    </tr>\n",
       "    <tr>\n",
       "      <th>4</th>\n",
       "      <td>0&amp;No</td>\n",
       "      <td>0&amp;No</td>\n",
       "      <td>No&amp;No</td>\n",
       "    </tr>\n",
       "    <tr>\n",
       "      <th>...</th>\n",
       "      <td>...</td>\n",
       "      <td>...</td>\n",
       "      <td>...</td>\n",
       "    </tr>\n",
       "    <tr>\n",
       "      <th>7038</th>\n",
       "      <td>0&amp;Yes</td>\n",
       "      <td>0&amp;Yes</td>\n",
       "      <td>Yes&amp;Yes</td>\n",
       "    </tr>\n",
       "    <tr>\n",
       "      <th>7039</th>\n",
       "      <td>0&amp;Yes</td>\n",
       "      <td>0&amp;Yes</td>\n",
       "      <td>Yes&amp;Yes</td>\n",
       "    </tr>\n",
       "    <tr>\n",
       "      <th>7040</th>\n",
       "      <td>0&amp;Yes</td>\n",
       "      <td>0&amp;Yes</td>\n",
       "      <td>Yes&amp;Yes</td>\n",
       "    </tr>\n",
       "    <tr>\n",
       "      <th>7041</th>\n",
       "      <td>1&amp;Yes</td>\n",
       "      <td>1&amp;No</td>\n",
       "      <td>Yes&amp;No</td>\n",
       "    </tr>\n",
       "    <tr>\n",
       "      <th>7042</th>\n",
       "      <td>0&amp;No</td>\n",
       "      <td>0&amp;No</td>\n",
       "      <td>No&amp;No</td>\n",
       "    </tr>\n",
       "  </tbody>\n",
       "</table>\n",
       "<p>7043 rows × 3 columns</p>\n",
       "</div>"
      ],
      "text/plain": [
       "     SeniorCitizen&Partner SeniorCitizen&Dependents Partner&Dependents\n",
       "0                    0&Yes                     0&No             Yes&No\n",
       "1                     0&No                     0&No              No&No\n",
       "2                     0&No                     0&No              No&No\n",
       "3                     0&No                     0&No              No&No\n",
       "4                     0&No                     0&No              No&No\n",
       "...                    ...                      ...                ...\n",
       "7038                 0&Yes                    0&Yes            Yes&Yes\n",
       "7039                 0&Yes                    0&Yes            Yes&Yes\n",
       "7040                 0&Yes                    0&Yes            Yes&Yes\n",
       "7041                 1&Yes                     1&No             Yes&No\n",
       "7042                  0&No                     0&No              No&No\n",
       "\n",
       "[7043 rows x 3 columns]"
      ]
     },
     "execution_count": 15,
     "metadata": {},
     "output_type": "execute_result"
    }
   ],
   "source": [
    "features_new"
   ]
  },
  {
   "cell_type": "code",
   "execution_count": 16,
   "id": "39a33227-6fbb-4451-a770-fc886bea47ca",
   "metadata": {},
   "outputs": [
    {
     "data": {
      "text/plain": [
       "['SeniorCitizen&Partner', 'SeniorCitizen&Dependents', 'Partner&Dependents']"
      ]
     },
     "execution_count": 16,
     "metadata": {},
     "output_type": "execute_result"
    }
   ],
   "source": [
    "colNames_new_l"
   ]
  },
  {
   "cell_type": "markdown",
   "id": "ebab8f4a-cc19-43c3-a3fb-a4f7c97a9ca6",
   "metadata": {},
   "source": [
    "截至目前，我们创建了3个4分类的变量，我们可以直接将其带入进行建模，但需要知道的是这些四分类变量并不是有序变量，因此往往我们需要进一步将这些衍生的变量进行独热编码，然后再带入模型："
   ]
  },
  {
   "cell_type": "code",
   "execution_count": 17,
   "id": "5ecead16-0bdf-4381-985f-e0d09f17c305",
   "metadata": {},
   "outputs": [],
   "source": [
    "enc = preprocessing.OneHotEncoder()"
   ]
  },
  {
   "cell_type": "code",
   "execution_count": 18,
   "id": "8f88f6b4-6ccb-41d9-80b8-12aebfd64325",
   "metadata": {},
   "outputs": [
    {
     "data": {
      "text/plain": [
       "<7043x12 sparse matrix of type '<class 'numpy.float64'>'\n",
       "\twith 21129 stored elements in Compressed Sparse Row format>"
      ]
     },
     "execution_count": 18,
     "metadata": {},
     "output_type": "execute_result"
    }
   ],
   "source": [
    "enc.fit_transform(features_new)"
   ]
  },
  {
   "cell_type": "code",
   "execution_count": 19,
   "id": "959f2273-d3b0-4661-8399-68b157969717",
   "metadata": {},
   "outputs": [
    {
     "data": {
      "text/plain": [
       "['SeniorCitizen&Partner_0&No',\n",
       " 'SeniorCitizen&Partner_0&Yes',\n",
       " 'SeniorCitizen&Partner_1&No',\n",
       " 'SeniorCitizen&Partner_1&Yes',\n",
       " 'SeniorCitizen&Dependents_0&No',\n",
       " 'SeniorCitizen&Dependents_0&Yes',\n",
       " 'SeniorCitizen&Dependents_1&No',\n",
       " 'SeniorCitizen&Dependents_1&Yes',\n",
       " 'Partner&Dependents_No&No',\n",
       " 'Partner&Dependents_No&Yes',\n",
       " 'Partner&Dependents_Yes&No',\n",
       " 'Partner&Dependents_Yes&Yes']"
      ]
     },
     "execution_count": 19,
     "metadata": {},
     "output_type": "execute_result"
    }
   ],
   "source": [
    "# 借助此前定义的列名称提取器进行列名称提取\n",
    "cate_colName(enc, colNames_new_l, drop=None)"
   ]
  },
  {
   "cell_type": "code",
   "execution_count": 20,
   "id": "3a52a331-6283-4170-aad2-bb6f954f5756",
   "metadata": {},
   "outputs": [],
   "source": [
    "# 最后创建一个完整的衍生后的特征矩阵\n",
    "features_new_af = pd.DataFrame(enc.fit_transform(features_new).toarray(), \n",
    "                               columns = cate_colName(enc, colNames_new_l, drop=None))"
   ]
  },
  {
   "cell_type": "code",
   "execution_count": 21,
   "id": "e5a733d7-1fc5-4baa-9839-7c6a97823561",
   "metadata": {},
   "outputs": [
    {
     "data": {
      "text/html": [
       "<div>\n",
       "<style scoped>\n",
       "    .dataframe tbody tr th:only-of-type {\n",
       "        vertical-align: middle;\n",
       "    }\n",
       "\n",
       "    .dataframe tbody tr th {\n",
       "        vertical-align: top;\n",
       "    }\n",
       "\n",
       "    .dataframe thead th {\n",
       "        text-align: right;\n",
       "    }\n",
       "</style>\n",
       "<table border=\"1\" class=\"dataframe\">\n",
       "  <thead>\n",
       "    <tr style=\"text-align: right;\">\n",
       "      <th></th>\n",
       "      <th>SeniorCitizen&amp;Partner_0&amp;No</th>\n",
       "      <th>SeniorCitizen&amp;Partner_0&amp;Yes</th>\n",
       "      <th>SeniorCitizen&amp;Partner_1&amp;No</th>\n",
       "      <th>SeniorCitizen&amp;Partner_1&amp;Yes</th>\n",
       "      <th>SeniorCitizen&amp;Dependents_0&amp;No</th>\n",
       "      <th>SeniorCitizen&amp;Dependents_0&amp;Yes</th>\n",
       "      <th>SeniorCitizen&amp;Dependents_1&amp;No</th>\n",
       "      <th>SeniorCitizen&amp;Dependents_1&amp;Yes</th>\n",
       "      <th>Partner&amp;Dependents_No&amp;No</th>\n",
       "      <th>Partner&amp;Dependents_No&amp;Yes</th>\n",
       "      <th>Partner&amp;Dependents_Yes&amp;No</th>\n",
       "      <th>Partner&amp;Dependents_Yes&amp;Yes</th>\n",
       "    </tr>\n",
       "  </thead>\n",
       "  <tbody>\n",
       "    <tr>\n",
       "      <th>0</th>\n",
       "      <td>0.0</td>\n",
       "      <td>1.0</td>\n",
       "      <td>0.0</td>\n",
       "      <td>0.0</td>\n",
       "      <td>1.0</td>\n",
       "      <td>0.0</td>\n",
       "      <td>0.0</td>\n",
       "      <td>0.0</td>\n",
       "      <td>0.0</td>\n",
       "      <td>0.0</td>\n",
       "      <td>1.0</td>\n",
       "      <td>0.0</td>\n",
       "    </tr>\n",
       "    <tr>\n",
       "      <th>1</th>\n",
       "      <td>1.0</td>\n",
       "      <td>0.0</td>\n",
       "      <td>0.0</td>\n",
       "      <td>0.0</td>\n",
       "      <td>1.0</td>\n",
       "      <td>0.0</td>\n",
       "      <td>0.0</td>\n",
       "      <td>0.0</td>\n",
       "      <td>1.0</td>\n",
       "      <td>0.0</td>\n",
       "      <td>0.0</td>\n",
       "      <td>0.0</td>\n",
       "    </tr>\n",
       "    <tr>\n",
       "      <th>2</th>\n",
       "      <td>1.0</td>\n",
       "      <td>0.0</td>\n",
       "      <td>0.0</td>\n",
       "      <td>0.0</td>\n",
       "      <td>1.0</td>\n",
       "      <td>0.0</td>\n",
       "      <td>0.0</td>\n",
       "      <td>0.0</td>\n",
       "      <td>1.0</td>\n",
       "      <td>0.0</td>\n",
       "      <td>0.0</td>\n",
       "      <td>0.0</td>\n",
       "    </tr>\n",
       "    <tr>\n",
       "      <th>3</th>\n",
       "      <td>1.0</td>\n",
       "      <td>0.0</td>\n",
       "      <td>0.0</td>\n",
       "      <td>0.0</td>\n",
       "      <td>1.0</td>\n",
       "      <td>0.0</td>\n",
       "      <td>0.0</td>\n",
       "      <td>0.0</td>\n",
       "      <td>1.0</td>\n",
       "      <td>0.0</td>\n",
       "      <td>0.0</td>\n",
       "      <td>0.0</td>\n",
       "    </tr>\n",
       "    <tr>\n",
       "      <th>4</th>\n",
       "      <td>1.0</td>\n",
       "      <td>0.0</td>\n",
       "      <td>0.0</td>\n",
       "      <td>0.0</td>\n",
       "      <td>1.0</td>\n",
       "      <td>0.0</td>\n",
       "      <td>0.0</td>\n",
       "      <td>0.0</td>\n",
       "      <td>1.0</td>\n",
       "      <td>0.0</td>\n",
       "      <td>0.0</td>\n",
       "      <td>0.0</td>\n",
       "    </tr>\n",
       "  </tbody>\n",
       "</table>\n",
       "</div>"
      ],
      "text/plain": [
       "   SeniorCitizen&Partner_0&No  SeniorCitizen&Partner_0&Yes  \\\n",
       "0                         0.0                          1.0   \n",
       "1                         1.0                          0.0   \n",
       "2                         1.0                          0.0   \n",
       "3                         1.0                          0.0   \n",
       "4                         1.0                          0.0   \n",
       "\n",
       "   SeniorCitizen&Partner_1&No  SeniorCitizen&Partner_1&Yes  \\\n",
       "0                         0.0                          0.0   \n",
       "1                         0.0                          0.0   \n",
       "2                         0.0                          0.0   \n",
       "3                         0.0                          0.0   \n",
       "4                         0.0                          0.0   \n",
       "\n",
       "   SeniorCitizen&Dependents_0&No  SeniorCitizen&Dependents_0&Yes  \\\n",
       "0                            1.0                             0.0   \n",
       "1                            1.0                             0.0   \n",
       "2                            1.0                             0.0   \n",
       "3                            1.0                             0.0   \n",
       "4                            1.0                             0.0   \n",
       "\n",
       "   SeniorCitizen&Dependents_1&No  SeniorCitizen&Dependents_1&Yes  \\\n",
       "0                            0.0                             0.0   \n",
       "1                            0.0                             0.0   \n",
       "2                            0.0                             0.0   \n",
       "3                            0.0                             0.0   \n",
       "4                            0.0                             0.0   \n",
       "\n",
       "   Partner&Dependents_No&No  Partner&Dependents_No&Yes  \\\n",
       "0                       0.0                        0.0   \n",
       "1                       1.0                        0.0   \n",
       "2                       1.0                        0.0   \n",
       "3                       1.0                        0.0   \n",
       "4                       1.0                        0.0   \n",
       "\n",
       "   Partner&Dependents_Yes&No  Partner&Dependents_Yes&Yes  \n",
       "0                        1.0                         0.0  \n",
       "1                        0.0                         0.0  \n",
       "2                        0.0                         0.0  \n",
       "3                        0.0                         0.0  \n",
       "4                        0.0                         0.0  "
      ]
     },
     "execution_count": 21,
     "metadata": {},
     "output_type": "execute_result"
    }
   ],
   "source": [
    "features_new_af.head(5)"
   ]
  },
  {
   "cell_type": "markdown",
   "id": "05c8bdf8-8175-40f8-9a1d-416195b17c54",
   "metadata": {},
   "source": [
    "至此，我们就完整的完成了既定变量的两两交叉衍生过程，我们可以将上述过程封装为如下函数："
   ]
  },
  {
   "cell_type": "markdown",
   "id": "60619950-1e78-4598-90d1-a112ea8407ab",
   "metadata": {},
   "source": [
    "- 函数封装"
   ]
  },
  {
   "cell_type": "code",
   "execution_count": 12,
   "id": "37217250-e79e-4fd3-a564-a5400c0089c0",
   "metadata": {},
   "outputs": [],
   "source": [
    "def Binary_Cross_Combination(colNames, features, OneHot=True):\n",
    "    \"\"\"\n",
    "    分类变量两两组合交叉衍生函数\n",
    "    \n",
    "    :param colNames: 参与交叉衍生的列名称\n",
    "    :param features: 原始数据集\n",
    "    :param OneHot: 是否进行独热编码\n",
    "    \n",
    "    :return：交叉衍生后的新特征和新列名称\n",
    "    \"\"\"\n",
    "    \n",
    "    # 创建空列表存储器\n",
    "    colNames_new_l = []\n",
    "    features_new_l = []\n",
    "    \n",
    "    # 提取需要进行交叉组合的特征\n",
    "    features = features[colNames]\n",
    "    \n",
    "    # 逐个创造新特征名称、新特征\n",
    "    for col_index, col_name in enumerate(colNames):\n",
    "        for col_sub_index in range(col_index+1, len(colNames)):\n",
    "            \n",
    "            newNames = col_name + '&' + colNames[col_sub_index]\n",
    "            colNames_new_l.append(newNames)\n",
    "            \n",
    "            newDF = pd.Series(features[col_name].astype('str')  \n",
    "                              + '&'\n",
    "                              + features[colNames[col_sub_index]].astype('str'), \n",
    "                              name=col_name)\n",
    "            features_new_l.append(newDF)\n",
    "    \n",
    "    # 拼接新特征矩阵\n",
    "    features_new = pd.concat(features_new_l, axis=1)\n",
    "    features_new.columns = colNames_new_l\n",
    "    colNames_new = colNames_new_l\n",
    "    \n",
    "    # 对新特征矩阵进行独热编码\n",
    "    if OneHot == True:\n",
    "        enc = preprocessing.OneHotEncoder()\n",
    "        enc.fit_transform(features_new)\n",
    "        colNames_new = cate_colName(enc, colNames_new_l, drop=None)\n",
    "        features_new = pd.DataFrame(enc.fit_transform(features_new).toarray(), columns=colNames_new)\n",
    "        \n",
    "    return features_new, colNames_new"
   ]
  },
  {
   "cell_type": "markdown",
   "id": "8694ad71-2e1a-4f27-8780-cee1bc579f68",
   "metadata": {},
   "source": [
    "> 这里需要注意，本节定义的特征衍生函数都将创建衍生列的特征名称，同时输出的数据也是衍生后的新的特征矩阵，而非和原数据拼接后的结果，这也将为后续使用多种方法、创建多个衍生特征矩阵、再进行统一拼接提供便捷。"
   ]
  },
  {
   "cell_type": "markdown",
   "id": "46860943-6171-41ca-9372-7108913c07cc",
   "metadata": {},
   "source": [
    "简单验证上述函数执行过程："
   ]
  },
  {
   "cell_type": "code",
   "execution_count": 23,
   "id": "99d27bf0-14b1-4b6d-b529-93803eaa7452",
   "metadata": {},
   "outputs": [],
   "source": [
    "features_new, colNames_new = Binary_Cross_Combination(colNames, features)"
   ]
  },
  {
   "cell_type": "code",
   "execution_count": 24,
   "id": "9bb23a85-b739-4d36-ba07-6f30c0b2ca65",
   "metadata": {},
   "outputs": [
    {
     "data": {
      "text/html": [
       "<div>\n",
       "<style scoped>\n",
       "    .dataframe tbody tr th:only-of-type {\n",
       "        vertical-align: middle;\n",
       "    }\n",
       "\n",
       "    .dataframe tbody tr th {\n",
       "        vertical-align: top;\n",
       "    }\n",
       "\n",
       "    .dataframe thead th {\n",
       "        text-align: right;\n",
       "    }\n",
       "</style>\n",
       "<table border=\"1\" class=\"dataframe\">\n",
       "  <thead>\n",
       "    <tr style=\"text-align: right;\">\n",
       "      <th></th>\n",
       "      <th>SeniorCitizen&amp;Partner_0&amp;No</th>\n",
       "      <th>SeniorCitizen&amp;Partner_0&amp;Yes</th>\n",
       "      <th>SeniorCitizen&amp;Partner_1&amp;No</th>\n",
       "      <th>SeniorCitizen&amp;Partner_1&amp;Yes</th>\n",
       "      <th>SeniorCitizen&amp;Dependents_0&amp;No</th>\n",
       "      <th>SeniorCitizen&amp;Dependents_0&amp;Yes</th>\n",
       "      <th>SeniorCitizen&amp;Dependents_1&amp;No</th>\n",
       "      <th>SeniorCitizen&amp;Dependents_1&amp;Yes</th>\n",
       "      <th>Partner&amp;Dependents_No&amp;No</th>\n",
       "      <th>Partner&amp;Dependents_No&amp;Yes</th>\n",
       "      <th>Partner&amp;Dependents_Yes&amp;No</th>\n",
       "      <th>Partner&amp;Dependents_Yes&amp;Yes</th>\n",
       "    </tr>\n",
       "  </thead>\n",
       "  <tbody>\n",
       "    <tr>\n",
       "      <th>0</th>\n",
       "      <td>0.0</td>\n",
       "      <td>1.0</td>\n",
       "      <td>0.0</td>\n",
       "      <td>0.0</td>\n",
       "      <td>1.0</td>\n",
       "      <td>0.0</td>\n",
       "      <td>0.0</td>\n",
       "      <td>0.0</td>\n",
       "      <td>0.0</td>\n",
       "      <td>0.0</td>\n",
       "      <td>1.0</td>\n",
       "      <td>0.0</td>\n",
       "    </tr>\n",
       "    <tr>\n",
       "      <th>1</th>\n",
       "      <td>1.0</td>\n",
       "      <td>0.0</td>\n",
       "      <td>0.0</td>\n",
       "      <td>0.0</td>\n",
       "      <td>1.0</td>\n",
       "      <td>0.0</td>\n",
       "      <td>0.0</td>\n",
       "      <td>0.0</td>\n",
       "      <td>1.0</td>\n",
       "      <td>0.0</td>\n",
       "      <td>0.0</td>\n",
       "      <td>0.0</td>\n",
       "    </tr>\n",
       "    <tr>\n",
       "      <th>2</th>\n",
       "      <td>1.0</td>\n",
       "      <td>0.0</td>\n",
       "      <td>0.0</td>\n",
       "      <td>0.0</td>\n",
       "      <td>1.0</td>\n",
       "      <td>0.0</td>\n",
       "      <td>0.0</td>\n",
       "      <td>0.0</td>\n",
       "      <td>1.0</td>\n",
       "      <td>0.0</td>\n",
       "      <td>0.0</td>\n",
       "      <td>0.0</td>\n",
       "    </tr>\n",
       "    <tr>\n",
       "      <th>3</th>\n",
       "      <td>1.0</td>\n",
       "      <td>0.0</td>\n",
       "      <td>0.0</td>\n",
       "      <td>0.0</td>\n",
       "      <td>1.0</td>\n",
       "      <td>0.0</td>\n",
       "      <td>0.0</td>\n",
       "      <td>0.0</td>\n",
       "      <td>1.0</td>\n",
       "      <td>0.0</td>\n",
       "      <td>0.0</td>\n",
       "      <td>0.0</td>\n",
       "    </tr>\n",
       "    <tr>\n",
       "      <th>4</th>\n",
       "      <td>1.0</td>\n",
       "      <td>0.0</td>\n",
       "      <td>0.0</td>\n",
       "      <td>0.0</td>\n",
       "      <td>1.0</td>\n",
       "      <td>0.0</td>\n",
       "      <td>0.0</td>\n",
       "      <td>0.0</td>\n",
       "      <td>1.0</td>\n",
       "      <td>0.0</td>\n",
       "      <td>0.0</td>\n",
       "      <td>0.0</td>\n",
       "    </tr>\n",
       "  </tbody>\n",
       "</table>\n",
       "</div>"
      ],
      "text/plain": [
       "   SeniorCitizen&Partner_0&No  SeniorCitizen&Partner_0&Yes  \\\n",
       "0                         0.0                          1.0   \n",
       "1                         1.0                          0.0   \n",
       "2                         1.0                          0.0   \n",
       "3                         1.0                          0.0   \n",
       "4                         1.0                          0.0   \n",
       "\n",
       "   SeniorCitizen&Partner_1&No  SeniorCitizen&Partner_1&Yes  \\\n",
       "0                         0.0                          0.0   \n",
       "1                         0.0                          0.0   \n",
       "2                         0.0                          0.0   \n",
       "3                         0.0                          0.0   \n",
       "4                         0.0                          0.0   \n",
       "\n",
       "   SeniorCitizen&Dependents_0&No  SeniorCitizen&Dependents_0&Yes  \\\n",
       "0                            1.0                             0.0   \n",
       "1                            1.0                             0.0   \n",
       "2                            1.0                             0.0   \n",
       "3                            1.0                             0.0   \n",
       "4                            1.0                             0.0   \n",
       "\n",
       "   SeniorCitizen&Dependents_1&No  SeniorCitizen&Dependents_1&Yes  \\\n",
       "0                            0.0                             0.0   \n",
       "1                            0.0                             0.0   \n",
       "2                            0.0                             0.0   \n",
       "3                            0.0                             0.0   \n",
       "4                            0.0                             0.0   \n",
       "\n",
       "   Partner&Dependents_No&No  Partner&Dependents_No&Yes  \\\n",
       "0                       0.0                        0.0   \n",
       "1                       1.0                        0.0   \n",
       "2                       1.0                        0.0   \n",
       "3                       1.0                        0.0   \n",
       "4                       1.0                        0.0   \n",
       "\n",
       "   Partner&Dependents_Yes&No  Partner&Dependents_Yes&Yes  \n",
       "0                        1.0                         0.0  \n",
       "1                        0.0                         0.0  \n",
       "2                        0.0                         0.0  \n",
       "3                        0.0                         0.0  \n",
       "4                        0.0                         0.0  "
      ]
     },
     "execution_count": 24,
     "metadata": {},
     "output_type": "execute_result"
    }
   ],
   "source": [
    "features_new.head(5)"
   ]
  },
  {
   "cell_type": "code",
   "execution_count": 25,
   "id": "fd8f2631-c29d-44a0-9e43-5799426cba6c",
   "metadata": {},
   "outputs": [
    {
     "data": {
      "text/plain": [
       "['SeniorCitizen&Partner_0&No',\n",
       " 'SeniorCitizen&Partner_0&Yes',\n",
       " 'SeniorCitizen&Partner_1&No',\n",
       " 'SeniorCitizen&Partner_1&Yes',\n",
       " 'SeniorCitizen&Dependents_0&No',\n",
       " 'SeniorCitizen&Dependents_0&Yes',\n",
       " 'SeniorCitizen&Dependents_1&No',\n",
       " 'SeniorCitizen&Dependents_1&Yes',\n",
       " 'Partner&Dependents_No&No',\n",
       " 'Partner&Dependents_No&Yes',\n",
       " 'Partner&Dependents_Yes&No',\n",
       " 'Partner&Dependents_Yes&Yes']"
      ]
     },
     "execution_count": 25,
     "metadata": {},
     "output_type": "execute_result"
    }
   ],
   "source": [
    "colNames_new"
   ]
  },
  {
   "cell_type": "markdown",
   "id": "6bfb0531-57ee-4174-aaef-58310bb69b38",
   "metadata": {},
   "source": [
    "当然，完成衍生特征矩阵创建后，还需要和原始数据集进行拼接，此处拼接过程较为简单，直接使用concat函数即可："
   ]
  },
  {
   "cell_type": "code",
   "execution_count": 26,
   "id": "daa51369-894e-4545-9c44-5e47f796d4f8",
   "metadata": {},
   "outputs": [
    {
     "data": {
      "text/html": [
       "<div>\n",
       "<style scoped>\n",
       "    .dataframe tbody tr th:only-of-type {\n",
       "        vertical-align: middle;\n",
       "    }\n",
       "\n",
       "    .dataframe tbody tr th {\n",
       "        vertical-align: top;\n",
       "    }\n",
       "\n",
       "    .dataframe thead th {\n",
       "        text-align: right;\n",
       "    }\n",
       "</style>\n",
       "<table border=\"1\" class=\"dataframe\">\n",
       "  <thead>\n",
       "    <tr style=\"text-align: right;\">\n",
       "      <th></th>\n",
       "      <th>gender</th>\n",
       "      <th>SeniorCitizen</th>\n",
       "      <th>Partner</th>\n",
       "      <th>Dependents</th>\n",
       "      <th>tenure</th>\n",
       "      <th>PhoneService</th>\n",
       "      <th>MultipleLines</th>\n",
       "      <th>InternetService</th>\n",
       "      <th>OnlineSecurity</th>\n",
       "      <th>OnlineBackup</th>\n",
       "      <th>...</th>\n",
       "      <th>SeniorCitizen&amp;Partner_1&amp;No</th>\n",
       "      <th>SeniorCitizen&amp;Partner_1&amp;Yes</th>\n",
       "      <th>SeniorCitizen&amp;Dependents_0&amp;No</th>\n",
       "      <th>SeniorCitizen&amp;Dependents_0&amp;Yes</th>\n",
       "      <th>SeniorCitizen&amp;Dependents_1&amp;No</th>\n",
       "      <th>SeniorCitizen&amp;Dependents_1&amp;Yes</th>\n",
       "      <th>Partner&amp;Dependents_No&amp;No</th>\n",
       "      <th>Partner&amp;Dependents_No&amp;Yes</th>\n",
       "      <th>Partner&amp;Dependents_Yes&amp;No</th>\n",
       "      <th>Partner&amp;Dependents_Yes&amp;Yes</th>\n",
       "    </tr>\n",
       "  </thead>\n",
       "  <tbody>\n",
       "    <tr>\n",
       "      <th>0</th>\n",
       "      <td>Female</td>\n",
       "      <td>0</td>\n",
       "      <td>Yes</td>\n",
       "      <td>No</td>\n",
       "      <td>1</td>\n",
       "      <td>No</td>\n",
       "      <td>No phone service</td>\n",
       "      <td>DSL</td>\n",
       "      <td>No</td>\n",
       "      <td>Yes</td>\n",
       "      <td>...</td>\n",
       "      <td>0.0</td>\n",
       "      <td>0.0</td>\n",
       "      <td>1.0</td>\n",
       "      <td>0.0</td>\n",
       "      <td>0.0</td>\n",
       "      <td>0.0</td>\n",
       "      <td>0.0</td>\n",
       "      <td>0.0</td>\n",
       "      <td>1.0</td>\n",
       "      <td>0.0</td>\n",
       "    </tr>\n",
       "    <tr>\n",
       "      <th>1</th>\n",
       "      <td>Male</td>\n",
       "      <td>0</td>\n",
       "      <td>No</td>\n",
       "      <td>No</td>\n",
       "      <td>34</td>\n",
       "      <td>Yes</td>\n",
       "      <td>No</td>\n",
       "      <td>DSL</td>\n",
       "      <td>Yes</td>\n",
       "      <td>No</td>\n",
       "      <td>...</td>\n",
       "      <td>0.0</td>\n",
       "      <td>0.0</td>\n",
       "      <td>1.0</td>\n",
       "      <td>0.0</td>\n",
       "      <td>0.0</td>\n",
       "      <td>0.0</td>\n",
       "      <td>1.0</td>\n",
       "      <td>0.0</td>\n",
       "      <td>0.0</td>\n",
       "      <td>0.0</td>\n",
       "    </tr>\n",
       "    <tr>\n",
       "      <th>2</th>\n",
       "      <td>Male</td>\n",
       "      <td>0</td>\n",
       "      <td>No</td>\n",
       "      <td>No</td>\n",
       "      <td>2</td>\n",
       "      <td>Yes</td>\n",
       "      <td>No</td>\n",
       "      <td>DSL</td>\n",
       "      <td>Yes</td>\n",
       "      <td>Yes</td>\n",
       "      <td>...</td>\n",
       "      <td>0.0</td>\n",
       "      <td>0.0</td>\n",
       "      <td>1.0</td>\n",
       "      <td>0.0</td>\n",
       "      <td>0.0</td>\n",
       "      <td>0.0</td>\n",
       "      <td>1.0</td>\n",
       "      <td>0.0</td>\n",
       "      <td>0.0</td>\n",
       "      <td>0.0</td>\n",
       "    </tr>\n",
       "    <tr>\n",
       "      <th>3</th>\n",
       "      <td>Male</td>\n",
       "      <td>0</td>\n",
       "      <td>No</td>\n",
       "      <td>No</td>\n",
       "      <td>45</td>\n",
       "      <td>No</td>\n",
       "      <td>No phone service</td>\n",
       "      <td>DSL</td>\n",
       "      <td>Yes</td>\n",
       "      <td>No</td>\n",
       "      <td>...</td>\n",
       "      <td>0.0</td>\n",
       "      <td>0.0</td>\n",
       "      <td>1.0</td>\n",
       "      <td>0.0</td>\n",
       "      <td>0.0</td>\n",
       "      <td>0.0</td>\n",
       "      <td>1.0</td>\n",
       "      <td>0.0</td>\n",
       "      <td>0.0</td>\n",
       "      <td>0.0</td>\n",
       "    </tr>\n",
       "    <tr>\n",
       "      <th>4</th>\n",
       "      <td>Female</td>\n",
       "      <td>0</td>\n",
       "      <td>No</td>\n",
       "      <td>No</td>\n",
       "      <td>2</td>\n",
       "      <td>Yes</td>\n",
       "      <td>No</td>\n",
       "      <td>Fiber optic</td>\n",
       "      <td>No</td>\n",
       "      <td>No</td>\n",
       "      <td>...</td>\n",
       "      <td>0.0</td>\n",
       "      <td>0.0</td>\n",
       "      <td>1.0</td>\n",
       "      <td>0.0</td>\n",
       "      <td>0.0</td>\n",
       "      <td>0.0</td>\n",
       "      <td>1.0</td>\n",
       "      <td>0.0</td>\n",
       "      <td>0.0</td>\n",
       "      <td>0.0</td>\n",
       "    </tr>\n",
       "  </tbody>\n",
       "</table>\n",
       "<p>5 rows × 31 columns</p>\n",
       "</div>"
      ],
      "text/plain": [
       "   gender  SeniorCitizen Partner Dependents  tenure PhoneService  \\\n",
       "0  Female              0     Yes         No       1           No   \n",
       "1    Male              0      No         No      34          Yes   \n",
       "2    Male              0      No         No       2          Yes   \n",
       "3    Male              0      No         No      45           No   \n",
       "4  Female              0      No         No       2          Yes   \n",
       "\n",
       "      MultipleLines InternetService OnlineSecurity OnlineBackup  ...  \\\n",
       "0  No phone service             DSL             No          Yes  ...   \n",
       "1                No             DSL            Yes           No  ...   \n",
       "2                No             DSL            Yes          Yes  ...   \n",
       "3  No phone service             DSL            Yes           No  ...   \n",
       "4                No     Fiber optic             No           No  ...   \n",
       "\n",
       "  SeniorCitizen&Partner_1&No SeniorCitizen&Partner_1&Yes  \\\n",
       "0                        0.0                         0.0   \n",
       "1                        0.0                         0.0   \n",
       "2                        0.0                         0.0   \n",
       "3                        0.0                         0.0   \n",
       "4                        0.0                         0.0   \n",
       "\n",
       "  SeniorCitizen&Dependents_0&No SeniorCitizen&Dependents_0&Yes  \\\n",
       "0                           1.0                            0.0   \n",
       "1                           1.0                            0.0   \n",
       "2                           1.0                            0.0   \n",
       "3                           1.0                            0.0   \n",
       "4                           1.0                            0.0   \n",
       "\n",
       "  SeniorCitizen&Dependents_1&No SeniorCitizen&Dependents_1&Yes  \\\n",
       "0                           0.0                            0.0   \n",
       "1                           0.0                            0.0   \n",
       "2                           0.0                            0.0   \n",
       "3                           0.0                            0.0   \n",
       "4                           0.0                            0.0   \n",
       "\n",
       "  Partner&Dependents_No&No  Partner&Dependents_No&Yes  \\\n",
       "0                      0.0                        0.0   \n",
       "1                      1.0                        0.0   \n",
       "2                      1.0                        0.0   \n",
       "3                      1.0                        0.0   \n",
       "4                      1.0                        0.0   \n",
       "\n",
       "   Partner&Dependents_Yes&No  Partner&Dependents_Yes&Yes  \n",
       "0                        1.0                         0.0  \n",
       "1                        0.0                         0.0  \n",
       "2                        0.0                         0.0  \n",
       "3                        0.0                         0.0  \n",
       "4                        0.0                         0.0  \n",
       "\n",
       "[5 rows x 31 columns]"
      ]
     },
     "execution_count": 26,
     "metadata": {},
     "output_type": "execute_result"
    }
   ],
   "source": [
    "df_temp = pd.concat([features, features_new], axis=1)\n",
    "df_temp.head(5)"
   ]
  },
  {
   "cell_type": "markdown",
   "id": "0e7aaa41-e3fc-4e42-981e-d9fdf76a4626",
   "metadata": {},
   "source": [
    "至此，我们就完成了双变量交叉组合衍生的全过程。这里我们不着急带入新的特征进入模型进行效果测试，对于大多数批量创建特征的方法来说，创建的海量特征往往无效特征占绝大多数，例如此前我们曾手动验证过老年无伴侣字段就是无效字段。因此，如果不配合特征筛选方法、盲目带入大量无用特征进入模型，不仅不会起到正向的提升效果，往往可能还会适得其反。待后续介绍特征筛选方法后，我们再来看这些衍生出来的特征效用如何。"
   ]
  },
  {
   "cell_type": "markdown",
   "id": "9f3c597d-e565-49b4-983c-f7098875d3ec",
   "metadata": {},
   "source": [
    "- 使用时注意事项"
   ]
  },
  {
   "cell_type": "markdown",
   "id": "66753354-224f-42f7-b306-a7a022007a8e",
   "metadata": {},
   "source": [
    "&emsp;&emsp;在实际使用过程中，双变量的交叉衍生是最常见的特征衍生方法，也是第一梯队优先考虑的特征衍生的策略。通过不同分类水平的交叉衍生，能够极大程度丰富数据集信息呈现形式，同时也为有效信息的精细化筛选提供了更多可能。"
   ]
  },
  {
   "cell_type": "markdown",
   "id": "ef492b9d-ccfd-47ff-80da-9c45cc27ff24",
   "metadata": {},
   "source": [
    "&emsp;&emsp;但同时也需要注意，越多的分类特征进行交叉组合、或者参与交叉组合的特征本身分类水平更多，衍生的特征数量也将指数级上涨，例如有10个二分类变量参与交叉衍生，则最终将衍生出$2^{10}=1024$个新特征，而如果是10个三分类变量参与交叉衍生，则最终将衍生出$3^{10}=29049$个新特征。无论如何进行衍生，首先我们需要对衍生后的特征规模有基本判断。"
   ]
  },
  {
   "cell_type": "markdown",
   "id": "0404d2c5-bcf9-4522-a48f-1977505342a7",
   "metadata": {},
   "source": [
    "### 1.多变量的交叉组合特征衍生"
   ]
  },
  {
   "cell_type": "markdown",
   "id": "b3115c06-7ef8-4410-b1dc-adf05ed48f83",
   "metadata": {},
   "source": [
    "- 原理介绍"
   ]
  },
  {
   "cell_type": "markdown",
   "id": "326c0291-ad6f-435c-b3e8-3c8a20784b84",
   "metadata": {},
   "source": [
    "&emsp;&emsp;接下来进一步讨论多变量的交叉组合特征衍生。同样，所谓多变量的交叉组合，就是将多个特征的不同取值水平进行组合，基本过程如下所示："
   ]
  },
  {
   "cell_type": "markdown",
   "id": "5580d39e-45b0-499b-bcb7-55b41673ab26",
   "metadata": {},
   "source": [
    "<center><img src=\"https://s2.loli.net/2022/02/11/AjeRWLpfOQTwGHF.png\" alt=\"image-20220211160030921\" style=\"zoom:33%;\" />"
   ]
  },
  {
   "cell_type": "markdown",
   "id": "a1bab57a-2980-4f62-a999-54363836d9a6",
   "metadata": {},
   "source": [
    "该过程并不复杂，但需要注意的是，伴随着交叉组合特征数量的增加、以及每个特征取值水平增加，衍生出来的特征数量将呈指数级上涨趋势，例如3个包含两个分类水平的离散变量进行交叉组合时，将衍生出$2^3=8$个特征，而如果是10个包含三个分类水平的离散变量进行交叉组合，则将衍生出$3^{10}=59049$个特征。当然，特征数量的多并没有太大影响，但如果同时特征矩阵过于稀疏（有较多零值），则表示相同规模数据情况下包含了较少信息，而这也将极大程度影响后续建模过程。"
   ]
  },
  {
   "cell_type": "markdown",
   "id": "4d1b5a20-dbec-4e8b-8147-0a973242f1ba",
   "metadata": {},
   "source": [
    "&emsp;&emsp;通过上述极简示例不难看出，通过交叉组合衍生出来的新特征矩阵是极度稀疏的（即0值占绝大多数），并且不难发现，每一行在衍生的特征矩阵中其实只有一个值是1，其余值都是0（只有组合出了一种取值）。可以证明，在m个n分类特征的交叉组合过程中，假设总共有k条数据，则0值的占比为："
   ]
  },
  {
   "cell_type": "markdown",
   "id": "220463da-fa51-4806-a033-defa8c3b1112",
   "metadata": {},
   "source": [
    "$$\\frac{n^m*k-k}{n^m*k}=1-\\frac{1}{n^m}$$"
   ]
  },
  {
   "cell_type": "markdown",
   "id": "b1f8ec82-dce3-4065-9946-8d3a85b97122",
   "metadata": {},
   "source": [
    "即如果是3个2分类水平的特征进行交叉组合衍生，则新的特征矩阵中0值占比为$1-\\frac{1}{8}=\\frac{7}{8}=87.5$%；而如果是10个三分类变量进行交叉组合衍生，则新特征矩阵中0值占比为$1-\\frac{1}{3^{10}}=99.99831$%。尽管后续我们将介绍在海量特征中筛选有效特征的方法，但是在如此稀疏的矩阵中提取信息仍然还是一件非常困难的事情，因此往往我们并不会带入过多的特征进行交叉组合特征衍生。一般来说，如果有多个特征要进行交叉组合衍生，我们往往优先考虑两两组合进行交叉组合衍生，只有在人工判断是极为重要的特征情况下，才会考虑对其进行三个甚至更多的特征进行交叉组合衍生。"
   ]
  }
 ],
 "metadata": {
  "kernelspec": {
   "display_name": "Python 3",
   "language": "python",
   "name": "python3"
  },
  "language_info": {
   "codemirror_mode": {
    "name": "ipython",
    "version": 3
   },
   "file_extension": ".py",
   "mimetype": "text/x-python",
   "name": "python",
   "nbconvert_exporter": "python",
   "pygments_lexer": "ipython3",
   "version": "3.8.8"
  }
 },
 "nbformat": 4,
 "nbformat_minor": 5
}
