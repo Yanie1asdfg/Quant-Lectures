{
 "cells": [
  {
   "cell_type": "code",
   "execution_count": null,
   "id": "fd2353a7-b854-4e3f-9943-92c2f44e2e51",
   "metadata": {},
   "outputs": [],
   "source": [
    "pip install kaggle"
   ]
  },
  {
   "cell_type": "code",
   "execution_count": null,
   "id": "8a089f1c-093b-40c8-b93d-482b2378ab0c",
   "metadata": {},
   "outputs": [],
   "source": [
    "# 如果没有.kaggle文件夹\n",
    "# 则直接去cmd找 .kaggle文件夹，如果能进去"
   ]
  },
  {
   "attachments": {
    "7fdbc742-2a18-4769-89ca-786bc434b7b2.png": {
     "image/png": "[encoded data removed]"
    }
   },
   "cell_type": "markdown",
   "id": "3326e94f-0601-4b52-b10b-cecae11216eb",
   "metadata": {},
   "source": [
    "![image.png](attachment:7fdbc742-2a18-4769-89ca-786bc434b7b2.png)"
   ]
  },
  {
   "cell_type": "code",
   "execution_count": null,
   "id": "d8db1b54-7fc8-43f6-b62e-51c3bc03e97e",
   "metadata": {},
   "outputs": [],
   "source": [
    "# 修改数据默认下载路径\n",
    "kaggle config set -n path -v<路径>"
   ]
  },
  {
   "cell_type": "code",
   "execution_count": null,
   "id": "9c8b0e98-8b05-477f-b2d1-52d3ae1ad4ab",
   "metadata": {},
   "outputs": [],
   "source": [
    "kaggle competitions download -c elo-merchant-category-recommendation"
   ]
  }
 ],
 "metadata": {
  "kernelspec": {
   "display_name": "ml_bt",
   "language": "python",
   "name": "ml_bt"
  },
  "language_info": {
   "codemirror_mode": {
    "name": "ipython",
    "version": 3
   },
   "file_extension": ".py",
   "mimetype": "text/x-python",
   "name": "python",
   "nbconvert_exporter": "python",
   "pygments_lexer": "ipython3",
   "version": "3.7.11"
  }
 },
 "nbformat": 4,
 "nbformat_minor": 5
}
