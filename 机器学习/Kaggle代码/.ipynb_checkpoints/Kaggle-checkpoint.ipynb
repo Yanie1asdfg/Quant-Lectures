{
 "cells": [
  {
   "cell_type": "markdown",
   "metadata": {},
   "source": [
    "### **跑出一个能提交的结果**"
   ]
  },
  {
   "cell_type": "markdown",
   "metadata": {},
   "source": [
    "训练完一个比较好的模型之后，就可以对测试集进行预测了，  \n",
    "首先将训练集（X，y）对输入xgboost中重新训练，  \n",
    "然后对测试集也像对训练集一样进行特征处理，  \n",
    "预测出来的结果按照比赛指定的格式保存到文件（在这里还是建议用pandas），即可提交。\n",
    "\n",
    "第一次提交意味着你正式进入比赛，提交的结果会在Leader Board上显示你当前的排名，  \n",
    "当然这个排名只起到参考作用，因为你提交上去的大部分结果kaggle都没有进行评估。"
   ]
  },
  {
   "cell_type": "markdown",
   "metadata": {},
   "source": [
    "### **特征工程（FE）**"
   ]
  },
  {
   "cell_type": "markdown",
   "metadata": {},
   "source": [
    "在一系列的初始操作以后，你就要踏上FE的漫漫长征了。  \n",
    "本人断断续续在数据清洗、特征提取上做了约两个多月，在比赛最后一段时间模型融合完毕后还在继续地寻找、测试新的特征。  \n",
    "后期评论区中magic feature的出现，让每个人的预测结果好了0.01～0.02个点。   \n",
    "**不得不说，特征工程才是Kaggle比赛获胜的关键所在，因此初学者耗费大量精力在这上面是没错的**。而本博文也是重点想讲一下自己发现新特征的一些心历路程。"
   ]
  },
  {
   "cell_type": "code",
   "execution_count": null,
   "metadata": {},
   "outputs": [],
   "source": []
  }
 ],
 "metadata": {
  "kernelspec": {
   "display_name": "Python 3",
   "language": "python",
   "name": "python3"
  },
  "language_info": {
   "codemirror_mode": {
    "name": "ipython",
    "version": 3
   },
   "file_extension": ".py",
   "mimetype": "text/x-python",
   "name": "python",
   "nbconvert_exporter": "python",
   "pygments_lexer": "ipython3",
   "version": "3.7.1"
  }
 },
 "nbformat": 4,
 "nbformat_minor": 4
}
