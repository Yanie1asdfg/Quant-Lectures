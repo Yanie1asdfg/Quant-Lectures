{
 "cells": [
  {
   "cell_type": "markdown",
   "id": "082a47de-48da-483e-b39a-f2e70e1e204c",
   "metadata": {},
   "source": [
    "# <font face=\"仿宋\">课程说明："
   ]
  },
  {
   "cell_type": "markdown",
   "id": "4a2690a2-19a6-4d12-a625-ae93738fe96e",
   "metadata": {},
   "source": [
    "&emsp;&emsp;<font face=\"仿宋\">小伙伴好呀\\~欢迎来到《2021机器学习实战训练营》（第二期）试学体验课！我是课程主讲老师，九天。       \n",
    "&emsp;&emsp;本次体验课为期三天（10月21-23号），期间每晚8点在我的B站直播间公开直播，直播间地址:https://live.bilibili.com/22678166      \n",
    "&emsp;&emsp;本期公开课将围绕一项kaggle竞赛案例进行深度剖析，并据此讨论算法竞赛中机器学习的一般建模流程，以及当前机器学习进行预测时最为有效的技术手段，也就是特征工程方法和集成算法的相关应用，对算法和竞赛感兴趣的小伙伴，欢迎积极参与讨论哦\\~        \n",
    "&emsp;&emsp;课程资料领取/数据技术交流/付费课程信息，扫码添加客服“小可爱”获取哦~"
   ]
  },
  {
   "cell_type": "markdown",
   "id": "28ce763d-cc7f-42fc-accb-7c98b9352ad7",
   "metadata": {},
   "source": [
    "<center><img src=\"https://i.loli.net/2021/10/20/ZWTgxSiNY1db9eL.png\" alt=\"二维码\" style=\"zoom:33%;\" />"
   ]
  },
  {
   "cell_type": "markdown",
   "id": "308ce495-0a84-409a-93a3-6c7138f593de",
   "metadata": {},
   "source": [
    "&emsp;&emsp;<font face=\"仿宋\">另外，《机器学习实战训练营》（第二期）本月25号即将开课，十八周80+课时体系大课限时半价，扫码咨询小可爱回复“优惠”，还可领取额外折上折优惠，课程主页：https://appze9inzwc2314.pc.xiaoe-tech.com"
   ]
  },
  {
   "cell_type": "markdown",
   "id": "ff6a2f26-f491-491d-aafb-f060a2c380b2",
   "metadata": {},
   "source": [
    "# <center>【Kaggle】Elo Merchant Category Recommendation    \n",
    "# <center> 竞赛案例解析公开课"
   ]
  },
  {
   "cell_type": "markdown",
   "id": "4f761adc-e849-4b81-ae7b-883200baad7f",
   "metadata": {},
   "source": [
    "# <center>Day 2.交易数据和商户数据的数据探索与数据清洗"
   ]
  },
  {
   "cell_type": "markdown",
   "id": "9fa2bcc6-3ca1-468e-af59-90a717457117",
   "metadata": {},
   "source": [
    "&emsp;&emsp;在对train和test数据集完成探索性分析之后，接下来我们需要进一步围绕官方给出的商户数据与信用卡交易数据进行解读和分析，并对其进行数据清洗，从而为后续的特征工程和算法建模做准备。"
   ]
  },
  {
   "cell_type": "markdown",
   "id": "10645458-d3a7-4d0c-b753-7b64165e88f9",
   "metadata": {},
   "source": [
    "&emsp;&emsp;一般来说，在数据解读、数据探索和初步数据清洗都是同步进行的，都是前期非常重要的工作事项。其中，数据解读的目的是为了快速获取数据集的基本信息，通过比对官方给出的字段解释，快速了解数据集的字段含义，这对于许多复杂数据场景下的建模是非常有必要的。而数据探索，顾名思义，就是快速了解数据集的基本数据情况，主要工作包括数据正确性校验和数据质量分析，核心目的是为了能够快速了解各字段的基本情况，包括默认各字段的数据类型、数据集是否存在数据不一致的情况、数据集重复值情况、缺失值情况等，当然，通过一系列的数据探索，也能够快速加深对数据集的理解。当然，数据探索结束之后，就需要进行数据清洗了，所谓数据清洗，指的是在建模/特征工程之前进行的必要的调整，以确保后续操作可执行，包括数据字段类型调整、重复值处理、缺失值处理等等，当然，有些操作可能在后续会进行些许优化，比如数据清洗阶段我们可以先尝试进行较为简单的缺失值填补，在后续的建模过程中我们还可以根据实际建模结果来调整缺失值填补策略。"
   ]
  },
  {
   "cell_type": "markdown",
   "id": "c1648a4d-18ff-4a09-9668-eaac3c46a273",
   "metadata": {},
   "source": [
    "&emsp;&emsp;我们也可将数据探索与数据清洗的过程总结如下："
   ]
  },
  {
   "cell_type": "markdown",
   "id": "8f8da495-2ab9-40d9-ba87-1621e891cc32",
   "metadata": {},
   "source": [
    "<center><img src=\"https://i.loli.net/2021/10/22/caGHpfdK8kvSAF7.png\" alt=\"image-20211022154015344\" style=\"zoom:25%;\" />"
   ]
  },
  {
   "cell_type": "markdown",
   "id": "943676e8-a99d-48d9-9a07-cec478d20593",
   "metadata": {},
   "source": [
    "&emsp;&emsp;接下来我们将对商户数据、交易数据的三张表进行数据探索和数据清洗。"
   ]
  },
  {
   "cell_type": "markdown",
   "id": "28a19d6e-433e-4741-bdb2-a94a4c9d684b",
   "metadata": {},
   "source": [
    "## 一、商户数据解读与探索"
   ]
  },
  {
   "cell_type": "markdown",
   "id": "16777476-a06d-401b-b924-4fd5c76611d4",
   "metadata": {},
   "source": [
    "&emsp;&emsp;接下来我们来看主办方给出的拓展信息。也就是信用卡交易记录和商户相关数据，这几张表中同时包含了训练集、测试集中所有信用卡的部分记录，是挖掘有效信息、提高模型建模效果的重要渠道。"
   ]
  },
  {
   "cell_type": "markdown",
   "id": "8edbfffb-3f08-4bd2-8bce-9f57be0f9eef",
   "metadata": {},
   "source": [
    "### 1.数据解读"
   ]
  },
  {
   "cell_type": "markdown",
   "id": "161a469f-89da-4af3-9354-3520ab071840",
   "metadata": {},
   "source": [
    "&emsp;&emsp;首先我们先来查看数据量相对较小的商户信息表，也就是merchants.csv中的相关信息。"
   ]
  },
  {
   "cell_type": "code",
   "execution_count": 142,
   "id": "54e12b92-7872-416e-b89b-cdbdb46739fd",
   "metadata": {},
   "outputs": [],
   "source": [
    "# 导入数据\n",
    "merchant = pd.read_csv('./eloData/merchants.csv', header=0)"
   ]
  },
  {
   "cell_type": "code",
   "execution_count": 110,
   "id": "c9d8d16c-b35a-4cc3-88ae-a4790069119e",
   "metadata": {},
   "outputs": [
    {
     "data": {
      "text/html": [
       "<div>\n",
       "<style scoped>\n",
       "    .dataframe tbody tr th:only-of-type {\n",
       "        vertical-align: middle;\n",
       "    }\n",
       "\n",
       "    .dataframe tbody tr th {\n",
       "        vertical-align: top;\n",
       "    }\n",
       "\n",
       "    .dataframe thead th {\n",
       "        text-align: right;\n",
       "    }\n",
       "</style>\n",
       "<table border=\"1\" class=\"dataframe\">\n",
       "  <thead>\n",
       "    <tr style=\"text-align: right;\">\n",
       "      <th></th>\n",
       "      <th>merchant_id</th>\n",
       "      <th>merchant_group_id</th>\n",
       "      <th>merchant_category_id</th>\n",
       "      <th>subsector_id</th>\n",
       "      <th>numerical_1</th>\n",
       "      <th>numerical_2</th>\n",
       "      <th>category_1</th>\n",
       "      <th>most_recent_sales_range</th>\n",
       "      <th>most_recent_purchases_range</th>\n",
       "      <th>avg_sales_lag3</th>\n",
       "      <th>...</th>\n",
       "      <th>avg_sales_lag6</th>\n",
       "      <th>avg_purchases_lag6</th>\n",
       "      <th>active_months_lag6</th>\n",
       "      <th>avg_sales_lag12</th>\n",
       "      <th>avg_purchases_lag12</th>\n",
       "      <th>active_months_lag12</th>\n",
       "      <th>category_4</th>\n",
       "      <th>city_id</th>\n",
       "      <th>state_id</th>\n",
       "      <th>category_2</th>\n",
       "    </tr>\n",
       "  </thead>\n",
       "  <tbody>\n",
       "    <tr>\n",
       "      <th>0</th>\n",
       "      <td>M_ID_838061e48c</td>\n",
       "      <td>8353</td>\n",
       "      <td>792</td>\n",
       "      <td>9</td>\n",
       "      <td>-0.057471</td>\n",
       "      <td>-0.057471</td>\n",
       "      <td>N</td>\n",
       "      <td>E</td>\n",
       "      <td>E</td>\n",
       "      <td>-0.40</td>\n",
       "      <td>...</td>\n",
       "      <td>-2.25</td>\n",
       "      <td>18.666667</td>\n",
       "      <td>6</td>\n",
       "      <td>-2.32</td>\n",
       "      <td>13.916667</td>\n",
       "      <td>12</td>\n",
       "      <td>N</td>\n",
       "      <td>242</td>\n",
       "      <td>9</td>\n",
       "      <td>1.0</td>\n",
       "    </tr>\n",
       "    <tr>\n",
       "      <th>1</th>\n",
       "      <td>M_ID_9339d880ad</td>\n",
       "      <td>3184</td>\n",
       "      <td>840</td>\n",
       "      <td>20</td>\n",
       "      <td>-0.057471</td>\n",
       "      <td>-0.057471</td>\n",
       "      <td>N</td>\n",
       "      <td>E</td>\n",
       "      <td>E</td>\n",
       "      <td>-0.72</td>\n",
       "      <td>...</td>\n",
       "      <td>-0.74</td>\n",
       "      <td>1.291667</td>\n",
       "      <td>6</td>\n",
       "      <td>-0.57</td>\n",
       "      <td>1.687500</td>\n",
       "      <td>12</td>\n",
       "      <td>N</td>\n",
       "      <td>22</td>\n",
       "      <td>16</td>\n",
       "      <td>1.0</td>\n",
       "    </tr>\n",
       "    <tr>\n",
       "      <th>2</th>\n",
       "      <td>M_ID_e726bbae1e</td>\n",
       "      <td>447</td>\n",
       "      <td>690</td>\n",
       "      <td>1</td>\n",
       "      <td>-0.057471</td>\n",
       "      <td>-0.057471</td>\n",
       "      <td>N</td>\n",
       "      <td>E</td>\n",
       "      <td>E</td>\n",
       "      <td>-82.13</td>\n",
       "      <td>...</td>\n",
       "      <td>-82.13</td>\n",
       "      <td>260.000000</td>\n",
       "      <td>2</td>\n",
       "      <td>-82.13</td>\n",
       "      <td>260.000000</td>\n",
       "      <td>2</td>\n",
       "      <td>N</td>\n",
       "      <td>-1</td>\n",
       "      <td>5</td>\n",
       "      <td>5.0</td>\n",
       "    </tr>\n",
       "    <tr>\n",
       "      <th>3</th>\n",
       "      <td>M_ID_a70e9c5f81</td>\n",
       "      <td>5026</td>\n",
       "      <td>792</td>\n",
       "      <td>9</td>\n",
       "      <td>-0.057471</td>\n",
       "      <td>-0.057471</td>\n",
       "      <td>Y</td>\n",
       "      <td>E</td>\n",
       "      <td>E</td>\n",
       "      <td>NaN</td>\n",
       "      <td>...</td>\n",
       "      <td>NaN</td>\n",
       "      <td>4.666667</td>\n",
       "      <td>6</td>\n",
       "      <td>NaN</td>\n",
       "      <td>3.833333</td>\n",
       "      <td>12</td>\n",
       "      <td>Y</td>\n",
       "      <td>-1</td>\n",
       "      <td>-1</td>\n",
       "      <td>NaN</td>\n",
       "    </tr>\n",
       "    <tr>\n",
       "      <th>4</th>\n",
       "      <td>M_ID_64456c37ce</td>\n",
       "      <td>2228</td>\n",
       "      <td>222</td>\n",
       "      <td>21</td>\n",
       "      <td>-0.057471</td>\n",
       "      <td>-0.057471</td>\n",
       "      <td>Y</td>\n",
       "      <td>E</td>\n",
       "      <td>E</td>\n",
       "      <td>NaN</td>\n",
       "      <td>...</td>\n",
       "      <td>NaN</td>\n",
       "      <td>0.361111</td>\n",
       "      <td>6</td>\n",
       "      <td>NaN</td>\n",
       "      <td>0.347222</td>\n",
       "      <td>12</td>\n",
       "      <td>Y</td>\n",
       "      <td>-1</td>\n",
       "      <td>-1</td>\n",
       "      <td>NaN</td>\n",
       "    </tr>\n",
       "  </tbody>\n",
       "</table>\n",
       "<p>5 rows × 22 columns</p>\n",
       "</div>"
      ],
      "text/plain": [
       "       merchant_id  merchant_group_id  merchant_category_id  subsector_id  \\\n",
       "0  M_ID_838061e48c               8353                   792             9   \n",
       "1  M_ID_9339d880ad               3184                   840            20   \n",
       "2  M_ID_e726bbae1e                447                   690             1   \n",
       "3  M_ID_a70e9c5f81               5026                   792             9   \n",
       "4  M_ID_64456c37ce               2228                   222            21   \n",
       "\n",
       "   numerical_1  numerical_2 category_1 most_recent_sales_range  \\\n",
       "0    -0.057471    -0.057471          N                       E   \n",
       "1    -0.057471    -0.057471          N                       E   \n",
       "2    -0.057471    -0.057471          N                       E   \n",
       "3    -0.057471    -0.057471          Y                       E   \n",
       "4    -0.057471    -0.057471          Y                       E   \n",
       "\n",
       "  most_recent_purchases_range  avg_sales_lag3  ...  avg_sales_lag6  \\\n",
       "0                           E           -0.40  ...           -2.25   \n",
       "1                           E           -0.72  ...           -0.74   \n",
       "2                           E          -82.13  ...          -82.13   \n",
       "3                           E             NaN  ...             NaN   \n",
       "4                           E             NaN  ...             NaN   \n",
       "\n",
       "   avg_purchases_lag6  active_months_lag6  avg_sales_lag12  \\\n",
       "0           18.666667                   6            -2.32   \n",
       "1            1.291667                   6            -0.57   \n",
       "2          260.000000                   2           -82.13   \n",
       "3            4.666667                   6              NaN   \n",
       "4            0.361111                   6              NaN   \n",
       "\n",
       "   avg_purchases_lag12  active_months_lag12  category_4  city_id state_id  \\\n",
       "0            13.916667                   12           N      242        9   \n",
       "1             1.687500                   12           N       22       16   \n",
       "2           260.000000                    2           N       -1        5   \n",
       "3             3.833333                   12           Y       -1       -1   \n",
       "4             0.347222                   12           Y       -1       -1   \n",
       "\n",
       "   category_2  \n",
       "0         1.0  \n",
       "1         1.0  \n",
       "2         5.0  \n",
       "3         NaN  \n",
       "4         NaN  \n",
       "\n",
       "[5 rows x 22 columns]"
      ]
     },
     "execution_count": 110,
     "metadata": {},
     "output_type": "execute_result"
    }
   ],
   "source": [
    "merchant.head(5)"
   ]
  },
  {
   "cell_type": "code",
   "execution_count": 111,
   "id": "7174ade2-28f1-4f6c-8240-cd14b061a043",
   "metadata": {},
   "outputs": [
    {
     "name": "stdout",
     "output_type": "stream",
     "text": [
      "<class 'pandas.core.frame.DataFrame'>\n",
      "RangeIndex: 334696 entries, 0 to 334695\n",
      "Data columns (total 22 columns):\n",
      " #   Column                       Non-Null Count   Dtype  \n",
      "---  ------                       --------------   -----  \n",
      " 0   merchant_id                  334696 non-null  object \n",
      " 1   merchant_group_id            334696 non-null  int64  \n",
      " 2   merchant_category_id         334696 non-null  int64  \n",
      " 3   subsector_id                 334696 non-null  int64  \n",
      " 4   numerical_1                  334696 non-null  float64\n",
      " 5   numerical_2                  334696 non-null  float64\n",
      " 6   category_1                   334696 non-null  object \n",
      " 7   most_recent_sales_range      334696 non-null  object \n",
      " 8   most_recent_purchases_range  334696 non-null  object \n",
      " 9   avg_sales_lag3               334683 non-null  float64\n",
      " 10  avg_purchases_lag3           334696 non-null  float64\n",
      " 11  active_months_lag3           334696 non-null  int64  \n",
      " 12  avg_sales_lag6               334683 non-null  float64\n",
      " 13  avg_purchases_lag6           334696 non-null  float64\n",
      " 14  active_months_lag6           334696 non-null  int64  \n",
      " 15  avg_sales_lag12              334683 non-null  float64\n",
      " 16  avg_purchases_lag12          334696 non-null  float64\n",
      " 17  active_months_lag12          334696 non-null  int64  \n",
      " 18  category_4                   334696 non-null  object \n",
      " 19  city_id                      334696 non-null  int64  \n",
      " 20  state_id                     334696 non-null  int64  \n",
      " 21  category_2                   322809 non-null  float64\n",
      "dtypes: float64(9), int64(8), object(5)\n",
      "memory usage: 56.2+ MB\n"
     ]
    }
   ],
   "source": [
    "merchant.info()"
   ]
  },
  {
   "cell_type": "markdown",
   "id": "57542e99-d9ff-4d6c-837a-95652573a593",
   "metadata": {},
   "source": [
    "数据集基本字段解释如下："
   ]
  },
  {
   "cell_type": "code",
   "execution_count": 114,
   "id": "0071c539-ef0f-4e14-9657-f7036ad4bddb",
   "metadata": {},
   "outputs": [
    {
     "data": {
      "text/html": [
       "<div>\n",
       "<style scoped>\n",
       "    .dataframe tbody tr th:only-of-type {\n",
       "        vertical-align: middle;\n",
       "    }\n",
       "\n",
       "    .dataframe tbody tr th {\n",
       "        vertical-align: top;\n",
       "    }\n",
       "\n",
       "    .dataframe thead th {\n",
       "        text-align: right;\n",
       "    }\n",
       "</style>\n",
       "<table border=\"1\" class=\"dataframe\">\n",
       "  <thead>\n",
       "    <tr style=\"text-align: right;\">\n",
       "      <th></th>\n",
       "      <th>Columns</th>\n",
       "      <th>Description</th>\n",
       "    </tr>\n",
       "  </thead>\n",
       "  <tbody>\n",
       "    <tr>\n",
       "      <th>0</th>\n",
       "      <td>merchant_id</td>\n",
       "      <td>Unique merchant identifier</td>\n",
       "    </tr>\n",
       "    <tr>\n",
       "      <th>1</th>\n",
       "      <td>merchant_group_id</td>\n",
       "      <td>Merchant group (anonymized )</td>\n",
       "    </tr>\n",
       "    <tr>\n",
       "      <th>2</th>\n",
       "      <td>merchant_category_id</td>\n",
       "      <td>Unique identifier for merchant category (anony...</td>\n",
       "    </tr>\n",
       "    <tr>\n",
       "      <th>3</th>\n",
       "      <td>subsector_id</td>\n",
       "      <td>Merchant category group (anonymized )</td>\n",
       "    </tr>\n",
       "    <tr>\n",
       "      <th>4</th>\n",
       "      <td>numerical_1</td>\n",
       "      <td>anonymized measure</td>\n",
       "    </tr>\n",
       "    <tr>\n",
       "      <th>5</th>\n",
       "      <td>numerical_2</td>\n",
       "      <td>anonymized measure</td>\n",
       "    </tr>\n",
       "    <tr>\n",
       "      <th>6</th>\n",
       "      <td>category_1</td>\n",
       "      <td>anonymized category</td>\n",
       "    </tr>\n",
       "    <tr>\n",
       "      <th>7</th>\n",
       "      <td>most_recent_sales_range</td>\n",
       "      <td>Range of revenue (monetary units) in last acti...</td>\n",
       "    </tr>\n",
       "    <tr>\n",
       "      <th>8</th>\n",
       "      <td>most_recent_purchases_range</td>\n",
       "      <td>Range of quantity of transactions in last acti...</td>\n",
       "    </tr>\n",
       "    <tr>\n",
       "      <th>9</th>\n",
       "      <td>avg_sales_lag3</td>\n",
       "      <td>Monthly average of revenue in last 3 months di...</td>\n",
       "    </tr>\n",
       "    <tr>\n",
       "      <th>10</th>\n",
       "      <td>avg_purchases_lag3</td>\n",
       "      <td>Monthly average of transactions in last 3 mont...</td>\n",
       "    </tr>\n",
       "    <tr>\n",
       "      <th>11</th>\n",
       "      <td>active_months_lag3</td>\n",
       "      <td>Quantity of active months within last 3 months</td>\n",
       "    </tr>\n",
       "    <tr>\n",
       "      <th>12</th>\n",
       "      <td>avg_sales_lag6</td>\n",
       "      <td>Monthly average of revenue in last 6 months di...</td>\n",
       "    </tr>\n",
       "    <tr>\n",
       "      <th>13</th>\n",
       "      <td>avg_purchases_lag6</td>\n",
       "      <td>Monthly average of transactions in last 6 mont...</td>\n",
       "    </tr>\n",
       "    <tr>\n",
       "      <th>14</th>\n",
       "      <td>active_months_lag6</td>\n",
       "      <td>Quantity of active months within last 6 months</td>\n",
       "    </tr>\n",
       "    <tr>\n",
       "      <th>15</th>\n",
       "      <td>avg_sales_lag12</td>\n",
       "      <td>Monthly average of revenue in last 12 months d...</td>\n",
       "    </tr>\n",
       "    <tr>\n",
       "      <th>16</th>\n",
       "      <td>avg_purchases_lag12</td>\n",
       "      <td>Monthly average of transactions in last 12 mon...</td>\n",
       "    </tr>\n",
       "    <tr>\n",
       "      <th>17</th>\n",
       "      <td>active_months_lag12</td>\n",
       "      <td>Quantity of active months within last 12 months</td>\n",
       "    </tr>\n",
       "    <tr>\n",
       "      <th>18</th>\n",
       "      <td>category_4</td>\n",
       "      <td>anonymized category</td>\n",
       "    </tr>\n",
       "    <tr>\n",
       "      <th>19</th>\n",
       "      <td>city_id</td>\n",
       "      <td>City identifier (anonymized )</td>\n",
       "    </tr>\n",
       "    <tr>\n",
       "      <th>20</th>\n",
       "      <td>state_id</td>\n",
       "      <td>State identifier (anonymized )</td>\n",
       "    </tr>\n",
       "    <tr>\n",
       "      <th>21</th>\n",
       "      <td>category_2</td>\n",
       "      <td>anonymized category</td>\n",
       "    </tr>\n",
       "  </tbody>\n",
       "</table>\n",
       "</div>"
      ],
      "text/plain": [
       "                        Columns  \\\n",
       "0                   merchant_id   \n",
       "1             merchant_group_id   \n",
       "2          merchant_category_id   \n",
       "3                  subsector_id   \n",
       "4                   numerical_1   \n",
       "5                   numerical_2   \n",
       "6                    category_1   \n",
       "7       most_recent_sales_range   \n",
       "8   most_recent_purchases_range   \n",
       "9                avg_sales_lag3   \n",
       "10           avg_purchases_lag3   \n",
       "11           active_months_lag3   \n",
       "12               avg_sales_lag6   \n",
       "13           avg_purchases_lag6   \n",
       "14           active_months_lag6   \n",
       "15              avg_sales_lag12   \n",
       "16          avg_purchases_lag12   \n",
       "17          active_months_lag12   \n",
       "18                   category_4   \n",
       "19                      city_id   \n",
       "20                     state_id   \n",
       "21                   category_2   \n",
       "\n",
       "                                          Description  \n",
       "0                          Unique merchant identifier  \n",
       "1                        Merchant group (anonymized )  \n",
       "2   Unique identifier for merchant category (anony...  \n",
       "3               Merchant category group (anonymized )  \n",
       "4                                  anonymized measure  \n",
       "5                                  anonymized measure  \n",
       "6                                 anonymized category  \n",
       "7   Range of revenue (monetary units) in last acti...  \n",
       "8   Range of quantity of transactions in last acti...  \n",
       "9   Monthly average of revenue in last 3 months di...  \n",
       "10  Monthly average of transactions in last 3 mont...  \n",
       "11     Quantity of active months within last 3 months  \n",
       "12  Monthly average of revenue in last 6 months di...  \n",
       "13  Monthly average of transactions in last 6 mont...  \n",
       "14     Quantity of active months within last 6 months  \n",
       "15  Monthly average of revenue in last 12 months d...  \n",
       "16  Monthly average of transactions in last 12 mon...  \n",
       "17    Quantity of active months within last 12 months  \n",
       "18                                anonymized category  \n",
       "19                      City identifier (anonymized )  \n",
       "20                     State identifier (anonymized )  \n",
       "21                                anonymized category  "
      ]
     },
     "execution_count": 114,
     "metadata": {},
     "output_type": "execute_result"
    }
   ],
   "source": [
    "# 在数据字典中查看各字段的解释\n",
    "df = pd.read_excel('./eloData/Data_Dictionary.xlsx', header=2, sheet_name='merchant')\n",
    "df"
   ]
  },
  {
   "cell_type": "markdown",
   "id": "c953bcb8-c1f5-4f2b-bc6f-08d43a5c66a0",
   "metadata": {},
   "source": [
    "实际含义如下："
   ]
  },
  {
   "cell_type": "markdown",
   "id": "40d8c581-d253-4a33-8264-a145880087f4",
   "metadata": {},
   "source": [
    "| 字段 | 解释 |\n",
    "| ------ | ------ |\n",
    "| merchant_id | 商户id |\n",
    "| merchant_group_id | 商户组id |\n",
    "| merchant_category_id | 商户类别id |\n",
    "| subsector_id | 商品种类群id |\n",
    "| numerical_1 | 匿名数值特征1 |\n",
    "| numerical_2 | 匿名数值特征2 |\n",
    "| category_1 | 匿名离散特征1 |\n",
    "| most_recent_sales_range | 上个活跃月份收入等级，有序分类变量A>B>...>E |\n",
    "| most_recent_purchases_range | 上个活跃月份交易数量等级，有序分类变量A>B>...>E |\n",
    "| avg_sales_lag3/6/12 | 过去3、6、12个月的月平均收入除以上一个活跃月份的收入 |\n",
    "| avg_purchases_lag3/6/12 | 过去3、6、12个月的月平均交易量除以上一个活跃月份的交易量 |\n",
    "| active_months_lag3/6/12 | 过去3、6、12个月的活跃月份数量 |\n",
    "| category_2 | 匿名离散特征2 |"
   ]
  },
  {
   "cell_type": "markdown",
   "id": "4856d924-6eb0-4dfc-9c14-adf427139cce",
   "metadata": {},
   "source": [
    "能够发现，数据表中提供不仅提供了商户的基本属性字段（如类别和商品种群等），同时也提供了商户近期的交易数据。不过和此前一样，仍然存在大量的匿名特征。"
   ]
  },
  {
   "cell_type": "markdown",
   "id": "aa1da235-c6d0-46f6-a150-a2c7be92ba52",
   "metadata": {},
   "source": [
    "### 2.数据探索"
   ]
  },
  {
   "cell_type": "markdown",
   "id": "8e168eec-e1b9-4fb9-9f28-3562126b449c",
   "metadata": {},
   "source": [
    "&emsp;&emsp;在理解数据字段的基本含义后，接下来我们进一步进行数据探索："
   ]
  },
  {
   "cell_type": "markdown",
   "id": "470e84e2-3029-4e7e-a6e2-5024a93c734f",
   "metadata": {},
   "source": [
    "- 正确性校验"
   ]
  },
  {
   "cell_type": "markdown",
   "id": "58393987-24d9-405f-a40f-a106e3db554b",
   "metadata": {},
   "source": [
    "&emsp;&emsp;接下来简单对数据集的基本情况进行验证。首先是商户id出现次数的计算："
   ]
  },
  {
   "cell_type": "code",
   "execution_count": 118,
   "id": "f6ea4e4b-d00c-4b83-94e0-313d05619d29",
   "metadata": {},
   "outputs": [
    {
     "name": "stdout",
     "output_type": "stream",
     "text": [
      "(334696, 22) 334633\n"
     ]
    }
   ],
   "source": [
    "print(merchant.shape, merchant['merchant_id'].nunique())"
   ]
  },
  {
   "cell_type": "markdown",
   "id": "3167b794-0ef9-4bcf-b034-20199f0fc26b",
   "metadata": {},
   "source": [
    "能够看出，该表并不是一个id对应一条数据，存在一个商户有多条记录的情况。此外，由于商户特征较多，此处我们也可以简单验证商户数据特征是否和数据字典中特征一致："
   ]
  },
  {
   "cell_type": "code",
   "execution_count": 117,
   "id": "645998da-8beb-447e-a54e-50a9749aa12f",
   "metadata": {},
   "outputs": [
    {
     "name": "stdout",
     "output_type": "stream",
     "text": [
      "[ True  True  True  True  True  True  True  True  True  True  True  True\n",
      "  True  True  True  True  True  True  True  True  True  True]\n"
     ]
    }
   ],
   "source": [
    "print(pd.Series(merchant.columns.tolist()).sort_values().values ==  pd.Series([va[0] for va in df.values]).sort_values().values)"
   ]
  },
  {
   "cell_type": "markdown",
   "id": "41d06196-7510-4c9a-a704-308920b7f630",
   "metadata": {},
   "source": [
    "能够看出商户特征完全一致。"
   ]
  },
  {
   "cell_type": "markdown",
   "id": "36f213da-e21b-4e9f-9555-9b7534a270b8",
   "metadata": {},
   "source": [
    "- 缺失值分析"
   ]
  },
  {
   "cell_type": "markdown",
   "id": "294dbceb-6cfd-43f5-a833-f3bd548f0ba2",
   "metadata": {},
   "source": [
    "&emsp;&emsp;进一步，查看商户数据缺失值情况："
   ]
  },
  {
   "cell_type": "code",
   "execution_count": 120,
   "id": "805690c4-cf4b-4be7-b8ad-e1772d9c41e9",
   "metadata": {},
   "outputs": [
    {
     "data": {
      "text/plain": [
       "merchant_id                        0\n",
       "merchant_group_id                  0\n",
       "merchant_category_id               0\n",
       "subsector_id                       0\n",
       "numerical_1                        0\n",
       "numerical_2                        0\n",
       "category_1                         0\n",
       "most_recent_sales_range            0\n",
       "most_recent_purchases_range        0\n",
       "avg_sales_lag3                    13\n",
       "avg_purchases_lag3                 0\n",
       "active_months_lag3                 0\n",
       "avg_sales_lag6                    13\n",
       "avg_purchases_lag6                 0\n",
       "active_months_lag6                 0\n",
       "avg_sales_lag12                   13\n",
       "avg_purchases_lag12                0\n",
       "active_months_lag12                0\n",
       "category_4                         0\n",
       "city_id                            0\n",
       "state_id                           0\n",
       "category_2                     11887\n",
       "dtype: int64"
      ]
     },
     "execution_count": 120,
     "metadata": {},
     "output_type": "execute_result"
    }
   ],
   "source": [
    "merchant.isnull().sum()"
   ]
  },
  {
   "cell_type": "markdown",
   "id": "7c97861b-9916-4214-8120-a662e50ba7f3",
   "metadata": {},
   "source": [
    "能够发现，第二个匿名分类变量存在较多缺失值，而avg_sales_lag3/6/12缺失值数量一致，则很有可能是存在13个商户同时确实了这三方面信息。其他数据没有缺失，数据整体来看较为完整。"
   ]
  },
  {
   "cell_type": "markdown",
   "id": "c1c0be4b-a51e-4d76-8072-ad740943ee1d",
   "metadata": {},
   "source": [
    "### 3.数据预处理"
   ]
  },
  {
   "cell_type": "markdown",
   "id": "0a792cfc-e3a1-45af-b144-b0fcc12a3adb",
   "metadata": {},
   "source": [
    "&emsp;&emsp;接下来对商户数据进行数据预处理。由于还未进行特征工程，此处预处理只是一些不影响后续特征工程、建模或多表关联的、较为初步但又是必须要做的预处理。        "
   ]
  },
  {
   "cell_type": "markdown",
   "id": "9968175e-5113-4e1f-8811-7085adba3d2c",
   "metadata": {},
   "source": [
    "- 离散/连续字段标注"
   ]
  },
  {
   "cell_type": "markdown",
   "id": "969f0368-0aa6-4248-a9d8-5c8867f28bfa",
   "metadata": {},
   "source": [
    "&emsp;&emsp;由于商户数据集中特征同时存在分类变量和离散变量，因此我们首先可以根据字段的说明对不同属性特征进行统一的划分："
   ]
  },
  {
   "cell_type": "code",
   "execution_count": 121,
   "id": "b84eb74b-1695-43a2-9586-d7395ca2f71c",
   "metadata": {},
   "outputs": [],
   "source": [
    "category_cols = ['merchant_id', 'merchant_group_id', 'merchant_category_id',\n",
    "       'subsector_id', 'category_1',\n",
    "       'most_recent_sales_range', 'most_recent_purchases_range',\n",
    "       'category_4', 'city_id', 'state_id', 'category_2']\n",
    "numeric_cols = ['numerical_1', 'numerical_2',\n",
    "     'avg_sales_lag3', 'avg_purchases_lag3', 'active_months_lag3',\n",
    "       'avg_sales_lag6', 'avg_purchases_lag6', 'active_months_lag6',\n",
    "       'avg_sales_lag12', 'avg_purchases_lag12', 'active_months_lag12']\n",
    "\n",
    "# 检验特征是否划分完全\n",
    "assert len(category_cols) + len(numeric_cols) == merchant.shape[1]"
   ]
  },
  {
   "cell_type": "markdown",
   "id": "202ce461-db9a-46d4-9698-a9e2498032b8",
   "metadata": {},
   "source": [
    "- 离散变量数据情况"
   ]
  },
  {
   "cell_type": "markdown",
   "id": "a6e9be58-229d-4ea6-8ed2-46b07ef5c79a",
   "metadata": {},
   "source": [
    "&emsp;&emsp;然后简单查看离散变量当前数据情况："
   ]
  },
  {
   "cell_type": "code",
   "execution_count": 123,
   "id": "ff2d5b1c-cafa-456f-bdb6-1fa689341105",
   "metadata": {},
   "outputs": [
    {
     "data": {
      "text/plain": [
       "merchant_id                    334633\n",
       "merchant_group_id              109391\n",
       "merchant_category_id              324\n",
       "subsector_id                       41\n",
       "category_1                          2\n",
       "most_recent_sales_range             5\n",
       "most_recent_purchases_range         5\n",
       "category_4                          2\n",
       "city_id                           271\n",
       "state_id                           25\n",
       "category_2                          5\n",
       "dtype: int64"
      ]
     },
     "execution_count": 123,
     "metadata": {},
     "output_type": "execute_result"
    }
   ],
   "source": [
    "# 查看分类变量的取值水平\n",
    "merchant[category_cols].nunique()"
   ]
  },
  {
   "cell_type": "code",
   "execution_count": 122,
   "id": "377e51cb-d048-4473-aabe-7607fe713848",
   "metadata": {},
   "outputs": [
    {
     "data": {
      "text/plain": [
       "merchant_id                     object\n",
       "merchant_group_id                int64\n",
       "merchant_category_id             int64\n",
       "subsector_id                     int64\n",
       "category_1                      object\n",
       "most_recent_sales_range         object\n",
       "most_recent_purchases_range     object\n",
       "category_4                      object\n",
       "city_id                          int64\n",
       "state_id                         int64\n",
       "category_2                     float64\n",
       "dtype: object"
      ]
     },
     "execution_count": 122,
     "metadata": {},
     "output_type": "execute_result"
    }
   ],
   "source": [
    "# 查看分类变量目前的类别\n",
    "merchant[category_cols].dtypes"
   ]
  },
  {
   "cell_type": "code",
   "execution_count": 146,
   "id": "7d5dfaf6-6550-4246-8d86-cb3ea5bb1179",
   "metadata": {},
   "outputs": [
    {
     "data": {
      "text/plain": [
       "merchant_id                        0\n",
       "merchant_group_id                  0\n",
       "merchant_category_id               0\n",
       "subsector_id                       0\n",
       "category_1                         0\n",
       "most_recent_sales_range            0\n",
       "most_recent_purchases_range        0\n",
       "category_4                         0\n",
       "city_id                            0\n",
       "state_id                           0\n",
       "category_2                     11887\n",
       "dtype: int64"
      ]
     },
     "execution_count": 146,
     "metadata": {},
     "output_type": "execute_result"
    }
   ],
   "source": [
    "# 查看离散变量的缺失值情况\n",
    "merchant[category_cols].isnull().sum()"
   ]
  },
  {
   "cell_type": "markdown",
   "id": "7fafcdbe-8f6a-449f-bac4-80c15e7ca4e4",
   "metadata": {},
   "source": [
    "- 离散变量的缺失值标注"
   ]
  },
  {
   "cell_type": "markdown",
   "id": "6a69ceb6-9315-4fd4-b2e0-b7f0e35a7949",
   "metadata": {},
   "source": [
    "&emsp;&emsp;注意到离散变量中的category_2存在较多缺失值，由于该分类变量取值水平为1-5，因此可以将缺失值先标注为-1，方便后续进行数据探索："
   ]
  },
  {
   "cell_type": "code",
   "execution_count": 148,
   "id": "dc16442c-20f9-48c2-972a-8acc81228983",
   "metadata": {},
   "outputs": [
    {
     "data": {
      "text/plain": [
       "array([ 1.,  5., nan,  2.,  3.,  4.])"
      ]
     },
     "execution_count": 148,
     "metadata": {},
     "output_type": "execute_result"
    }
   ],
   "source": [
    "merchant['category_2'].unique()"
   ]
  },
  {
   "cell_type": "code",
   "execution_count": 150,
   "id": "eb055378-751c-48d7-8e12-648c98966066",
   "metadata": {},
   "outputs": [],
   "source": [
    "merchant['category_2'] = merchant['category_2'].fillna(-1)"
   ]
  },
  {
   "cell_type": "markdown",
   "id": "feddd7c1-8e5c-44aa-a4ca-204a127bd0a5",
   "metadata": {},
   "source": [
    "- 离散变量字典编码"
   ]
  },
  {
   "cell_type": "markdown",
   "id": "5e549f8d-2ba9-442f-bafb-43ce3aa80212",
   "metadata": {},
   "source": [
    "&emsp;&emsp;接下来对离散变量进行字典编码，即将object对象类型按照sort顺序进行数值化（整数）编码。例如原始category_1取值为Y/N，通过sort排序后N在Y之前，因此在重新编码时N取值会重编码为0、Y取值会重编码为1。以此类推。"
   ]
  },
  {
   "cell_type": "markdown",
   "id": "26a59fd4-9a6f-4983-a89d-b39b1c1ea86c",
   "metadata": {},
   "source": [
    "&emsp;&emsp;需要注意的是，从严格角度来说，变量类型应该是有三类，分别是连续性变量、名义型变量以及有序变量。连续变量较好理解，所谓名义变量，指的是没有数值大小意义的分类变量，例如用1表示女、0表示男，0、1只是作为性别的指代，而没有1>0的含义。而所有有序变量，其也是离散型变量，但却有数值大小含义，如上述most_recent_purchases_range字段，销售等级中A>B>C>D>E，该离散变量的5个取值水平是有严格大小意义的，该变量就被称为有序变量。"
   ]
  },
  {
   "cell_type": "markdown",
   "id": "e31864b6-2d63-4ab9-9f9b-0c721e74e768",
   "metadata": {},
   "source": [
    "&emsp;&emsp;在实际建模过程中，如果不需要提取有序变量的数值大小信息的话，可以考虑将其和名义变量一样进行独热编码。但本阶段初级预处理时暂时不考虑这些问题，先统一将object类型转化为数值型。"
   ]
  },
  {
   "cell_type": "code",
   "execution_count": 139,
   "id": "b226d1b0-f27a-46c3-95e5-96a1c7a9b570",
   "metadata": {},
   "outputs": [],
   "source": [
    "# 字典编码函数\n",
    "def change_object_cols(se):\n",
    "    value = se.unique().tolist()\n",
    "    value.sort()\n",
    "    return se.map(pd.Series(range(len(value)), index=value)).values"
   ]
  },
  {
   "cell_type": "markdown",
   "id": "ac0b41ee-42e5-4481-8912-b5656831b437",
   "metadata": {},
   "source": [
    "简单测试函数效果："
   ]
  },
  {
   "cell_type": "code",
   "execution_count": 143,
   "id": "77d42b37-0adf-4210-97a4-55593391f516",
   "metadata": {},
   "outputs": [
    {
     "data": {
      "text/plain": [
       "0         N\n",
       "1         N\n",
       "2         N\n",
       "3         Y\n",
       "4         Y\n",
       "         ..\n",
       "334691    N\n",
       "334692    Y\n",
       "334693    N\n",
       "334694    Y\n",
       "334695    N\n",
       "Name: category_1, Length: 334696, dtype: object"
      ]
     },
     "execution_count": 143,
     "metadata": {},
     "output_type": "execute_result"
    }
   ],
   "source": [
    "merchant['category_1']"
   ]
  },
  {
   "cell_type": "code",
   "execution_count": 144,
   "id": "c782ed4a-bc4b-4e02-bba8-77879b629f71",
   "metadata": {},
   "outputs": [
    {
     "data": {
      "text/plain": [
       "array([0, 0, 0, ..., 0, 1, 0], dtype=int64)"
      ]
     },
     "execution_count": 144,
     "metadata": {},
     "output_type": "execute_result"
    }
   ],
   "source": [
    "change_object_cols(merchant['category_1'])"
   ]
  },
  {
   "cell_type": "markdown",
   "id": "d158f4c4-225e-4723-919b-5a74eb716700",
   "metadata": {},
   "source": [
    "接下来，对merchant对象中的四个object类型列进行类别转化："
   ]
  },
  {
   "cell_type": "code",
   "execution_count": 145,
   "id": "4d8137b8-d079-418c-9e45-e40a657b2aa7",
   "metadata": {},
   "outputs": [],
   "source": [
    "for col in ['category_1', 'most_recent_sales_range', 'most_recent_purchases_range', 'category_4']:\n",
    "    merchant[col] = change_object_cols(merchant[col])"
   ]
  },
  {
   "cell_type": "markdown",
   "id": "b75c31d8-4da8-46a0-92d7-354565feb7b3",
   "metadata": {},
   "source": [
    "- 连续变量的数据探索"
   ]
  },
  {
   "cell_type": "markdown",
   "id": "61bf8d00-4ac9-4cf5-9dfd-8f68faf97a71",
   "metadata": {},
   "source": [
    "&emsp;&emsp;接下来，我们继续探索连续变量"
   ]
  },
  {
   "cell_type": "code",
   "execution_count": 151,
   "id": "60e297da-715c-4f87-a128-7853d9baf22b",
   "metadata": {},
   "outputs": [
    {
     "data": {
      "text/plain": [
       "numerical_1            float64\n",
       "numerical_2            float64\n",
       "avg_sales_lag3         float64\n",
       "avg_purchases_lag3     float64\n",
       "active_months_lag3       int64\n",
       "avg_sales_lag6         float64\n",
       "avg_purchases_lag6     float64\n",
       "active_months_lag6       int64\n",
       "avg_sales_lag12        float64\n",
       "avg_purchases_lag12    float64\n",
       "active_months_lag12      int64\n",
       "dtype: object"
      ]
     },
     "execution_count": 151,
     "metadata": {},
     "output_type": "execute_result"
    }
   ],
   "source": [
    "# 查看连续变量的类别\n",
    "merchant[numeric_cols].dtypes"
   ]
  },
  {
   "cell_type": "code",
   "execution_count": 155,
   "id": "33516fa2-e820-4706-bee4-7212b2348876",
   "metadata": {},
   "outputs": [
    {
     "data": {
      "text/plain": [
       "numerical_1             0\n",
       "numerical_2             0\n",
       "avg_sales_lag3         13\n",
       "avg_purchases_lag3      0\n",
       "active_months_lag3      0\n",
       "avg_sales_lag6         13\n",
       "avg_purchases_lag6      0\n",
       "active_months_lag6      0\n",
       "avg_sales_lag12        13\n",
       "avg_purchases_lag12     0\n",
       "active_months_lag12     0\n",
       "dtype: int64"
      ]
     },
     "execution_count": 155,
     "metadata": {},
     "output_type": "execute_result"
    }
   ],
   "source": [
    "# 连续变量的缺失值情况\n",
    "merchant[numeric_cols].isnull().sum()"
   ]
  },
  {
   "cell_type": "code",
   "execution_count": 156,
   "id": "c669b86f-88e6-4209-9f24-5e4f50014876",
   "metadata": {},
   "outputs": [
    {
     "data": {
      "text/html": [
       "<div>\n",
       "<style scoped>\n",
       "    .dataframe tbody tr th:only-of-type {\n",
       "        vertical-align: middle;\n",
       "    }\n",
       "\n",
       "    .dataframe tbody tr th {\n",
       "        vertical-align: top;\n",
       "    }\n",
       "\n",
       "    .dataframe thead th {\n",
       "        text-align: right;\n",
       "    }\n",
       "</style>\n",
       "<table border=\"1\" class=\"dataframe\">\n",
       "  <thead>\n",
       "    <tr style=\"text-align: right;\">\n",
       "      <th></th>\n",
       "      <th>numerical_1</th>\n",
       "      <th>numerical_2</th>\n",
       "      <th>avg_sales_lag3</th>\n",
       "      <th>avg_purchases_lag3</th>\n",
       "      <th>active_months_lag3</th>\n",
       "      <th>avg_sales_lag6</th>\n",
       "      <th>avg_purchases_lag6</th>\n",
       "      <th>active_months_lag6</th>\n",
       "      <th>avg_sales_lag12</th>\n",
       "      <th>avg_purchases_lag12</th>\n",
       "      <th>active_months_lag12</th>\n",
       "    </tr>\n",
       "  </thead>\n",
       "  <tbody>\n",
       "    <tr>\n",
       "      <th>count</th>\n",
       "      <td>334696.000000</td>\n",
       "      <td>334696.000000</td>\n",
       "      <td>334683.000000</td>\n",
       "      <td>3.346960e+05</td>\n",
       "      <td>334696.000000</td>\n",
       "      <td>3.346830e+05</td>\n",
       "      <td>3.346960e+05</td>\n",
       "      <td>334696.000000</td>\n",
       "      <td>3.346830e+05</td>\n",
       "      <td>3.346960e+05</td>\n",
       "      <td>334696.000000</td>\n",
       "    </tr>\n",
       "    <tr>\n",
       "      <th>mean</th>\n",
       "      <td>0.011476</td>\n",
       "      <td>0.008103</td>\n",
       "      <td>13.832993</td>\n",
       "      <td>inf</td>\n",
       "      <td>2.994108</td>\n",
       "      <td>2.165079e+01</td>\n",
       "      <td>inf</td>\n",
       "      <td>5.947397</td>\n",
       "      <td>2.522771e+01</td>\n",
       "      <td>inf</td>\n",
       "      <td>11.599335</td>\n",
       "    </tr>\n",
       "    <tr>\n",
       "      <th>std</th>\n",
       "      <td>1.098154</td>\n",
       "      <td>1.070497</td>\n",
       "      <td>2395.489999</td>\n",
       "      <td>NaN</td>\n",
       "      <td>0.095247</td>\n",
       "      <td>3.947108e+03</td>\n",
       "      <td>NaN</td>\n",
       "      <td>0.394936</td>\n",
       "      <td>5.251842e+03</td>\n",
       "      <td>NaN</td>\n",
       "      <td>1.520138</td>\n",
       "    </tr>\n",
       "    <tr>\n",
       "      <th>min</th>\n",
       "      <td>-0.057471</td>\n",
       "      <td>-0.057471</td>\n",
       "      <td>-82.130000</td>\n",
       "      <td>3.334953e-01</td>\n",
       "      <td>1.000000</td>\n",
       "      <td>-8.213000e+01</td>\n",
       "      <td>1.670447e-01</td>\n",
       "      <td>1.000000</td>\n",
       "      <td>-8.213000e+01</td>\n",
       "      <td>9.832954e-02</td>\n",
       "      <td>1.000000</td>\n",
       "    </tr>\n",
       "    <tr>\n",
       "      <th>25%</th>\n",
       "      <td>-0.057471</td>\n",
       "      <td>-0.057471</td>\n",
       "      <td>0.880000</td>\n",
       "      <td>9.236499e-01</td>\n",
       "      <td>3.000000</td>\n",
       "      <td>8.500000e-01</td>\n",
       "      <td>9.022475e-01</td>\n",
       "      <td>6.000000</td>\n",
       "      <td>8.500000e-01</td>\n",
       "      <td>8.983333e-01</td>\n",
       "      <td>12.000000</td>\n",
       "    </tr>\n",
       "    <tr>\n",
       "      <th>50%</th>\n",
       "      <td>-0.057471</td>\n",
       "      <td>-0.057471</td>\n",
       "      <td>1.000000</td>\n",
       "      <td>1.016667e+00</td>\n",
       "      <td>3.000000</td>\n",
       "      <td>1.010000e+00</td>\n",
       "      <td>1.026961e+00</td>\n",
       "      <td>6.000000</td>\n",
       "      <td>1.020000e+00</td>\n",
       "      <td>1.043361e+00</td>\n",
       "      <td>12.000000</td>\n",
       "    </tr>\n",
       "    <tr>\n",
       "      <th>75%</th>\n",
       "      <td>-0.047556</td>\n",
       "      <td>-0.047556</td>\n",
       "      <td>1.160000</td>\n",
       "      <td>1.146522e+00</td>\n",
       "      <td>3.000000</td>\n",
       "      <td>1.230000e+00</td>\n",
       "      <td>1.215575e+00</td>\n",
       "      <td>6.000000</td>\n",
       "      <td>1.290000e+00</td>\n",
       "      <td>1.266480e+00</td>\n",
       "      <td>12.000000</td>\n",
       "    </tr>\n",
       "    <tr>\n",
       "      <th>max</th>\n",
       "      <td>183.735111</td>\n",
       "      <td>182.079322</td>\n",
       "      <td>851844.640000</td>\n",
       "      <td>inf</td>\n",
       "      <td>3.000000</td>\n",
       "      <td>1.513959e+06</td>\n",
       "      <td>inf</td>\n",
       "      <td>6.000000</td>\n",
       "      <td>2.567408e+06</td>\n",
       "      <td>inf</td>\n",
       "      <td>12.000000</td>\n",
       "    </tr>\n",
       "  </tbody>\n",
       "</table>\n",
       "</div>"
      ],
      "text/plain": [
       "         numerical_1    numerical_2  avg_sales_lag3  avg_purchases_lag3  \\\n",
       "count  334696.000000  334696.000000   334683.000000        3.346960e+05   \n",
       "mean        0.011476       0.008103       13.832993                 inf   \n",
       "std         1.098154       1.070497     2395.489999                 NaN   \n",
       "min        -0.057471      -0.057471      -82.130000        3.334953e-01   \n",
       "25%        -0.057471      -0.057471        0.880000        9.236499e-01   \n",
       "50%        -0.057471      -0.057471        1.000000        1.016667e+00   \n",
       "75%        -0.047556      -0.047556        1.160000        1.146522e+00   \n",
       "max       183.735111     182.079322   851844.640000                 inf   \n",
       "\n",
       "       active_months_lag3  avg_sales_lag6  avg_purchases_lag6  \\\n",
       "count       334696.000000    3.346830e+05        3.346960e+05   \n",
       "mean             2.994108    2.165079e+01                 inf   \n",
       "std              0.095247    3.947108e+03                 NaN   \n",
       "min              1.000000   -8.213000e+01        1.670447e-01   \n",
       "25%              3.000000    8.500000e-01        9.022475e-01   \n",
       "50%              3.000000    1.010000e+00        1.026961e+00   \n",
       "75%              3.000000    1.230000e+00        1.215575e+00   \n",
       "max              3.000000    1.513959e+06                 inf   \n",
       "\n",
       "       active_months_lag6  avg_sales_lag12  avg_purchases_lag12  \\\n",
       "count       334696.000000     3.346830e+05         3.346960e+05   \n",
       "mean             5.947397     2.522771e+01                  inf   \n",
       "std              0.394936     5.251842e+03                  NaN   \n",
       "min              1.000000    -8.213000e+01         9.832954e-02   \n",
       "25%              6.000000     8.500000e-01         8.983333e-01   \n",
       "50%              6.000000     1.020000e+00         1.043361e+00   \n",
       "75%              6.000000     1.290000e+00         1.266480e+00   \n",
       "max              6.000000     2.567408e+06                  inf   \n",
       "\n",
       "       active_months_lag12  \n",
       "count        334696.000000  \n",
       "mean             11.599335  \n",
       "std               1.520138  \n",
       "min               1.000000  \n",
       "25%              12.000000  \n",
       "50%              12.000000  \n",
       "75%              12.000000  \n",
       "max              12.000000  "
      ]
     },
     "execution_count": 156,
     "metadata": {},
     "output_type": "execute_result"
    }
   ],
   "source": [
    "# 查看连续变量整体情况\n",
    "merchant[numeric_cols].describe()"
   ]
  },
  {
   "cell_type": "markdown",
   "id": "4c721b5b-e605-4606-82eb-5b5f0c0578ea",
   "metadata": {},
   "source": [
    "据此我们发现连续型变量中存在部分缺失值，并且部分连续变量还存在无穷值inf，需要对其进行简单处理。"
   ]
  },
  {
   "cell_type": "markdown",
   "id": "f6ccbd22-382d-4cb0-bafb-ec70272910aa",
   "metadata": {},
   "source": [
    "- 无穷值处理"
   ]
  },
  {
   "cell_type": "markdown",
   "id": "2fdf8e41-3c73-48db-96b1-24e0579d38c1",
   "metadata": {},
   "source": [
    "&emsp;&emsp;此处我们首先需要对无穷值进行处理。此处我们采用类似天花板盖帽法的方式对其进行修改，即将inf改为最大的显式数值。代码实现流程如下："
   ]
  },
  {
   "cell_type": "code",
   "execution_count": 159,
   "id": "bbe2ee28-f252-4130-8fc6-9cce4620a623",
   "metadata": {},
   "outputs": [],
   "source": [
    "inf_cols = ['avg_purchases_lag3', 'avg_purchases_lag6', 'avg_purchases_lag12']\n",
    "merchant[inf_cols] = merchant[inf_cols].replace(np.inf, merchant[inf_cols].replace(np.inf, -99).max().max())"
   ]
  },
  {
   "cell_type": "code",
   "execution_count": 160,
   "id": "55ca2a74-950f-40a5-bea4-a8f47d8a96e7",
   "metadata": {},
   "outputs": [
    {
     "data": {
      "text/html": [
       "<div>\n",
       "<style scoped>\n",
       "    .dataframe tbody tr th:only-of-type {\n",
       "        vertical-align: middle;\n",
       "    }\n",
       "\n",
       "    .dataframe tbody tr th {\n",
       "        vertical-align: top;\n",
       "    }\n",
       "\n",
       "    .dataframe thead th {\n",
       "        text-align: right;\n",
       "    }\n",
       "</style>\n",
       "<table border=\"1\" class=\"dataframe\">\n",
       "  <thead>\n",
       "    <tr style=\"text-align: right;\">\n",
       "      <th></th>\n",
       "      <th>numerical_1</th>\n",
       "      <th>numerical_2</th>\n",
       "      <th>avg_sales_lag3</th>\n",
       "      <th>avg_purchases_lag3</th>\n",
       "      <th>active_months_lag3</th>\n",
       "      <th>avg_sales_lag6</th>\n",
       "      <th>avg_purchases_lag6</th>\n",
       "      <th>active_months_lag6</th>\n",
       "      <th>avg_sales_lag12</th>\n",
       "      <th>avg_purchases_lag12</th>\n",
       "      <th>active_months_lag12</th>\n",
       "    </tr>\n",
       "  </thead>\n",
       "  <tbody>\n",
       "    <tr>\n",
       "      <th>count</th>\n",
       "      <td>334696.000000</td>\n",
       "      <td>334696.000000</td>\n",
       "      <td>334683.000000</td>\n",
       "      <td>334696.000000</td>\n",
       "      <td>334696.000000</td>\n",
       "      <td>3.346830e+05</td>\n",
       "      <td>334696.000000</td>\n",
       "      <td>334696.000000</td>\n",
       "      <td>3.346830e+05</td>\n",
       "      <td>334696.000000</td>\n",
       "      <td>334696.000000</td>\n",
       "    </tr>\n",
       "    <tr>\n",
       "      <th>mean</th>\n",
       "      <td>0.011476</td>\n",
       "      <td>0.008103</td>\n",
       "      <td>13.832993</td>\n",
       "      <td>2.145143</td>\n",
       "      <td>2.994108</td>\n",
       "      <td>2.165079e+01</td>\n",
       "      <td>2.441947</td>\n",
       "      <td>5.947397</td>\n",
       "      <td>2.522771e+01</td>\n",
       "      <td>2.633572</td>\n",
       "      <td>11.599335</td>\n",
       "    </tr>\n",
       "    <tr>\n",
       "      <th>std</th>\n",
       "      <td>1.098154</td>\n",
       "      <td>1.070497</td>\n",
       "      <td>2395.489999</td>\n",
       "      <td>213.955844</td>\n",
       "      <td>0.095247</td>\n",
       "      <td>3.947108e+03</td>\n",
       "      <td>209.439373</td>\n",
       "      <td>0.394936</td>\n",
       "      <td>5.251842e+03</td>\n",
       "      <td>205.206198</td>\n",
       "      <td>1.520138</td>\n",
       "    </tr>\n",
       "    <tr>\n",
       "      <th>min</th>\n",
       "      <td>-0.057471</td>\n",
       "      <td>-0.057471</td>\n",
       "      <td>-82.130000</td>\n",
       "      <td>0.333495</td>\n",
       "      <td>1.000000</td>\n",
       "      <td>-8.213000e+01</td>\n",
       "      <td>0.167045</td>\n",
       "      <td>1.000000</td>\n",
       "      <td>-8.213000e+01</td>\n",
       "      <td>0.098330</td>\n",
       "      <td>1.000000</td>\n",
       "    </tr>\n",
       "    <tr>\n",
       "      <th>25%</th>\n",
       "      <td>-0.057471</td>\n",
       "      <td>-0.057471</td>\n",
       "      <td>0.880000</td>\n",
       "      <td>0.923650</td>\n",
       "      <td>3.000000</td>\n",
       "      <td>8.500000e-01</td>\n",
       "      <td>0.902247</td>\n",
       "      <td>6.000000</td>\n",
       "      <td>8.500000e-01</td>\n",
       "      <td>0.898333</td>\n",
       "      <td>12.000000</td>\n",
       "    </tr>\n",
       "    <tr>\n",
       "      <th>50%</th>\n",
       "      <td>-0.057471</td>\n",
       "      <td>-0.057471</td>\n",
       "      <td>1.000000</td>\n",
       "      <td>1.016667</td>\n",
       "      <td>3.000000</td>\n",
       "      <td>1.010000e+00</td>\n",
       "      <td>1.026961</td>\n",
       "      <td>6.000000</td>\n",
       "      <td>1.020000e+00</td>\n",
       "      <td>1.043361</td>\n",
       "      <td>12.000000</td>\n",
       "    </tr>\n",
       "    <tr>\n",
       "      <th>75%</th>\n",
       "      <td>-0.047556</td>\n",
       "      <td>-0.047556</td>\n",
       "      <td>1.160000</td>\n",
       "      <td>1.146522</td>\n",
       "      <td>3.000000</td>\n",
       "      <td>1.230000e+00</td>\n",
       "      <td>1.215575</td>\n",
       "      <td>6.000000</td>\n",
       "      <td>1.290000e+00</td>\n",
       "      <td>1.266480</td>\n",
       "      <td>12.000000</td>\n",
       "    </tr>\n",
       "    <tr>\n",
       "      <th>max</th>\n",
       "      <td>183.735111</td>\n",
       "      <td>182.079322</td>\n",
       "      <td>851844.640000</td>\n",
       "      <td>61851.333333</td>\n",
       "      <td>3.000000</td>\n",
       "      <td>1.513959e+06</td>\n",
       "      <td>61851.333333</td>\n",
       "      <td>6.000000</td>\n",
       "      <td>2.567408e+06</td>\n",
       "      <td>61851.333333</td>\n",
       "      <td>12.000000</td>\n",
       "    </tr>\n",
       "  </tbody>\n",
       "</table>\n",
       "</div>"
      ],
      "text/plain": [
       "         numerical_1    numerical_2  avg_sales_lag3  avg_purchases_lag3  \\\n",
       "count  334696.000000  334696.000000   334683.000000       334696.000000   \n",
       "mean        0.011476       0.008103       13.832993            2.145143   \n",
       "std         1.098154       1.070497     2395.489999          213.955844   \n",
       "min        -0.057471      -0.057471      -82.130000            0.333495   \n",
       "25%        -0.057471      -0.057471        0.880000            0.923650   \n",
       "50%        -0.057471      -0.057471        1.000000            1.016667   \n",
       "75%        -0.047556      -0.047556        1.160000            1.146522   \n",
       "max       183.735111     182.079322   851844.640000        61851.333333   \n",
       "\n",
       "       active_months_lag3  avg_sales_lag6  avg_purchases_lag6  \\\n",
       "count       334696.000000    3.346830e+05       334696.000000   \n",
       "mean             2.994108    2.165079e+01            2.441947   \n",
       "std              0.095247    3.947108e+03          209.439373   \n",
       "min              1.000000   -8.213000e+01            0.167045   \n",
       "25%              3.000000    8.500000e-01            0.902247   \n",
       "50%              3.000000    1.010000e+00            1.026961   \n",
       "75%              3.000000    1.230000e+00            1.215575   \n",
       "max              3.000000    1.513959e+06        61851.333333   \n",
       "\n",
       "       active_months_lag6  avg_sales_lag12  avg_purchases_lag12  \\\n",
       "count       334696.000000     3.346830e+05        334696.000000   \n",
       "mean             5.947397     2.522771e+01             2.633572   \n",
       "std              0.394936     5.251842e+03           205.206198   \n",
       "min              1.000000    -8.213000e+01             0.098330   \n",
       "25%              6.000000     8.500000e-01             0.898333   \n",
       "50%              6.000000     1.020000e+00             1.043361   \n",
       "75%              6.000000     1.290000e+00             1.266480   \n",
       "max              6.000000     2.567408e+06         61851.333333   \n",
       "\n",
       "       active_months_lag12  \n",
       "count        334696.000000  \n",
       "mean             11.599335  \n",
       "std               1.520138  \n",
       "min               1.000000  \n",
       "25%              12.000000  \n",
       "50%              12.000000  \n",
       "75%              12.000000  \n",
       "max              12.000000  "
      ]
     },
     "execution_count": 160,
     "metadata": {},
     "output_type": "execute_result"
    }
   ],
   "source": [
    "merchant[numeric_cols].describe()"
   ]
  },
  {
   "cell_type": "markdown",
   "id": "092db48b-9d53-4969-a193-9dec672c8ae4",
   "metadata": {},
   "source": [
    "- 缺失值处理"
   ]
  },
  {
   "cell_type": "markdown",
   "id": "ded36a33-3b8f-4906-9561-3b735c726c9f",
   "metadata": {},
   "source": [
    "&emsp;&emsp;不同于无穷值的处理，缺失值处理方法有很多。但该数据集缺失数据较少，33万条数据中只有13条连续特征缺失值，此处我们先简单采用均值进行填补处理，后续若有需要再进行优化处理。"
   ]
  },
  {
   "cell_type": "code",
   "execution_count": 161,
   "id": "126b8385-3d01-46ce-a465-2d617e3a39a4",
   "metadata": {},
   "outputs": [],
   "source": [
    "for col in numeric_cols:\n",
    "    merchant[col] = merchant[col].fillna(merchant[col].mean())"
   ]
  },
  {
   "cell_type": "code",
   "execution_count": 162,
   "id": "0454e356-4dd7-4f29-b8c9-23aab1329992",
   "metadata": {},
   "outputs": [
    {
     "data": {
      "text/html": [
       "<div>\n",
       "<style scoped>\n",
       "    .dataframe tbody tr th:only-of-type {\n",
       "        vertical-align: middle;\n",
       "    }\n",
       "\n",
       "    .dataframe tbody tr th {\n",
       "        vertical-align: top;\n",
       "    }\n",
       "\n",
       "    .dataframe thead th {\n",
       "        text-align: right;\n",
       "    }\n",
       "</style>\n",
       "<table border=\"1\" class=\"dataframe\">\n",
       "  <thead>\n",
       "    <tr style=\"text-align: right;\">\n",
       "      <th></th>\n",
       "      <th>numerical_1</th>\n",
       "      <th>numerical_2</th>\n",
       "      <th>avg_sales_lag3</th>\n",
       "      <th>avg_purchases_lag3</th>\n",
       "      <th>active_months_lag3</th>\n",
       "      <th>avg_sales_lag6</th>\n",
       "      <th>avg_purchases_lag6</th>\n",
       "      <th>active_months_lag6</th>\n",
       "      <th>avg_sales_lag12</th>\n",
       "      <th>avg_purchases_lag12</th>\n",
       "      <th>active_months_lag12</th>\n",
       "    </tr>\n",
       "  </thead>\n",
       "  <tbody>\n",
       "    <tr>\n",
       "      <th>count</th>\n",
       "      <td>334696.000000</td>\n",
       "      <td>334696.000000</td>\n",
       "      <td>334696.000000</td>\n",
       "      <td>334696.000000</td>\n",
       "      <td>334696.000000</td>\n",
       "      <td>3.346960e+05</td>\n",
       "      <td>334696.000000</td>\n",
       "      <td>334696.000000</td>\n",
       "      <td>3.346960e+05</td>\n",
       "      <td>334696.000000</td>\n",
       "      <td>334696.000000</td>\n",
       "    </tr>\n",
       "    <tr>\n",
       "      <th>mean</th>\n",
       "      <td>0.011476</td>\n",
       "      <td>0.008103</td>\n",
       "      <td>13.832993</td>\n",
       "      <td>2.145143</td>\n",
       "      <td>2.994108</td>\n",
       "      <td>2.165079e+01</td>\n",
       "      <td>2.441947</td>\n",
       "      <td>5.947397</td>\n",
       "      <td>2.522771e+01</td>\n",
       "      <td>2.633572</td>\n",
       "      <td>11.599335</td>\n",
       "    </tr>\n",
       "    <tr>\n",
       "      <th>std</th>\n",
       "      <td>1.098154</td>\n",
       "      <td>1.070497</td>\n",
       "      <td>2395.443476</td>\n",
       "      <td>213.955844</td>\n",
       "      <td>0.095247</td>\n",
       "      <td>3.947031e+03</td>\n",
       "      <td>209.439373</td>\n",
       "      <td>0.394936</td>\n",
       "      <td>5.251740e+03</td>\n",
       "      <td>205.206198</td>\n",
       "      <td>1.520138</td>\n",
       "    </tr>\n",
       "    <tr>\n",
       "      <th>min</th>\n",
       "      <td>-0.057471</td>\n",
       "      <td>-0.057471</td>\n",
       "      <td>-82.130000</td>\n",
       "      <td>0.333495</td>\n",
       "      <td>1.000000</td>\n",
       "      <td>-8.213000e+01</td>\n",
       "      <td>0.167045</td>\n",
       "      <td>1.000000</td>\n",
       "      <td>-8.213000e+01</td>\n",
       "      <td>0.098330</td>\n",
       "      <td>1.000000</td>\n",
       "    </tr>\n",
       "    <tr>\n",
       "      <th>25%</th>\n",
       "      <td>-0.057471</td>\n",
       "      <td>-0.057471</td>\n",
       "      <td>0.880000</td>\n",
       "      <td>0.923650</td>\n",
       "      <td>3.000000</td>\n",
       "      <td>8.500000e-01</td>\n",
       "      <td>0.902247</td>\n",
       "      <td>6.000000</td>\n",
       "      <td>8.500000e-01</td>\n",
       "      <td>0.898333</td>\n",
       "      <td>12.000000</td>\n",
       "    </tr>\n",
       "    <tr>\n",
       "      <th>50%</th>\n",
       "      <td>-0.057471</td>\n",
       "      <td>-0.057471</td>\n",
       "      <td>1.000000</td>\n",
       "      <td>1.016667</td>\n",
       "      <td>3.000000</td>\n",
       "      <td>1.010000e+00</td>\n",
       "      <td>1.026961</td>\n",
       "      <td>6.000000</td>\n",
       "      <td>1.020000e+00</td>\n",
       "      <td>1.043361</td>\n",
       "      <td>12.000000</td>\n",
       "    </tr>\n",
       "    <tr>\n",
       "      <th>75%</th>\n",
       "      <td>-0.047556</td>\n",
       "      <td>-0.047556</td>\n",
       "      <td>1.160000</td>\n",
       "      <td>1.146522</td>\n",
       "      <td>3.000000</td>\n",
       "      <td>1.230000e+00</td>\n",
       "      <td>1.215575</td>\n",
       "      <td>6.000000</td>\n",
       "      <td>1.290000e+00</td>\n",
       "      <td>1.266480</td>\n",
       "      <td>12.000000</td>\n",
       "    </tr>\n",
       "    <tr>\n",
       "      <th>max</th>\n",
       "      <td>183.735111</td>\n",
       "      <td>182.079322</td>\n",
       "      <td>851844.640000</td>\n",
       "      <td>61851.333333</td>\n",
       "      <td>3.000000</td>\n",
       "      <td>1.513959e+06</td>\n",
       "      <td>61851.333333</td>\n",
       "      <td>6.000000</td>\n",
       "      <td>2.567408e+06</td>\n",
       "      <td>61851.333333</td>\n",
       "      <td>12.000000</td>\n",
       "    </tr>\n",
       "  </tbody>\n",
       "</table>\n",
       "</div>"
      ],
      "text/plain": [
       "         numerical_1    numerical_2  avg_sales_lag3  avg_purchases_lag3  \\\n",
       "count  334696.000000  334696.000000   334696.000000       334696.000000   \n",
       "mean        0.011476       0.008103       13.832993            2.145143   \n",
       "std         1.098154       1.070497     2395.443476          213.955844   \n",
       "min        -0.057471      -0.057471      -82.130000            0.333495   \n",
       "25%        -0.057471      -0.057471        0.880000            0.923650   \n",
       "50%        -0.057471      -0.057471        1.000000            1.016667   \n",
       "75%        -0.047556      -0.047556        1.160000            1.146522   \n",
       "max       183.735111     182.079322   851844.640000        61851.333333   \n",
       "\n",
       "       active_months_lag3  avg_sales_lag6  avg_purchases_lag6  \\\n",
       "count       334696.000000    3.346960e+05       334696.000000   \n",
       "mean             2.994108    2.165079e+01            2.441947   \n",
       "std              0.095247    3.947031e+03          209.439373   \n",
       "min              1.000000   -8.213000e+01            0.167045   \n",
       "25%              3.000000    8.500000e-01            0.902247   \n",
       "50%              3.000000    1.010000e+00            1.026961   \n",
       "75%              3.000000    1.230000e+00            1.215575   \n",
       "max              3.000000    1.513959e+06        61851.333333   \n",
       "\n",
       "       active_months_lag6  avg_sales_lag12  avg_purchases_lag12  \\\n",
       "count       334696.000000     3.346960e+05        334696.000000   \n",
       "mean             5.947397     2.522771e+01             2.633572   \n",
       "std              0.394936     5.251740e+03           205.206198   \n",
       "min              1.000000    -8.213000e+01             0.098330   \n",
       "25%              6.000000     8.500000e-01             0.898333   \n",
       "50%              6.000000     1.020000e+00             1.043361   \n",
       "75%              6.000000     1.290000e+00             1.266480   \n",
       "max              6.000000     2.567408e+06         61851.333333   \n",
       "\n",
       "       active_months_lag12  \n",
       "count        334696.000000  \n",
       "mean             11.599335  \n",
       "std               1.520138  \n",
       "min               1.000000  \n",
       "25%              12.000000  \n",
       "50%              12.000000  \n",
       "75%              12.000000  \n",
       "max              12.000000  "
      ]
     },
     "execution_count": 162,
     "metadata": {},
     "output_type": "execute_result"
    }
   ],
   "source": [
    "merchant[numeric_cols].describe()"
   ]
  },
  {
   "cell_type": "markdown",
   "id": "4381b7d0-0728-4fe7-ab30-72378d767681",
   "metadata": {},
   "source": [
    "至此我们就完成了商户数据的预处理工作。"
   ]
  },
  {
   "cell_type": "markdown",
   "id": "a5cb3e0d-b796-4644-85d8-f914e4ea1372",
   "metadata": {},
   "source": [
    "## 二、信用卡交易数据解读与探索"
   ]
  },
  {
   "cell_type": "markdown",
   "id": "a91a21ed-24d7-4e27-affb-0411ae210743",
   "metadata": {},
   "source": [
    "&emsp;&emsp;接下来对信用卡交易数据进行解读与探索。交易数据是本次竞赛中给出的规模最大、同时也是信息量最大的数据集，在后续建模过程中将发挥至关重要的作用。"
   ]
  },
  {
   "cell_type": "markdown",
   "id": "f3b82897-d95e-44a3-a538-e17e5b114260",
   "metadata": {},
   "source": [
    "### 1.数据解读与验证"
   ]
  },
  {
   "cell_type": "markdown",
   "id": "54391bcd-29b6-4311-9621-6fb5d2c55d1b",
   "metadata": {},
   "source": [
    "&emsp;&emsp;首先还是对数据集进行解释，以及简单验证数据集的正确性。信用卡交易记录包括了两个数据集，分别是historical_transactions和new_merchant_transactions。两个数据集字段类似，只是记录了不同时间区间的信用卡消费情况："
   ]
  },
  {
   "cell_type": "markdown",
   "id": "7b68f268-5de7-4bda-8ffd-d012ea06857d",
   "metadata": {},
   "source": [
    "- historical_transactions：信用卡消费记录"
   ]
  },
  {
   "cell_type": "markdown",
   "id": "2986fbf7-dad3-4136-bae0-81b9d9e7b666",
   "metadata": {},
   "source": [
    "&emsp;&emsp;该数据集记录了每张信用卡在特定商户中、三个月间的消费记录。该数据集数据规模较大，文件约有2.6G，并非必要建模字段，但若能从中提取有效信息，则能够更好的辅助建模。"
   ]
  },
  {
   "cell_type": "code",
   "execution_count": 163,
   "id": "b1b67369-8754-4f9f-a9cf-0a7e0e2d6075",
   "metadata": {},
   "outputs": [],
   "source": [
    "history_transaction = pd.read_csv('./eloData/historical_transactions.csv', header=0)"
   ]
  },
  {
   "cell_type": "code",
   "execution_count": 164,
   "id": "169907fd-5807-41ff-97ca-fc454d8045d7",
   "metadata": {},
   "outputs": [
    {
     "data": {
      "text/html": [
       "<div>\n",
       "<style scoped>\n",
       "    .dataframe tbody tr th:only-of-type {\n",
       "        vertical-align: middle;\n",
       "    }\n",
       "\n",
       "    .dataframe tbody tr th {\n",
       "        vertical-align: top;\n",
       "    }\n",
       "\n",
       "    .dataframe thead th {\n",
       "        text-align: right;\n",
       "    }\n",
       "</style>\n",
       "<table border=\"1\" class=\"dataframe\">\n",
       "  <thead>\n",
       "    <tr style=\"text-align: right;\">\n",
       "      <th></th>\n",
       "      <th>authorized_flag</th>\n",
       "      <th>card_id</th>\n",
       "      <th>city_id</th>\n",
       "      <th>category_1</th>\n",
       "      <th>installments</th>\n",
       "      <th>category_3</th>\n",
       "      <th>merchant_category_id</th>\n",
       "      <th>merchant_id</th>\n",
       "      <th>month_lag</th>\n",
       "      <th>purchase_amount</th>\n",
       "      <th>purchase_date</th>\n",
       "      <th>category_2</th>\n",
       "      <th>state_id</th>\n",
       "      <th>subsector_id</th>\n",
       "    </tr>\n",
       "  </thead>\n",
       "  <tbody>\n",
       "    <tr>\n",
       "      <th>0</th>\n",
       "      <td>Y</td>\n",
       "      <td>C_ID_4e6213e9bc</td>\n",
       "      <td>88</td>\n",
       "      <td>N</td>\n",
       "      <td>0</td>\n",
       "      <td>A</td>\n",
       "      <td>80</td>\n",
       "      <td>M_ID_e020e9b302</td>\n",
       "      <td>-8</td>\n",
       "      <td>-0.703331</td>\n",
       "      <td>2017-06-25 15:33:07</td>\n",
       "      <td>1.0</td>\n",
       "      <td>16</td>\n",
       "      <td>37</td>\n",
       "    </tr>\n",
       "    <tr>\n",
       "      <th>1</th>\n",
       "      <td>Y</td>\n",
       "      <td>C_ID_4e6213e9bc</td>\n",
       "      <td>88</td>\n",
       "      <td>N</td>\n",
       "      <td>0</td>\n",
       "      <td>A</td>\n",
       "      <td>367</td>\n",
       "      <td>M_ID_86ec983688</td>\n",
       "      <td>-7</td>\n",
       "      <td>-0.733128</td>\n",
       "      <td>2017-07-15 12:10:45</td>\n",
       "      <td>1.0</td>\n",
       "      <td>16</td>\n",
       "      <td>16</td>\n",
       "    </tr>\n",
       "    <tr>\n",
       "      <th>2</th>\n",
       "      <td>Y</td>\n",
       "      <td>C_ID_4e6213e9bc</td>\n",
       "      <td>88</td>\n",
       "      <td>N</td>\n",
       "      <td>0</td>\n",
       "      <td>A</td>\n",
       "      <td>80</td>\n",
       "      <td>M_ID_979ed661fc</td>\n",
       "      <td>-6</td>\n",
       "      <td>-0.720386</td>\n",
       "      <td>2017-08-09 22:04:29</td>\n",
       "      <td>1.0</td>\n",
       "      <td>16</td>\n",
       "      <td>37</td>\n",
       "    </tr>\n",
       "    <tr>\n",
       "      <th>3</th>\n",
       "      <td>Y</td>\n",
       "      <td>C_ID_4e6213e9bc</td>\n",
       "      <td>88</td>\n",
       "      <td>N</td>\n",
       "      <td>0</td>\n",
       "      <td>A</td>\n",
       "      <td>560</td>\n",
       "      <td>M_ID_e6d5ae8ea6</td>\n",
       "      <td>-5</td>\n",
       "      <td>-0.735352</td>\n",
       "      <td>2017-09-02 10:06:26</td>\n",
       "      <td>1.0</td>\n",
       "      <td>16</td>\n",
       "      <td>34</td>\n",
       "    </tr>\n",
       "    <tr>\n",
       "      <th>4</th>\n",
       "      <td>Y</td>\n",
       "      <td>C_ID_4e6213e9bc</td>\n",
       "      <td>88</td>\n",
       "      <td>N</td>\n",
       "      <td>0</td>\n",
       "      <td>A</td>\n",
       "      <td>80</td>\n",
       "      <td>M_ID_e020e9b302</td>\n",
       "      <td>-11</td>\n",
       "      <td>-0.722865</td>\n",
       "      <td>2017-03-10 01:14:19</td>\n",
       "      <td>1.0</td>\n",
       "      <td>16</td>\n",
       "      <td>37</td>\n",
       "    </tr>\n",
       "  </tbody>\n",
       "</table>\n",
       "</div>"
      ],
      "text/plain": [
       "  authorized_flag          card_id  city_id category_1  installments  \\\n",
       "0               Y  C_ID_4e6213e9bc       88          N             0   \n",
       "1               Y  C_ID_4e6213e9bc       88          N             0   \n",
       "2               Y  C_ID_4e6213e9bc       88          N             0   \n",
       "3               Y  C_ID_4e6213e9bc       88          N             0   \n",
       "4               Y  C_ID_4e6213e9bc       88          N             0   \n",
       "\n",
       "  category_3  merchant_category_id      merchant_id  month_lag  \\\n",
       "0          A                    80  M_ID_e020e9b302         -8   \n",
       "1          A                   367  M_ID_86ec983688         -7   \n",
       "2          A                    80  M_ID_979ed661fc         -6   \n",
       "3          A                   560  M_ID_e6d5ae8ea6         -5   \n",
       "4          A                    80  M_ID_e020e9b302        -11   \n",
       "\n",
       "   purchase_amount        purchase_date  category_2  state_id  subsector_id  \n",
       "0        -0.703331  2017-06-25 15:33:07         1.0        16            37  \n",
       "1        -0.733128  2017-07-15 12:10:45         1.0        16            16  \n",
       "2        -0.720386  2017-08-09 22:04:29         1.0        16            37  \n",
       "3        -0.735352  2017-09-02 10:06:26         1.0        16            34  \n",
       "4        -0.722865  2017-03-10 01:14:19         1.0        16            37  "
      ]
     },
     "execution_count": 164,
     "metadata": {},
     "output_type": "execute_result"
    }
   ],
   "source": [
    "history_transaction.head(5)"
   ]
  },
  {
   "cell_type": "code",
   "execution_count": 165,
   "id": "f6e0dd9f-0758-438b-966a-752f2f647bba",
   "metadata": {},
   "outputs": [
    {
     "name": "stdout",
     "output_type": "stream",
     "text": [
      "<class 'pandas.core.frame.DataFrame'>\n",
      "RangeIndex: 29112361 entries, 0 to 29112360\n",
      "Data columns (total 14 columns):\n",
      " #   Column                Dtype  \n",
      "---  ------                -----  \n",
      " 0   authorized_flag       object \n",
      " 1   card_id               object \n",
      " 2   city_id               int64  \n",
      " 3   category_1            object \n",
      " 4   installments          int64  \n",
      " 5   category_3            object \n",
      " 6   merchant_category_id  int64  \n",
      " 7   merchant_id           object \n",
      " 8   month_lag             int64  \n",
      " 9   purchase_amount       float64\n",
      " 10  purchase_date         object \n",
      " 11  category_2            float64\n",
      " 12  state_id              int64  \n",
      " 13  subsector_id          int64  \n",
      "dtypes: float64(2), int64(6), object(6)\n",
      "memory usage: 3.0+ GB\n"
     ]
    }
   ],
   "source": [
    "history_transaction.info()"
   ]
  },
  {
   "cell_type": "markdown",
   "id": "38c50118-b7ea-4c6e-8a77-9c586f636e4a",
   "metadata": {},
   "source": [
    "能够看到，数据集总共包括将近三千万条数据，总共有十四个字段，每个字段在数据字典中的解释如下："
   ]
  },
  {
   "cell_type": "code",
   "execution_count": 51,
   "id": "630ed0b0-8883-4aa3-8731-f1e12b4cc16c",
   "metadata": {},
   "outputs": [
    {
     "data": {
      "text/html": [
       "<div>\n",
       "<style scoped>\n",
       "    .dataframe tbody tr th:only-of-type {\n",
       "        vertical-align: middle;\n",
       "    }\n",
       "\n",
       "    .dataframe tbody tr th {\n",
       "        vertical-align: top;\n",
       "    }\n",
       "\n",
       "    .dataframe thead th {\n",
       "        text-align: right;\n",
       "    }\n",
       "</style>\n",
       "<table border=\"1\" class=\"dataframe\">\n",
       "  <thead>\n",
       "    <tr style=\"text-align: right;\">\n",
       "      <th></th>\n",
       "      <th>Columns</th>\n",
       "      <th>Description</th>\n",
       "    </tr>\n",
       "  </thead>\n",
       "  <tbody>\n",
       "    <tr>\n",
       "      <th>0</th>\n",
       "      <td>card_id</td>\n",
       "      <td>Card identifier</td>\n",
       "    </tr>\n",
       "    <tr>\n",
       "      <th>1</th>\n",
       "      <td>month_lag</td>\n",
       "      <td>month lag to reference date</td>\n",
       "    </tr>\n",
       "    <tr>\n",
       "      <th>2</th>\n",
       "      <td>purchase_date</td>\n",
       "      <td>Purchase date</td>\n",
       "    </tr>\n",
       "    <tr>\n",
       "      <th>3</th>\n",
       "      <td>authorized_flag</td>\n",
       "      <td>Y' if approved, 'N' if denied</td>\n",
       "    </tr>\n",
       "    <tr>\n",
       "      <th>4</th>\n",
       "      <td>category_3</td>\n",
       "      <td>anonymized category</td>\n",
       "    </tr>\n",
       "    <tr>\n",
       "      <th>5</th>\n",
       "      <td>installments</td>\n",
       "      <td>number of installments of purchase</td>\n",
       "    </tr>\n",
       "    <tr>\n",
       "      <th>6</th>\n",
       "      <td>category_1</td>\n",
       "      <td>anonymized category</td>\n",
       "    </tr>\n",
       "    <tr>\n",
       "      <th>7</th>\n",
       "      <td>merchant_category_id</td>\n",
       "      <td>Merchant category identifier (anonymized )</td>\n",
       "    </tr>\n",
       "    <tr>\n",
       "      <th>8</th>\n",
       "      <td>subsector_id</td>\n",
       "      <td>Merchant category group identifier (anonymized )</td>\n",
       "    </tr>\n",
       "    <tr>\n",
       "      <th>9</th>\n",
       "      <td>merchant_id</td>\n",
       "      <td>Merchant identifier (anonymized)</td>\n",
       "    </tr>\n",
       "    <tr>\n",
       "      <th>10</th>\n",
       "      <td>purchase_amount</td>\n",
       "      <td>Normalized purchase amount</td>\n",
       "    </tr>\n",
       "    <tr>\n",
       "      <th>11</th>\n",
       "      <td>city_id</td>\n",
       "      <td>City identifier (anonymized )</td>\n",
       "    </tr>\n",
       "    <tr>\n",
       "      <th>12</th>\n",
       "      <td>state_id</td>\n",
       "      <td>State identifier (anonymized )</td>\n",
       "    </tr>\n",
       "    <tr>\n",
       "      <th>13</th>\n",
       "      <td>category_2</td>\n",
       "      <td>anonymized category</td>\n",
       "    </tr>\n",
       "  </tbody>\n",
       "</table>\n",
       "</div>"
      ],
      "text/plain": [
       "                 Columns                                       Description\n",
       "0                card_id                                   Card identifier\n",
       "1              month_lag                       month lag to reference date\n",
       "2          purchase_date                                     Purchase date\n",
       "3        authorized_flag                     Y' if approved, 'N' if denied\n",
       "4             category_3                               anonymized category\n",
       "5           installments                number of installments of purchase\n",
       "6             category_1                               anonymized category\n",
       "7   merchant_category_id        Merchant category identifier (anonymized )\n",
       "8           subsector_id  Merchant category group identifier (anonymized )\n",
       "9            merchant_id                  Merchant identifier (anonymized)\n",
       "10       purchase_amount                        Normalized purchase amount\n",
       "11               city_id                     City identifier (anonymized )\n",
       "12              state_id                    State identifier (anonymized )\n",
       "13            category_2                               anonymized category"
      ]
     },
     "execution_count": 51,
     "metadata": {},
     "output_type": "execute_result"
    }
   ],
   "source": [
    "pd.read_excel('./eloData/Data Dictionary.xlsx', header=2, sheet_name='history')"
   ]
  },
  {
   "cell_type": "markdown",
   "id": "0e2375a4-49b4-4a57-8aeb-d3bcaa40c0ed",
   "metadata": {},
   "source": [
    "实际含义如下："
   ]
  },
  {
   "cell_type": "markdown",
   "id": "fd53f4cc-fcaf-41f6-afa4-4b02da9ca94b",
   "metadata": {},
   "source": [
    "| 字段 | 解释 |\n",
    "| ------ | ------ |\n",
    "| card_id | 第一无二的信用卡标志 |\n",
    "| authorized_flag | 是否授权，Y/N |\n",
    "| city_id | 城市id，经过匿名处理 |\n",
    "| category_1 | 匿名特征，Y/N |\n",
    "| installments | 分期付款的次数 |\n",
    "| category_3 | 匿名类别特征，A/.../E |\n",
    "| merchant_category_id | 商户类别，匿名特征 |\n",
    "| merchant_id | 商户id |\n",
    "| month_lag\t | 距离2018年月的2月数差 |\n",
    "| purchase_amount | 标准化后的付款金额 |\n",
    "| purchase_date | 付款时间 |\n",
    "| category_2 | 匿名类别特征2 |\n",
    "| state_id | 州id，经过匿名处理 |\n",
    "| subsector_id | 商户类别特征 |"
   ]
  },
  {
   "cell_type": "markdown",
   "id": "13ad3f9a-6a70-472b-8092-3e28059b46af",
   "metadata": {},
   "source": [
    "- new_merchant_transactions：信用卡近期的交易信息"
   ]
  },
  {
   "cell_type": "markdown",
   "id": "207f7dca-2b5e-4575-8b86-03707d76e24c",
   "metadata": {},
   "source": [
    "&emsp;&emsp;信用卡在2018年2月之后的交易信息，和historical_transactions字段完全一致。"
   ]
  },
  {
   "cell_type": "code",
   "execution_count": 179,
   "id": "4c93515f-0354-4ebb-b539-8c5b096611ed",
   "metadata": {},
   "outputs": [],
   "source": [
    "new_transaction = pd.read_csv('./eloData/new_merchant_transactions.csv', header=0)"
   ]
  },
  {
   "cell_type": "code",
   "execution_count": 167,
   "id": "7a734954-8240-4c2a-9376-c6196df5c4c6",
   "metadata": {},
   "outputs": [
    {
     "data": {
      "text/html": [
       "<div>\n",
       "<style scoped>\n",
       "    .dataframe tbody tr th:only-of-type {\n",
       "        vertical-align: middle;\n",
       "    }\n",
       "\n",
       "    .dataframe tbody tr th {\n",
       "        vertical-align: top;\n",
       "    }\n",
       "\n",
       "    .dataframe thead th {\n",
       "        text-align: right;\n",
       "    }\n",
       "</style>\n",
       "<table border=\"1\" class=\"dataframe\">\n",
       "  <thead>\n",
       "    <tr style=\"text-align: right;\">\n",
       "      <th></th>\n",
       "      <th>authorized_flag</th>\n",
       "      <th>card_id</th>\n",
       "      <th>city_id</th>\n",
       "      <th>category_1</th>\n",
       "      <th>installments</th>\n",
       "      <th>category_3</th>\n",
       "      <th>merchant_category_id</th>\n",
       "      <th>merchant_id</th>\n",
       "      <th>month_lag</th>\n",
       "      <th>purchase_amount</th>\n",
       "      <th>purchase_date</th>\n",
       "      <th>category_2</th>\n",
       "      <th>state_id</th>\n",
       "      <th>subsector_id</th>\n",
       "    </tr>\n",
       "  </thead>\n",
       "  <tbody>\n",
       "    <tr>\n",
       "      <th>0</th>\n",
       "      <td>Y</td>\n",
       "      <td>C_ID_415bb3a509</td>\n",
       "      <td>107</td>\n",
       "      <td>N</td>\n",
       "      <td>1</td>\n",
       "      <td>B</td>\n",
       "      <td>307</td>\n",
       "      <td>M_ID_b0c793002c</td>\n",
       "      <td>1</td>\n",
       "      <td>-0.557574</td>\n",
       "      <td>2018-03-11 14:57:36</td>\n",
       "      <td>1.0</td>\n",
       "      <td>9</td>\n",
       "      <td>19</td>\n",
       "    </tr>\n",
       "    <tr>\n",
       "      <th>1</th>\n",
       "      <td>Y</td>\n",
       "      <td>C_ID_415bb3a509</td>\n",
       "      <td>140</td>\n",
       "      <td>N</td>\n",
       "      <td>1</td>\n",
       "      <td>B</td>\n",
       "      <td>307</td>\n",
       "      <td>M_ID_88920c89e8</td>\n",
       "      <td>1</td>\n",
       "      <td>-0.569580</td>\n",
       "      <td>2018-03-19 18:53:37</td>\n",
       "      <td>1.0</td>\n",
       "      <td>9</td>\n",
       "      <td>19</td>\n",
       "    </tr>\n",
       "    <tr>\n",
       "      <th>2</th>\n",
       "      <td>Y</td>\n",
       "      <td>C_ID_415bb3a509</td>\n",
       "      <td>330</td>\n",
       "      <td>N</td>\n",
       "      <td>1</td>\n",
       "      <td>B</td>\n",
       "      <td>507</td>\n",
       "      <td>M_ID_ad5237ef6b</td>\n",
       "      <td>2</td>\n",
       "      <td>-0.551037</td>\n",
       "      <td>2018-04-26 14:08:44</td>\n",
       "      <td>1.0</td>\n",
       "      <td>9</td>\n",
       "      <td>14</td>\n",
       "    </tr>\n",
       "    <tr>\n",
       "      <th>3</th>\n",
       "      <td>Y</td>\n",
       "      <td>C_ID_415bb3a509</td>\n",
       "      <td>-1</td>\n",
       "      <td>Y</td>\n",
       "      <td>1</td>\n",
       "      <td>B</td>\n",
       "      <td>661</td>\n",
       "      <td>M_ID_9e84cda3b1</td>\n",
       "      <td>1</td>\n",
       "      <td>-0.671925</td>\n",
       "      <td>2018-03-07 09:43:21</td>\n",
       "      <td>NaN</td>\n",
       "      <td>-1</td>\n",
       "      <td>8</td>\n",
       "    </tr>\n",
       "    <tr>\n",
       "      <th>4</th>\n",
       "      <td>Y</td>\n",
       "      <td>C_ID_ef55cf8d4b</td>\n",
       "      <td>-1</td>\n",
       "      <td>Y</td>\n",
       "      <td>1</td>\n",
       "      <td>B</td>\n",
       "      <td>166</td>\n",
       "      <td>M_ID_3c86fa3831</td>\n",
       "      <td>1</td>\n",
       "      <td>-0.659904</td>\n",
       "      <td>2018-03-22 21:07:53</td>\n",
       "      <td>NaN</td>\n",
       "      <td>-1</td>\n",
       "      <td>29</td>\n",
       "    </tr>\n",
       "  </tbody>\n",
       "</table>\n",
       "</div>"
      ],
      "text/plain": [
       "  authorized_flag          card_id  city_id category_1  installments  \\\n",
       "0               Y  C_ID_415bb3a509      107          N             1   \n",
       "1               Y  C_ID_415bb3a509      140          N             1   \n",
       "2               Y  C_ID_415bb3a509      330          N             1   \n",
       "3               Y  C_ID_415bb3a509       -1          Y             1   \n",
       "4               Y  C_ID_ef55cf8d4b       -1          Y             1   \n",
       "\n",
       "  category_3  merchant_category_id      merchant_id  month_lag  \\\n",
       "0          B                   307  M_ID_b0c793002c          1   \n",
       "1          B                   307  M_ID_88920c89e8          1   \n",
       "2          B                   507  M_ID_ad5237ef6b          2   \n",
       "3          B                   661  M_ID_9e84cda3b1          1   \n",
       "4          B                   166  M_ID_3c86fa3831          1   \n",
       "\n",
       "   purchase_amount        purchase_date  category_2  state_id  subsector_id  \n",
       "0        -0.557574  2018-03-11 14:57:36         1.0         9            19  \n",
       "1        -0.569580  2018-03-19 18:53:37         1.0         9            19  \n",
       "2        -0.551037  2018-04-26 14:08:44         1.0         9            14  \n",
       "3        -0.671925  2018-03-07 09:43:21         NaN        -1             8  \n",
       "4        -0.659904  2018-03-22 21:07:53         NaN        -1            29  "
      ]
     },
     "execution_count": 167,
     "metadata": {},
     "output_type": "execute_result"
    }
   ],
   "source": [
    "new_transaction.head(5)"
   ]
  },
  {
   "cell_type": "code",
   "execution_count": 55,
   "id": "6b406e55-0afa-40a4-b12c-f0f62bc17252",
   "metadata": {},
   "outputs": [
    {
     "name": "stdout",
     "output_type": "stream",
     "text": [
      "<class 'pandas.core.frame.DataFrame'>\n",
      "RangeIndex: 1963031 entries, 0 to 1963030\n",
      "Data columns (total 14 columns):\n",
      " #   Column                Dtype  \n",
      "---  ------                -----  \n",
      " 0   authorized_flag       object \n",
      " 1   card_id               object \n",
      " 2   city_id               int64  \n",
      " 3   category_1            object \n",
      " 4   installments          int64  \n",
      " 5   category_3            object \n",
      " 6   merchant_category_id  int64  \n",
      " 7   merchant_id           object \n",
      " 8   month_lag             int64  \n",
      " 9   purchase_amount       float64\n",
      " 10  purchase_date         object \n",
      " 11  category_2            float64\n",
      " 12  state_id              int64  \n",
      " 13  subsector_id          int64  \n",
      "dtypes: float64(2), int64(6), object(6)\n",
      "memory usage: 209.7+ MB\n"
     ]
    }
   ],
   "source": [
    "pd.read_csv('./eloData/new_merchant_transactions.csv', header=0).info()"
   ]
  },
  {
   "cell_type": "markdown",
   "id": "68dc55d9-6abe-40c7-b26c-1fa2572d27cd",
   "metadata": {},
   "source": [
    "该数据中总共有将近200万条数据。并且我们发现，该数据集中有较多字段和商家数据merchant重复，我们可以对其进行简单检验。"
   ]
  },
  {
   "cell_type": "markdown",
   "id": "b9dc4c1e-63b2-4933-ac8d-86d02854166f",
   "metadata": {},
   "source": [
    "- 对比merchant数据集"
   ]
  },
  {
   "cell_type": "markdown",
   "id": "3f4de92c-0905-4427-8745-d4b3a21f22df",
   "metadata": {},
   "source": [
    "首先简单查看有哪些字段一致："
   ]
  },
  {
   "cell_type": "code",
   "execution_count": 168,
   "id": "b55c9326-f6bf-475d-a0dc-da162a40bc19",
   "metadata": {},
   "outputs": [
    {
     "name": "stdout",
     "output_type": "stream",
     "text": [
      "['merchant_id', 'merchant_category_id', 'subsector_id', 'category_1', 'city_id', 'state_id', 'category_2']\n"
     ]
    }
   ],
   "source": [
    "duplicate_cols = []\n",
    "\n",
    "for col in merchant.columns:\n",
    "    if col in new_transaction.columns:\n",
    "        duplicate_cols.append(col)\n",
    "        \n",
    "print(duplicate_cols)"
   ]
  },
  {
   "cell_type": "markdown",
   "id": "a48b87b5-bb57-4535-b348-30c7fd1ca4d9",
   "metadata": {},
   "source": [
    "并且我们进一步发现，交易记录中的merhcant_id信息并不唯一："
   ]
  },
  {
   "cell_type": "code",
   "execution_count": 169,
   "id": "06d08ae1-fcd5-4089-8b1b-ef193d7ea190",
   "metadata": {},
   "outputs": [
    {
     "data": {
      "text/plain": [
       "(291242, 7)"
      ]
     },
     "execution_count": 169,
     "metadata": {},
     "output_type": "execute_result"
    }
   ],
   "source": [
    "# 取出和商户数据表重复字段并去重\n",
    "new_transaction[duplicate_cols].drop_duplicates().shape"
   ]
  },
  {
   "cell_type": "code",
   "execution_count": 170,
   "id": "4a8bd2f6-4025-4d2a-b198-0f51b9a79a29",
   "metadata": {},
   "outputs": [
    {
     "data": {
      "text/plain": [
       "226129"
      ]
     },
     "execution_count": 170,
     "metadata": {},
     "output_type": "execute_result"
    }
   ],
   "source": [
    "# 商户id去重\n",
    "new_transaction['merchant_id'].nunique()"
   ]
  },
  {
   "cell_type": "markdown",
   "id": "66ea20dd-a609-436c-8282-c3a2d29babaa",
   "metadata": {},
   "source": [
    "造成该现象的原因可能是商铺在逐渐经营过程动态变化，而基于此，在后续的建模过程中，我们将优先使用交易记录中表中的相应记录。"
   ]
  },
  {
   "cell_type": "markdown",
   "id": "194403aa-27e6-4076-9f52-73bd53e8c6d1",
   "metadata": {},
   "source": [
    "### 2.数据预处理"
   ]
  },
  {
   "cell_type": "markdown",
   "id": "6598041c-9fbe-4339-b017-f0702db221a8",
   "metadata": {},
   "source": [
    "&emsp;&emsp;接下来对交易数据进行预处理。"
   ]
  },
  {
   "cell_type": "markdown",
   "id": "1056bda5-9a80-41b0-872e-45810d19d6eb",
   "metadata": {},
   "source": [
    "- 连续/离散字段标注"
   ]
  },
  {
   "cell_type": "markdown",
   "id": "4b192864-ca97-4bc8-a7ee-15fc8410515e",
   "metadata": {},
   "source": [
    "&emsp;&emsp;首先也是一样，需要对其连续/离散变量进行标注。当然该数据集中比较特殊的一点，是存在一个时间列，我们将其单独归为一类："
   ]
  },
  {
   "cell_type": "code",
   "execution_count": 172,
   "id": "12350f17-5e1d-4de9-bcd8-1ac1b26b4b99",
   "metadata": {},
   "outputs": [],
   "source": [
    "numeric_cols = ['installments', 'month_lag', 'purchase_amount']\n",
    "category_cols = ['authorized_flag', 'card_id', 'city_id', 'category_1',\n",
    "       'category_3', 'merchant_category_id', 'merchant_id', 'category_2', 'state_id',\n",
    "       'subsector_id']\n",
    "time_cols = ['purchase_date']\n",
    "\n",
    "assert len(numeric_cols) + len(category_cols) + len(time_cols) == new_transaction.shape[1]"
   ]
  },
  {
   "cell_type": "markdown",
   "id": "4686c7f1-1b60-4670-91c4-bbdc7175ed54",
   "metadata": {},
   "source": [
    "- 字段类型转化/缺失值填补"
   ]
  },
  {
   "cell_type": "markdown",
   "id": "4ad882e0-c35c-4873-bbed-ee41a9210e6c",
   "metadata": {},
   "source": [
    "&emsp;&emsp;然后简单查看离散变量当前数据情况："
   ]
  },
  {
   "cell_type": "code",
   "execution_count": 180,
   "id": "b94a2bfe-7291-474a-bd92-a060aa669e11",
   "metadata": {},
   "outputs": [
    {
     "data": {
      "text/plain": [
       "authorized_flag          object\n",
       "card_id                  object\n",
       "city_id                   int64\n",
       "category_1               object\n",
       "category_3               object\n",
       "merchant_category_id      int64\n",
       "merchant_id              object\n",
       "category_2              float64\n",
       "state_id                  int64\n",
       "subsector_id              int64\n",
       "dtype: object"
      ]
     },
     "execution_count": 180,
     "metadata": {},
     "output_type": "execute_result"
    }
   ],
   "source": [
    "# 查看分类变量的类别\n",
    "new_transaction[category_cols].dtypes"
   ]
  },
  {
   "cell_type": "code",
   "execution_count": 181,
   "id": "6ca58296-24b5-4af3-a735-63671aa3bc0d",
   "metadata": {},
   "outputs": [
    {
     "data": {
      "text/plain": [
       "authorized_flag              0\n",
       "card_id                      0\n",
       "city_id                      0\n",
       "category_1                   0\n",
       "category_3               55922\n",
       "merchant_category_id         0\n",
       "merchant_id              26216\n",
       "category_2              111745\n",
       "state_id                     0\n",
       "subsector_id                 0\n",
       "dtype: int64"
      ]
     },
     "execution_count": 181,
     "metadata": {},
     "output_type": "execute_result"
    }
   ],
   "source": [
    "new_transaction[category_cols].isnull().sum()"
   ]
  },
  {
   "cell_type": "markdown",
   "id": "b506873e-ee11-44e3-9fcc-c85d20537495",
   "metadata": {},
   "source": [
    "和此前的merchant处理类似，我们对其object类型对象进行字典编码（id除外），并对利用-1对缺失值进行填补："
   ]
  },
  {
   "cell_type": "code",
   "execution_count": 176,
   "id": "1d8e1730-3fdb-4d19-a37b-7afbede5e7c3",
   "metadata": {},
   "outputs": [],
   "source": [
    "for col in ['authorized_flag', 'category_1', 'category_3']:\n",
    "    new_transaction[col] = change_object_cols(new_transaction[col].fillna(-1).astype(str))\n",
    "    \n",
    "new_transaction[category_cols] = new_transaction[category_cols].fillna(-1)"
   ]
  },
  {
   "cell_type": "code",
   "execution_count": 177,
   "id": "d819f2ba-4ebe-4b25-ac32-f6ec741d89fb",
   "metadata": {},
   "outputs": [
    {
     "data": {
      "text/plain": [
       "authorized_flag           int64\n",
       "card_id                  object\n",
       "city_id                   int64\n",
       "category_1                int64\n",
       "category_3                int64\n",
       "merchant_category_id      int64\n",
       "merchant_id              object\n",
       "category_2              float64\n",
       "state_id                  int64\n",
       "subsector_id              int64\n",
       "dtype: object"
      ]
     },
     "execution_count": 177,
     "metadata": {},
     "output_type": "execute_result"
    }
   ],
   "source": [
    "new_transaction[category_cols].dtypes"
   ]
  },
  {
   "cell_type": "markdown",
   "id": "79e0ac3a-8a64-432c-9d1c-91589ae98243",
   "metadata": {},
   "source": [
    "&emsp;&emsp;至此，我们就完成了几张表的数据预处理工作。"
   ]
  },
  {
   "cell_type": "markdown",
   "id": "d9f5c8de-4b1b-4138-b82c-20dfe93a5472",
   "metadata": {},
   "source": [
    "## 三、数据清洗后数据生成"
   ]
  },
  {
   "cell_type": "markdown",
   "id": "2d113a0e-fa0f-4ce2-a525-294dd620164a",
   "metadata": {},
   "source": [
    "### 1.回顾商户数据、交易数据清洗流程"
   ]
  },
  {
   "cell_type": "markdown",
   "id": "56c53e08-5dde-45dd-a28e-9c3675f9ea54",
   "metadata": {},
   "source": [
    "&emsp;&emsp;当然，由于上述工作较为繁琐，我们简单总结上述针对商户数据和交易数据的完整步骤如下："
   ]
  },
  {
   "cell_type": "markdown",
   "id": "ed0b385c-1883-402a-998c-5b51f1b0af3f",
   "metadata": {},
   "source": [
    "### 商户数据merchants.csv"
   ]
  },
  {
   "cell_type": "markdown",
   "id": "38d6d25c-17c4-4450-8139-47ea016086f9",
   "metadata": {},
   "source": [
    "- 划分连续字段和离散字段；      \n",
    "- 对字符型离散字段进行字典排序编码；      \n",
    "- 对缺失值处理，此处统一使用-1进行缺失值填充，本质上是一种标注；      \n",
    "- 对连续性字段的无穷值进行处理，用该列的最大值进行替换；       \n",
    "- 去除重复数据；"
   ]
  },
  {
   "cell_type": "markdown",
   "id": "d4b91081-04f9-4c94-aa5c-13af667b253c",
   "metadata": {},
   "source": [
    "### 交易数据new_merchant_transactions.csv和historical_transactions.csv"
   ]
  },
  {
   "cell_type": "markdown",
   "id": "433ef592-e48f-4b82-b3a3-5fe4413f3a61",
   "metadata": {},
   "source": [
    "- 划分字段类型，分为离散字段、连续字段和时间字段；      \n",
    "- 和商户数据的处理方法一样，对字符型离散字段进行字典排序，对缺失值进行统一填充；      \n",
    "- 对新生成的购买欲分离散字段进行字典排序编码；      \n",
    "- 最后对多表进行拼接，并且通过month_lag字段是否大于0来进行区分。"
   ]
  },
  {
   "cell_type": "markdown",
   "id": "56caef7d-3c5a-4f13-99dc-5fe9979f37c2",
   "metadata": {},
   "source": [
    "### 2.创建清洗后数据"
   ]
  },
  {
   "cell_type": "markdown",
   "id": "f8451956-7518-46a6-9213-b8032c57e872",
   "metadata": {},
   "source": [
    "&emsp;&emsp;结合训练集和测试集的清洗流程，我们可以在此统一执行所有数据的数据清洗工作，并将其最终保存为本地文件，方便后续特征工程及算法建模过程使用，其流程如下："
   ]
  },
  {
   "cell_type": "markdown",
   "id": "22f79e1b-69e7-420d-b543-52e94fae66ec",
   "metadata": {},
   "source": [
    "- 读取数据"
   ]
  },
  {
   "cell_type": "code",
   "execution_count": 1,
   "id": "5a8444ba-aa1d-4e9a-a769-c608bccfd1f5",
   "metadata": {},
   "outputs": [],
   "source": [
    "import gc\n",
    "import time\n",
    "import numpy as np\n",
    "import pandas as pd\n",
    "from datetime import datetime"
   ]
  },
  {
   "cell_type": "code",
   "execution_count": 2,
   "id": "33a7cd99-1668-48c2-8b74-f98a26e5fa8e",
   "metadata": {},
   "outputs": [],
   "source": [
    "train = pd.read_csv('data/train.csv')\n",
    "test =  pd.read_csv('data/test.csv')\n",
    "merchant = pd.read_csv('data/merchants.csv')\n",
    "new_transaction = pd.read_csv('data/new_merchant_transactions.csv')\n",
    "history_transaction = pd.read_csv('data/historical_transactions.csv')"
   ]
  },
  {
   "cell_type": "code",
   "execution_count": 3,
   "id": "f2656797-991c-4b72-a1c3-712b63af49e8",
   "metadata": {},
   "outputs": [],
   "source": [
    "# 字典编码函数\n",
    "def change_object_cols(se):\n",
    "    value = se.unique().tolist()\n",
    "    value.sort()\n",
    "    return se.map(pd.Series(range(len(value)), index=value)).values"
   ]
  },
  {
   "cell_type": "markdown",
   "id": "2efbd0dd-5ad7-4945-bd0f-e9177da06f1d",
   "metadata": {},
   "source": [
    "- 训练集/测试集的数据预处理"
   ]
  },
  {
   "cell_type": "code",
   "execution_count": 4,
   "id": "2763fce5-0c56-457d-872b-80c1e117f231",
   "metadata": {},
   "outputs": [],
   "source": [
    "# 对首次活跃月份进行编码\n",
    "se_map = change_object_cols(train['first_active_month'].append(test['first_active_month']).astype(str))\n",
    "train['first_active_month'] = se_map[:train.shape[0]]\n",
    "test['first_active_month'] = se_map[train.shape[0]:]"
   ]
  },
  {
   "cell_type": "markdown",
   "id": "5da53d7a-4165-41a9-8e0c-66b13d611540",
   "metadata": {},
   "source": [
    "- 测试集/训练集导出与内存清理"
   ]
  },
  {
   "cell_type": "code",
   "execution_count": 5,
   "id": "fcf596a0-e5a2-4cea-96f1-bbb2a75690f9",
   "metadata": {},
   "outputs": [],
   "source": [
    "train.to_csv(\"preprocess/train_pre.csv\", index=False)\n",
    "test.to_csv(\"preprocess/test_pre.csv\", index=False)"
   ]
  },
  {
   "cell_type": "code",
   "execution_count": 6,
   "id": "c37564b1-d77e-4799-88c2-7e6294d89745",
   "metadata": {},
   "outputs": [
    {
     "data": {
      "text/plain": [
       "17"
      ]
     },
     "execution_count": 6,
     "metadata": {},
     "output_type": "execute_result"
    }
   ],
   "source": [
    "del train\n",
    "del test\n",
    "gc.collect()"
   ]
  },
  {
   "cell_type": "markdown",
   "id": "39c6e3d6-b432-44fc-a82b-49eda3faddec",
   "metadata": {},
   "source": [
    "- 商户信息预处理"
   ]
  },
  {
   "cell_type": "code",
   "execution_count": 7,
   "id": "7f05b65f-1e25-4432-ac53-69861df9ead3",
   "metadata": {},
   "outputs": [],
   "source": [
    "# 1、根据业务含义划分离散字段category_cols与连续字段numeric_cols。\n",
    "category_cols = ['merchant_id', 'merchant_group_id', 'merchant_category_id',\n",
    "       'subsector_id', 'category_1',\n",
    "       'most_recent_sales_range', 'most_recent_purchases_range',\n",
    "       'category_4', 'city_id', 'state_id', 'category_2']\n",
    "numeric_cols = ['numerical_1', 'numerical_2',\n",
    "     'avg_sales_lag3', 'avg_purchases_lag3', 'active_months_lag3',\n",
    "       'avg_sales_lag6', 'avg_purchases_lag6', 'active_months_lag6',\n",
    "       'avg_sales_lag12', 'avg_purchases_lag12', 'active_months_lag12']\n",
    "\n",
    "# 2、对非数值型的离散字段进行字典排序编码。\n",
    "for col in ['category_1', 'most_recent_sales_range', 'most_recent_purchases_range', 'category_4']:\n",
    "    merchant[col] = change_object_cols(merchant[col])\n",
    "    \n",
    "# 3、为了能够更方便统计，进行缺失值的处理，对离散字段统一用-1进行填充。\n",
    "merchant[category_cols] = merchant[category_cols].fillna(-1)\n",
    "\n",
    "\n",
    "# 4、对离散型字段探查发现有正无穷值，这是特征提取以及模型所不能接受的，因此需要对无限值进行处理，此处采用最大值进行替换。\n",
    "inf_cols = ['avg_purchases_lag3', 'avg_purchases_lag6', 'avg_purchases_lag12']\n",
    "merchant[inf_cols] = merchant[inf_cols].replace(np.inf, merchant[inf_cols].replace(np.inf, -99).max().max())\n",
    "\n",
    "# 5、平均值进行填充，后续有需要再进行优化处理。\n",
    "for col in numeric_cols:\n",
    "    merchant[col] = merchant[col].fillna(merchant[col].mean())\n",
    "    \n",
    "# 6、去除与transaction交易记录表格重复的列，以及merchant_id的重复记录。\n",
    "duplicate_cols = ['merchant_id', 'merchant_category_id', 'subsector_id', 'category_1', 'city_id', 'state_id', 'category_2']\n",
    "merchant = merchant.drop(duplicate_cols[1:], axis=1)\n",
    "merchant = merchant.loc[merchant['merchant_id'].drop_duplicates().index.tolist()].reset_index(drop=True)"
   ]
  },
  {
   "cell_type": "markdown",
   "id": "367a4394-bc73-4e6f-80e1-e7d6fc0de112",
   "metadata": {},
   "source": [
    "与处理完后先不着急导出或删除，后续需要和交易数据进行拼接。"
   ]
  },
  {
   "cell_type": "markdown",
   "id": "5c0700ef-e52a-44e0-80fe-570ee5fc09f8",
   "metadata": {},
   "source": [
    "- 交易数据预处理"
   ]
  },
  {
   "cell_type": "code",
   "execution_count": 8,
   "id": "b2157c34-2a2d-4fc6-a6e5-7b597b449f5f",
   "metadata": {},
   "outputs": [],
   "source": [
    "# 1、为了统一处理，首先拼接new和history两张表格，后续可以month_lag>=0进行区分。\n",
    "transaction = pd.concat([new_transaction, history_transaction], axis=0, ignore_index=True)\n",
    "del new_transaction\n",
    "del history_transaction\n",
    "gc.collect()\n",
    "\n",
    "# 2、同样划分离散字段、连续字段以及时间字段。\n",
    "numeric_cols = [ 'installments', 'month_lag', 'purchase_amount']\n",
    "category_cols = ['authorized_flag', 'card_id', 'city_id', 'category_1',\n",
    "       'category_3', 'merchant_category_id', 'merchant_id', 'category_2', 'state_id',\n",
    "       'subsector_id']\n",
    "time_cols = ['purchase_date']\n",
    "\n",
    "# 3、可仿照merchant的处理方式对字符型的离散特征进行字典序编码以及缺失值填充。\n",
    "for col in ['authorized_flag', 'category_1', 'category_3']:\n",
    "    transaction[col] = change_object_cols(transaction[col].fillna(-1).astype(str))\n",
    "transaction[category_cols] = transaction[category_cols].fillna(-1)\n",
    "transaction['category_2'] = transaction['category_2'].astype(int)\n",
    "\n",
    "# 4、进行时间段的处理，简单起见进行月份、日期的星期数（工作日与周末）、以及\n",
    "# 时间段（上午、下午、晚上、凌晨）的信息提取。\n",
    "transaction['purchase_month'] = transaction['purchase_date'].apply(lambda x:'-'.join(x.split(' ')[0].split('-')[:2]))\n",
    "transaction['purchase_hour_section'] = transaction['purchase_date'].apply(lambda x: x.split(' ')[1].split(':')[0]).astype(int)//6\n",
    "transaction['purchase_day'] = transaction['purchase_date'].apply(lambda x: datetime.strptime(x.split(\" \")[0], \"%Y-%m-%d\").weekday())//5                                                                    \n",
    "del transaction['purchase_date']\n",
    "\n",
    "\n",
    "# 5、对新生成的购买月份离散字段进行字典序编码。\n",
    "transaction['purchase_month'] = change_object_cols(transaction['purchase_month'].fillna(-1).astype(str))"
   ]
  },
  {
   "cell_type": "markdown",
   "id": "e0bb3c8b-5287-415f-8b0e-b33132979699",
   "metadata": {},
   "source": [
    "完成交易数据预处理后，即可进行交易数据和商铺数据的表格合并。"
   ]
  },
  {
   "cell_type": "markdown",
   "id": "9a3a2091-6fd1-408c-a4af-94b895d682c8",
   "metadata": {},
   "source": [
    "- 表格合并"
   ]
  },
  {
   "cell_type": "markdown",
   "id": "e330db73-4b6d-4438-b516-ee31e8dc4508",
   "metadata": {},
   "source": [
    "&emsp;&emsp;在合并的过程中，有两种处理方案，其一是对缺失值进行-1填补，然后将所有离散型字段化为字符串类型（为了后续字典合并做准备），其二则是新增两列，分别是purchase_day_diff和purchase_month_diff，其数据为交易数据以card_id进行groupby并最终提取出purchase_day/month并进行差分的结果。"
   ]
  },
  {
   "cell_type": "markdown",
   "id": "25420930-2867-47c2-a88f-de0867649c1e",
   "metadata": {},
   "source": [
    "方案一代码如下："
   ]
  },
  {
   "cell_type": "code",
   "execution_count": 9,
   "id": "6bca4f03-5778-4a3d-9eaf-76b2250b2f0a",
   "metadata": {},
   "outputs": [],
   "source": [
    "# 为了方便特征的统一计算将其merge合并，重新划分相应字段种类。\n",
    "cols = ['merchant_id', 'most_recent_sales_range', 'most_recent_purchases_range', 'category_4']\n",
    "transaction = pd.merge(transaction, merchant[cols], how='left', on='merchant_id')\n",
    "\n",
    "numeric_cols = ['purchase_amount', 'installments']\n",
    "\n",
    "category_cols = ['authorized_flag', 'city_id', 'category_1',\n",
    "       'category_3', 'merchant_category_id','month_lag','most_recent_sales_range',\n",
    "                 'most_recent_purchases_range', 'category_4',\n",
    "                 'purchase_month', 'purchase_hour_section', 'purchase_day']\n",
    "\n",
    "id_cols = ['card_id', 'merchant_id']\n",
    "\n",
    "transaction[cols[1:]] = transaction[cols[1:]].fillna(-1).astype(int)\n",
    "transaction[category_cols] =transaction[category_cols].fillna(-1).astype(str)"
   ]
  },
  {
   "cell_type": "markdown",
   "id": "f8b54a4d-8e77-47af-a49a-24f854b7091e",
   "metadata": {},
   "source": [
    "&emsp;&emsp;随后将其导出为transaction_d_pre.csv"
   ]
  },
  {
   "cell_type": "code",
   "execution_count": 10,
   "id": "6ffce566-1158-4f2f-9416-a01f25f342a9",
   "metadata": {},
   "outputs": [],
   "source": [
    "transaction.to_csv(\"preprocess/transaction_d_pre.csv\", index=False)"
   ]
  },
  {
   "cell_type": "code",
   "execution_count": 11,
   "id": "7975ea09-642b-41e7-ada5-2ea792b08b4f",
   "metadata": {},
   "outputs": [
    {
     "data": {
      "text/plain": [
       "17"
      ]
     },
     "execution_count": 11,
     "metadata": {},
     "output_type": "execute_result"
    }
   ],
   "source": [
    "del transaction\n",
    "gc.collect()"
   ]
  },
  {
   "cell_type": "markdown",
   "id": "da3cc197-a5da-40b1-9c84-ca8a1def2bb5",
   "metadata": {},
   "source": [
    "方案二代码如下："
   ]
  },
  {
   "cell_type": "code",
   "execution_count": 12,
   "id": "1e818f50-9a29-40ba-9ad0-ef0c89c76c66",
   "metadata": {},
   "outputs": [],
   "source": [
    "merchant = pd.read_csv('data/merchants.csv')\n",
    "new_transaction = pd.read_csv('data/new_merchant_transactions.csv')\n",
    "history_transaction = pd.read_csv('data/historical_transactions.csv')"
   ]
  },
  {
   "cell_type": "code",
   "execution_count": 13,
   "id": "6eacd68a-3c74-445a-98a0-eabfdc1447d7",
   "metadata": {},
   "outputs": [],
   "source": [
    "# 1、根据业务含义划分离散字段category_cols与连续字段numeric_cols。\n",
    "category_cols = ['merchant_id', 'merchant_group_id', 'merchant_category_id',\n",
    "       'subsector_id', 'category_1',\n",
    "       'most_recent_sales_range', 'most_recent_purchases_range',\n",
    "       'category_4', 'city_id', 'state_id', 'category_2']\n",
    "numeric_cols = ['numerical_1', 'numerical_2',\n",
    "     'avg_sales_lag3', 'avg_purchases_lag3', 'active_months_lag3',\n",
    "       'avg_sales_lag6', 'avg_purchases_lag6', 'active_months_lag6',\n",
    "       'avg_sales_lag12', 'avg_purchases_lag12', 'active_months_lag12']\n",
    "\n",
    "# 2、对非数值型的离散字段进行字典排序编码。\n",
    "for col in ['category_1', 'most_recent_sales_range', 'most_recent_purchases_range', 'category_4']:\n",
    "    merchant[col] = change_object_cols(merchant[col])\n",
    "    \n",
    "# 3、为了能够更方便统计，进行缺失值的处理，对离散字段统一用-1进行填充。\n",
    "merchant[category_cols] = merchant[category_cols].fillna(-1)\n",
    "\n",
    "\n",
    "# 4、对离散型字段探查发现有正无穷值，这是特征提取以及模型所不能接受的，因此需要对无限值进行处理，此处采用最大值进行替换。\n",
    "inf_cols = ['avg_purchases_lag3', 'avg_purchases_lag6', 'avg_purchases_lag12']\n",
    "merchant[inf_cols] = merchant[inf_cols].replace(np.inf, merchant[inf_cols].replace(np.inf, -99).max().max())\n",
    "\n",
    "# 5、平均值进行填充，后续有需要再进行优化处理。\n",
    "for col in numeric_cols:\n",
    "    merchant[col] = merchant[col].fillna(merchant[col].mean())\n",
    "    \n",
    "# 6、去除与transaction交易记录表格重复的列，以及merchant_id的重复记录。\n",
    "duplicate_cols = ['merchant_id', 'merchant_category_id', 'subsector_id', 'category_1', 'city_id', 'state_id', 'category_2']\n",
    "merchant = merchant.drop(duplicate_cols[1:], axis=1)\n",
    "merchant = merchant.loc[merchant['merchant_id'].drop_duplicates().index.tolist()].reset_index(drop=True)"
   ]
  },
  {
   "cell_type": "code",
   "execution_count": 14,
   "id": "badf7ac6-14e6-4f3a-9d96-e2d772e2f26d",
   "metadata": {},
   "outputs": [],
   "source": [
    "# 1、为了统一处理，首先拼接new和history两张表格，后续可以month_lag>=0进行区分。\n",
    "transaction = pd.concat([new_transaction, history_transaction], axis=0, ignore_index=True)\n",
    "del new_transaction\n",
    "del history_transaction\n",
    "gc.collect()\n",
    "\n",
    "# 2、同样划分离散字段、连续字段以及时间字段。\n",
    "numeric_cols = [ 'installments', 'month_lag', 'purchase_amount']\n",
    "category_cols = ['authorized_flag', 'card_id', 'city_id', 'category_1',\n",
    "       'category_3', 'merchant_category_id', 'merchant_id', 'category_2', 'state_id',\n",
    "       'subsector_id']\n",
    "time_cols = ['purchase_date']\n",
    "\n",
    "# 3、可仿照merchant的处理方式对字符型的离散特征进行字典序编码以及缺失值填充。\n",
    "for col in ['authorized_flag', 'category_1', 'category_3']:\n",
    "    transaction[col] = change_object_cols(transaction[col].fillna(-1).astype(str))\n",
    "transaction[category_cols] = transaction[category_cols].fillna(-1)\n",
    "transaction['category_2'] = transaction['category_2'].astype(int)\n",
    "\n",
    "# 4、进行时间段的处理，简单起见进行月份、日期的星期数（工作日与周末）、以及\n",
    "# 时间段（上午、下午、晚上、凌晨）的信息提取。\n",
    "transaction['purchase_month'] = transaction['purchase_date'].apply(lambda x:'-'.join(x.split(' ')[0].split('-')[:2]))\n",
    "transaction['purchase_hour_section'] = transaction['purchase_date'].apply(lambda x: x.split(' ')[1].split(':')[0]).astype(int)//6\n",
    "transaction['purchase_day'] = transaction['purchase_date'].apply(lambda x: datetime.strptime(x.split(\" \")[0], \"%Y-%m-%d\").weekday())//5                                                                    \n",
    "del transaction['purchase_date']\n",
    "\n",
    "\n",
    "# 5、对新生成的购买月份离散字段进行字典序编码。\n",
    "transaction['purchase_month'] = change_object_cols(transaction['purchase_month'].fillna(-1).astype(str))"
   ]
  },
  {
   "cell_type": "code",
   "execution_count": 15,
   "id": "5826b293-7699-4ac1-b14b-8fd0cfc3eebc",
   "metadata": {},
   "outputs": [],
   "source": [
    "cols = ['merchant_id', 'most_recent_sales_range', 'most_recent_purchases_range', 'category_4']\n",
    "transaction = pd.merge(transaction, merchant[cols], how='left', on='merchant_id')\n",
    "\n",
    "numeric_cols = ['purchase_amount', 'installments']\n",
    "\n",
    "category_cols = ['authorized_flag', 'city_id', 'category_1',\n",
    "       'category_3', 'merchant_category_id','month_lag','most_recent_sales_range',\n",
    "                 'most_recent_purchases_range', 'category_4',\n",
    "                 'purchase_month', 'purchase_hour_section', 'purchase_day']\n",
    "\n",
    "id_cols = ['card_id', 'merchant_id']\n",
    "\n",
    "transaction['purchase_day_diff'] = transaction.groupby(\"card_id\")['purchase_day'].diff()\n",
    "transaction['purchase_month_diff'] = transaction.groupby(\"card_id\")['purchase_month'].diff()"
   ]
  },
  {
   "cell_type": "markdown",
   "id": "922cd04e-7f41-40c5-ab59-9030b700be47",
   "metadata": {},
   "source": [
    "&emsp;&emsp;随后将其导出为transaction_g_pre.csv"
   ]
  },
  {
   "cell_type": "code",
   "execution_count": 16,
   "id": "8c494705-f34a-401d-9123-a8c5817256f3",
   "metadata": {},
   "outputs": [],
   "source": [
    "transaction.to_csv(\"preprocess/transaction_g_pre.csv\", index=False)"
   ]
  },
  {
   "cell_type": "code",
   "execution_count": 17,
   "id": "38b8ff6f-0223-43ed-a9f1-06675c2c0a10",
   "metadata": {},
   "outputs": [
    {
     "data": {
      "text/plain": [
       "17"
      ]
     },
     "execution_count": 17,
     "metadata": {},
     "output_type": "execute_result"
    }
   ],
   "source": [
    "del transaction\n",
    "gc.collect()"
   ]
  },
  {
   "cell_type": "markdown",
   "id": "9ff9fc02-b435-4ece-923b-dcf4ae4eaff7",
   "metadata": {},
   "source": [
    "在导出完成这两张表之后，接下来我们将借助这些数据来进一步致性特征工程和算法建模。"
   ]
  }
 ],
 "metadata": {
  "kernelspec": {
   "display_name": "Python 3",
   "language": "python",
   "name": "python3"
  },
  "language_info": {
   "codemirror_mode": {
    "name": "ipython",
    "version": 3
   },
   "file_extension": ".py",
   "mimetype": "text/x-python",
   "name": "python",
   "nbconvert_exporter": "python",
   "pygments_lexer": "ipython3",
   "version": "3.8.8"
  }
 },
 "nbformat": 4,
 "nbformat_minor": 5
}
