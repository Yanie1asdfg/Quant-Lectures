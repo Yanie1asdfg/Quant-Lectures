{
 "cells": [
  {
   "cell_type": "markdown",
   "metadata": {},
   "source": [
    "### 查看有多少空值"
   ]
  },
  {
   "cell_type": "code",
   "execution_count": null,
   "metadata": {},
   "outputs": [],
   "source": [
    "# HANDLING MISSING VALUES\n",
    "print('There are %s NAN values in the train data'%train_file.isnull().sum().sum())"
   ]
  },
  {
   "attachments": {
    "02251ce0-7f72-47ab-9af9-fdbe0bb72b22.png": {
     "image/png": "[encoded data removed]"
    }
   },
   "cell_type": "markdown",
   "metadata": {},
   "source": [
    "![image.png](attachment:02251ce0-7f72-47ab-9af9-fdbe0bb72b22.png)"
   ]
  },
  {
   "cell_type": "markdown",
   "metadata": {},
   "source": [
    "### 缺失值处理  \n",
    "创建一个filter整体填充缺失值"
   ]
  },
  {
   "cell_type": "code",
   "execution_count": null,
   "metadata": {},
   "outputs": [],
   "source": [
    "features = [f'feature_{i}' for i in range(130)]\n",
    "val_range = train_file[features].max()-train_file[features].min()\n",
    "filler = pd.Series(train_file[features].min()-0.01*val_range, index=features)  #一个用负异常值填充所有缺失值的函数\n",
    "def fill_missing(df):\n",
    "    df[features] = df[features].fillna(filler)\n",
    "    return df  \n",
    "\n",
    "train = fill_missing(train_file)\n",
    "\n",
    "train.info()"
   ]
  }
 ],
 "metadata": {
  "kernelspec": {
   "display_name": "Python 3",
   "language": "python",
   "name": "python3"
  },
  "language_info": {
   "codemirror_mode": {
    "name": "ipython",
    "version": 3
   },
   "file_extension": ".py",
   "mimetype": "text/x-python",
   "name": "python",
   "nbconvert_exporter": "python",
   "pygments_lexer": "ipython3",
   "version": "3.7.1"
  }
 },
 "nbformat": 4,
 "nbformat_minor": 4
}
