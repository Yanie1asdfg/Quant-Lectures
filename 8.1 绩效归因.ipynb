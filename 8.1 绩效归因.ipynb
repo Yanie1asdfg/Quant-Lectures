{
 "cells": [
  {
   "cell_type": "markdown",
   "id": "sound-schedule",
   "metadata": {},
   "source": [
    "基金绩效归因模型"
   ]
  },
  {
   "cell_type": "markdown",
   "id": "blessed-albany",
   "metadata": {},
   "source": [
    "基于CAPM、T-M、H-M、C-L模型的基金绩效归因研究"
   ]
  },
  {
   "cell_type": "markdown",
   "id": "future-documentary",
   "metadata": {},
   "source": [
    "https://blog.csdn.net/qq_43382509/article/details/106446488"
   ]
  },
  {
   "cell_type": "code",
   "execution_count": null,
   "id": "engaged-brush",
   "metadata": {},
   "outputs": [],
   "source": []
  }
 ],
 "metadata": {
  "kernelspec": {
   "display_name": "Python 3",
   "language": "python",
   "name": "python3"
  },
  "language_info": {
   "codemirror_mode": {
    "name": "ipython",
    "version": 3
   },
   "file_extension": ".py",
   "mimetype": "text/x-python",
   "name": "python",
   "nbconvert_exporter": "python",
   "pygments_lexer": "ipython3",
   "version": "3.8.8"
  }
 },
 "nbformat": 4,
 "nbformat_minor": 5
}
