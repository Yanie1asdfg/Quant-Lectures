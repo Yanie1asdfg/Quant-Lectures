{
 "cells": [
  {
   "cell_type": "code",
   "execution_count": null,
   "metadata": {},
   "outputs": [],
   "source": [
    "# 获取当前bar 的代号\n",
    "index = ContextInfo.barpos\n",
    "# 获取当前 K 线对应时间的时间戳，返回的时int类型的时间戳  <class 'int'> 1605670200000 \n",
    "realtime = ContextInfo.get_bar_timetag(index)\n",
    "#获取指数成份股\n",
    "ContextInfo.get_sector('000300.SH', realtime)"
   ]
  },
  {
   "cell_type": "markdown",
   "metadata": {},
   "source": [
    "时间戳是一个float或int类型的数值，至少有 10 位整数。把时间戳转换为人类易读的时间，用到的是localtime()，与其相反的是mktime()能把人类易读的时间转换为时间戳。"
   ]
  },
  {
   "cell_type": "code",
   "execution_count": null,
   "metadata": {},
   "outputs": [],
   "source": [
    "# 时间戳转换为人类易读的时间\n",
    "# 结果是：time.struct_time(tm_year=2019, tm_mon=9, tm_mday=28, tm_hour=12, tm_min=12, tm_sec=1, tm_wday=5, tm_yday=271, tm_isdst=0)\n",
    "# 数据类型是 time.struct_time\n",
    "e = time.localtime(a)\n",
    "f = time.localtime(b)\n",
    "g = time.localtime(c//1000)\n",
    "h = time.localtime(d//1000000)\n",
    "\n",
    "# 人类易读的时间转换为时间戳\n",
    "# 结果是：1569643921.0,float\n",
    "i = time.mktime(e)\n",
    "j = time.mktime(f)\n",
    "k = time.mktime(g)\n",
    "l = time.mktime(h)"
   ]
  },
  {
   "cell_type": "markdown",
   "metadata": {},
   "source": [
    "经type()检查，localtime() 得到的结果，是 time.struct_time 类型，直观可见这个类型对人类依然不是最友好的。最友好的表达将用到 strftime 和 strptime 这两个方法，处理 time.struct_time 与string字符串 两个类型的互换。\n",
    "\n"
   ]
  },
  {
   "cell_type": "code",
   "execution_count": null,
   "metadata": {},
   "outputs": [],
   "source": [
    "# 把 struct_time 转换为指定格式的字符串\n",
    "# '2019-09-28 12:12:01 Saturday'\n",
    "good = time.strftime(\"%Y-%m-%d %H:%M:%S %A\", e)\n",
    "\n",
    "# 把字符串转换为 struct_time\n",
    "# 结果是：time.struct_time(tm_year=2019, tm_mon=9, tm_mday=28, tm_hour=12, tm_min=12, tm_sec=1, tm_wday=5, tm_yday=271, tm_isdst=-1)\n",
    "nice = time.strptime(good,\"%Y-%m-%d %H:%M:%S %A\")"
   ]
  },
  {
   "cell_type": "code",
   "execution_count": 20,
   "metadata": {},
   "outputs": [
    {
     "data": {
      "text/plain": [
       "('2020-11-18 11:30:00 Wednesday', datetime.datetime(2020, 11, 18, 11, 30))"
      ]
     },
     "execution_count": 20,
     "metadata": {},
     "output_type": "execute_result"
    }
   ],
   "source": [
    "import time \n",
    "from datetime import datetime\n",
    "st = float(1605670200000//1000)\n",
    "a = time.localtime(st)\n",
    "a = time.strftime(\"%Y-%m-%d %H:%M:%S %A\", a)\n",
    "b = datetime.strptime(a,\"%Y-%m-%d %H:%M:%S %A\")\n",
    "a,b"
   ]
  },
  {
   "cell_type": "code",
   "execution_count": null,
   "metadata": {},
   "outputs": [],
   "source": [
    "获取行情数据 ContextInfo.get_market_data()  \n",
    "获取历史行情数据 ContextInfo.get_history_data()\n",
    "判定股票是否停牌 ContextInfo.is_suspended_stock()"
   ]
  },
  {
   "cell_type": "code",
   "execution_count": null,
   "metadata": {},
   "outputs": [],
   "source": []
  }
 ],
 "metadata": {
  "kernelspec": {
   "display_name": "Python 3",
   "language": "python",
   "name": "python3"
  },
  "language_info": {
   "codemirror_mode": {
    "name": "ipython",
    "version": 3
   },
   "file_extension": ".py",
   "mimetype": "text/x-python",
   "name": "python",
   "nbconvert_exporter": "python",
   "pygments_lexer": "ipython3",
   "version": "3.7.1"
  }
 },
 "nbformat": 4,
 "nbformat_minor": 4
}
