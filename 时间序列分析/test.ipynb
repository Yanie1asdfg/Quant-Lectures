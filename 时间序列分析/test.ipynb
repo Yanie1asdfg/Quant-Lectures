{
 "cells": [
  {
   "cell_type": "code",
   "execution_count": 5,
   "id": "animated-means",
   "metadata": {},
   "outputs": [
    {
     "data": {
      "text/plain": [
       "False"
      ]
     },
     "execution_count": 5,
     "metadata": {},
     "output_type": "execute_result"
    }
   ],
   "source": [
    "\"2021-09-08 14:23:01\">\"2021-09-08 14:23:01\""
   ]
  },
  {
   "cell_type": "code",
   "execution_count": null,
   "id": "lasting-hormone",
   "metadata": {},
   "outputs": [],
   "source": []
  }
 ],
 "metadata": {
  "kernelspec": {
   "display_name": "Python 3",
   "language": "python",
   "name": "python3"
  },
  "language_info": {
   "codemirror_mode": {
    "name": "ipython",
    "version": 3
   },
   "file_extension": ".py",
   "mimetype": "text/x-python",
   "name": "python",
   "nbconvert_exporter": "python",
   "pygments_lexer": "ipython3",
   "version": "3.7.6"
  }
 },
 "nbformat": 4,
 "nbformat_minor": 5
}
