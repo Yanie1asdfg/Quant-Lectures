{
 "cells": [
  {
   "cell_type": "code",
   "execution_count": null,
   "id": "another-context",
   "metadata": {},
   "outputs": [],
   "source": []
  },
  {
   "cell_type": "code",
   "execution_count": null,
   "id": "immediate-sheriff",
   "metadata": {},
   "outputs": [],
   "source": [
    "HP 滤波 (Hodrick Prescott Filter)"
   ]
  },
  {
   "cell_type": "markdown",
   "id": "square-professor",
   "metadata": {},
   "source": [
    "https://blog.csdn.net/itnerd/article/details/105948495"
   ]
  },
  {
   "cell_type": "code",
   "execution_count": null,
   "id": "intense-course",
   "metadata": {},
   "outputs": [],
   "source": []
  }
 ],
 "metadata": {
  "kernelspec": {
   "display_name": "Python 3",
   "language": "python",
   "name": "python3"
  },
  "language_info": {
   "codemirror_mode": {
    "name": "ipython",
    "version": 3
   },
   "file_extension": ".py",
   "mimetype": "text/x-python",
   "name": "python",
   "nbconvert_exporter": "python",
   "pygments_lexer": "ipython3",
   "version": "3.7.6"
  }
 },
 "nbformat": 4,
 "nbformat_minor": 5
}
