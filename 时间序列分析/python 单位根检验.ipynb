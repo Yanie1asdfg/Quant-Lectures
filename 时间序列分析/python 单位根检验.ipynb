{
 "cells": [
  {
   "cell_type": "markdown",
   "id": "modern-contact",
   "metadata": {},
   "source": [
    "https://blog.csdn.net/weixin_34872032/article/details/111975279"
   ]
  },
  {
   "cell_type": "markdown",
   "id": "wireless-renaissance",
   "metadata": {},
   "source": [
    "# ADF检验\n",
    "在使用很多时间序列模型的时候，如 ARMA、ARIMA，都会要求时间序列是平稳的，所以一般在研究一段时间序列的时候，第一步都需要进行平稳性检验，除了用肉眼检测的方法，另外比较常用的严格的统计检验方法就是ADF检验，也叫做单位根检验。\n",
    "\n",
    "ADF检验全称是 Augmented Dickey-Fuller test，顾名思义，ADF是 Dickey-Fuller检验的增广形式。DF检验只能应用于一阶情况，当序列存在高阶的滞后相关时，可以使用ADF检验，所以说ADF是对DF检验的扩展。\n"
   ]
  },
  {
   "attachments": {
    "3a2215a6-7f6d-4ee0-867d-4a261793a4d5.png": {
     "image/png": "[encoded data removed]"
    }
   },
   "cell_type": "markdown",
   "id": "advised-statistics",
   "metadata": {},
   "source": [
    "# 单位根（unit root）\n",
    "在做ADF检验，也就是单位根检验时，需要先明白一个概念，也就是要检验的对象——单位根。\n",
    "\n",
    "当一个自回归过程中： ![image.png](attachment:3a2215a6-7f6d-4ee0-867d-4a261793a4d5.png)，如果滞后项系数b为1，就称为单位根。当单位根存在时，自变量和因变量之间的关系具有欺骗性，因为残差序列的任何误差都不会随着样本量（即时期数）增大而衰减，也就是说模型中的残差的影响是永久的。这种回归又称作伪回归。如果单位根存在，这个过程就是一个随机漫步（random walk）。\n"
   ]
  },
  {
   "cell_type": "markdown",
   "id": "emerging-scholarship",
   "metadata": {},
   "source": [
    "# ADF检验的原理\n",
    "ADF检验就是判断序列是否存在单位根：  \n",
    "    **如果序列平稳，就不存在单位根；否则，就会存在单位根。**\n",
    "\n",
    "所以，ADF检验的 H0 假设就是存在单位根，如果得到的显著性检验统计量小于三个置信度（10%，5%，1%），则对应有（90%，95，99%）的把握来拒绝原假设。"
   ]
  },
  {
   "cell_type": "markdown",
   "id": "governmental-willow",
   "metadata": {},
   "source": [
    "# ADF检验的python实现\n",
    "ADF检验可以通过python中的 statsmodels 模块，这个模块提供了很多统计模型。\n",
    "\n",
    "使用方法如下：\n",
    "\n",
    "导入adfuller函数"
   ]
  },
  {
   "cell_type": "code",
   "execution_count": null,
   "id": "chronic-province",
   "metadata": {},
   "outputs": [],
   "source": [
    "from statsmodels.tsa.stattools import adfuller"
   ]
  },
  {
   "cell_type": "markdown",
   "id": "accomplished-session",
   "metadata": {},
   "source": [
    "adfuller函数的参数意义分别是：\n",
    "\n",
    "x：一维的数据序列。  \n",
    "maxlag：最大滞后数目。   \n",
    "regression：回归中的包含项（c：只有常数项，默认；ct：常数项和趋势项；ctt：常数项，线性二次项；nc：没有常数项和趋势项）   \n",
    "autolag：自动选择滞后数目（AIC：赤池信息准则，默认；BIC：贝叶斯信息准则；t-stat：基于maxlag，从maxlag开始并删除一个滞后直到最后一个滞后长度基于 t-statistic 显著性小于5%为止；None：使用maxlag指定的滞后）   \n",
    "store：True  False，默认。   \n",
    "regresults：True 完整的回归结果将返回。False，默认。   \n"
   ]
  },
  {
   "cell_type": "markdown",
   "id": "supreme-major",
   "metadata": {},
   "source": [
    "返回值意义为：\n",
    "\n",
    "adf：Test statistic，T检验，假设检验值。   \n",
    "pvalue：假设检验结果。    \n",
    "usedlag：使用的滞后阶数。    \n",
    "nobs：用于ADF回归和计算临界值用到的观测值数目。    \n",
    "icbest：如果autolag不是None的话，返回最大的信息准则值。    \n",
    "resstore：将结果合并为一个dummy。    \n"
   ]
  },
  {
   "cell_type": "code",
   "execution_count": null,
   "id": "informational-trout",
   "metadata": {},
   "outputs": [],
   "source": [
    "https://blog.csdn.net/FrankieHello/article/details/86766625"
   ]
  },
  {
   "cell_type": "code",
   "execution_count": null,
   "id": "secondary-manor",
   "metadata": {},
   "outputs": [],
   "source": [
    "P值是t统计量对应的概率值，所以t和p两者是等效的，看p就够了。P值要求小于给定的显著性水平，一般是0.05、0.01等，p越接近于0越好；"
   ]
  }
 ],
 "metadata": {
  "kernelspec": {
   "display_name": "Python 3",
   "language": "python",
   "name": "python3"
  },
  "language_info": {
   "codemirror_mode": {
    "name": "ipython",
    "version": 3
   },
   "file_extension": ".py",
   "mimetype": "text/x-python",
   "name": "python",
   "nbconvert_exporter": "python",
   "pygments_lexer": "ipython3",
   "version": "3.7.6"
  }
 },
 "nbformat": 4,
 "nbformat_minor": 5
}
