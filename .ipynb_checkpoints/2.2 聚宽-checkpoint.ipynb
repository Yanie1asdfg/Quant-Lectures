{
 "cells": [
  {
   "cell_type": "markdown",
   "metadata": {},
   "source": [
    "### joinquant回测平台介绍"
   ]
  },
  {
   "cell_type": "markdown",
   "metadata": {},
   "source": [
    "## 1.两个部分：\n",
    "> 研究环境  jupyter notebook  \n",
    "> 回测环境  回测框架下的历史收益分析"
   ]
  },
  {
   "cell_type": "markdown",
   "metadata": {},
   "source": [
    "## 2.API函数"
   ]
  },
  {
   "cell_type": "markdown",
   "metadata": {},
   "source": [
    "#### 2.1初始化函数"
   ]
  },
  {
   "cell_type": "markdown",
   "metadata": {},
   "source": [
    "设定要操作的股票、基准等等  \n",
    "initialize(context)"
   ]
  },
  {
   "cell_type": "markdown",
   "metadata": {},
   "source": [
    "##### 1.1 时间运行函数  \n",
    "run_monthly/run_weekly/run_daily  \n",
    "每分钟运行       \n",
    "> run_daily(func1, time='every_bar')   \n",
    "\n",
    "11:00定时运行           \n",
    "> run_daily(func2, time='11:00')   \n",
    "\n",
    "14:00定时运行        \n",
    "> run_daily(func3, time='14:00')  \n",
    "\n",
    "14:50定时运行        \n",
    "> run_daily(func2, time='14:50') "
   ]
  },
  {
   "cell_type": "markdown",
   "metadata": {},
   "source": [
    "##### 1.2 设置基准"
   ]
  },
  {
   "cell_type": "code",
   "execution_count": null,
   "metadata": {},
   "outputs": [],
   "source": [
    "set_benchmark"
   ]
  },
  {
   "cell_type": "markdown",
   "metadata": {},
   "source": [
    "##### 1.3 设置佣金/印花税"
   ]
  },
  {
   "cell_type": "code",
   "execution_count": null,
   "metadata": {},
   "outputs": [],
   "source": [
    "set_order_cost"
   ]
  },
  {
   "cell_type": "markdown",
   "metadata": {},
   "source": [
    "##### 1.4 设置动态复权(真实价格)模式"
   ]
  },
  {
   "cell_type": "code",
   "execution_count": null,
   "metadata": {},
   "outputs": [],
   "source": [
    "use_real_price"
   ]
  },
  {
   "cell_type": "markdown",
   "metadata": {},
   "source": [
    "#### 2.2 开盘前运行的函数\n",
    "before_market_open(context)  \n",
    "handle_data(context, data)  "
   ]
  },
  {
   "cell_type": "markdown",
   "metadata": {},
   "source": [
    "#### 2.3 收盘后运行的函数\n",
    "after_market(context)"
   ]
  },
  {
   "cell_type": "markdown",
   "metadata": {},
   "source": [
    "#### 2.4 数据获取函数"
   ]
  },
  {
   "cell_type": "markdown",
   "metadata": {},
   "source": [
    "##### 获取历史数据\n",
    "> get_price  \n",
    "> history  \n",
    "> get_bars\n",
    "\n",
    "##### 获取最新的 tick 数据\n",
    "> get_current_tick\n",
    "\n",
    "##### 历史 tick 数据\n",
    "> get_ticks\n",
    "\n",
    "##### 获取当前时间数据\n",
    "> get_current_data\n",
    "\n",
    "##### 获取因子数据\n",
    "> get_all_factors\n",
    "\n",
    "##### 查询财务数据\n",
    "> get_fundamentals\n",
    "\n",
    "##### 获取所有标的信息\n",
    "> get_all_securities\n",
    "\n",
    "##### 获取单个标的信息\n",
    "> get_security_info\n",
    "\n",
    "##### 获取指数成份股\n",
    "> get_index_stocks\n",
    "\n",
    "##### 获取指定范围交易日\n",
    "> get_trade_days\n",
    "> get_all_trade_days"
   ]
  },
  {
   "cell_type": "markdown",
   "metadata": {},
   "source": [
    "### 2.5 下单函数"
   ]
  },
  {
   "cell_type": "markdown",
   "metadata": {},
   "source": [
    "### 2.6 账户对象"
   ]
  },
  {
   "cell_type": "code",
   "execution_count": null,
   "metadata": {},
   "outputs": [],
   "source": []
  }
 ],
 "metadata": {
  "kernelspec": {
   "display_name": "Python 3",
   "language": "python",
   "name": "python3"
  },
  "language_info": {
   "codemirror_mode": {
    "name": "ipython",
    "version": 3
   },
   "file_extension": ".py",
   "mimetype": "text/x-python",
   "name": "python",
   "nbconvert_exporter": "python",
   "pygments_lexer": "ipython3",
   "version": "3.7.1"
  }
 },
 "nbformat": 4,
 "nbformat_minor": 4
}
