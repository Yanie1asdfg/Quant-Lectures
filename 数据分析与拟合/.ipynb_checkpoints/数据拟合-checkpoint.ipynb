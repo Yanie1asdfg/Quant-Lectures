{
 "cells": [
  {
   "cell_type": "code",
   "execution_count": 16,
   "metadata": {},
   "outputs": [
    {
     "name": "stdout",
     "output_type": "stream",
     "text": [
      "本接口即将停止更新，请尽快使用Pro版接口：https://waditu.com/document/2\n"
     ]
    },
    {
     "ename": "ValueError",
     "evalue": "No axis named date for object type DataFrame",
     "output_type": "error",
     "traceback": [
      "\u001b[1;31m---------------------------------------------------------------------------\u001b[0m",
      "\u001b[1;31mKeyError\u001b[0m                                  Traceback (most recent call last)",
      "\u001b[1;32me:\\vnpy\\vn studio\\lib\\site-packages\\pandas\\core\\generic.py\u001b[0m in \u001b[0;36m_get_axis_number\u001b[1;34m(cls, axis)\u001b[0m\n\u001b[0;32m    367\u001b[0m         \u001b[1;32mtry\u001b[0m\u001b[1;33m:\u001b[0m\u001b[1;33m\u001b[0m\u001b[1;33m\u001b[0m\u001b[0m\n\u001b[1;32m--> 368\u001b[1;33m             \u001b[1;32mreturn\u001b[0m \u001b[0mcls\u001b[0m\u001b[1;33m.\u001b[0m\u001b[0m_AXIS_TO_AXIS_NUMBER\u001b[0m\u001b[1;33m[\u001b[0m\u001b[0maxis\u001b[0m\u001b[1;33m]\u001b[0m\u001b[1;33m\u001b[0m\u001b[1;33m\u001b[0m\u001b[0m\n\u001b[0m\u001b[0;32m    369\u001b[0m         \u001b[1;32mexcept\u001b[0m \u001b[0mKeyError\u001b[0m\u001b[1;33m:\u001b[0m\u001b[1;33m\u001b[0m\u001b[1;33m\u001b[0m\u001b[0m\n",
      "\u001b[1;31mKeyError\u001b[0m: 'date'",
      "\nDuring handling of the above exception, another exception occurred:\n",
      "\u001b[1;31mValueError\u001b[0m                                Traceback (most recent call last)",
      "\u001b[1;32m<ipython-input-16-f2e159d1a4c3>\u001b[0m in \u001b[0;36m<module>\u001b[1;34m\u001b[0m\n\u001b[0;32m      4\u001b[0m \u001b[1;33m\u001b[0m\u001b[0m\n\u001b[0;32m      5\u001b[0m \u001b[0mdf\u001b[0m \u001b[1;33m=\u001b[0m \u001b[0mts\u001b[0m\u001b[1;33m.\u001b[0m\u001b[0mget_hist_data\u001b[0m\u001b[1;33m(\u001b[0m\u001b[1;34m\"600158\"\u001b[0m\u001b[1;33m,\u001b[0m\u001b[1;34m'2020-05-03'\u001b[0m\u001b[1;33m,\u001b[0m\u001b[1;34m'2020-09-03'\u001b[0m\u001b[1;33m)\u001b[0m\u001b[1;33m\u001b[0m\u001b[1;33m\u001b[0m\u001b[0m\n\u001b[1;32m----> 6\u001b[1;33m \u001b[0mdf\u001b[0m \u001b[1;33m=\u001b[0m \u001b[0mdf\u001b[0m\u001b[1;33m.\u001b[0m\u001b[0msort_index\u001b[0m\u001b[1;33m(\u001b[0m\u001b[1;34m'date'\u001b[0m\u001b[1;33m)\u001b[0m\u001b[1;33m\u001b[0m\u001b[1;33m\u001b[0m\u001b[0m\n\u001b[0m\u001b[0;32m      7\u001b[0m \u001b[0mprint\u001b[0m\u001b[1;33m(\u001b[0m\u001b[0mdf\u001b[0m\u001b[1;33m.\u001b[0m\u001b[0mhead\u001b[0m\u001b[1;33m(\u001b[0m\u001b[1;36m5\u001b[0m\u001b[1;33m)\u001b[0m\u001b[1;33m)\u001b[0m\u001b[1;33m\u001b[0m\u001b[1;33m\u001b[0m\u001b[0m\n\u001b[0;32m      8\u001b[0m \u001b[0mdf\u001b[0m\u001b[1;33m.\u001b[0m\u001b[0mclose\u001b[0m\u001b[1;33m.\u001b[0m\u001b[0mplot\u001b[0m\u001b[1;33m(\u001b[0m\u001b[1;33m)\u001b[0m\u001b[1;33m\u001b[0m\u001b[1;33m\u001b[0m\u001b[0m\n",
      "\u001b[1;32me:\\vnpy\\vn studio\\lib\\site-packages\\pandas\\core\\frame.py\u001b[0m in \u001b[0;36msort_index\u001b[1;34m(self, axis, level, ascending, inplace, kind, na_position, sort_remaining, ignore_index, key)\u001b[0m\n\u001b[0;32m   5428\u001b[0m         \u001b[0minplace\u001b[0m \u001b[1;33m=\u001b[0m \u001b[0mvalidate_bool_kwarg\u001b[0m\u001b[1;33m(\u001b[0m\u001b[0minplace\u001b[0m\u001b[1;33m,\u001b[0m \u001b[1;34m\"inplace\"\u001b[0m\u001b[1;33m)\u001b[0m\u001b[1;33m\u001b[0m\u001b[1;33m\u001b[0m\u001b[0m\n\u001b[0;32m   5429\u001b[0m \u001b[1;33m\u001b[0m\u001b[0m\n\u001b[1;32m-> 5430\u001b[1;33m         \u001b[0maxis\u001b[0m \u001b[1;33m=\u001b[0m \u001b[0mself\u001b[0m\u001b[1;33m.\u001b[0m\u001b[0m_get_axis_number\u001b[0m\u001b[1;33m(\u001b[0m\u001b[0maxis\u001b[0m\u001b[1;33m)\u001b[0m\u001b[1;33m\u001b[0m\u001b[1;33m\u001b[0m\u001b[0m\n\u001b[0m\u001b[0;32m   5431\u001b[0m         \u001b[0mlabels\u001b[0m \u001b[1;33m=\u001b[0m \u001b[0mself\u001b[0m\u001b[1;33m.\u001b[0m\u001b[0m_get_axis\u001b[0m\u001b[1;33m(\u001b[0m\u001b[0maxis\u001b[0m\u001b[1;33m)\u001b[0m\u001b[1;33m\u001b[0m\u001b[1;33m\u001b[0m\u001b[0m\n\u001b[0;32m   5432\u001b[0m         \u001b[0mlabels\u001b[0m \u001b[1;33m=\u001b[0m \u001b[0mensure_key_mapped\u001b[0m\u001b[1;33m(\u001b[0m\u001b[0mlabels\u001b[0m\u001b[1;33m,\u001b[0m \u001b[0mkey\u001b[0m\u001b[1;33m,\u001b[0m \u001b[0mlevels\u001b[0m\u001b[1;33m=\u001b[0m\u001b[0mlevel\u001b[0m\u001b[1;33m)\u001b[0m\u001b[1;33m\u001b[0m\u001b[1;33m\u001b[0m\u001b[0m\n",
      "\u001b[1;32me:\\vnpy\\vn studio\\lib\\site-packages\\pandas\\core\\generic.py\u001b[0m in \u001b[0;36m_get_axis_number\u001b[1;34m(cls, axis)\u001b[0m\n\u001b[0;32m    368\u001b[0m             \u001b[1;32mreturn\u001b[0m \u001b[0mcls\u001b[0m\u001b[1;33m.\u001b[0m\u001b[0m_AXIS_TO_AXIS_NUMBER\u001b[0m\u001b[1;33m[\u001b[0m\u001b[0maxis\u001b[0m\u001b[1;33m]\u001b[0m\u001b[1;33m\u001b[0m\u001b[1;33m\u001b[0m\u001b[0m\n\u001b[0;32m    369\u001b[0m         \u001b[1;32mexcept\u001b[0m \u001b[0mKeyError\u001b[0m\u001b[1;33m:\u001b[0m\u001b[1;33m\u001b[0m\u001b[1;33m\u001b[0m\u001b[0m\n\u001b[1;32m--> 370\u001b[1;33m             \u001b[1;32mraise\u001b[0m \u001b[0mValueError\u001b[0m\u001b[1;33m(\u001b[0m\u001b[1;34mf\"No axis named {axis} for object type {cls.__name__}\"\u001b[0m\u001b[1;33m)\u001b[0m\u001b[1;33m\u001b[0m\u001b[1;33m\u001b[0m\u001b[0m\n\u001b[0m\u001b[0;32m    371\u001b[0m \u001b[1;33m\u001b[0m\u001b[0m\n\u001b[0;32m    372\u001b[0m     \u001b[1;33m@\u001b[0m\u001b[0mclassmethod\u001b[0m\u001b[1;33m\u001b[0m\u001b[1;33m\u001b[0m\u001b[0m\n",
      "\u001b[1;31mValueError\u001b[0m: No axis named date for object type DataFrame"
     ]
    }
   ],
   "source": [
    "import tushare as ts\n",
    "import numpy as np\n",
    "import matplotlib.pyplot as plt\n",
    "\n",
    "df = ts.get_hist_data(\"600158\",'2020-05-03','2020-09-03')\n",
    "df = df.sort_index('date')\n",
    "print(df.head(5))\n",
    "df.close.plot()"
   ]
  },
  {
   "cell_type": "code",
   "execution_count": 11,
   "metadata": {},
   "outputs": [
    {
     "name": "stdout",
     "output_type": "stream",
     "text": [
      "[14.17, 14.19, 14.41, 14.5, 14.32, 15.12, 16.8, 16.09, 14.63, 13.3, 14.3, 13.0, 13.16, 11.96, 10.87, 9.88, 10.12, 10.03, 9.99, 9.31, 9.13, 9.14, 9.13, 9.05, 8.83, 8.73, 8.78, 8.66, 8.63, 8.85, 9.16, 9.28, 9.25, 9.16, 8.83, 8.79, 9.06, 9.28, 9.41, 9.2, 9.22, 9.13, 8.85, 8.92, 8.61, 8.48, 8.47, 8.18, 8.13, 8.24, 8.31, 8.36, 8.34, 8.32, 8.3, 8.33, 8.28, 8.43, 8.41, 8.45, 8.59, 8.59, 8.62, 8.52, 8.51, 8.52, 8.49, 8.32, 8.2, 8.28, 8.35, 8.26, 8.34, 8.5, 8.74, 8.68, 8.6, 8.55, 8.54, 8.61, 8.66, 8.74, 8.72, 8.62, 8.78]\n",
      "[0.2 0.2 0.2 0.2 0.2]\n"
     ]
    },
    {
     "data": {
      "text/plain": [
       "[<matplotlib.lines.Line2D at 0x20a7be11d68>]"
      ]
     },
     "execution_count": 11,
     "metadata": {},
     "output_type": "execute_result"
    },
    {
     "data": {
      "image/png": "[encoded data removed]",
      "text/plain": [
       "<Figure size 432x288 with 1 Axes>"
      ]
     },
     "metadata": {
      "needs_background": "light"
     },
     "output_type": "display_data"
    }
   ],
   "source": [
    "'''\n",
    "卷积就象一把锉刀，它主要是把一些非光滑的函数或算子光滑化。\n",
    "numpy.convolve(a, v, mode=‘full’)，这是numpy函数中的卷积函数库\n",
    "a:(N,)输入的一维数组\n",
    "b:(M,)输入的第二个一维数组\n",
    "mode:{‘full’, ‘valid’, ‘same’}参数可选\n",
    "  ‘full’　默认值，返回每一个卷积值，长度是N+M-1,在卷积的边缘处，信号不重叠，存在边际效应。\n",
    "  ‘same’　返回的数组长度为max(M, N),边际效应依旧存在。\n",
    "  ‘valid’ 　返回的数组长度为max(M,N)-min(M,N)+1,此时返回的是完全重叠的点。边缘的点无效。\n",
    "---------------------------------------------------------------------------------\n",
    "np.ones()返回一个全1的n维数组，同样也有三个参数：shape（用来指定返回数组的大小）、\n",
    "dtype（数组元素的类型）、order（是否以内存中的C或Fortran连续（行或列）顺序存储多维数据）。\n",
    "后两个参数都是可选的，一般只需设定第一个参数。\n",
    "'''\n",
    "def moving_average(ts, win):\n",
    "    return np.convolve(ts, np.ones(win)/win, 'valid')\n",
    "\n",
    "\n",
    "def rmse(y, y_hat):\n",
    "    \"\"\"\n",
    "    返回预测序列相对于真值序列的标准差。\n",
    "    Args:\n",
    "        y:\n",
    "        y_hat:\n",
    "\n",
    "    Returns:\n",
    "\n",
    "    \"\"\"\n",
    "    return np.sqrt(np.mean(np.square(y - y_hat)))\n",
    "print(df.close.tolist())\n",
    "ma = moving_average(df.close, 5)\n",
    "print(np.ones(5)/5)\n",
    "# 这里ma是一个numpy数组,numpy数组可以与标量进行element-wise操作，这被称之为广播\n",
    "ts = ma/ma[0]\n",
    "\n",
    "# plt.plot(ma)\n",
    "plt.plot(ts)"
   ]
  },
  {
   "cell_type": "code",
   "execution_count": 12,
   "metadata": {},
   "outputs": [
    {
     "ename": "NameError",
     "evalue": "name 'get_all_securities' is not defined",
     "output_type": "error",
     "traceback": [
      "\u001b[1;31m---------------------------------------------------------------------------\u001b[0m",
      "\u001b[1;31mNameError\u001b[0m                                 Traceback (most recent call last)",
      "\u001b[1;32m<ipython-input-12-a167c69e69e2>\u001b[0m in \u001b[0;36m<module>\u001b[1;34m\u001b[0m\n\u001b[0;32m      1\u001b[0m \u001b[1;32mimport\u001b[0m \u001b[0mscipy\u001b[0m\u001b[1;33m.\u001b[0m\u001b[0mstats\u001b[0m \u001b[1;32mas\u001b[0m \u001b[0mstats\u001b[0m\u001b[1;33m\u001b[0m\u001b[1;33m\u001b[0m\u001b[0m\n\u001b[1;32m----> 2\u001b[1;33m \u001b[0msecurities\u001b[0m \u001b[1;33m=\u001b[0m \u001b[0mget_all_securities\u001b[0m\u001b[1;33m(\u001b[0m\u001b[1;33m)\u001b[0m\u001b[1;33m\u001b[0m\u001b[1;33m\u001b[0m\u001b[0m\n\u001b[0m\u001b[0;32m      3\u001b[0m \u001b[1;32mdef\u001b[0m \u001b[0mfind_parabola\u001b[0m\u001b[1;33m(\u001b[0m\u001b[0munit\u001b[0m\u001b[1;33m=\u001b[0m\u001b[1;34m'1d'\u001b[0m\u001b[1;33m,\u001b[0m \u001b[0ma\u001b[0m \u001b[1;33m=\u001b[0m \u001b[1;36m0\u001b[0m\u001b[1;33m,\u001b[0m \u001b[0me\u001b[0m\u001b[1;33m=\u001b[0m\u001b[1;36m3e-3\u001b[0m\u001b[1;33m,\u001b[0m \u001b[0mfit_win\u001b[0m\u001b[1;33m=\u001b[0m\u001b[1;36m7\u001b[0m\u001b[1;33m)\u001b[0m\u001b[1;33m:\u001b[0m\u001b[1;33m\u001b[0m\u001b[1;33m\u001b[0m\u001b[0m\n\u001b[0;32m      4\u001b[0m     \u001b[0mx\u001b[0m \u001b[1;33m=\u001b[0m \u001b[0mnp\u001b[0m\u001b[1;33m.\u001b[0m\u001b[0marange\u001b[0m\u001b[1;33m(\u001b[0m\u001b[1;36m7\u001b[0m\u001b[1;33m)\u001b[0m\u001b[1;33m\u001b[0m\u001b[1;33m\u001b[0m\u001b[0m\n\u001b[0;32m      5\u001b[0m     \u001b[0mfields\u001b[0m \u001b[1;33m=\u001b[0m \u001b[1;33m[\u001b[0m\u001b[1;34m'date'\u001b[0m\u001b[1;33m,\u001b[0m \u001b[1;34m'close'\u001b[0m\u001b[1;33m,\u001b[0m \u001b[1;34m'open'\u001b[0m\u001b[1;33m,\u001b[0m\u001b[1;34m'volume'\u001b[0m\u001b[1;33m]\u001b[0m\u001b[1;33m\u001b[0m\u001b[1;33m\u001b[0m\u001b[0m\n",
      "\u001b[1;31mNameError\u001b[0m: name 'get_all_securities' is not defined"
     ]
    }
   ],
   "source": [
    "import scipy.stats as stats\n",
    "securities = ['002594','002024','002037','000002','600518','600487','601668','300353','601919','600859']\n",
    "def find_parabola(unit='1d', a = 0, e=3e-3, fit_win=7):\n",
    "    # array([0, 1, 2, 3, 4, 5, 6])\n",
    "    x = np.arange(7)\n",
    "    fields = ['date', 'close', 'open','volume']\n",
    "\n",
    "    # 设置与显示相关的参数\n",
    "    plt.figure(figsize=(15,15))\n",
    "    plt.subplots_adjust(hspace=0.3)\n",
    "\n",
    "    count = 0\n",
    "    for code in securities:\n",
    "        bars = get_bars(code, fit_win + 5 - 1, unit=unit, include_now=True, df=False, fields=fields)\n",
    "        if len(bars) != fit_win + 5 -1:\n",
    "            continue\n",
    "\n",
    "        ma = moving_average(bars['close'], 5)\n",
    "        ts = ma/ma[0]\n",
    "        coef = np.polyfit(x, ts, deg=2)\n",
    "        p = np.poly1d(coef)\n",
    "        ts_hat = np.array([p(xi) for xi in x])\n",
    "        r, p = stats.pearsonr(ts, ts_hat)\n",
    "        err = rmse(ts, ts_hat) / np.sqrt(np.mean(np.square(ts)))\n",
    "        if err > e:\n",
    "            continue\n",
    "\n",
    "        _a,_b,_c = coef\n",
    "        vert_x = -_b / (2 * _a)\n",
    "        t1 = _a > a and (fit_win-2)>vert_x > 2\n",
    "        # 如果是用于实际选股，你还需要加上其它条件，比如当前收阳，或者量能增加等\n",
    "        #         if not t1:\n",
    "        #             continue\n",
    "        #         vol_up = bars['volume'][-4:-1]>bars['volume'][-5:-2]\n",
    "\n",
    "        #         t2 = np.count_nonzero(vol_up) >= 2\n",
    "        #         if not t2:\n",
    "        #             continue\n",
    "\n",
    "        #         ups = bars['close'][-3:]>bars['open'][-3:]\n",
    "        #         t3 = np.count_nonzero(ups) == 3\n",
    "        #         if not t3:\n",
    "        #             continue\n",
    "\n",
    "        # 作为示例，我们只输出9张图\n",
    "        if count >= 9:\n",
    "            break\n",
    "\n",
    "        if t1:\n",
    "            count += 1\n",
    "\n",
    "            ax = plt.subplot(int(f\"33{count}\"))\n",
    "            # 显示股票代码，为避免推广嫌疑，这里注释掉。读者在运行时可以自己打开。\n",
    "            # ax.set_title(code)\n",
    "            ax.set_title(f\"a:{_a:.3f} b:{_b:.3f}, vx: {vert_x:.1f},r:{r:.3f},p:{p:.3f}\")\n",
    "            plt.plot(x, ts)\n",
    "            plt.plot(x, ts_hat, '--')\n",
    "\n",
    "\n",
    "find_parabola()"
   ]
  },
  {
   "cell_type": "code",
   "execution_count": 13,
   "metadata": {},
   "outputs": [
    {
     "data": {
      "text/plain": [
       "array([0, 1, 2, 3, 4, 5, 6])"
      ]
     },
     "execution_count": 13,
     "metadata": {},
     "output_type": "execute_result"
    }
   ],
   "source": [
    "x = np.arange(7)\n",
    "x"
   ]
  },
  {
   "cell_type": "code",
   "execution_count": null,
   "metadata": {},
   "outputs": [],
   "source": []
  }
 ],
 "metadata": {
  "kernelspec": {
   "display_name": "Python 3",
   "language": "python",
   "name": "python3"
  },
  "language_info": {
   "codemirror_mode": {
    "name": "ipython",
    "version": 3
   },
   "file_extension": ".py",
   "mimetype": "text/x-python",
   "name": "python",
   "nbconvert_exporter": "python",
   "pygments_lexer": "ipython3",
   "version": "3.7.1"
  }
 },
 "nbformat": 4,
 "nbformat_minor": 4
}
