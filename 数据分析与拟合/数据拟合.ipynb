{
 "cells": [
  {
   "cell_type": "code",
   "execution_count": 17,
   "metadata": {},
   "outputs": [
    {
     "name": "stdout",
     "output_type": "stream",
     "text": [
      "本接口即将停止更新，请尽快使用Pro版接口：https://waditu.com/document/2\n",
      "            open  high  close   low     volume  price_change  p_change    ma5  \\\n",
      "date                                                                            \n",
      "2020-05-06  8.50  9.03   8.78  8.48  144513.02          0.19      2.21  8.510   \n",
      "2020-05-07  8.74  8.79   8.62  8.61   91354.79         -0.16     -1.82  8.568   \n",
      "2020-05-08  8.66  8.78   8.72  8.63   66462.71          0.10      1.16  8.630   \n",
      "2020-05-11  8.72  8.88   8.74  8.68   92209.82          0.02      0.23  8.690   \n",
      "2020-05-12  8.70  8.81   8.66  8.60   69220.81         -0.08     -0.92  8.704   \n",
      "\n",
      "             ma10   ma20      v_ma5     v_ma10    v_ma20  turnover  \n",
      "date                                                                \n",
      "2020-05-06  8.489  8.483   99234.08  101892.24  88398.97      2.20  \n",
      "2020-05-07  8.510  8.491  103293.44  105599.52  89909.80      1.39  \n",
      "2020-05-08  8.552  8.493   97312.90  106229.48  88478.59      1.01  \n",
      "2020-05-11  8.592  8.500  101367.05  110570.03  89721.62      1.40  \n",
      "2020-05-12  8.583  8.497   92752.23   96127.61  89364.31      1.05  \n"
     ]
    },
    {
     "data": {
      "text/plain": [
       "<matplotlib.axes._subplots.AxesSubplot at 0x20a12c6cb00>"
      ]
     },
     "execution_count": 17,
     "metadata": {},
     "output_type": "execute_result"
    },
    {
     "data": {
      "image/png": "[encoded data removed]",
      "text/plain": [
       "<Figure size 432x288 with 1 Axes>"
      ]
     },
     "metadata": {
      "needs_background": "light"
     },
     "output_type": "display_data"
    }
   ],
   "source": [
    "import tushare as ts\n",
    "import numpy as np\n",
    "import matplotlib.pyplot as plt\n",
    "\n",
    "df = ts.get_hist_data(\"600158\",'2020-05-03','2020-09-03')\n",
    "df = df.sort_index()\n",
    "print(df.head(5))\n",
    "df.close.plot()"
   ]
  },
  {
   "cell_type": "code",
   "execution_count": 18,
   "metadata": {},
   "outputs": [
    {
     "name": "stdout",
     "output_type": "stream",
     "text": [
      "[8.78, 8.62, 8.72, 8.74, 8.66, 8.61, 8.54, 8.55, 8.6, 8.68, 8.74, 8.5, 8.34, 8.26, 8.35, 8.28, 8.2, 8.32, 8.49, 8.52, 8.51, 8.52, 8.62, 8.59, 8.59, 8.45, 8.41, 8.43, 8.28, 8.33, 8.3, 8.32, 8.34, 8.36, 8.31, 8.24, 8.13, 8.18, 8.47, 8.48, 8.61, 8.92, 8.85, 9.13, 9.22, 9.2, 9.41, 9.28, 9.06, 8.79, 8.83, 9.16, 9.25, 9.28, 9.16, 8.85, 8.63, 8.66, 8.78, 8.73, 8.83, 9.05, 9.13, 9.14, 9.13, 9.31, 9.99, 10.03, 10.12, 9.88, 10.87, 11.96, 13.16, 13.0, 14.3, 13.3, 14.63, 16.09, 16.8, 15.12, 14.32, 14.5, 14.41, 14.19, 14.17]\n",
      "[0.2 0.2 0.2 0.2 0.2]\n"
     ]
    },
    {
     "data": {
      "text/plain": [
       "[<matplotlib.lines.Line2D at 0x20a12efa9b0>]"
      ]
     },
     "execution_count": 18,
     "metadata": {},
     "output_type": "execute_result"
    },
    {
     "data": {
      "image/png": "[encoded data removed]",
      "text/plain": [
       "<Figure size 432x288 with 1 Axes>"
      ]
     },
     "metadata": {
      "needs_background": "light"
     },
     "output_type": "display_data"
    }
   ],
   "source": [
    "'''\n",
    "卷积就象一把锉刀，它主要是把一些非光滑的函数或算子光滑化。\n",
    "numpy.convolve(a, v, mode=‘full’)，这是numpy函数中的卷积函数库\n",
    "a:(N,)输入的一维数组\n",
    "b:(M,)输入的第二个一维数组\n",
    "mode:{‘full’, ‘valid’, ‘same’}参数可选\n",
    "  ‘full’　默认值，返回每一个卷积值，长度是N+M-1,在卷积的边缘处，信号不重叠，存在边际效应。\n",
    "  ‘same’　返回的数组长度为max(M, N),边际效应依旧存在。\n",
    "  ‘valid’ 　返回的数组长度为max(M,N)-min(M,N)+1,此时返回的是完全重叠的点。边缘的点无效。\n",
    "---------------------------------------------------------------------------------\n",
    "np.ones()返回一个全1的n维数组，同样也有三个参数：shape（用来指定返回数组的大小）、\n",
    "dtype（数组元素的类型）、order（是否以内存中的C或Fortran连续（行或列）顺序存储多维数据）。\n",
    "后两个参数都是可选的，一般只需设定第一个参数。\n",
    "'''\n",
    "def moving_average(ts, win):\n",
    "    return np.convolve(ts, np.ones(win)/win, 'valid')\n",
    "\n",
    "\n",
    "def rmse(y, y_hat):\n",
    "    \"\"\"\n",
    "    返回预测序列相对于真值序列的标准差。\n",
    "    Args:\n",
    "        y:\n",
    "        y_hat:\n",
    "\n",
    "    Returns:\n",
    "\n",
    "    \"\"\"\n",
    "    return np.sqrt(np.mean(np.square(y - y_hat)))\n",
    "print(df.close.tolist())\n",
    "ma = moving_average(df.close, 5)\n",
    "print(np.ones(5)/5)\n",
    "# 这里ma是一个numpy数组,numpy数组可以与标量进行element-wise操作，这被称之为广播\n",
    "ts = ma/ma[0]\n",
    "\n",
    "# plt.plot(ma)\n",
    "plt.plot(ts)"
   ]
  },
  {
   "cell_type": "code",
   "execution_count": 12,
   "metadata": {},
   "outputs": [
    {
     "ename": "NameError",
     "evalue": "name 'get_all_securities' is not defined",
     "output_type": "error",
     "traceback": [
      "\u001b[1;31m---------------------------------------------------------------------------\u001b[0m",
      "\u001b[1;31mNameError\u001b[0m                                 Traceback (most recent call last)",
      "\u001b[1;32m<ipython-input-12-a167c69e69e2>\u001b[0m in \u001b[0;36m<module>\u001b[1;34m\u001b[0m\n\u001b[0;32m      1\u001b[0m \u001b[1;32mimport\u001b[0m \u001b[0mscipy\u001b[0m\u001b[1;33m.\u001b[0m\u001b[0mstats\u001b[0m \u001b[1;32mas\u001b[0m \u001b[0mstats\u001b[0m\u001b[1;33m\u001b[0m\u001b[1;33m\u001b[0m\u001b[0m\n\u001b[1;32m----> 2\u001b[1;33m \u001b[0msecurities\u001b[0m \u001b[1;33m=\u001b[0m \u001b[0mget_all_securities\u001b[0m\u001b[1;33m(\u001b[0m\u001b[1;33m)\u001b[0m\u001b[1;33m\u001b[0m\u001b[1;33m\u001b[0m\u001b[0m\n\u001b[0m\u001b[0;32m      3\u001b[0m \u001b[1;32mdef\u001b[0m \u001b[0mfind_parabola\u001b[0m\u001b[1;33m(\u001b[0m\u001b[0munit\u001b[0m\u001b[1;33m=\u001b[0m\u001b[1;34m'1d'\u001b[0m\u001b[1;33m,\u001b[0m \u001b[0ma\u001b[0m \u001b[1;33m=\u001b[0m \u001b[1;36m0\u001b[0m\u001b[1;33m,\u001b[0m \u001b[0me\u001b[0m\u001b[1;33m=\u001b[0m\u001b[1;36m3e-3\u001b[0m\u001b[1;33m,\u001b[0m \u001b[0mfit_win\u001b[0m\u001b[1;33m=\u001b[0m\u001b[1;36m7\u001b[0m\u001b[1;33m)\u001b[0m\u001b[1;33m:\u001b[0m\u001b[1;33m\u001b[0m\u001b[1;33m\u001b[0m\u001b[0m\n\u001b[0;32m      4\u001b[0m     \u001b[0mx\u001b[0m \u001b[1;33m=\u001b[0m \u001b[0mnp\u001b[0m\u001b[1;33m.\u001b[0m\u001b[0marange\u001b[0m\u001b[1;33m(\u001b[0m\u001b[1;36m7\u001b[0m\u001b[1;33m)\u001b[0m\u001b[1;33m\u001b[0m\u001b[1;33m\u001b[0m\u001b[0m\n\u001b[0;32m      5\u001b[0m     \u001b[0mfields\u001b[0m \u001b[1;33m=\u001b[0m \u001b[1;33m[\u001b[0m\u001b[1;34m'date'\u001b[0m\u001b[1;33m,\u001b[0m \u001b[1;34m'close'\u001b[0m\u001b[1;33m,\u001b[0m \u001b[1;34m'open'\u001b[0m\u001b[1;33m,\u001b[0m\u001b[1;34m'volume'\u001b[0m\u001b[1;33m]\u001b[0m\u001b[1;33m\u001b[0m\u001b[1;33m\u001b[0m\u001b[0m\n",
      "\u001b[1;31mNameError\u001b[0m: name 'get_all_securities' is not defined"
     ]
    }
   ],
   "source": [
    "import scipy.stats as stats\n",
    "end = 2020-09-03'\n",
    "securities = ['600158','002594','002024','002037','000002','600518','600487','601668','300353','601919','600859']\n",
    "def find_parabola(unit='1d', a = 0, e=3e-3, fit_win=7):\n",
    "    # array([0, 1, 2, 3, 4, 5, 6])\n",
    "    x = np.arange(7)\n",
    "    fields = ['date', 'close', 'open','volume']\n",
    "\n",
    "    # 设置与显示相关的参数\n",
    "    plt.figure(figsize=(15,15))\n",
    "    plt.subplots_adjust(hspace=0.3)\n",
    "\n",
    "    count = 0\n",
    "    for code in securities:\n",
    "        bar = ts.get_hist_data(code,'2020-05-03',end)\n",
    "        bars = get_bars(code, fit_win + 5 - 1, unit=unit, include_now=True, df=False, fields=fields)\n",
    "        if len(bars) != fit_win + 5 -1:\n",
    "            continue\n",
    "\n",
    "        ma = moving_average(bars['close'], 5)\n",
    "        ts = ma/ma[0]\n",
    "        coef = np.polyfit(x, ts, deg=2)\n",
    "        p = np.poly1d(coef)\n",
    "        ts_hat = np.array([p(xi) for xi in x])\n",
    "        r, p = stats.pearsonr(ts, ts_hat)\n",
    "        err = rmse(ts, ts_hat) / np.sqrt(np.mean(np.square(ts)))\n",
    "        if err > e:\n",
    "            continue\n",
    "\n",
    "        _a,_b,_c = coef\n",
    "        vert_x = -_b / (2 * _a)\n",
    "        t1 = _a > a and (fit_win-2)>vert_x > 2\n",
    "        # 如果是用于实际选股，你还需要加上其它条件，比如当前收阳，或者量能增加等\n",
    "        #         if not t1:\n",
    "        #             continue\n",
    "        #         vol_up = bars['volume'][-4:-1]>bars['volume'][-5:-2]\n",
    "\n",
    "        #         t2 = np.count_nonzero(vol_up) >= 2\n",
    "        #         if not t2:\n",
    "        #             continue\n",
    "\n",
    "        #         ups = bars['close'][-3:]>bars['open'][-3:]\n",
    "        #         t3 = np.count_nonzero(ups) == 3\n",
    "        #         if not t3:\n",
    "        #             continue\n",
    "\n",
    "        # 作为示例，我们只输出9张图\n",
    "        if count >= 9:\n",
    "            break\n",
    "\n",
    "        if t1:\n",
    "            count += 1\n",
    "\n",
    "            ax = plt.subplot(int(f\"33{count}\"))\n",
    "            # 显示股票代码，为避免推广嫌疑，这里注释掉。读者在运行时可以自己打开。\n",
    "            # ax.set_title(code)\n",
    "            ax.set_title(f\"a:{_a:.3f} b:{_b:.3f}, vx: {vert_x:.1f},r:{r:.3f},p:{p:.3f}\")\n",
    "            plt.plot(x, ts)\n",
    "            plt.plot(x, ts_hat, '--')\n",
    "\n",
    "\n",
    "find_parabola()"
   ]
  },
  {
   "cell_type": "code",
   "execution_count": 13,
   "metadata": {},
   "outputs": [
    {
     "data": {
      "text/plain": [
       "array([0, 1, 2, 3, 4, 5, 6])"
      ]
     },
     "execution_count": 13,
     "metadata": {},
     "output_type": "execute_result"
    }
   ],
   "source": [
    "x = np.arange(7)\n",
    "x"
   ]
  },
  {
   "cell_type": "code",
   "execution_count": null,
   "metadata": {},
   "outputs": [],
   "source": []
  }
 ],
 "metadata": {
  "kernelspec": {
   "display_name": "Python 3",
   "language": "python",
   "name": "python3"
  },
  "language_info": {
   "codemirror_mode": {
    "name": "ipython",
    "version": 3
   },
   "file_extension": ".py",
   "mimetype": "text/x-python",
   "name": "python",
   "nbconvert_exporter": "python",
   "pygments_lexer": "ipython3",
   "version": "3.7.1"
  }
 },
 "nbformat": 4,
 "nbformat_minor": 4
}
