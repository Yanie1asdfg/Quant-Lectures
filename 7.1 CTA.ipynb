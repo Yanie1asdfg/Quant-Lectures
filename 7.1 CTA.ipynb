{
 "cells": [
  {
   "cell_type": "markdown",
   "metadata": {},
   "source": [
    "# CTA策略(Commodity Trading Advisor Strategy)"
   ]
  },
  {
   "cell_type": "markdown",
   "metadata": {},
   "source": [
    "CTA策略(Commodity Trading Advisor Strategy)称为商品交易顾问策略，也称作管理期货。  \n",
    "商品交易顾问对商品等投资标的走势做出预判，通过期货期权等衍生品在投资中进行做多、做空或多空双向的投资操作，为投资者获取来自于传统股票、债券等资产类别之外的投资回报。"
   ]
  },
  {
   "cell_type": "markdown",
   "metadata": {},
   "source": [
    "就投资方法而言，CTA基金有两大类，一类是主观CTA，即由基金管理人基于基本面、调研或操盘经验，主观来判断走势，决定买卖时点；第二大类是量化CTA，是通过分析建立数量化的交易策略模型，由模型产生的买卖信号进行投资决策。其中每个策略又包含了一些不同的子策略。特点有："
   ]
  },
  {
   "cell_type": "markdown",
   "metadata": {},
   "source": [
    "1.成长于波动。期货市场是多空交易机制，CTA策略的机会可以是任意方向的波动。\n",
    "\n",
    "2.制胜于交易。量化CTA的交易方法，一般是在基本面和技术分析中导入数量模型，并根据数量模型产生的买或卖的信号进行投资决策。"
   ]
  },
  {
   "cell_type": "markdown",
   "metadata": {},
   "source": [
    "3.成长于波动。期货市场是多空交易机制，CTA策略的机会可以是任意方向的波动。\n",
    "\n",
    "4.制胜于交易。量化CTA的交易方法，一般是在基本面和技术分析中导入数量模型，并根据数量模型产生的买或卖的信号进行投资决策。"
   ]
  },
  {
   "cell_type": "markdown",
   "metadata": {},
   "source": [
    "CTA策略一直是量化投资领域里面的一块重要组成部分，和股票的量化策略相比，CTA策略具有更稳定的收益和更小的风险。正是基于CTA策略的对冲性及其高频性，让市场的一切波动都会慢慢趋于平滑，也就是说，只要你对冲做的好，基本可以无视大盘。"
   ]
  },
  {
   "cell_type": "markdown",
   "metadata": {},
   "source": [
    "中国的期货市场本身发展比较晚，2010年股指期货上市之后，期货交易策略才逐渐获得市场关注，差不多14年之后才私募CTA基金的概念才开始逐渐普及，这些量化基金主要是用量化的手段做一些期货市场以趋势跟踪为代表的量化策略的。后来就约定俗成，将CTA与管理期货策略，尤其是量化交易策略做了强关联，甚至有些人直接把CTA理解为期货里的趋势跟踪策略。"
   ]
  },
  {
   "cell_type": "markdown",
   "metadata": {},
   "source": [
    "### 常见的CTA策略有哪些？"
   ]
  },
  {
   "cell_type": "markdown",
   "metadata": {},
   "source": [
    "最常见的就是趋势跟踪和趋势反转策略，按照频率可以分为中低频的趋势策略和高频趋势策略，更广义的化可以把期货的套利策略也容纳进来。"
   ]
  },
  {
   "cell_type": "markdown",
   "metadata": {},
   "source": [
    "CTA策略的交易周期一般都是比较长的，所谓的低频很多都是以月、年为单位，中低频指的是以周、月、偶尔长到年为单位的交易策略，高频指的是以持仓一般以小时、日，最长不超过周为单位，速度到分钟以内，以毫秒为单位的那种高频不在我们讨论的范围之内。"
   ]
  },
  {
   "cell_type": "markdown",
   "metadata": {},
   "source": [
    "中低频的趋势策略，比较常见的有：  \n",
    "* 均线突破策略  \n",
    "* 布林通道策略  \n",
    "* 海龟交易法则  \n",
    "* Aberration策略等  \n",
    "\n",
    "日内高频趋势策略，比较常见的有：  \n",
    "* R-breaker策略  \n",
    "* Dual-thrust策略  \n",
    "* ATR突破等  \n",
    "* 形态识别和机器学习策略在日内用得也会相对更多一点。"
   ]
  },
  {
   "cell_type": "markdown",
   "metadata": {},
   "source": [
    "### CTA策略的收益来源主要是？"
   ]
  },
  {
   "cell_type": "markdown",
   "metadata": {},
   "source": [
    "CTA策略做得再复杂，本质上，都是根据各种数据指标，对市场的未来价格走势进行预测。可以简单粗暴地分为趋势跟踪和趋势反转两种策略。"
   ]
  },
  {
   "cell_type": "markdown",
   "metadata": {},
   "source": [
    "趋势反转策略，简单说就是高抛低吸，通过各种模型，预测市场价格的趋势，比较常见的一种均值回归策略，这种策略的信仰单边行情无法永远持续，行情有涨就有跌，涨的越快跌的也越快，大宗商品拉长周期看，期货价格总是要向现货回归的，价格不可能出现大多偏移，因此，模型会算出一个合理价格区间，在跌的时候开仓买入，涨回后平仓卖出；在涨的时候开仓卖出，跌回后平仓买入。"
   ]
  },
  {
   "cell_type": "markdown",
   "metadata": {},
   "source": [
    "### 机器学习策略怎样运用在CTA领域？"
   ]
  },
  {
   "cell_type": "markdown",
   "metadata": {},
   "source": [
    "从趋势来看，机器学习算法的运用一般是一个由浅入深的阶段，逐渐复杂化的过程。总体趋势可以总结为：从线性模型向非线性模型发展，从从无监督学习到有监督学习发展，从分类学习到回归学习方向发展，从决策树模型到神经网络模型模型发展。具体实践过程中，大家用的方法差异很大，需要结合具体的模型进行优化测试。当然，最重要的还是，数据来源本身要靠谱，要经得起推敲。"
   ]
  },
  {
   "cell_type": "markdown",
   "metadata": {},
   "source": [
    "### CTA策略怎样控制风险？"
   ]
  },
  {
   "cell_type": "code",
   "execution_count": null,
   "metadata": {},
   "outputs": [],
   "source": []
  },
  {
   "cell_type": "code",
   "execution_count": null,
   "metadata": {},
   "outputs": [],
   "source": []
  },
  {
   "cell_type": "code",
   "execution_count": null,
   "metadata": {},
   "outputs": [],
   "source": []
  }
 ],
 "metadata": {
  "kernelspec": {
   "display_name": "Python 3",
   "language": "python",
   "name": "python3"
  },
  "language_info": {
   "codemirror_mode": {
    "name": "ipython",
    "version": 3
   },
   "file_extension": ".py",
   "mimetype": "text/x-python",
   "name": "python",
   "nbconvert_exporter": "python",
   "pygments_lexer": "ipython3",
   "version": "3.7.1"
  }
 },
 "nbformat": 4,
 "nbformat_minor": 4
}
