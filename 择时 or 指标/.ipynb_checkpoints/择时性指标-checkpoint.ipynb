{
 "cells": [
  {
   "cell_type": "markdown",
   "metadata": {},
   "source": [
    "MACD属于趋势类指标，在趋势型市场中比较有效，但在剧烈波动和盘整市场中效率比较低。  \n",
    "策略观测频率为周，因为周数据可以过滤大量的市场噪声而保留市场主要趋势"
   ]
  },
  {
   "cell_type": "markdown",
   "metadata": {},
   "source": [
    "止损水平是一把双刃剑，在控制策略的系统性风险时有可能损失高波动的收益机会。"
   ]
  },
  {
   "cell_type": "code",
   "execution_count": null,
   "metadata": {},
   "outputs": [],
   "source": [
    "情绪指标计算参数及止损水平的选择对策略收益影响很大，这些经验参数的设置可通过历史回溯获得。"
   ]
  },
  {
   "cell_type": "code",
   "execution_count": null,
   "metadata": {},
   "outputs": [],
   "source": []
  }
 ],
 "metadata": {
  "kernelspec": {
   "display_name": "Python 3",
   "language": "python",
   "name": "python3"
  },
  "language_info": {
   "codemirror_mode": {
    "name": "ipython",
    "version": 3
   },
   "file_extension": ".py",
   "mimetype": "text/x-python",
   "name": "python",
   "nbconvert_exporter": "python",
   "pygments_lexer": "ipython3",
   "version": "3.7.1"
  }
 },
 "nbformat": 4,
 "nbformat_minor": 4
}
