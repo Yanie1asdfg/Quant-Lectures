{
 "cells": [
  {
   "cell_type": "markdown",
   "metadata": {},
   "source": [
    "# **择时：**"
   ]
  },
  {
   "cell_type": "markdown",
   "metadata": {},
   "source": [
    "### 常见的8种择时方法"
   ]
  },
  {
   "cell_type": "markdown",
   "metadata": {},
   "source": [
    "* 趋势择时：技术分析  \n",
    "* 市场情绪择时：投资者热情程度\n",
    "* 有效资金模型：分析推动大盘上涨或下跌的有效资金来判断走势，在顶部或底部时资金具有额外的推动力  \n",
    "* 牛熊线：\n",
    "* Hurst指数\n",
    "* SVM分类：对大盘进行模式识别，区分为几个明显的模式，找出其中的特征，然后用历史数据学习的模型来预测未来的趋势\n",
    "* SWARCH 模型：M2与大盘之间的关系\n",
    "* 异常指标模型   "
   ]
  },
  {
   "cell_type": "code",
   "execution_count": null,
   "metadata": {},
   "outputs": [],
   "source": []
  }
 ],
 "metadata": {
  "kernelspec": {
   "display_name": "Python 3",
   "language": "python",
   "name": "python3"
  },
  "language_info": {
   "codemirror_mode": {
    "name": "ipython",
    "version": 3
   },
   "file_extension": ".py",
   "mimetype": "text/x-python",
   "name": "python",
   "nbconvert_exporter": "python",
   "pygments_lexer": "ipython3",
   "version": "3.7.1"
  }
 },
 "nbformat": 4,
 "nbformat_minor": 4
}
