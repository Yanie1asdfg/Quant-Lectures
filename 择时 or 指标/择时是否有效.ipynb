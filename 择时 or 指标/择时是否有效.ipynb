{
 "cells": [
  {
   "cell_type": "markdown",
   "metadata": {},
   "source": [
    "如果我是一个满足“有效性”的策略，那么择时基本上是徒劳的。有效性的定义如下：\n",
    "\n",
    "一个有效的策略应该是时序收益率均值为正，且每期收益率之间满足 IID 分布，它的夏普率无法通过其他作用于其收益率序列之上的函数来提高。\n",
    "\n",
    "上面这段话的意思是，如果有一个非有效的策略，它的时序收益率序列由 {R(t), t = 0, 1, …} 表示；那么存在一个作用于长度为 n 的历史收益率序列 {R(t-n), …, R(t)} 的函数 h，并令 g(t) = h{R(t-n), …, R(t)}，则以 {g(t), t = 0, 1, …} 为收益率序列的新策略比原始策略有更高的夏普率：SR(g(t)) > SR(f(t))。\n",
    "\n",
    "夏普率衡量了一个策略的随机性，因此只要是存在随机性的策略，其夏普率就一定有上界。如果一个策略的各期收益率之间有相关性，那么则可以充分利用收益率的相关性来找到一个函数 h，使改进后的策略有更高的夏普率，直到各期收益率之间满足 IID。\n",
    "\n",
    "一旦策略已经满足有效性 —— 按照上述定义，对于大部分外部投资者来说，他们看到的管理人的策略已经十分有效了 —— 额外的择时无法带来更好的风险收益特征。"
   ]
  },
  {
   "cell_type": "code",
   "execution_count": null,
   "metadata": {},
   "outputs": [],
   "source": []
  }
 ],
 "metadata": {
  "kernelspec": {
   "display_name": "Python 3",
   "language": "python",
   "name": "python3"
  },
  "language_info": {
   "codemirror_mode": {
    "name": "ipython",
    "version": 3
   },
   "file_extension": ".py",
   "mimetype": "text/x-python",
   "name": "python",
   "nbconvert_exporter": "python",
   "pygments_lexer": "ipython3",
   "version": "3.7.1"
  }
 },
 "nbformat": 4,
 "nbformat_minor": 4
}
