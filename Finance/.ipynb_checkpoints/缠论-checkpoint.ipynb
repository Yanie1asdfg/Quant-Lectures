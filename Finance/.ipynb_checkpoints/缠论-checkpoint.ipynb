{
 "cells": [
  {
   "cell_type": "markdown",
   "id": "conceptual-ghost",
   "metadata": {},
   "source": [
    "### 缠论视角的3个基本观点  \n",
    "\n",
    "1.走势的不可重复性   \n",
    "2.自同构性结构的绝对复制性   \n",
    "3.理论的纯逻辑推导  \n",
    "\n",
    "1.走势的不可重复性，决定了一切的判断必须也必然是不可绝对预测的    \n",
    "2.自同构性结构的绝对复制性，决定了一切的判断都是可判断的，有着绝对的可操作性   \n",
    "3.理论的纯逻辑推导，就证明了其结论的绝对有效性    \n",
    "4.以上3点，不止与股票走势相关，人生和社会操作，都有同样意义   "
   ]
  },
  {
   "cell_type": "markdown",
   "id": "latest-chair",
   "metadata": {},
   "source": [
    "### 自同构性结构   \n",
    "1.自同构性结构就如同基因，按照这个基因，走势如同生命般自动生长出不同的级别来，不论构成走势的人如何改变，只要贪嗔痴疑不变，那么自同构性结构就存在，级别的自组性就必然存在。   \n",
    "2.有了自同构性结构，股票才可以被技术所绝对分析\n",
    "\n",
    "\n"
   ]
  },
  {
   "cell_type": "code",
   "execution_count": null,
   "id": "thermal-election",
   "metadata": {},
   "outputs": [],
   "source": []
  }
 ],
 "metadata": {
  "kernelspec": {
   "display_name": "Python 3",
   "language": "python",
   "name": "python3"
  },
  "language_info": {
   "codemirror_mode": {
    "name": "ipython",
    "version": 3
   },
   "file_extension": ".py",
   "mimetype": "text/x-python",
   "name": "python",
   "nbconvert_exporter": "python",
   "pygments_lexer": "ipython3",
   "version": "3.7.6"
  }
 },
 "nbformat": 4,
 "nbformat_minor": 5
}
