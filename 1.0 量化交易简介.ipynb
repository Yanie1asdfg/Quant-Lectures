{
 "cells": [
  {
   "cell_type": "markdown",
   "metadata": {},
   "source": [
    "# 量化交易"
   ]
  },
  {
   "cell_type": "markdown",
   "metadata": {},
   "source": [
    "### **量化投资的哲学**"
   ]
  },
  {
   "cell_type": "markdown",
   "metadata": {},
   "source": [
    "### **1.收益来源**\n",
    "* 所有的投资收益来自于市场的不同参与方对标的价值看法的时空错位\n",
    "* 估值的认知差异引起价格波动\n",
    "* 价格波动创造盈利空间\n",
    "\n",
    "### **2.波动分类**\n",
    "* 系统性波动：大周期级别的波动\n",
    "* 相对性波动：两个标的价差波动\n",
    "* 交易性波动：分钟级别的波动\n",
    "\n",
    "### **3.交易策略研发**\n",
    "* 分类策略研发：不同市场环境策略的研发\n",
    "* 策略环境研究\n",
    "* 策略配置优化\n",
    "\n",
    "### **4.效率**\n",
    "* 信息效率【有效市场假说】\n",
    "    > 价格反映一切市场信息，价格不可预测\n",
    "* 价格运动效率【技术分析】\n",
    "    > 价格反映一切信息  \n",
    "    > 历史会重复   \n",
    "    > 价格以趋势方式运动\n",
    "* 极化分型效率\n",
    "\n",
    "### **5.交易圣杯**\n",
    "* 没有稳赚不赔的策略，分散是唯一免费的午餐  \n",
    "* 仓位管理和资金管理无比重要\n",
    "\n",
    "### **胜率**\n",
    "出手赚钱的次数与总出手次数相比\n",
    "\n",
    "### **赔率**\n",
    "平均每次出手赚到的钱/平均每次出手赔的钱"
   ]
  },
  {
   "cell_type": "code",
   "execution_count": null,
   "metadata": {},
   "outputs": [],
   "source": []
  }
 ],
 "metadata": {
  "kernelspec": {
   "display_name": "Python 3",
   "language": "python",
   "name": "python3"
  },
  "language_info": {
   "codemirror_mode": {
    "name": "ipython",
    "version": 3
   },
   "file_extension": ".py",
   "mimetype": "text/x-python",
   "name": "python",
   "nbconvert_exporter": "python",
   "pygments_lexer": "ipython3",
   "version": "3.7.6"
  }
 },
 "nbformat": 4,
 "nbformat_minor": 4
}
