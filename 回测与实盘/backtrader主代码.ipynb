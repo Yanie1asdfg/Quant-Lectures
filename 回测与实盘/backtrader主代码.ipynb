{
 "cells": [
  {
   "cell_type": "code",
   "execution_count": null,
   "id": "laden-framework",
   "metadata": {},
   "outputs": [],
   "source": [
    "if __name__ == '__main__':\n",
    "\n",
    "    cerebro = bt.Cerebro()  # 实例化cerebro\n",
    "\n",
    "    cerebro.optstrategy(DoubleAverages)  # 将自己写的策略类添加到cerebro\n",
    "    '''\n",
    "    cerebro.optstrategy(MyStrategy, myparam1=range(10, 20))\n",
    "    : 它将运行MyStrategy 10次，myparam1的值从10到19（记住Python中的范围是半开的，不会达到20）\n",
    "    '''\n",
    "    #获取data\n",
    "    #...\n",
    "    \n",
    "    # 创建数据行情对象，这里使用的是较为通用的PandasData方法，与获取的数据格式是一致的。\n",
    "    data = btfeeds.PandasData(\n",
    "        dataname=data,  # 数据源\n",
    "        fromdate=datetime.date(2020, 1, 3),  # 时间区间：开始时间\n",
    "        todate=datetime.date.today()  # 时间区间：结束时间\n",
    "    )\n",
    "\n",
    "    cerebro.adddata(data)  # 将数据添加到cerebro中\n",
    "\n",
    "    cerebro.broker.set_cash(10000.0)  # 设置初始现金\n",
    "    '''\n",
    "    : 每项买卖成本的以绝对或百分比货币单位计价。\n",
    "    : commission=2.0:买入的每份合同为2.0美元，卖出的每份合同为2.0美元。\n",
    "    : 若margin评估为False（例如为False，0或None），则认为commission表示price乘以size的百分比\n",
    "    : 如果margin是number，那么它被认为是在期货交易中进行的，比如说期货交易，佣金是每种合约的固定价格\n",
    "    : 如果没有设定保证金，佣金将被理解为以百分比表示，并应用于买入或卖出操作的price*size部分\n",
    "    : 如果设定了保证金，佣金将被理解为一个固定值，乘以买入或卖出操作的size部分\n",
    "    : mult应该是杠杆\n",
    "    : name 将佣金方案的应用限制在与名称匹配的工具上\n",
    "    The futures example\n",
    "        cerebro.broker.setcommission(commission=2.0, margin=2000.0, mult=10.0)\n",
    "    A example for stocks:\n",
    "        cerebro.broker.setcommission(commission=0.005)  # 0.5% of the operation value\n",
    "    '''\n",
    "    cerebro.broker.setcommission(commission=2.0, margin=2000.0, mult=10.0, name='Eurostoxxx50')\n",
    "    # 打印初始现金\n",
    "    print('Starting Portfolio Value: %.2f' % cerebro.broker.getvalue())\n",
    "\n",
    "    cerebro.run()  # 执行策略\n",
    "\n",
    "    # 打印策略运行结束后的现金\n",
    "    print('Ending Portfolio Value: %.2f' % cerebro.broker.getvalue())"
   ]
  },
  {
   "cell_type": "code",
   "execution_count": null,
   "id": "waiting-liquid",
   "metadata": {},
   "outputs": [],
   "source": [
    "GROSS 328.00, NET 324.00  毛利，净利"
   ]
  }
 ],
 "metadata": {
  "kernelspec": {
   "display_name": "Python 3",
   "language": "python",
   "name": "python3"
  },
  "language_info": {
   "codemirror_mode": {
    "name": "ipython",
    "version": 3
   },
   "file_extension": ".py",
   "mimetype": "text/x-python",
   "name": "python",
   "nbconvert_exporter": "python",
   "pygments_lexer": "ipython3",
   "version": "3.7.6"
  }
 },
 "nbformat": 4,
 "nbformat_minor": 5
}
