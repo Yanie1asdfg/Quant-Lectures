{
 "cells": [
  {
   "cell_type": "code",
   "execution_count": null,
   "id": "cbbb100d-5198-4c23-a1bf-6640e2710f62",
   "metadata": {},
   "outputs": [],
   "source": [
    "1.读取数据    \n",
    "2.处理成交量不达标的数据"
   ]
  }
 ],
 "metadata": {
  "kernelspec": {
   "display_name": "ml_bt",
   "language": "python",
   "name": "ml_bt"
  },
  "language_info": {
   "codemirror_mode": {
    "name": "ipython",
    "version": 3
   },
   "file_extension": ".py",
   "mimetype": "text/x-python",
   "name": "python",
   "nbconvert_exporter": "python",
   "pygments_lexer": "ipython3",
   "version": "3.7.11"
  }
 },
 "nbformat": 4,
 "nbformat_minor": 5
}
