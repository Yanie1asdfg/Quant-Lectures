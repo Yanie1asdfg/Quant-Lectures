{
 "cells": [
  {
   "cell_type": "markdown",
   "id": "14cce3e1-c358-4c86-8b62-ede2370b32f0",
   "metadata": {},
   "source": [
    "1.读取数据    \n",
    "2.处理成交量不达标的数据，记录起始，终止     \n",
    "3. 计算因子，收益率数据，按照起始，终止截取，然后拼接        \n",
    "3.1 对于单期数据计算因子，收益           \n",
    "3.2 对于单期数据按照起始，终止截取   \n",
    "3.21 处理标签分类\n",
    "3.22 查看标签分布比例\n",
    "3.3 对于单期数据标准化处理 \n",
    "3.31 训练集，测试集\n",
    "3.4 放入模型计算\n",
    "3.41 训练集评分\n",
    "3.42 测试集评分\n",
    "3.43 查看因子重要性参数\n",
    "3.44 预测的概率\n",
    "3.45 预测的结果\n",
    "4.评估模型\n",
    "4. 合并，所有数据合并计算            "
   ]
  },
  {
   "cell_type": "code",
   "execution_count": null,
   "id": "1af912c6-fe98-4118-91e9-9e028d9e684a",
   "metadata": {},
   "outputs": [],
   "source": []
  }
 ],
 "metadata": {
  "kernelspec": {
   "display_name": "ml_bt",
   "language": "python",
   "name": "ml_bt"
  },
  "language_info": {
   "codemirror_mode": {
    "name": "ipython",
    "version": 3
   },
   "file_extension": ".py",
   "mimetype": "text/x-python",
   "name": "python",
   "nbconvert_exporter": "python",
   "pygments_lexer": "ipython3",
   "version": "3.7.11"
  }
 },
 "nbformat": 4,
 "nbformat_minor": 5
}
