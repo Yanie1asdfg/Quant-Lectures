{
 "cells": [
  {
   "cell_type": "markdown",
   "id": "damaged-chinese",
   "metadata": {},
   "source": [
    "### 引入库"
   ]
  },
  {
   "cell_type": "code",
   "execution_count": null,
   "id": "sapphire-updating",
   "metadata": {},
   "outputs": [],
   "source": [
    "import datetime\n",
    "import pandas as pd\n",
    "import backtrader as bt\n",
    "import backtrader.feeds as btfeeds\n",
    "import backtrader.indicators as btind"
   ]
  },
  {
   "cell_type": "markdown",
   "id": "speaking-republican",
   "metadata": {},
   "source": [
    "### 策略类"
   ]
  },
  {
   "cell_type": "code",
   "execution_count": null,
   "id": "institutional-supervisor",
   "metadata": {},
   "outputs": [],
   "source": [
    "1.自定义的策略类继承了Backtrader的策略类(bt.Strategy)\n",
    "\n",
    "2.类中使用params来保存参数，类中调用时可以以方法形式：self.params.period_sma5\n",
    "params = (\n",
    "        ('period_sma10', 10),\n",
    "        ('period_sma30', 30)\n",
    "    )\n",
    "\n",
    "3.实例化期间，执行__init__()方法，此时会创建变量并赋值（order、buyprice…）和计算指标（sma10、sma30）。\n",
    "def __init__(self):\n",
    "    # 用于保存订单\n",
    "    self.order = None\n",
    "    # 订单价格\n",
    "    self.buyprice = None\n",
    "    # 订单佣金\n",
    "    self.buycomm = None\n",
    "\n",
    "    # 定义变量保存所有收盘价\n",
    "    self.dataclose = self.data.close\n",
    "\n",
    "    #计算10日均线\n",
    "    self.sma10 = btind.MovingAverageSimple(self.dataclose, period=self.params.period_sma5)\n",
    "    # 计算30日均线\n",
    "    self.sma30 = btind.MovingAverageSimple(self.dataclose, period=self.params.period_sma20)\n"
   ]
  },
  {
   "cell_type": "markdown",
   "id": "executive-discrimination",
   "metadata": {},
   "source": [
    "4.当执行cerebro.run()时，会循环执行next()方法，在方法中会执行策略逻辑，分别完成买（self.order=self.buy()）、卖（self.order=self.sell()）操作；当执行这两个操作时，又会调用订单变动通知方法（notify_order()）及交易通知方法（notify_trade()），如此反复，直至数据循环完毕。\n",
    "\n",
    "5.notify_order()方法：一个订单从提交到被cerebro接受至少触发三个通知，分别为：Sumbitted、Accepted、Completed。代码中，当触发前两个通知时，什么事都不做，当触发Completed时，将调用log()方法打印出订单信息。而后续的Canceled、Margin、Rejected通知只有在订单没有完成（有可能是因为保证金不足…）时才触发。详情参考：Order Status values.\n",
    "\n",
    "6.notify_trade()方法：在order状态执行完毕后，会进入notify_trade中执行log()方法打印出盈利及手续费 。"
   ]
  },
  {
   "cell_type": "code",
   "execution_count": null,
   "id": "medium-harmony",
   "metadata": {},
   "outputs": [],
   "source": [
    "def notify_order(self, order):\n",
    "\n",
    "    # 等待订单提交、订单被cerebro接受\n",
    "    if order.status in [order.Submitted, order.Accepted]:\n",
    "        return\n",
    "\n",
    "    # 等待订单完成\n",
    "    if order.status in [order.Completed]:\n",
    "        if order.isbuy():\n",
    "            self.log(\n",
    "                'BUY EXECUTED, Price: %.2f, Cost: %.2f, Comm %.2f' %\n",
    "                (order.executed.price,\n",
    "                 order.executed.value,\n",
    "                 order.executed.comm))\n",
    "\n",
    "        else:\n",
    "            self.log(\n",
    "                'SELL EXECUTED, Price: %.2f, Cost: %.2f, Comm %.2f' %\n",
    "                (order.executed.price,\n",
    "                 order.executed.value,\n",
    "                 order.executed.comm))\n",
    "\n",
    "    # 如果订单保证金不足，将不会完成，而是执行以下拒绝程序\n",
    "    elif order.status in [order.Canceled, order.Margin, order.Rejected]:\n",
    "        self.log('Order Canceled/Margin/Rejected')\n",
    "\n",
    "    self.order = None\n",
    "\n",
    "def notify_trade(self, trade):\n",
    "\n",
    "    if not trade.isclosed:\n",
    "        return\n",
    "\n",
    "    self.log('OPERATION PROFIT, GROSS %.2f, NET %.2f' %\n",
    "             (trade.pnl, trade.pnlcomm))  # pnl：盈利  pnlcomm：手续费\n"
   ]
  }
 ],
 "metadata": {
  "kernelspec": {
   "display_name": "Python 3",
   "language": "python",
   "name": "python3"
  },
  "language_info": {
   "codemirror_mode": {
    "name": "ipython",
    "version": 3
   },
   "file_extension": ".py",
   "mimetype": "text/x-python",
   "name": "python",
   "nbconvert_exporter": "python",
   "pygments_lexer": "ipython3",
   "version": "3.7.6"
  }
 },
 "nbformat": 4,
 "nbformat_minor": 5
}
