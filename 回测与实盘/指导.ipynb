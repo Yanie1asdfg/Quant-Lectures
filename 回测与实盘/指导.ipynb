{
 "cells": [
  {
   "cell_type": "markdown",
   "id": "streaming-canadian",
   "metadata": {},
   "source": [
    "1.回测比特币永续合约期货需要买多和卖空\n",
    "\n",
    "2.需要杠杆\n",
    "\n",
    "3.如何将机器学习的信号传入策略中"
   ]
  },
  {
   "cell_type": "code",
   "execution_count": null,
   "id": "taken-calculation",
   "metadata": {},
   "outputs": [],
   "source": []
  }
 ],
 "metadata": {
  "kernelspec": {
   "display_name": "Python 3",
   "language": "python",
   "name": "python3"
  },
  "language_info": {
   "codemirror_mode": {
    "name": "ipython",
    "version": 3
   },
   "file_extension": ".py",
   "mimetype": "text/x-python",
   "name": "python",
   "nbconvert_exporter": "python",
   "pygments_lexer": "ipython3",
   "version": "3.7.6"
  }
 },
 "nbformat": 4,
 "nbformat_minor": 5
}
