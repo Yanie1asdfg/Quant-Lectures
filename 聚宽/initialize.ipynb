{
 "cells": [
  {
   "cell_type": "code",
   "execution_count": null,
   "metadata": {},
   "outputs": [],
   "source": [
    "# 设定沪深300作为基准\n",
    "set_benchmark('000300.XSHG')\n",
    "# 开启动态复权模式(真实价格)\n",
    "set_option('use_real_price', True)\n",
    "#是否有未来函数\n",
    "set_option(\"avoid_future_data\", True)\n",
    "# 输出内容到日志 log.info()\n",
    "log.info('初始函数开始运行且全局只运行一次')\n",
    "# 过滤掉order系列API产生的比error级别低的log\n",
    "log.set_level('order', 'error')\n",
    "\n",
    "### 股票相关设定 ###\n",
    "# 股票类每笔交易时的手续费是：买入时佣金万分之三，卖出时佣金万分之三加千分之一印花税, 每笔交易佣金最低扣5块钱\n",
    "set_order_cost(OrderCost(close_tax=0.001, open_commission=0.0003, close_commission=0.0003, min_commission=5),\n",
    "               type='stock')\n",
    "\n",
    "# 开盘前运行\n",
    "    run_daily(before_market_open, time='before_open', reference_security='000300.XSHG')\n",
    "      # 开盘时运行\n",
    "    run_daily(market_open, time='open', reference_security='000300.XSHG')\n",
    "      # 收盘后运行\n",
    "    run_daily(after_market_close, time='after_close', reference_security='000300.XSHG')"
   ]
  }
 ],
 "metadata": {
  "kernelspec": {
   "display_name": "Python 3",
   "language": "python",
   "name": "python3"
  },
  "language_info": {
   "codemirror_mode": {
    "name": "ipython",
    "version": 3
   },
   "file_extension": ".py",
   "mimetype": "text/x-python",
   "name": "python",
   "nbconvert_exporter": "python",
   "pygments_lexer": "ipython3",
   "version": "3.7.1"
  }
 },
 "nbformat": 4,
 "nbformat_minor": 4
}
