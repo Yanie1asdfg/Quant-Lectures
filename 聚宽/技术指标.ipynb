{
 "cells": [
  {
   "cell_type": "code",
   "execution_count": null,
   "metadata": {},
   "outputs": [],
   "source": [
    "# 计算5日均线\n",
    "# 获取股票的收盘价\n",
    "close_data = get_bars(security, count=5, unit='1d', fields=['close'])\n",
    "# 取得过去五天的平均价格\n",
    "MA5 = close_data['close'].mean()"
   ]
  }
 ],
 "metadata": {
  "kernelspec": {
   "display_name": "Python 3",
   "language": "python",
   "name": "python3"
  },
  "language_info": {
   "codemirror_mode": {
    "name": "ipython",
    "version": 3
   },
   "file_extension": ".py",
   "mimetype": "text/x-python",
   "name": "python",
   "nbconvert_exporter": "python",
   "pygments_lexer": "ipython3",
   "version": "3.7.1"
  }
 },
 "nbformat": 4,
 "nbformat_minor": 4
}
