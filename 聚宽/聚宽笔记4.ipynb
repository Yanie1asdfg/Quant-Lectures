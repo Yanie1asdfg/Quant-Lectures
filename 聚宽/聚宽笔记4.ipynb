{
 "cells": [
  {
   "cell_type": "markdown",
   "metadata": {},
   "source": [
    "是这样，要不我们就跟其他私募同行在人才方面太同质了，投资这一行，需要有自己的特色。"
   ]
  },
  {
   "cell_type": "markdown",
   "metadata": {},
   "source": [
    "其实越优秀、越有创造力的人才，往往越综合，就会定性为多。**同时量化投资秘密比较多，又更加相对其他行业看重人方面的合作性。**\n",
    "生活中大部分相对容易定量的，往往都是相对简单重复的工作。"
   ]
  },
  {
   "cell_type": "markdown",
   "metadata": {},
   "source": [
    "**大概50亿规模前，1个亿管理规模想对应一位研究员，也不太想跟其他机构标准完全类似，想寻找到差异化人才。**"
   ]
  },
  {
   "cell_type": "markdown",
   "metadata": {},
   "source": [
    "**其实我们有一套组织架构，量化研究员，我们最需要的就是灵感，其他深度上实战的东西其他同事可以来搞定，对于他们反而偏体力劳动。**\n",
    "灵感，可遇不可求，希望是属于每个人自身的特质，人人均不同。"
   ]
  }
 ],
 "metadata": {
  "kernelspec": {
   "display_name": "Python 3",
   "language": "python",
   "name": "python3"
  },
  "language_info": {
   "codemirror_mode": {
    "name": "ipython",
    "version": 3
   },
   "file_extension": ".py",
   "mimetype": "text/x-python",
   "name": "python",
   "nbconvert_exporter": "python",
   "pygments_lexer": "ipython3",
   "version": "3.7.1"
  }
 },
 "nbformat": 4,
 "nbformat_minor": 4
}
