{
 "cells": [
  {
   "cell_type": "markdown",
   "metadata": {},
   "source": [
    "会买的是徒弟，会卖的是师父，会空仓的是师爷。"
   ]
  },
  {
   "cell_type": "markdown",
   "metadata": {},
   "source": [
    "散户的实力是无法和机构比的，因此，我们需要灵活作战。第一，我们要用游击战，打得赢就打，打不赢就跑；第二，我们要用持久战，盯住一只股票后，不要轻易放弃，任何一只股票每一年都会有一到两次主升浪，只要能抓住主升浪，赚钱不是难事。"
   ]
  },
  {
   "cell_type": "markdown",
   "metadata": {},
   "source": [
    "### 如何在保证收益的情况下有效地降低回撤？"
   ]
  },
  {
   "cell_type": "markdown",
   "metadata": {},
   "source": [
    "通过择时，可以把回撤控制在50%以内；   \n",
    "通过择时+风控，可以把回撤降低到35%以内；   \n",
    "通过择时+风控+选股，可以把回撤降低到30%以内；   \n",
    "通过择时+风控+选股+基本面分析，可以把回撤降低到25%以内；   \n",
    "通过择时+风控+选股+基本面分析+仓位管理，可以把回撤降低到20%以内；  "
   ]
  },
  {
   "cell_type": "markdown",
   "metadata": {},
   "source": [
    "回撤是收益之母，面对亏损，我们要有泰然自若、心如止水的正确心态！是福不是祸，是祸躲不过。福兮祸之所伏，祸兮福之所倚，股市投资，收益和风险并存，躲过了震荡、还有阴跌，躲过了阴跌，还有暴跌。与其每天诚惶诚恐地活在亏损的恐惧之中，不如坦然接受亏损，把回撤控制在合理的范围之内即可！"
   ]
  },
  {
   "cell_type": "markdown",
   "metadata": {},
   "source": [
    "### 大奖章"
   ]
  },
  {
   "cell_type": "markdown",
   "metadata": {},
   "source": [
    "Laufer重新加入Simons并且做了个重要决定：大奖章使用一个模型来进行交易，而不是在不同的市场情况下用很多不同的模型。原文写得非常有意思，不大好翻译，这里引用一下：\n",
    "\n",
    "Medallion would employ a single trading model rather than maintain various models for different investments and market conditions, a style most quantitative firms would embrace. A collection of trading models was simpler and easier to pull off, Laufer acknowledged. But, he argued, a single model could draw on Straus’s vast trove of pricing ata, detecting correlations, opportunities, and other signals across various asset classes. Narrow, individual models, by contrast, can suffer from too little data.\n",
    "\n",
    "Just as important, Laufer understood that a single, stable model based on some core assumptions about how prices and markets behave would make it easier to add new investments later on. They could even toss investments with relatively little trading data into the mix if they were deemed similar to other investments Medallion traded with lots of data.\n",
    "\n",
    "他们先是把一周切成10份，按交易时段和过夜时段，再是切得更细，最终决定用5分钟线的数据开始找pattern。通过在更短的区间仔细搜索，他们确实在噪音中找到了规律。Laufer又写了算法自适应地根据对市场的未来预期动态优化下单方式，类似机器学习的方式。Laufer在Straus的数据的基础上写了程序来跟踪滑点，并且开发下单算法减少划点。现在大奖章交易得更频繁，从每天发单5次到了每天发单16次。盈利也很好，但他们没怎么想过为何盈利。实质上，因为大奖章是对人建模，而人的反应是容易预测的，所以这种规律具有一定的持续性。"
   ]
  },
  {
   "cell_type": "markdown",
   "metadata": {},
   "source": [
    "* Simons开始尝试新的方式盈利。他先是尝试从文献里找idea，搞了个读书会，每周他自己和各个高管每人读三篇文献并且消化，试图找到新的赢利点。在读了几百篇文献后他们放弃了，论文里各种好点子写成代码实盘一测发现在实际中没有任何用处。"
   ]
  },
  {
   "cell_type": "markdown",
   "metadata": {},
   "source": [
    "即使牛逼如Simons、Ax或者Baum这种一流数学家组团，也是持续多年做不出有效的策略，可见学霸天才组团搞量化只是成功的必要不充分条件。随着科技进步，运气比较好的一些人有了突破，你不能说R家的成功具有必然性。人还是时代的产物，要是没有技术突破估计他们几个也是拍脑袋+听消息做投资；"
   ]
  },
  {
   "cell_type": "markdown",
   "metadata": {},
   "source": [
    "### 聚宽好文"
   ]
  },
  {
   "cell_type": "code",
   "execution_count": null,
   "metadata": {},
   "outputs": [],
   "source": [
    "统计学是比技术指标更靠谱的择时方法"
   ]
  },
  {
   "cell_type": "code",
   "execution_count": null,
   "metadata": {},
   "outputs": [],
   "source": [
    "回测速度是影响量化策略开发效率的最大因素"
   ]
  },
  {
   "cell_type": "code",
   "execution_count": null,
   "metadata": {},
   "outputs": [],
   "source": [
    "行业分析在选股中的重要性"
   ]
  },
  {
   "cell_type": "code",
   "execution_count": null,
   "metadata": {},
   "outputs": [],
   "source": [
    "关于创业初期的技术选择"
   ]
  },
  {
   "cell_type": "code",
   "execution_count": null,
   "metadata": {},
   "outputs": [],
   "source": [
    "搭建高效的回测系统"
   ]
  },
  {
   "cell_type": "code",
   "execution_count": null,
   "metadata": {},
   "outputs": [],
   "source": [
    "关于选股、择时、仓位，哪个更重要？"
   ]
  },
  {
   "cell_type": "code",
   "execution_count": null,
   "metadata": {},
   "outputs": [],
   "source": [
    "做好仓位管理实现稳定收益(2)"
   ]
  },
  {
   "cell_type": "code",
   "execution_count": null,
   "metadata": {},
   "outputs": [],
   "source": [
    "为什么券商大多数的研报都不靠谱"
   ]
  },
  {
   "cell_type": "code",
   "execution_count": null,
   "metadata": {},
   "outputs": [],
   "source": [
    "文章列表"
   ]
  },
  {
   "cell_type": "code",
   "execution_count": null,
   "metadata": {},
   "outputs": [],
   "source": [
    "詹姆斯.西蒙斯的投资理念"
   ]
  },
  {
   "cell_type": "code",
   "execution_count": null,
   "metadata": {},
   "outputs": [],
   "source": []
  }
 ],
 "metadata": {
  "kernelspec": {
   "display_name": "Python 3",
   "language": "python",
   "name": "python3"
  },
  "language_info": {
   "codemirror_mode": {
    "name": "ipython",
    "version": 3
   },
   "file_extension": ".py",
   "mimetype": "text/x-python",
   "name": "python",
   "nbconvert_exporter": "python",
   "pygments_lexer": "ipython3",
   "version": "3.7.1"
  }
 },
 "nbformat": 4,
 "nbformat_minor": 4
}
