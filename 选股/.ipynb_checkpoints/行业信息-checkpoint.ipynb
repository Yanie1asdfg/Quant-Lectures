{
 "cells": [
  {
   "cell_type": "markdown",
   "metadata": {},
   "source": []
  },
  {
   "cell_type": "markdown",
   "metadata": {},
   "source": [
    "### 行业的分类"
   ]
  },
  {
   "cell_type": "markdown",
   "metadata": {},
   "source": [
    "中信一级行业\n",
    "\n",
    "金融、周期、消费、成长以及稳定五个大类。"
   ]
  },
  {
   "cell_type": "markdown",
   "metadata": {},
   "source": [
    "### A股市场上都有哪些行业"
   ]
  },
  {
   "cell_type": "markdown",
   "metadata": {},
   "source": [
    "申万一级行业分类如下：  \n",
    "它们分别是：  \n",
    "【农林牧渔、采掘、化工、钢铁、有色金属、电子、家用电器、食品饮料、纺织服装、轻工制造、医药生物、公用事业、交通运输、房地产、商业贸易、休闲服务、综合、建筑材料、建筑装饰、电器设备、国防军工、计算机、传媒、通信、银行、非银金融、汽车、机械设备】共计28个行业。  \n",
    "注：由于申万行业在2014年发生过一次大的调整，建筑装饰，电气设备，银行和汽车实际从2014年才开始统计。"
   ]
  },
  {
   "cell_type": "code",
   "execution_count": null,
   "metadata": {},
   "outputs": [],
   "source": [
    "get_industries(name='sw_l1')"
   ]
  },
  {
   "cell_type": "markdown",
   "metadata": {},
   "source": [
    "### 各行业在各个年度都有哪些成分股"
   ]
  },
  {
   "cell_type": "code",
   "execution_count": null,
   "metadata": {},
   "outputs": [],
   "source": [
    "get_industry_stocks(industry_code=‘行业编码’, date=‘统计日期’)"
   ]
  },
  {
   "cell_type": "markdown",
   "metadata": {},
   "source": [
    "真正能够保持持续稳定增长的行业并不多，如果以扣非净利润为标准，那么只有医药生物，建筑装饰，电气设备，银行和汽车这五个行业可以称之为优质行业，实际投资中，就可以只从这几个行业中去投资。这样做的目的是，一方面，能够从行业大格局层面避免行业下行的风险，绕开一个可能出现负增长的的行业，从而降低投资的风险；另一方面，也大大缩短了我们的投资范围，让投资者能够专注于从真正好的行业去挑选公司进行投资。"
   ]
  },
  {
   "cell_type": "code",
   "execution_count": null,
   "metadata": {},
   "outputs": [],
   "source": []
  }
 ],
 "metadata": {
  "kernelspec": {
   "display_name": "Python 3",
   "language": "python",
   "name": "python3"
  },
  "language_info": {
   "codemirror_mode": {
    "name": "ipython",
    "version": 3
   },
   "file_extension": ".py",
   "mimetype": "text/x-python",
   "name": "python",
   "nbconvert_exporter": "python",
   "pygments_lexer": "ipython3",
   "version": "3.7.1"
  }
 },
 "nbformat": 4,
 "nbformat_minor": 4
}
