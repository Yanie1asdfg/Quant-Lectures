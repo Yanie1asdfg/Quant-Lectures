{
 "cells": [
  {
   "cell_type": "markdown",
   "metadata": {},
   "source": [
    "# **量化选股**"
   ]
  },
  {
   "cell_type": "markdown",
   "metadata": {},
   "source": [
    "量化选股策略总的来说可以分为两类：  \n",
    "第一类：基本面选股  \n",
    "第二类：市场行为选股  \n",
    "\n",
    "基本面：多因子模型，风格轮动模型，行业轮动模型。  \n",
    "市场行为选股：资金流模型，动量反转模型，一致预期模型，趋势追踪模型，筹码选股模型    "
   ]
  },
  {
   "cell_type": "markdown",
   "metadata": {},
   "source": [
    "### 多因子"
   ]
  },
  {
   "cell_type": "markdown",
   "metadata": {},
   "source": [
    "采用一系列因子作为选股标准，满足这些因子的股票买入，不满足的卖出。多因子模型相对来说比较稳定，在不同的市场环境下，总有一些因子会发挥作用"
   ]
  },
  {
   "cell_type": "markdown",
   "metadata": {},
   "source": [
    "**多因子选股模型有两种判断方法：**   \n",
    "一、打分法  \n",
    "二、回归法  \n",
    "> 打分法是根据各个因子的大小对股票进行打分，然后按照一定的权重加权得到一个总分，根据总分再对股票进行筛选  \n",
    "\n",
    "> 回归法就是用过去的股票收益率对多因子进行回归，得到一个回归方程，然后把新的因子值代入回归方程得到一个对未来股票的预判，最后以此为依据进行选股。回归法的优点是能够比较及时的调整股票对各个因子敏感性，而且不同股票对不同因子的敏感性也不同，回归法的缺点是容易受到极端值的影响，在股票对因子敏感度变化较大的市场情况下效果也比较差。"
   ]
  },
  {
   "cell_type": "markdown",
   "metadata": {},
   "source": [
    "**多因子选股模型建立过程主要分为：**   \n",
    "* 候选因子的选取   \n",
    "* 因子有效性检验   \n",
    "* 有效但冗余因子的剔除   \n",
    "* 综合评分模型的建立   \n",
    "* 模型的评价及改进   "
   ]
  },
  {
   "cell_type": "code",
   "execution_count": null,
   "metadata": {},
   "outputs": [],
   "source": [
    "1.候选因子可能是一些基本面指标(PB,PE)，也可能是一些技术面指标(动量，换手率)，或其他指标(预期收益增长，分析师一致预期变化，宏观经济变量)\n",
    "2."
   ]
  }
 ],
 "metadata": {
  "kernelspec": {
   "display_name": "Python 3",
   "language": "python",
   "name": "python3"
  },
  "language_info": {
   "codemirror_mode": {
    "name": "ipython",
    "version": 3
   },
   "file_extension": ".py",
   "mimetype": "text/x-python",
   "name": "python",
   "nbconvert_exporter": "python",
   "pygments_lexer": "ipython3",
   "version": "3.7.1"
  }
 },
 "nbformat": 4,
 "nbformat_minor": 4
}
