{
 "cells": [
  {
   "cell_type": "markdown",
   "metadata": {},
   "source": [
    "风格轮动"
   ]
  },
  {
   "cell_type": "markdown",
   "metadata": {},
   "source": [
    "价值股和成长股"
   ]
  },
  {
   "cell_type": "markdown",
   "metadata": {},
   "source": [
    "大盘股和小盘股"
   ]
  },
  {
   "cell_type": "markdown",
   "metadata": {},
   "source": [
    "周期性和非周期性"
   ]
  },
  {
   "cell_type": "markdown",
   "metadata": {},
   "source": [
    "宏观经济模型，基本面模型，风险模型"
   ]
  },
  {
   "cell_type": "markdown",
   "metadata": {},
   "source": [
    "轮动投资策略主要通过观测适时强势投资品种，从而获取超额收益。轮动策略有主动和被动之分，主动轮动通过代理变量的预示作用选择未来强势的行业进行投资，被动轮动在轮动趋势确立后进行相关行业的投资。"
   ]
  },
  {
   "cell_type": "markdown",
   "metadata": {},
   "source": [
    "基于M2这一代理变量观测货币政策周期进行周期性行业和非周期性行业的轮动策略，属于主动轮动策略"
   ]
  },
  {
   "cell_type": "markdown",
   "metadata": {},
   "source": [
    "传统行业轮动策略一般是基于中信行业或者申万行业进行轮动，一般来说有两种行业轮动方法：  \n",
    "\n",
    "* 一种是基于截面分析，类似于多因子选股，即寻找影响所有行业的共同因子，根据行业因子的打分对所有行业排序，进而选出“优势行业”和“劣势行业”，据此构建多空组合或者纯多头组合； \n",
    "* 一种是基于时间序列分析，即分别构建所有行业的择时模型，根据每期每个行业的择时模型的结果，决定下一期所配置的行业，进而形成行业轮动策略。  \n"
   ]
  },
  {
   "cell_type": "code",
   "execution_count": null,
   "metadata": {},
   "outputs": [],
   "source": []
  }
 ],
 "metadata": {
  "kernelspec": {
   "display_name": "Python 3",
   "language": "python",
   "name": "python3"
  },
  "language_info": {
   "codemirror_mode": {
    "name": "ipython",
    "version": 3
   },
   "file_extension": ".py",
   "mimetype": "text/x-python",
   "name": "python",
   "nbconvert_exporter": "python",
   "pygments_lexer": "ipython3",
   "version": "3.7.1"
  }
 },
 "nbformat": 4,
 "nbformat_minor": 4
}
