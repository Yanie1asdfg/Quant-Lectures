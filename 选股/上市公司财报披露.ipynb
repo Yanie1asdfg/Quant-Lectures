{
 "cells": [
  {
   "cell_type": "markdown",
   "metadata": {},
   "source": [
    "年报，中报，季报的法定披露时间 \n",
    "1、上市公司年报披露时间：每年1月1日——4月3  \n",
    "\n",
    "年报，中报，季报的法定披露时间  \n",
    "1、上市公司年报披露时间：每年1月1日——4月30日。  \n",
    "2、上市公司中年报披露时间：每年7月1日——8月30日。   \n",
    "3、上市公司季报披露时间：  \n",
    "1季报：每年4月1日——4月30日。   \n",
    "2季报（中报）：每年7月1日——8月30日。   \n",
    "3季报： 每年10月1日——10月31日  \n",
    "4季报 （年报）：每年1月1日——4月30日。   \n",
    "注：1、迟发季报处罚：股票将遭停牌. 1季报在4月30日前，3季报10月31日前未披露季报的上市公司，前者自5月1日起，后者自11月1日起，交易所将对公司股票及其衍生品种实施停牌，同时对公司及相关人员予以公开谴责。   \n",
    "2、迟发年报、中报处罚：与迟发季报处罚类似，即从规定披露时间结束日止，凡是未作披露的上市公司，下个月第一天起实施停牌。   \n",
    "\n",
    "4季报 1.1-4.30\n",
    "1季报 4.1-4.30\n",
    "2季报 7 or 8\n",
    "3季报 10"
   ]
  },
  {
   "cell_type": "code",
   "execution_count": null,
   "metadata": {},
   "outputs": [],
   "source": []
  }
 ],
 "metadata": {
  "kernelspec": {
   "display_name": "Python 3",
   "language": "python",
   "name": "python3"
  },
  "language_info": {
   "codemirror_mode": {
    "name": "ipython",
    "version": 3
   },
   "file_extension": ".py",
   "mimetype": "text/x-python",
   "name": "python",
   "nbconvert_exporter": "python",
   "pygments_lexer": "ipython3",
   "version": "3.7.1"
  }
 },
 "nbformat": 4,
 "nbformat_minor": 4
}
