{
 "cells": [
  {
   "cell_type": "code",
   "execution_count": 1,
   "id": "meaning-honor",
   "metadata": {},
   "outputs": [
    {
     "data": {
      "text/plain": [
       "{'金属': {'cu': '铜',\n",
       "  'al': '铝',\n",
       "  'zn': '锌',\n",
       "  'pb': '铅',\n",
       "  'ni': '镍',\n",
       "  'sn': '锡',\n",
       "  'au': '黄金',\n",
       "  'ag': '白银',\n",
       "  'rb': '螺纹钢',\n",
       "  'wr': '线材',\n",
       "  'hc': '热轧卷板',\n",
       "  'ss': '不锈钢'},\n",
       " '能源化工': {'sc': '原油',\n",
       "  'lu': '低硫燃料油',\n",
       "  'fu': '燃料油',\n",
       "  'bu': '石油沥青',\n",
       "  'ru': '天然橡胶',\n",
       "  'nr': '20号胶',\n",
       "  'sp': '纸浆'}}"
      ]
     },
     "execution_count": 1,
     "metadata": {},
     "output_type": "execute_result"
    }
   ],
   "source": [
    "# 建立字典存放品种\n",
    "shfe = {'金属':{'cu':'铜','al':'铝','zn':'锌','pb':'铅','ni':'镍','sn':'锡','au':'黄金','ag':'白银','rb':'螺纹钢','wr':'线材','hc':'热轧卷板','ss':'不锈钢'},\\\n",
    "         '能源化工':{'sc':'原油','lu':'低硫燃料油','fu':'燃料油','bu':'石油沥青','ru':'天然橡胶','nr':'20号胶','sp':'纸浆'}}\n",
    "shfe"
   ]
  },
  {
   "cell_type": "code",
   "execution_count": 2,
   "id": "finished-anger",
   "metadata": {},
   "outputs": [
    {
     "data": {
      "text/plain": [
       "{'农业品': {'c': '玉米',\n",
       "  'cs': '玉米淀粉',\n",
       "  'a': '黄大豆1号',\n",
       "  'b': '黄大豆2号',\n",
       "  'm': '豆粕',\n",
       "  'y': '豆油',\n",
       "  'p': '棕榈油',\n",
       "  'fb': '纤维板',\n",
       "  'bb': '胶合板',\n",
       "  'jd': '鸡蛋',\n",
       "  'rr': '粳米',\n",
       "  'lh': '生猪'},\n",
       " '工业品': {'l': '聚乙烯',\n",
       "  'v': '聚氯乙烯',\n",
       "  'pp': '聚丙烯',\n",
       "  'j': '焦炭',\n",
       "  'jm': '焦煤',\n",
       "  'i': '铁矿石',\n",
       "  'eg': '乙二醇',\n",
       "  'eb': '苯乙烯',\n",
       "  'pg': '液化石油气'}}"
      ]
     },
     "execution_count": 2,
     "metadata": {},
     "output_type": "execute_result"
    }
   ],
   "source": [
    "dce = {'农业品':{'c':'玉米','cs':'玉米淀粉','a':'黄大豆1号','b':'黄大豆2号','m':'豆粕','y':'豆油','p':'棕榈油','fb':'纤维板','bb':'胶合板','jd':'鸡蛋','rr':'粳米','lh':'生猪'},\n",
    "       '工业品':{'l':'聚乙烯','v':'聚氯乙烯','pp':'聚丙烯','j':'焦炭','jm':'焦煤','i':'铁矿石','eg':'乙二醇','eb':'苯乙烯','pg':'液化石油气'}}\n",
    "dce"
   ]
  },
  {
   "cell_type": "code",
   "execution_count": 3,
   "id": "superior-playlist",
   "metadata": {},
   "outputs": [],
   "source": [
    "czce = {'农产品':{'':'强麦','':'普麦','':'棉花','':'白糖','':'菜籽油','':'早籼稻','':'油菜籽','':'菜籽粕','':'粳稻','':'晚籼稻','':'棉纱','':'苹果','':'红枣','':'花生'}}"
   ]
  },
  {
   "cell_type": "code",
   "execution_count": null,
   "id": "satisfied-bosnia",
   "metadata": {},
   "outputs": [],
   "source": []
  }
 ],
 "metadata": {
  "kernelspec": {
   "display_name": "Python 3",
   "language": "python",
   "name": "python3"
  },
  "language_info": {
   "codemirror_mode": {
    "name": "ipython",
    "version": 3
   },
   "file_extension": ".py",
   "mimetype": "text/x-python",
   "name": "python",
   "nbconvert_exporter": "python",
   "pygments_lexer": "ipython3",
   "version": "3.7.6"
  }
 },
 "nbformat": 4,
 "nbformat_minor": 5
}
