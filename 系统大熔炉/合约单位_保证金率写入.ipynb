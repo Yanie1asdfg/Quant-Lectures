{
 "cells": [
  {
   "cell_type": "markdown",
   "id": "incorporate-short",
   "metadata": {},
   "source": [
    "### 保证金 = 手数 * 合约单位 * 价格 * 保证金率"
   ]
  },
  {
   "cell_type": "code",
   "execution_count": 1,
   "id": "hungarian-brave",
   "metadata": {},
   "outputs": [],
   "source": [
    "import xlrd"
   ]
  },
  {
   "cell_type": "code",
   "execution_count": 3,
   "id": "nonprofit-cable",
   "metadata": {},
   "outputs": [
    {
     "data": {
      "text/plain": [
       "<xlrd.book.Book at 0x1b8c7e65488>"
      ]
     },
     "execution_count": 3,
     "metadata": {},
     "output_type": "execute_result"
    }
   ],
   "source": [
    "wb = xlrd.open_workbook(r'C:\\Users\\17218\\Desktop\\各期货品种交易规则简表20210525.xlsx')\n",
    "wb"
   ]
  },
  {
   "cell_type": "code",
   "execution_count": 4,
   "id": "forbidden-liabilities",
   "metadata": {},
   "outputs": [
    {
     "data": {
      "text/plain": [
       "<xlrd.sheet.Sheet at 0x1b8c7e99e08>"
      ]
     },
     "execution_count": 4,
     "metadata": {},
     "output_type": "execute_result"
    }
   ],
   "source": [
    "#按工作簿定位工作表\n",
    "sh = wb.sheet_by_name('涨跌停板保证金调整')\n",
    "sh"
   ]
  },
  {
   "cell_type": "code",
   "execution_count": 5,
   "id": "primary-dividend",
   "metadata": {},
   "outputs": [
    {
     "name": "stdout",
     "output_type": "stream",
     "text": [
      "83\n",
      "14\n",
      "交易规则之一 ——品种交易规则简表\n",
      "['交易规则之一 ——品种交易规则简表', '', '', '', '', '', '', '', '', '', '', '', '', '']\n"
     ]
    }
   ],
   "source": [
    "print(sh.nrows)#有效数据行数\n",
    "print(sh.ncols)#有效数据列数\n",
    "print(sh.cell(0,0).value)#输出第一行第一列的值\n",
    "print(sh.row_values(0))#输出第一行的所有值"
   ]
  },
  {
   "cell_type": "code",
   "execution_count": 26,
   "id": "sized-racing",
   "metadata": {},
   "outputs": [
    {
     "data": {
      "text/plain": [
       "{'fu': (10, 0.14),\n",
       " 'ag': (15, 0.17),\n",
       " 'al': (5, 0.13),\n",
       " 'au': (1000, 0.12),\n",
       " 'cu': (5, 0.14),\n",
       " 'pb': (5, 0.13),\n",
       " 'rb': (10, 0.14),\n",
       " 'ru': (10, 0.14),\n",
       " 'wr': (10, 0.4),\n",
       " 'ni': (1, 0.14),\n",
       " 'sn': (1, 0.14),\n",
       " 'zn': (5, 0.13),\n",
       " 'ss': (5, 0.12),\n",
       " 'bu': (10, 0.15),\n",
       " 'sp': (10, 0.12),\n",
       " 'hc': (10, 0.14),\n",
       " 'a': (10, 0.16),\n",
       " 'b': (10, 0.13),\n",
       " 'c': (10, 0.14),\n",
       " 'cs': (10, 0.11),\n",
       " 'j': (100, 0.15),\n",
       " 'l': (5, 0.12),\n",
       " 'm': (10, 0.12),\n",
       " 'p': (10, 0.14),\n",
       " 'v': (5, 0.12),\n",
       " 'jm': (60, 0.15),\n",
       " 'y': (10, 0.12),\n",
       " 'rr': (10, 0.1),\n",
       " 'i': (100, 0.16),\n",
       " 'pp': (5, 0.12),\n",
       " 'fb': (10, 0.15),\n",
       " 'bb': (500, 0.5),\n",
       " 'jd': (5, 0.13),\n",
       " 'lh': (16, 0.19),\n",
       " 'eb': (5, 0.16),\n",
       " 'eg': (10, 0.15),\n",
       " 'pg': (20, 0.16),\n",
       " 'PM': (50, 0.4),\n",
       " 'RI': (20, 0.4),\n",
       " 'WH': (20, 0.4),\n",
       " 'TA': (5, 0.1),\n",
       " 'CF': (5, 0.11),\n",
       " 'OI': (10, 0.12),\n",
       " 'SR': (10, 0.11),\n",
       " 'FG': (20, 0.14),\n",
       " 'RS': (10, 0.4),\n",
       " 'RM': (10, 0.12),\n",
       " 'MA': (10, 0.12),\n",
       " 'JR': (20, 0.4),\n",
       " 'SF': (5, 0.11),\n",
       " 'SM': (5, 0.11),\n",
       " 'CY': (5, 0.11),\n",
       " 'AP': (10, 0.12),\n",
       " 'UR': (20, 0.11),\n",
       " 'CJ': (5, 0.11),\n",
       " 'LR': (20, 0.4),\n",
       " 'PF': (5, 0.11),\n",
       " 'PK': (5, 0.12),\n",
       " 'SA': (20, 0.13),\n",
       " 'ZC': (100, 0.19)}"
      ]
     },
     "execution_count": 26,
     "metadata": {},
     "output_type": "execute_result"
    }
   ],
   "source": [
    "import pandas as pd\n",
    "#读取第一列、第二列、第四列\n",
    "df = pd.read_excel(r'C:\\Users\\17218\\Desktop\\各期货品种交易规则简表20210525.xlsx',sheet_name='自建不重复')#,usecols=[0，1，3])\n",
    "data = df.values\n",
    "df = df[['代码','合约单位2','保证金率2']]\n",
    "code_dic = dict(zip(df['代码'].tolist(),list(zip(df['合约单位2'].tolist(),df['保证金率2'].tolist()))))\n",
    "code_dic"
   ]
  },
  {
   "cell_type": "code",
   "execution_count": 29,
   "id": "continuing-steps",
   "metadata": {},
   "outputs": [
    {
     "data": {
      "text/plain": [
       "False"
      ]
     },
     "execution_count": 29,
     "metadata": {},
     "output_type": "execute_result"
    }
   ],
   "source": [
    "'fi' in code_dic.keys()"
   ]
  },
  {
   "cell_type": "code",
   "execution_count": null,
   "id": "going-morning",
   "metadata": {},
   "outputs": [],
   "source": []
  }
 ],
 "metadata": {
  "kernelspec": {
   "display_name": "Python 3",
   "language": "python",
   "name": "python3"
  },
  "language_info": {
   "codemirror_mode": {
    "name": "ipython",
    "version": 3
   },
   "file_extension": ".py",
   "mimetype": "text/x-python",
   "name": "python",
   "nbconvert_exporter": "python",
   "pygments_lexer": "ipython3",
   "version": "3.7.6"
  }
 },
 "nbformat": 4,
 "nbformat_minor": 5
}
