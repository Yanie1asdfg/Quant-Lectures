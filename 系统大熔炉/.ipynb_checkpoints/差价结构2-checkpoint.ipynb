{
 "cells": [
  {
   "cell_type": "code",
   "execution_count": 47,
   "id": "approximate-pittsburgh",
   "metadata": {},
   "outputs": [
    {
     "data": {
      "text/plain": [
       "{'白糖': 'SR', '豆粕': 'M', '玉米': 'C', '玉米淀粉': 'CS', '苹果': 'AP', '菜粕': 'RM'}"
      ]
     },
     "execution_count": 47,
     "metadata": {},
     "output_type": "execute_result"
    }
   ],
   "source": [
    "# 需要哪些品种来展示\n",
    "dict1 = {'白糖':'SR','豆粕':'M','玉米':'C','玉米淀粉':'CS','苹果':'AP','菜粕':'RM'}\n",
    "dict1"
   ]
  },
  {
   "cell_type": "code",
   "execution_count": 48,
   "id": "negative-leave",
   "metadata": {},
   "outputs": [
    {
     "name": "stdout",
     "output_type": "stream",
     "text": [
      "['czce_ap', 'czce_cf', 'czce_cj', 'czce_cy', 'czce_fg', 'czce_jr', 'czce_lr', 'czce_ma', 'czce_oi', 'czce_pf', 'czce_pk', 'czce_pm', 'czce_ri', 'czce_rm', 'czce_rs', 'czce_sa', 'czce_sf', 'czce_sm', 'czce_sr', 'czce_ta', 'czce_ur', 'czce_wh', 'czce_zc', 'dce_a', 'dce_b', 'dce_bb', 'dce_c', 'dce_cs', 'dce_eb', 'dce_eg', 'dce_fb', 'dce_i', 'dce_j', 'dce_jd', 'dce_jm', 'dce_l', 'dce_lh', 'dce_m', 'dce_p', 'dce_pg', 'dce_pp', 'dce_rr', 'dce_v', 'dce_y', 'shfe_ag', 'shfe_al', 'shfe_au', 'shfe_bu', 'shfe_cu', 'shfe_fu', 'shfe_hc', 'shfe_ni', 'shfe_pb', 'shfe_rb', 'shfe_ru', 'shfe_sn', 'shfe_sp', 'shfe_ss', 'shfe_wr', 'shfe_zn']\n"
     ]
    }
   ],
   "source": [
    "# 从数据库中取数据\n",
    "import pymysql.cursors \n",
    " \n",
    " \n",
    "dbname = 'db_eastmoney'\n",
    "connection = pymysql.connect(host='localhost',\n",
    "                             user='root',\n",
    "                             password='0000',\n",
    "                             db=dbname,\n",
    "                             charset='utf8',\n",
    "                             cursorclass=pymysql.cursors.DictCursor)\n",
    "results =[]\n",
    "try:\n",
    "    with connection.cursor() as cursor:\n",
    "        sql = '''SHOW TABLES'''\n",
    "        cursor.execute(sql)\n",
    "        result = cursor.fetchall() \n",
    "        for i in range(len(result)):\n",
    "            results.append(result[i]['Tables_in_'+dbname])\n",
    "finally:\n",
    "    connection.close()\n",
    "print(results)"
   ]
  },
  {
   "cell_type": "code",
   "execution_count": 49,
   "id": "dutch-bracket",
   "metadata": {},
   "outputs": [
    {
     "data": {
      "text/plain": [
       "['czce_ap', 'czce_rm', 'czce_sr', 'dce_c', 'dce_cs', 'dce_m']"
      ]
     },
     "execution_count": 49,
     "metadata": {},
     "output_type": "execute_result"
    }
   ],
   "source": [
    "s = {value.lower() for key,value in dict1.items()}\n",
    "# 将大写变小写，取出表名\n",
    "tablename = []\n",
    "for i in results:\n",
    "    index = i.index('_')\n",
    "    for a in s:\n",
    "        if i[index+1:]==a:\n",
    "            tablename.append(i)\n",
    "tablename"
   ]
  },
  {
   "cell_type": "code",
   "execution_count": 50,
   "id": "apparent-johnston",
   "metadata": {},
   "outputs": [
    {
     "data": {
      "text/plain": [
       "{'苹果': {'date': '2021-07-12',\n",
       "  '合约': ['AP110', 'AP111', 'AP112', 'AP201', 'AP203', 'AP204', 'AP205'],\n",
       "  '主力': 'AP110',\n",
       "  '次主力': 'AP201'},\n",
       " '菜粕': {'date': '2021-07-12',\n",
       "  '合约': ['RM107', 'RM108', 'RM109', 'RM111', 'RM201', 'RM203', 'RM205'],\n",
       "  '主力': 'RM109',\n",
       "  '次主力': 'RM201'},\n",
       " '白糖': {'date': '2021-07-12',\n",
       "  '合约': ['SR107', 'SR109', 'SR111', 'SR201', 'SR203', 'SR205'],\n",
       "  '主力': 'SR109',\n",
       "  '次主力': 'SR111'},\n",
       " '玉米': {'date': '2021-07-12',\n",
       "  '合约': ['c2109', 'c2111', 'c2201', 'c2203', 'c2205'],\n",
       "  '主力': 'c2109',\n",
       "  '次主力': 'c2111'},\n",
       " '玉米淀粉': {'date': '2021-07-12',\n",
       "  '合约': ['cs2107', 'cs2109', 'cs2111', 'cs2201', 'cs2203', 'cs2205'],\n",
       "  '主力': 'cs2109',\n",
       "  '次主力': 'cs2111'},\n",
       " '豆粕': {'date': '2021-07-12',\n",
       "  '合约': ['m2108', 'm2109', 'm2111', 'm2112', 'm2201', 'm2203', 'm2205'],\n",
       "  '主力': 'm2109',\n",
       "  '次主力': 'm2201'}}"
      ]
     },
     "execution_count": 50,
     "metadata": {},
     "output_type": "execute_result"
    }
   ],
   "source": [
    "import pandas as pd\n",
    "import re\n",
    "# 从数据库中取出数据\n",
    "abitrage_dic = {}\n",
    "conn = pymysql.connect(host = \"localhost\",port=3306,user='root',passwd='0000',db='db_eastmoney',charset=\"utf8\")\n",
    "for i in tablename:\n",
    "    sql_query = 'SELECT * FROM '+i\n",
    "    # 从mysql中读取表\n",
    "    df1 = pd.read_sql(sql_query, con=conn)\n",
    "    # 中文转码\n",
    "    df1.name = df1.name.apply(lambda x:eval(repr(x).replace('\\\\\\\\', '\\\\')))\n",
    "    # TA特殊处理\n",
    "    if 'TA' in df1.loc[0,'name']:\n",
    "        # 提取字母\n",
    "        name = ''.join(re.findall(r'[A-Za-z]', df1.loc[0,'name']))  \n",
    "    else:\n",
    "        # 提取中文\n",
    "        name = ''.join(re.findall(u\"[\\u4e00-\\u9fa5]+\", df1.loc[0,'name']))\n",
    "        \n",
    "    # 提取字母  code  AP \n",
    "    code = ''.join(re.findall(r'[A-Za-z]', df1.loc[0,'code']))\n",
    "    # 去掉主力和次主力的行 带有- 的行\n",
    "    df1 = df1[(df1.name.str.contains('主力')==False) & (df1.new_p!='-')]\n",
    "    # 转换类型\n",
    "    df1['new_p'] = df1['new_p'].astype('float64')\n",
    "    df1['volume'] = df1['volume'].astype('int64')\n",
    "    df1['money'] = df1['new_p']*df1['volume']\n",
    "    \n",
    "    if len(df1)>=2:\n",
    "        date = df1.date.tolist()[0]\n",
    "        abitrage_dic[name] = {'date':date,'合约':df1.code.tolist(),'主力':df1.loc[df1.dominant==1,'code'].values[0],'次主力':df1.loc[df1.dominant==2,'code'].values[0]}\n",
    "conn.close()  #使用完后记得关掉\n",
    "abitrage_dic"
   ]
  },
  {
   "cell_type": "code",
   "execution_count": 93,
   "id": "presidential-harvest",
   "metadata": {},
   "outputs": [
    {
     "data": {
      "text/plain": [
       "{'date': '2021/7/12',\n",
       " '苹果': 6000,\n",
       " '豆粕': 3590,\n",
       " '菜粕': 3030,\n",
       " '白糖': 5643,\n",
       " '玉米': 2730,\n",
       " '玉米淀粉': 3200}"
      ]
     },
     "execution_count": 93,
     "metadata": {},
     "output_type": "execute_result"
    }
   ],
   "source": [
    "# 获取现货价格，放入字典\n",
    "import pandas as pd\n",
    "df = pd.read_csv(r'现货价格.csv',encoding='gb2312')\n",
    "goods_dict = df.iloc[-1].to_dict()\n",
    "goods_dict"
   ]
  },
  {
   "cell_type": "code",
   "execution_count": null,
   "id": "dominican-development",
   "metadata": {},
   "outputs": [],
   "source": []
  },
  {
   "cell_type": "code",
   "execution_count": 94,
   "id": "threaded-schema",
   "metadata": {},
   "outputs": [
    {
     "data": {
      "text/plain": [
       "{'苹果': {'date': '2021-07-12',\n",
       "  '合约': ['AP110', 'AP111', 'AP112', 'AP201', 'AP203', 'AP204', 'AP205'],\n",
       "  '主力': 'AP110',\n",
       "  '次主力': 'AP201',\n",
       "  '现货': 6000},\n",
       " '菜粕': {'date': '2021-07-12',\n",
       "  '合约': ['RM107', 'RM108', 'RM109', 'RM111', 'RM201', 'RM203', 'RM205'],\n",
       "  '主力': 'RM109',\n",
       "  '次主力': 'RM201',\n",
       "  '现货': 3030},\n",
       " '白糖': {'date': '2021-07-12',\n",
       "  '合约': ['SR107', 'SR109', 'SR111', 'SR201', 'SR203', 'SR205'],\n",
       "  '主力': 'SR109',\n",
       "  '次主力': 'SR111',\n",
       "  '现货': 5643},\n",
       " '玉米': {'date': '2021-07-12',\n",
       "  '合约': ['c2109', 'c2111', 'c2201', 'c2203', 'c2205'],\n",
       "  '主力': 'c2109',\n",
       "  '次主力': 'c2111',\n",
       "  '现货': 2730},\n",
       " '玉米淀粉': {'date': '2021-07-12',\n",
       "  '合约': ['cs2107', 'cs2109', 'cs2111', 'cs2201', 'cs2203', 'cs2205'],\n",
       "  '主力': 'cs2109',\n",
       "  '次主力': 'cs2111',\n",
       "  '现货': 3200},\n",
       " '豆粕': {'date': '2021-07-12',\n",
       "  '合约': ['m2108', 'm2109', 'm2111', 'm2112', 'm2201', 'm2203', 'm2205'],\n",
       "  '主力': 'm2109',\n",
       "  '次主力': 'm2201',\n",
       "  '现货': 3590}}"
      ]
     },
     "execution_count": 94,
     "metadata": {},
     "output_type": "execute_result"
    }
   ],
   "source": [
    "for key,value in abitrage_dic.items():\n",
    "    value['现货'] = goods_dict[key]\n",
    "abitrage_dic"
   ]
  },
  {
   "cell_type": "code",
   "execution_count": null,
   "id": "prescribed-poland",
   "metadata": {},
   "outputs": [],
   "source": []
  },
  {
   "cell_type": "code",
   "execution_count": null,
   "id": "north-battery",
   "metadata": {},
   "outputs": [],
   "source": [
    "# 取出各个合约的价格\n",
    "# 取出合约的现货价格\n",
    "# 画图\n"
   ]
  }
 ],
 "metadata": {
  "kernelspec": {
   "display_name": "Python 3",
   "language": "python",
   "name": "python3"
  },
  "language_info": {
   "codemirror_mode": {
    "name": "ipython",
    "version": 3
   },
   "file_extension": ".py",
   "mimetype": "text/x-python",
   "name": "python",
   "nbconvert_exporter": "python",
   "pygments_lexer": "ipython3",
   "version": "3.7.6"
  }
 },
 "nbformat": 4,
 "nbformat_minor": 5
}
